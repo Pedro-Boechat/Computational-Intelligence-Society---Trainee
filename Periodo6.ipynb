{
  "nbformat": 4,
  "nbformat_minor": 0,
  "metadata": {
    "colab": {
      "name": "Periodo6.ipynb",
      "provenance": [],
      "authorship_tag": "ABX9TyN/LdN62efjirGlYnbKIlF5",
      "include_colab_link": true
    },
    "kernelspec": {
      "name": "python3",
      "display_name": "Python 3"
    },
    "language_info": {
      "name": "python"
    }
  },
  "cells": [
    {
      "cell_type": "markdown",
      "metadata": {
        "id": "view-in-github",
        "colab_type": "text"
      },
      "source": [
        "<a href=\"https://colab.research.google.com/github/Pedro-Boechat/trainee/blob/main/Periodo6.ipynb\" target=\"_parent\"><img src=\"https://colab.research.google.com/assets/colab-badge.svg\" alt=\"Open In Colab\"/></a>"
      ]
    },
    {
      "cell_type": "code",
      "execution_count": 1,
      "metadata": {
        "id": "uazOXCEktMDO"
      },
      "outputs": [],
      "source": [
        "import pandas as pd\n",
        "import numpy as np\n",
        "import matplotlib.pyplot as plt\n",
        "import seaborn as sns\n",
        "import sklearn\n",
        "from sklearn.decomposition import PCA\n",
        "import time\n",
        "from sklearn.base import BaseEstimator, ClassifierMixin, RegressorMixin\n",
        "from sklearn.model_selection import train_test_split\n",
        "from sklearn.feature_extraction.text import CountVectorizer"
      ]
    },
    {
      "cell_type": "markdown",
      "source": [
        "# Bag of words"
      ],
      "metadata": {
        "id": "VgiIj_pKvBJu"
      }
    },
    {
      "cell_type": "code",
      "source": [
        "phrases = [\"Eu gosto muito deste filme\", 'Eu odeio este filme']"
      ],
      "metadata": {
        "id": "2ftreumBthGm"
      },
      "execution_count": 6,
      "outputs": []
    },
    {
      "cell_type": "code",
      "source": [
        "vect = CountVectorizer()\n",
        "vect.fit(phrases)"
      ],
      "metadata": {
        "colab": {
          "base_uri": "https://localhost:8080/"
        },
        "id": "TaqV1T2WtpBe",
        "outputId": "f996abf2-aa24-4746-9a39-65fd922e6f9b"
      },
      "execution_count": 7,
      "outputs": [
        {
          "output_type": "execute_result",
          "data": {
            "text/plain": [
              "CountVectorizer()"
            ]
          },
          "metadata": {},
          "execution_count": 7
        }
      ]
    },
    {
      "cell_type": "code",
      "source": [
        "print(\"Tamanho: {}\".format(len(vect.vocabulary_)))\n",
        "print(\"Conteúdo: {}\".format(vect.vocabulary_))"
      ],
      "metadata": {
        "colab": {
          "base_uri": "https://localhost:8080/"
        },
        "id": "pB51hlvfty1f",
        "outputId": "fd07c655-891a-4e79-be94-f4f738609f75"
      },
      "execution_count": 9,
      "outputs": [
        {
          "output_type": "stream",
          "name": "stdout",
          "text": [
            "Tamanho: 7\n",
            "Conteúdo: {'eu': 2, 'gosto': 4, 'muito': 5, 'deste': 0, 'filme': 3, 'odeio': 6, 'este': 1}\n"
          ]
        }
      ]
    },
    {
      "cell_type": "code",
      "source": [
        "bagofwords = vect.transform(phrases)"
      ],
      "metadata": {
        "id": "KpuBkqxKuXJW"
      },
      "execution_count": 10,
      "outputs": []
    },
    {
      "cell_type": "code",
      "source": [
        "print(bagofwords)"
      ],
      "metadata": {
        "colab": {
          "base_uri": "https://localhost:8080/"
        },
        "id": "ucFiaC0SubFu",
        "outputId": "e9c182fe-2ebf-4ee4-e547-a24215d89485"
      },
      "execution_count": 12,
      "outputs": [
        {
          "output_type": "stream",
          "name": "stdout",
          "text": [
            "  (0, 0)\t1\n",
            "  (0, 2)\t1\n",
            "  (0, 3)\t1\n",
            "  (0, 4)\t1\n",
            "  (0, 5)\t1\n",
            "  (1, 1)\t1\n",
            "  (1, 2)\t1\n",
            "  (1, 3)\t1\n",
            "  (1, 6)\t1\n"
          ]
        }
      ]
    },
    {
      "cell_type": "code",
      "source": [
        "print(bagofwords.toarray())"
      ],
      "metadata": {
        "colab": {
          "base_uri": "https://localhost:8080/"
        },
        "id": "Le7dsoigubNO",
        "outputId": "78eb8ee0-ec8a-4dba-d967-a45d9f8c00fa"
      },
      "execution_count": 13,
      "outputs": [
        {
          "output_type": "stream",
          "name": "stdout",
          "text": [
            "[[1 0 1 1 1 1 0]\n",
            " [0 1 1 1 0 0 1]]\n"
          ]
        }
      ]
    },
    {
      "cell_type": "code",
      "source": [
        "vect.get_feature_names_out()"
      ],
      "metadata": {
        "colab": {
          "base_uri": "https://localhost:8080/"
        },
        "id": "MFekz-jJux8-",
        "outputId": "b4b8c84e-5a6c-4c55-b1be-78cfa57dc00f"
      },
      "execution_count": 15,
      "outputs": [
        {
          "output_type": "execute_result",
          "data": {
            "text/plain": [
              "array(['deste', 'este', 'eu', 'filme', 'gosto', 'muito', 'odeio'],\n",
              "      dtype=object)"
            ]
          },
          "metadata": {},
          "execution_count": 15
        }
      ]
    },
    {
      "cell_type": "markdown",
      "source": [
        "# TFIDF"
      ],
      "metadata": {
        "id": "kGvnhAkXvDVN"
      }
    },
    {
      "cell_type": "markdown",
      "source": [
        "TF-IDF is a method which gives us a numerical weightage of words which reflects how important the particular word is to a document in a corpus"
      ],
      "metadata": {
        "id": "6vVcNcVgvSIH"
      }
    },
    {
      "cell_type": "markdown",
      "source": [
        "![image.png](data:image/png;base64,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)"
      ],
      "metadata": {
        "id": "MiFbnJs6wjyA"
      }
    },
    {
      "cell_type": "markdown",
      "source": [
        "A frequência de termos quando utilizada pode ser eficaz, porém alguns termos que não são eliminados podem atrapalhar a análise. Existem algumas palavras que são muito comuns e se repetem por todos os documentos de texto. Elas possuem significado e não podem ser eliminadas no pré-processamento. \n",
        "\n",
        "Para realizar uma análise mais precisa do corpus utilizamos não mais apenas a frequência simples e sim a frequência multiplicada pelo inverso da frequência considerando o conjunto completo de documentos. Por exemplo: imagine um conjunto de 150 documentos no qual a palavra “claro”: aparece em 149 documentos, “médico”: em 98 , “plantas”: em 89.\n",
        "\n",
        "A técnica do TF-IDF desconsidera as palavras com maior frequência entre documentos e dá maior importância para as palavras que tem maior frequência e não estão presentes em muitos documentos."
      ],
      "metadata": {
        "id": "IG3LzoWGw45f"
      }
    },
    {
      "cell_type": "markdown",
      "source": [
        "tf-idf = term_frequency * inverse_document_frequency\n",
        "\n",
        "term_frequency = number of times a given term appears in document\n",
        "\n",
        "inverse_document_frequency = log(total number of documents / number of documents with term) + 1*****"
      ],
      "metadata": {
        "id": "ZR_BNIsczH9A"
      }
    },
    {
      "cell_type": "markdown",
      "source": [
        "Quanto maior o valor, mais relevante é a palavra"
      ],
      "metadata": {
        "id": "-AOCm_lx8XLL"
      }
    },
    {
      "cell_type": "code",
      "source": [
        "from sklearn.feature_extraction.text import TfidfVectorizer\n",
        "from sklearn.feature_extraction.text import CountVectorizer\n",
        "import pandas as pd\n",
        "pd.set_option(\"max_rows\", 600)\n",
        "from pathlib import Path  \n",
        "import glob"
      ],
      "metadata": {
        "id": "e66if5H-zlkQ"
      },
      "execution_count": 29,
      "outputs": []
    },
    {
      "cell_type": "code",
      "source": [
        "from google.colab import drive\n",
        "\n",
        "drive.mount('/content/gdrive', force_remount=True)\n",
        "\n",
        "dataset_path = '/content/gdrive/MyDrive/Musical_instruments_reviews.csv'"
      ],
      "metadata": {
        "colab": {
          "base_uri": "https://localhost:8080/"
        },
        "id": "8l-Peqt725P5",
        "outputId": "27201fd3-d6a6-4dd0-f445-f2290f0d2902"
      },
      "execution_count": 30,
      "outputs": [
        {
          "output_type": "stream",
          "name": "stdout",
          "text": [
            "Mounted at /content/gdrive\n"
          ]
        }
      ]
    },
    {
      "cell_type": "code",
      "source": [
        "dataset = pd.read_csv(dataset_path)"
      ],
      "metadata": {
        "id": "07C8IKcj3IUQ"
      },
      "execution_count": 36,
      "outputs": []
    },
    {
      "cell_type": "code",
      "source": [
        "dataset.head()"
      ],
      "metadata": {
        "colab": {
          "base_uri": "https://localhost:8080/",
          "height": 206
        },
        "id": "WA_VQ9gJ3MBI",
        "outputId": "1acf09b6-71ea-4cc6-89df-c3dceea2d20a"
      },
      "execution_count": 37,
      "outputs": [
        {
          "output_type": "execute_result",
          "data": {
            "text/plain": [
              "       reviewerID        asin  \\\n",
              "0  A2IBPI20UZIR0U  1384719342   \n",
              "1  A14VAT5EAX3D9S  1384719342   \n",
              "2  A195EZSQDW3E21  1384719342   \n",
              "3  A2C00NNG1ZQQG2  1384719342   \n",
              "4   A94QU4C90B1AX  1384719342   \n",
              "\n",
              "                                       reviewerName   helpful  \\\n",
              "0  cassandra tu \"Yeah, well, that's just like, u...    [0, 0]   \n",
              "1                                              Jake  [13, 14]   \n",
              "2                     Rick Bennette \"Rick Bennette\"    [1, 1]   \n",
              "3                         RustyBill \"Sunday Rocker\"    [0, 0]   \n",
              "4                                     SEAN MASLANKA    [0, 0]   \n",
              "\n",
              "                                          reviewText  overall  \\\n",
              "0  Not much to write about here, but it does exac...      5.0   \n",
              "1  The product does exactly as it should and is q...      5.0   \n",
              "2  The primary job of this device is to block the...      5.0   \n",
              "3  Nice windscreen protects my MXL mic and preven...      5.0   \n",
              "4  This pop filter is great. It looks and perform...      5.0   \n",
              "\n",
              "                                 summary  unixReviewTime   reviewTime  \n",
              "0                                   good      1393545600  02 28, 2014  \n",
              "1                                   Jake      1363392000  03 16, 2013  \n",
              "2                   It Does The Job Well      1377648000  08 28, 2013  \n",
              "3          GOOD WINDSCREEN FOR THE MONEY      1392336000  02 14, 2014  \n",
              "4  No more pops when I record my vocals.      1392940800  02 21, 2014  "
            ],
            "text/html": [
              "\n",
              "  <div id=\"df-b6e5367b-e617-44a7-a9e1-2766b99756ca\">\n",
              "    <div class=\"colab-df-container\">\n",
              "      <div>\n",
              "<style scoped>\n",
              "    .dataframe tbody tr th:only-of-type {\n",
              "        vertical-align: middle;\n",
              "    }\n",
              "\n",
              "    .dataframe tbody tr th {\n",
              "        vertical-align: top;\n",
              "    }\n",
              "\n",
              "    .dataframe thead th {\n",
              "        text-align: right;\n",
              "    }\n",
              "</style>\n",
              "<table border=\"1\" class=\"dataframe\">\n",
              "  <thead>\n",
              "    <tr style=\"text-align: right;\">\n",
              "      <th></th>\n",
              "      <th>reviewerID</th>\n",
              "      <th>asin</th>\n",
              "      <th>reviewerName</th>\n",
              "      <th>helpful</th>\n",
              "      <th>reviewText</th>\n",
              "      <th>overall</th>\n",
              "      <th>summary</th>\n",
              "      <th>unixReviewTime</th>\n",
              "      <th>reviewTime</th>\n",
              "    </tr>\n",
              "  </thead>\n",
              "  <tbody>\n",
              "    <tr>\n",
              "      <th>0</th>\n",
              "      <td>A2IBPI20UZIR0U</td>\n",
              "      <td>1384719342</td>\n",
              "      <td>cassandra tu \"Yeah, well, that's just like, u...</td>\n",
              "      <td>[0, 0]</td>\n",
              "      <td>Not much to write about here, but it does exac...</td>\n",
              "      <td>5.0</td>\n",
              "      <td>good</td>\n",
              "      <td>1393545600</td>\n",
              "      <td>02 28, 2014</td>\n",
              "    </tr>\n",
              "    <tr>\n",
              "      <th>1</th>\n",
              "      <td>A14VAT5EAX3D9S</td>\n",
              "      <td>1384719342</td>\n",
              "      <td>Jake</td>\n",
              "      <td>[13, 14]</td>\n",
              "      <td>The product does exactly as it should and is q...</td>\n",
              "      <td>5.0</td>\n",
              "      <td>Jake</td>\n",
              "      <td>1363392000</td>\n",
              "      <td>03 16, 2013</td>\n",
              "    </tr>\n",
              "    <tr>\n",
              "      <th>2</th>\n",
              "      <td>A195EZSQDW3E21</td>\n",
              "      <td>1384719342</td>\n",
              "      <td>Rick Bennette \"Rick Bennette\"</td>\n",
              "      <td>[1, 1]</td>\n",
              "      <td>The primary job of this device is to block the...</td>\n",
              "      <td>5.0</td>\n",
              "      <td>It Does The Job Well</td>\n",
              "      <td>1377648000</td>\n",
              "      <td>08 28, 2013</td>\n",
              "    </tr>\n",
              "    <tr>\n",
              "      <th>3</th>\n",
              "      <td>A2C00NNG1ZQQG2</td>\n",
              "      <td>1384719342</td>\n",
              "      <td>RustyBill \"Sunday Rocker\"</td>\n",
              "      <td>[0, 0]</td>\n",
              "      <td>Nice windscreen protects my MXL mic and preven...</td>\n",
              "      <td>5.0</td>\n",
              "      <td>GOOD WINDSCREEN FOR THE MONEY</td>\n",
              "      <td>1392336000</td>\n",
              "      <td>02 14, 2014</td>\n",
              "    </tr>\n",
              "    <tr>\n",
              "      <th>4</th>\n",
              "      <td>A94QU4C90B1AX</td>\n",
              "      <td>1384719342</td>\n",
              "      <td>SEAN MASLANKA</td>\n",
              "      <td>[0, 0]</td>\n",
              "      <td>This pop filter is great. It looks and perform...</td>\n",
              "      <td>5.0</td>\n",
              "      <td>No more pops when I record my vocals.</td>\n",
              "      <td>1392940800</td>\n",
              "      <td>02 21, 2014</td>\n",
              "    </tr>\n",
              "  </tbody>\n",
              "</table>\n",
              "</div>\n",
              "      <button class=\"colab-df-convert\" onclick=\"convertToInteractive('df-b6e5367b-e617-44a7-a9e1-2766b99756ca')\"\n",
              "              title=\"Convert this dataframe to an interactive table.\"\n",
              "              style=\"display:none;\">\n",
              "        \n",
              "  <svg xmlns=\"http://www.w3.org/2000/svg\" height=\"24px\"viewBox=\"0 0 24 24\"\n",
              "       width=\"24px\">\n",
              "    <path d=\"M0 0h24v24H0V0z\" fill=\"none\"/>\n",
              "    <path d=\"M18.56 5.44l.94 2.06.94-2.06 2.06-.94-2.06-.94-.94-2.06-.94 2.06-2.06.94zm-11 1L8.5 8.5l.94-2.06 2.06-.94-2.06-.94L8.5 2.5l-.94 2.06-2.06.94zm10 10l.94 2.06.94-2.06 2.06-.94-2.06-.94-.94-2.06-.94 2.06-2.06.94z\"/><path d=\"M17.41 7.96l-1.37-1.37c-.4-.4-.92-.59-1.43-.59-.52 0-1.04.2-1.43.59L10.3 9.45l-7.72 7.72c-.78.78-.78 2.05 0 2.83L4 21.41c.39.39.9.59 1.41.59.51 0 1.02-.2 1.41-.59l7.78-7.78 2.81-2.81c.8-.78.8-2.07 0-2.86zM5.41 20L4 18.59l7.72-7.72 1.47 1.35L5.41 20z\"/>\n",
              "  </svg>\n",
              "      </button>\n",
              "      \n",
              "  <style>\n",
              "    .colab-df-container {\n",
              "      display:flex;\n",
              "      flex-wrap:wrap;\n",
              "      gap: 12px;\n",
              "    }\n",
              "\n",
              "    .colab-df-convert {\n",
              "      background-color: #E8F0FE;\n",
              "      border: none;\n",
              "      border-radius: 50%;\n",
              "      cursor: pointer;\n",
              "      display: none;\n",
              "      fill: #1967D2;\n",
              "      height: 32px;\n",
              "      padding: 0 0 0 0;\n",
              "      width: 32px;\n",
              "    }\n",
              "\n",
              "    .colab-df-convert:hover {\n",
              "      background-color: #E2EBFA;\n",
              "      box-shadow: 0px 1px 2px rgba(60, 64, 67, 0.3), 0px 1px 3px 1px rgba(60, 64, 67, 0.15);\n",
              "      fill: #174EA6;\n",
              "    }\n",
              "\n",
              "    [theme=dark] .colab-df-convert {\n",
              "      background-color: #3B4455;\n",
              "      fill: #D2E3FC;\n",
              "    }\n",
              "\n",
              "    [theme=dark] .colab-df-convert:hover {\n",
              "      background-color: #434B5C;\n",
              "      box-shadow: 0px 1px 3px 1px rgba(0, 0, 0, 0.15);\n",
              "      filter: drop-shadow(0px 1px 2px rgba(0, 0, 0, 0.3));\n",
              "      fill: #FFFFFF;\n",
              "    }\n",
              "  </style>\n",
              "\n",
              "      <script>\n",
              "        const buttonEl =\n",
              "          document.querySelector('#df-b6e5367b-e617-44a7-a9e1-2766b99756ca button.colab-df-convert');\n",
              "        buttonEl.style.display =\n",
              "          google.colab.kernel.accessAllowed ? 'block' : 'none';\n",
              "\n",
              "        async function convertToInteractive(key) {\n",
              "          const element = document.querySelector('#df-b6e5367b-e617-44a7-a9e1-2766b99756ca');\n",
              "          const dataTable =\n",
              "            await google.colab.kernel.invokeFunction('convertToInteractive',\n",
              "                                                     [key], {});\n",
              "          if (!dataTable) return;\n",
              "\n",
              "          const docLinkHtml = 'Like what you see? Visit the ' +\n",
              "            '<a target=\"_blank\" href=https://colab.research.google.com/notebooks/data_table.ipynb>data table notebook</a>'\n",
              "            + ' to learn more about interactive tables.';\n",
              "          element.innerHTML = '';\n",
              "          dataTable['output_type'] = 'display_data';\n",
              "          await google.colab.output.renderOutput(dataTable, element);\n",
              "          const docLink = document.createElement('div');\n",
              "          docLink.innerHTML = docLinkHtml;\n",
              "          element.appendChild(docLink);\n",
              "        }\n",
              "      </script>\n",
              "    </div>\n",
              "  </div>\n",
              "  "
            ]
          },
          "metadata": {},
          "execution_count": 37
        }
      ]
    },
    {
      "cell_type": "code",
      "source": [
        "tfidf_vectorizer = TfidfVectorizer(input=dataset, stop_words='english')"
      ],
      "metadata": {
        "id": "Wy-fcBk73RoJ"
      },
      "execution_count": 49,
      "outputs": []
    },
    {
      "cell_type": "code",
      "source": [
        "dataset['reviewText']"
      ],
      "metadata": {
        "id": "k2G0jAGB4ccq"
      },
      "execution_count": null,
      "outputs": []
    },
    {
      "cell_type": "code",
      "source": [
        "tfidf_vector = tfidf_vectorizer.fit_transform(dataset['reviewText'])"
      ],
      "metadata": {
        "colab": {
          "base_uri": "https://localhost:8080/",
          "height": 310
        },
        "id": "Rta1k1S-4UVA",
        "outputId": "a100d158-aad6-441f-d3a0-9688c181102d"
      },
      "execution_count": 50,
      "outputs": [
        {
          "output_type": "error",
          "ename": "ValueError",
          "evalue": "ignored",
          "traceback": [
            "\u001b[0;31m---------------------------------------------------------------------------\u001b[0m",
            "\u001b[0;31mValueError\u001b[0m                                Traceback (most recent call last)",
            "\u001b[0;32m<ipython-input-50-57c0466c05e3>\u001b[0m in \u001b[0;36m<module>\u001b[0;34m()\u001b[0m\n\u001b[0;32m----> 1\u001b[0;31m \u001b[0mtfidf_vector\u001b[0m \u001b[0;34m=\u001b[0m \u001b[0mtfidf_vectorizer\u001b[0m\u001b[0;34m.\u001b[0m\u001b[0mfit_transform\u001b[0m\u001b[0;34m(\u001b[0m\u001b[0mdataset\u001b[0m\u001b[0;34m[\u001b[0m\u001b[0;34m'reviewText'\u001b[0m\u001b[0;34m]\u001b[0m\u001b[0;34m)\u001b[0m\u001b[0;34m\u001b[0m\u001b[0;34m\u001b[0m\u001b[0m\n\u001b[0m",
            "\u001b[0;32m/usr/local/lib/python3.7/dist-packages/sklearn/feature_extraction/text.py\u001b[0m in \u001b[0;36mfit_transform\u001b[0;34m(self, raw_documents, y)\u001b[0m\n\u001b[1;32m   2075\u001b[0m         \"\"\"\n\u001b[1;32m   2076\u001b[0m         \u001b[0mself\u001b[0m\u001b[0;34m.\u001b[0m\u001b[0m_check_params\u001b[0m\u001b[0;34m(\u001b[0m\u001b[0;34m)\u001b[0m\u001b[0;34m\u001b[0m\u001b[0;34m\u001b[0m\u001b[0m\n\u001b[0;32m-> 2077\u001b[0;31m         \u001b[0mX\u001b[0m \u001b[0;34m=\u001b[0m \u001b[0msuper\u001b[0m\u001b[0;34m(\u001b[0m\u001b[0;34m)\u001b[0m\u001b[0;34m.\u001b[0m\u001b[0mfit_transform\u001b[0m\u001b[0;34m(\u001b[0m\u001b[0mraw_documents\u001b[0m\u001b[0;34m)\u001b[0m\u001b[0;34m\u001b[0m\u001b[0;34m\u001b[0m\u001b[0m\n\u001b[0m\u001b[1;32m   2078\u001b[0m         \u001b[0mself\u001b[0m\u001b[0;34m.\u001b[0m\u001b[0m_tfidf\u001b[0m\u001b[0;34m.\u001b[0m\u001b[0mfit\u001b[0m\u001b[0;34m(\u001b[0m\u001b[0mX\u001b[0m\u001b[0;34m)\u001b[0m\u001b[0;34m\u001b[0m\u001b[0;34m\u001b[0m\u001b[0m\n\u001b[1;32m   2079\u001b[0m         \u001b[0;31m# X is already a transformed view of raw_documents so\u001b[0m\u001b[0;34m\u001b[0m\u001b[0;34m\u001b[0m\u001b[0;34m\u001b[0m\u001b[0m\n",
            "\u001b[0;32m/usr/local/lib/python3.7/dist-packages/sklearn/feature_extraction/text.py\u001b[0m in \u001b[0;36mfit_transform\u001b[0;34m(self, raw_documents, y)\u001b[0m\n\u001b[1;32m   1328\u001b[0m                     \u001b[0;32mbreak\u001b[0m\u001b[0;34m\u001b[0m\u001b[0;34m\u001b[0m\u001b[0m\n\u001b[1;32m   1329\u001b[0m \u001b[0;34m\u001b[0m\u001b[0m\n\u001b[0;32m-> 1330\u001b[0;31m         \u001b[0mvocabulary\u001b[0m\u001b[0;34m,\u001b[0m \u001b[0mX\u001b[0m \u001b[0;34m=\u001b[0m \u001b[0mself\u001b[0m\u001b[0;34m.\u001b[0m\u001b[0m_count_vocab\u001b[0m\u001b[0;34m(\u001b[0m\u001b[0mraw_documents\u001b[0m\u001b[0;34m,\u001b[0m \u001b[0mself\u001b[0m\u001b[0;34m.\u001b[0m\u001b[0mfixed_vocabulary_\u001b[0m\u001b[0;34m)\u001b[0m\u001b[0;34m\u001b[0m\u001b[0;34m\u001b[0m\u001b[0m\n\u001b[0m\u001b[1;32m   1331\u001b[0m \u001b[0;34m\u001b[0m\u001b[0m\n\u001b[1;32m   1332\u001b[0m         \u001b[0;32mif\u001b[0m \u001b[0mself\u001b[0m\u001b[0;34m.\u001b[0m\u001b[0mbinary\u001b[0m\u001b[0;34m:\u001b[0m\u001b[0;34m\u001b[0m\u001b[0;34m\u001b[0m\u001b[0m\n",
            "\u001b[0;32m/usr/local/lib/python3.7/dist-packages/sklearn/feature_extraction/text.py\u001b[0m in \u001b[0;36m_count_vocab\u001b[0;34m(self, raw_documents, fixed_vocab)\u001b[0m\n\u001b[1;32m   1199\u001b[0m         \u001b[0;32mfor\u001b[0m \u001b[0mdoc\u001b[0m \u001b[0;32min\u001b[0m \u001b[0mraw_documents\u001b[0m\u001b[0;34m:\u001b[0m\u001b[0;34m\u001b[0m\u001b[0;34m\u001b[0m\u001b[0m\n\u001b[1;32m   1200\u001b[0m             \u001b[0mfeature_counter\u001b[0m \u001b[0;34m=\u001b[0m \u001b[0;34m{\u001b[0m\u001b[0;34m}\u001b[0m\u001b[0;34m\u001b[0m\u001b[0;34m\u001b[0m\u001b[0m\n\u001b[0;32m-> 1201\u001b[0;31m             \u001b[0;32mfor\u001b[0m \u001b[0mfeature\u001b[0m \u001b[0;32min\u001b[0m \u001b[0manalyze\u001b[0m\u001b[0;34m(\u001b[0m\u001b[0mdoc\u001b[0m\u001b[0;34m)\u001b[0m\u001b[0;34m:\u001b[0m\u001b[0;34m\u001b[0m\u001b[0;34m\u001b[0m\u001b[0m\n\u001b[0m\u001b[1;32m   1202\u001b[0m                 \u001b[0;32mtry\u001b[0m\u001b[0;34m:\u001b[0m\u001b[0;34m\u001b[0m\u001b[0;34m\u001b[0m\u001b[0m\n\u001b[1;32m   1203\u001b[0m                     \u001b[0mfeature_idx\u001b[0m \u001b[0;34m=\u001b[0m \u001b[0mvocabulary\u001b[0m\u001b[0;34m[\u001b[0m\u001b[0mfeature\u001b[0m\u001b[0;34m]\u001b[0m\u001b[0;34m\u001b[0m\u001b[0;34m\u001b[0m\u001b[0m\n",
            "\u001b[0;32m/usr/local/lib/python3.7/dist-packages/sklearn/feature_extraction/text.py\u001b[0m in \u001b[0;36m_analyze\u001b[0;34m(doc, analyzer, tokenizer, ngrams, preprocessor, decoder, stop_words)\u001b[0m\n\u001b[1;32m    106\u001b[0m \u001b[0;34m\u001b[0m\u001b[0m\n\u001b[1;32m    107\u001b[0m     \u001b[0;32mif\u001b[0m \u001b[0mdecoder\u001b[0m \u001b[0;32mis\u001b[0m \u001b[0;32mnot\u001b[0m \u001b[0;32mNone\u001b[0m\u001b[0;34m:\u001b[0m\u001b[0;34m\u001b[0m\u001b[0;34m\u001b[0m\u001b[0m\n\u001b[0;32m--> 108\u001b[0;31m         \u001b[0mdoc\u001b[0m \u001b[0;34m=\u001b[0m \u001b[0mdecoder\u001b[0m\u001b[0;34m(\u001b[0m\u001b[0mdoc\u001b[0m\u001b[0;34m)\u001b[0m\u001b[0;34m\u001b[0m\u001b[0;34m\u001b[0m\u001b[0m\n\u001b[0m\u001b[1;32m    109\u001b[0m     \u001b[0;32mif\u001b[0m \u001b[0manalyzer\u001b[0m \u001b[0;32mis\u001b[0m \u001b[0;32mnot\u001b[0m \u001b[0;32mNone\u001b[0m\u001b[0;34m:\u001b[0m\u001b[0;34m\u001b[0m\u001b[0;34m\u001b[0m\u001b[0m\n\u001b[1;32m    110\u001b[0m         \u001b[0mdoc\u001b[0m \u001b[0;34m=\u001b[0m \u001b[0manalyzer\u001b[0m\u001b[0;34m(\u001b[0m\u001b[0mdoc\u001b[0m\u001b[0;34m)\u001b[0m\u001b[0;34m\u001b[0m\u001b[0;34m\u001b[0m\u001b[0m\n",
            "\u001b[0;32m/usr/local/lib/python3.7/dist-packages/sklearn/feature_extraction/text.py\u001b[0m in \u001b[0;36mdecode\u001b[0;34m(self, doc)\u001b[0m\n\u001b[1;32m    213\u001b[0m             \u001b[0mA\u001b[0m \u001b[0mstring\u001b[0m \u001b[0mof\u001b[0m \u001b[0municode\u001b[0m \u001b[0msymbols\u001b[0m\u001b[0;34m.\u001b[0m\u001b[0;34m\u001b[0m\u001b[0;34m\u001b[0m\u001b[0m\n\u001b[1;32m    214\u001b[0m         \"\"\"\n\u001b[0;32m--> 215\u001b[0;31m         \u001b[0;32mif\u001b[0m \u001b[0mself\u001b[0m\u001b[0;34m.\u001b[0m\u001b[0minput\u001b[0m \u001b[0;34m==\u001b[0m \u001b[0;34m\"filename\"\u001b[0m\u001b[0;34m:\u001b[0m\u001b[0;34m\u001b[0m\u001b[0;34m\u001b[0m\u001b[0m\n\u001b[0m\u001b[1;32m    216\u001b[0m             \u001b[0;32mwith\u001b[0m \u001b[0mopen\u001b[0m\u001b[0;34m(\u001b[0m\u001b[0mdoc\u001b[0m\u001b[0;34m,\u001b[0m \u001b[0;34m\"rb\"\u001b[0m\u001b[0;34m)\u001b[0m \u001b[0;32mas\u001b[0m \u001b[0mfh\u001b[0m\u001b[0;34m:\u001b[0m\u001b[0;34m\u001b[0m\u001b[0;34m\u001b[0m\u001b[0m\n\u001b[1;32m    217\u001b[0m                 \u001b[0mdoc\u001b[0m \u001b[0;34m=\u001b[0m \u001b[0mfh\u001b[0m\u001b[0;34m.\u001b[0m\u001b[0mread\u001b[0m\u001b[0;34m(\u001b[0m\u001b[0;34m)\u001b[0m\u001b[0;34m\u001b[0m\u001b[0;34m\u001b[0m\u001b[0m\n",
            "\u001b[0;32m/usr/local/lib/python3.7/dist-packages/pandas/core/generic.py\u001b[0m in \u001b[0;36m__nonzero__\u001b[0;34m(self)\u001b[0m\n\u001b[1;32m   1536\u001b[0m     \u001b[0;32mdef\u001b[0m \u001b[0m__nonzero__\u001b[0m\u001b[0;34m(\u001b[0m\u001b[0mself\u001b[0m\u001b[0;34m)\u001b[0m\u001b[0;34m:\u001b[0m\u001b[0;34m\u001b[0m\u001b[0;34m\u001b[0m\u001b[0m\n\u001b[1;32m   1537\u001b[0m         raise ValueError(\n\u001b[0;32m-> 1538\u001b[0;31m             \u001b[0;34mf\"The truth value of a {type(self).__name__} is ambiguous. \"\u001b[0m\u001b[0;34m\u001b[0m\u001b[0;34m\u001b[0m\u001b[0m\n\u001b[0m\u001b[1;32m   1539\u001b[0m             \u001b[0;34m\"Use a.empty, a.bool(), a.item(), a.any() or a.all().\"\u001b[0m\u001b[0;34m\u001b[0m\u001b[0;34m\u001b[0m\u001b[0m\n\u001b[1;32m   1540\u001b[0m         )\n",
            "\u001b[0;31mValueError\u001b[0m: The truth value of a DataFrame is ambiguous. Use a.empty, a.bool(), a.item(), a.any() or a.all()."
          ]
        }
      ]
    }
  ]
}