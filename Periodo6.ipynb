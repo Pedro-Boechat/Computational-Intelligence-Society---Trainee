{
  "nbformat": 4,
  "nbformat_minor": 0,
  "metadata": {
    "colab": {
      "name": "Periodo6.ipynb",
      "provenance": [],
      "collapsed_sections": [],
      "authorship_tag": "ABX9TyNEor+o3+EJSTHzsOXu/9kt",
      "include_colab_link": true
    },
    "kernelspec": {
      "name": "python3",
      "display_name": "Python 3"
    },
    "language_info": {
      "name": "python"
    },
    "accelerator": "TPU"
  },
  "cells": [
    {
      "cell_type": "markdown",
      "metadata": {
        "id": "view-in-github",
        "colab_type": "text"
      },
      "source": [
        "<a href=\"https://colab.research.google.com/github/Pedro-Boechat/trainee/blob/main/Periodo6.ipynb\" target=\"_parent\"><img src=\"https://colab.research.google.com/assets/colab-badge.svg\" alt=\"Open In Colab\"/></a>"
      ]
    },
    {
      "cell_type": "markdown",
      "source": [
        "TF-IDF is a method which gives us a numerical weightage of words which reflects how important the particular word is to a document in a corpus"
      ],
      "metadata": {
        "id": "6vVcNcVgvSIH"
      }
    },
    {
      "cell_type": "markdown",
      "source": [
        "![image.png](data:image/png;base64,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)\n"
      ],
      "metadata": {
        "id": "lU5KJVmyyCOk"
      }
    },
    {
      "cell_type": "markdown",
      "source": [
        "A frequência de termos quando utilizada pode ser eficaz, porém alguns termos que não são eliminados podem atrapalhar a análise. Existem algumas palavras que são muito comuns e se repetem por todos os documentos de texto. Elas possuem significado e não podem ser eliminadas no pré-processamento. \n",
        "\n",
        "Para realizar uma análise mais precisa do corpus utilizamos não mais apenas a frequência simples e sim a frequência multiplicada pelo inverso da frequência considerando o conjunto completo de documentos. Por exemplo: imagine um conjunto de 150 documentos no qual a palavra “claro”: aparece em 149 documentos, “médico”: em 98 , “plantas”: em 89.\n",
        "\n",
        "A técnica do TF-IDF desconsidera as palavras com maior frequência entre documentos e dá maior importância para as palavras que tem maior frequência e não estão presentes em muitos documentos."
      ],
      "metadata": {
        "id": "38VRvCteyOv1"
      }
    },
    {
      "cell_type": "markdown",
      "source": [
        "tf-idf = term_frequency * inverse_document_frequency\n",
        "\n",
        "term_frequency = number of times a given term appears in document\n",
        "\n",
        "inverse_document_frequency = log(total number of documents / number of documents with term) + 1*****\n",
        "\n",
        "Quanto maior o valor, mais relevante é a palavra"
      ],
      "metadata": {
        "id": "k5NdrUxXyCVd"
      }
    },
    {
      "cell_type": "code",
      "execution_count": 95,
      "metadata": {
        "id": "uazOXCEktMDO"
      },
      "outputs": [],
      "source": [
        "import pandas as pd\n",
        "import numpy as np\n",
        "import matplotlib.pyplot as plt\n",
        "import seaborn as sns\n",
        "import sklearn\n",
        "from sklearn.decomposition import PCA\n",
        "import time\n",
        "from sklearn.base import BaseEstimator, ClassifierMixin, RegressorMixin\n",
        "from sklearn.model_selection import train_test_split\n",
        "from sklearn.feature_extraction.text import CountVectorizer\n",
        "\n",
        "import nltk\n",
        "import string\n",
        "from nltk.tokenize import word_tokenize\n",
        "from nltk.corpus import stopwords, wordnet\n",
        "from nltk.stem import WordNetLemmatizer\n",
        "from sklearn.feature_extraction.text import TfidfVectorizer\n",
        "from sklearn.feature_extraction.text import TfidfTransformer"
      ]
    },
    {
      "cell_type": "code",
      "source": [
        "from google.colab import drive\n",
        "\n",
        "drive.mount('/content/gdrive', force_remount=True)\n",
        "\n",
        "dataset_path = '/content/gdrive/MyDrive/Musical_instruments_reviews.csv'"
      ],
      "metadata": {
        "colab": {
          "base_uri": "https://localhost:8080/"
        },
        "id": "8l-Peqt725P5",
        "outputId": "86442960-5cb9-48f6-a51c-1007ea15d90e"
      },
      "execution_count": 96,
      "outputs": [
        {
          "output_type": "stream",
          "name": "stdout",
          "text": [
            "Mounted at /content/gdrive\n"
          ]
        }
      ]
    },
    {
      "cell_type": "code",
      "source": [
        "df = pd.read_csv(dataset_path)"
      ],
      "metadata": {
        "id": "07C8IKcj3IUQ"
      },
      "execution_count": 206,
      "outputs": []
    },
    {
      "cell_type": "code",
      "source": [
        "df.tail()"
      ],
      "metadata": {
        "colab": {
          "base_uri": "https://localhost:8080/",
          "height": 302
        },
        "id": "u1t4yVfhJXyn",
        "outputId": "28fed78b-49c0-45a0-ac42-7b4b9d99100a"
      },
      "execution_count": null,
      "outputs": [
        {
          "output_type": "execute_result",
          "data": {
            "text/plain": [
              "           reviewerID        asin             reviewerName helpful  \\\n",
              "10256  A14B2YH83ZXMPP  B00JBIVXGC          Lonnie M. Adams  [0, 0]   \n",
              "10257   A1RPTVW5VEOSI  B00JBIVXGC       Michael J. Edelman  [0, 0]   \n",
              "10258   AWCJ12KBO5VII  B00JBIVXGC         Michael L. Knapp  [0, 0]   \n",
              "10259  A2Z7S8B5U4PAKJ  B00JBIVXGC  Rick Langdon \"Scriptor\"  [0, 0]   \n",
              "10260  A2WA8TDCTGUADI  B00JBIVXGC          TheTerrorBeyond  [0, 0]   \n",
              "\n",
              "                                              reviewText  overall  \\\n",
              "10256            Great, just as expected.  Thank to all.      5.0   \n",
              "10257  I've been thinking about trying the Nanoweb st...      5.0   \n",
              "10258  I have tried coated strings in the past ( incl...      4.0   \n",
              "10259  Well, MADE by Elixir and DEVELOPED with Taylor...      4.0   \n",
              "10260  These strings are really quite good, but I wou...      4.0   \n",
              "\n",
              "                                                 summary  unixReviewTime  \\\n",
              "10256                                         Five Stars      1405814400   \n",
              "10257  Long life, and for some players, a good econom...      1404259200   \n",
              "10258                                   Good for coated.      1405987200   \n",
              "10259                                        Taylor Made      1404172800   \n",
              "10260  These strings are really quite good, but I wou...      1405468800   \n",
              "\n",
              "        reviewTime  \n",
              "10256  07 20, 2014  \n",
              "10257   07 2, 2014  \n",
              "10258  07 22, 2014  \n",
              "10259   07 1, 2014  \n",
              "10260  07 16, 2014  "
            ],
            "text/html": [
              "\n",
              "  <div id=\"df-209cc4d9-59c5-4058-af13-9d2b1b7d8d95\">\n",
              "    <div class=\"colab-df-container\">\n",
              "      <div>\n",
              "<style scoped>\n",
              "    .dataframe tbody tr th:only-of-type {\n",
              "        vertical-align: middle;\n",
              "    }\n",
              "\n",
              "    .dataframe tbody tr th {\n",
              "        vertical-align: top;\n",
              "    }\n",
              "\n",
              "    .dataframe thead th {\n",
              "        text-align: right;\n",
              "    }\n",
              "</style>\n",
              "<table border=\"1\" class=\"dataframe\">\n",
              "  <thead>\n",
              "    <tr style=\"text-align: right;\">\n",
              "      <th></th>\n",
              "      <th>reviewerID</th>\n",
              "      <th>asin</th>\n",
              "      <th>reviewerName</th>\n",
              "      <th>helpful</th>\n",
              "      <th>reviewText</th>\n",
              "      <th>overall</th>\n",
              "      <th>summary</th>\n",
              "      <th>unixReviewTime</th>\n",
              "      <th>reviewTime</th>\n",
              "    </tr>\n",
              "  </thead>\n",
              "  <tbody>\n",
              "    <tr>\n",
              "      <th>10256</th>\n",
              "      <td>A14B2YH83ZXMPP</td>\n",
              "      <td>B00JBIVXGC</td>\n",
              "      <td>Lonnie M. Adams</td>\n",
              "      <td>[0, 0]</td>\n",
              "      <td>Great, just as expected.  Thank to all.</td>\n",
              "      <td>5.0</td>\n",
              "      <td>Five Stars</td>\n",
              "      <td>1405814400</td>\n",
              "      <td>07 20, 2014</td>\n",
              "    </tr>\n",
              "    <tr>\n",
              "      <th>10257</th>\n",
              "      <td>A1RPTVW5VEOSI</td>\n",
              "      <td>B00JBIVXGC</td>\n",
              "      <td>Michael J. Edelman</td>\n",
              "      <td>[0, 0]</td>\n",
              "      <td>I've been thinking about trying the Nanoweb st...</td>\n",
              "      <td>5.0</td>\n",
              "      <td>Long life, and for some players, a good econom...</td>\n",
              "      <td>1404259200</td>\n",
              "      <td>07 2, 2014</td>\n",
              "    </tr>\n",
              "    <tr>\n",
              "      <th>10258</th>\n",
              "      <td>AWCJ12KBO5VII</td>\n",
              "      <td>B00JBIVXGC</td>\n",
              "      <td>Michael L. Knapp</td>\n",
              "      <td>[0, 0]</td>\n",
              "      <td>I have tried coated strings in the past ( incl...</td>\n",
              "      <td>4.0</td>\n",
              "      <td>Good for coated.</td>\n",
              "      <td>1405987200</td>\n",
              "      <td>07 22, 2014</td>\n",
              "    </tr>\n",
              "    <tr>\n",
              "      <th>10259</th>\n",
              "      <td>A2Z7S8B5U4PAKJ</td>\n",
              "      <td>B00JBIVXGC</td>\n",
              "      <td>Rick Langdon \"Scriptor\"</td>\n",
              "      <td>[0, 0]</td>\n",
              "      <td>Well, MADE by Elixir and DEVELOPED with Taylor...</td>\n",
              "      <td>4.0</td>\n",
              "      <td>Taylor Made</td>\n",
              "      <td>1404172800</td>\n",
              "      <td>07 1, 2014</td>\n",
              "    </tr>\n",
              "    <tr>\n",
              "      <th>10260</th>\n",
              "      <td>A2WA8TDCTGUADI</td>\n",
              "      <td>B00JBIVXGC</td>\n",
              "      <td>TheTerrorBeyond</td>\n",
              "      <td>[0, 0]</td>\n",
              "      <td>These strings are really quite good, but I wou...</td>\n",
              "      <td>4.0</td>\n",
              "      <td>These strings are really quite good, but I wou...</td>\n",
              "      <td>1405468800</td>\n",
              "      <td>07 16, 2014</td>\n",
              "    </tr>\n",
              "  </tbody>\n",
              "</table>\n",
              "</div>\n",
              "      <button class=\"colab-df-convert\" onclick=\"convertToInteractive('df-209cc4d9-59c5-4058-af13-9d2b1b7d8d95')\"\n",
              "              title=\"Convert this dataframe to an interactive table.\"\n",
              "              style=\"display:none;\">\n",
              "        \n",
              "  <svg xmlns=\"http://www.w3.org/2000/svg\" height=\"24px\"viewBox=\"0 0 24 24\"\n",
              "       width=\"24px\">\n",
              "    <path d=\"M0 0h24v24H0V0z\" fill=\"none\"/>\n",
              "    <path d=\"M18.56 5.44l.94 2.06.94-2.06 2.06-.94-2.06-.94-.94-2.06-.94 2.06-2.06.94zm-11 1L8.5 8.5l.94-2.06 2.06-.94-2.06-.94L8.5 2.5l-.94 2.06-2.06.94zm10 10l.94 2.06.94-2.06 2.06-.94-2.06-.94-.94-2.06-.94 2.06-2.06.94z\"/><path d=\"M17.41 7.96l-1.37-1.37c-.4-.4-.92-.59-1.43-.59-.52 0-1.04.2-1.43.59L10.3 9.45l-7.72 7.72c-.78.78-.78 2.05 0 2.83L4 21.41c.39.39.9.59 1.41.59.51 0 1.02-.2 1.41-.59l7.78-7.78 2.81-2.81c.8-.78.8-2.07 0-2.86zM5.41 20L4 18.59l7.72-7.72 1.47 1.35L5.41 20z\"/>\n",
              "  </svg>\n",
              "      </button>\n",
              "      \n",
              "  <style>\n",
              "    .colab-df-container {\n",
              "      display:flex;\n",
              "      flex-wrap:wrap;\n",
              "      gap: 12px;\n",
              "    }\n",
              "\n",
              "    .colab-df-convert {\n",
              "      background-color: #E8F0FE;\n",
              "      border: none;\n",
              "      border-radius: 50%;\n",
              "      cursor: pointer;\n",
              "      display: none;\n",
              "      fill: #1967D2;\n",
              "      height: 32px;\n",
              "      padding: 0 0 0 0;\n",
              "      width: 32px;\n",
              "    }\n",
              "\n",
              "    .colab-df-convert:hover {\n",
              "      background-color: #E2EBFA;\n",
              "      box-shadow: 0px 1px 2px rgba(60, 64, 67, 0.3), 0px 1px 3px 1px rgba(60, 64, 67, 0.15);\n",
              "      fill: #174EA6;\n",
              "    }\n",
              "\n",
              "    [theme=dark] .colab-df-convert {\n",
              "      background-color: #3B4455;\n",
              "      fill: #D2E3FC;\n",
              "    }\n",
              "\n",
              "    [theme=dark] .colab-df-convert:hover {\n",
              "      background-color: #434B5C;\n",
              "      box-shadow: 0px 1px 3px 1px rgba(0, 0, 0, 0.15);\n",
              "      filter: drop-shadow(0px 1px 2px rgba(0, 0, 0, 0.3));\n",
              "      fill: #FFFFFF;\n",
              "    }\n",
              "  </style>\n",
              "\n",
              "      <script>\n",
              "        const buttonEl =\n",
              "          document.querySelector('#df-209cc4d9-59c5-4058-af13-9d2b1b7d8d95 button.colab-df-convert');\n",
              "        buttonEl.style.display =\n",
              "          google.colab.kernel.accessAllowed ? 'block' : 'none';\n",
              "\n",
              "        async function convertToInteractive(key) {\n",
              "          const element = document.querySelector('#df-209cc4d9-59c5-4058-af13-9d2b1b7d8d95');\n",
              "          const dataTable =\n",
              "            await google.colab.kernel.invokeFunction('convertToInteractive',\n",
              "                                                     [key], {});\n",
              "          if (!dataTable) return;\n",
              "\n",
              "          const docLinkHtml = 'Like what you see? Visit the ' +\n",
              "            '<a target=\"_blank\" href=https://colab.research.google.com/notebooks/data_table.ipynb>data table notebook</a>'\n",
              "            + ' to learn more about interactive tables.';\n",
              "          element.innerHTML = '';\n",
              "          dataTable['output_type'] = 'display_data';\n",
              "          await google.colab.output.renderOutput(dataTable, element);\n",
              "          const docLink = document.createElement('div');\n",
              "          docLink.innerHTML = docLinkHtml;\n",
              "          element.appendChild(docLink);\n",
              "        }\n",
              "      </script>\n",
              "    </div>\n",
              "  </div>\n",
              "  "
            ]
          },
          "metadata": {},
          "execution_count": 20
        }
      ]
    },
    {
      "cell_type": "code",
      "source": [
        "for col in df.columns:\n",
        "    print(col, df[col].isnull().sum())"
      ],
      "metadata": {
        "colab": {
          "base_uri": "https://localhost:8080/"
        },
        "id": "SJB-yQ787VGC",
        "outputId": "db290cc3-7ce3-417d-fd9f-f9a20fadba2c"
      },
      "execution_count": 98,
      "outputs": [
        {
          "output_type": "stream",
          "name": "stdout",
          "text": [
            "reviewerID 0\n",
            "asin 0\n",
            "reviewerName 27\n",
            "helpful 0\n",
            "reviewText 7\n",
            "overall 0\n",
            "summary 0\n",
            "unixReviewTime 0\n",
            "reviewTime 0\n"
          ]
        }
      ]
    },
    {
      "cell_type": "markdown",
      "source": [
        "Como há poucos valores NA, decidi dropar todos"
      ],
      "metadata": {
        "id": "3wJc5W7dMRoH"
      }
    },
    {
      "cell_type": "code",
      "source": [
        "df = df.dropna()"
      ],
      "metadata": {
        "id": "K18G0MgPJaiG"
      },
      "execution_count": 207,
      "outputs": []
    },
    {
      "cell_type": "code",
      "source": [
        "df['overall'].value_counts()"
      ],
      "metadata": {
        "colab": {
          "base_uri": "https://localhost:8080/"
        },
        "id": "Hc_Looxc_ZE-",
        "outputId": "12e3e8a1-2881-47cb-beeb-6ffdf7d9bb0f"
      },
      "execution_count": 100,
      "outputs": [
        {
          "output_type": "execute_result",
          "data": {
            "text/plain": [
              "5.0    6912\n",
              "4.0    2079\n",
              "3.0     771\n",
              "2.0     249\n",
              "1.0     216\n",
              "Name: overall, dtype: int64"
            ]
          },
          "metadata": {},
          "execution_count": 100
        }
      ]
    },
    {
      "cell_type": "code",
      "source": [
        "sns.countplot(y='overall', data=df, palette='pastel')"
      ],
      "metadata": {
        "colab": {
          "base_uri": "https://localhost:8080/",
          "height": 297
        },
        "id": "kE6wttWekbF_",
        "outputId": "525bc51c-981b-4c37-b756-45c956a11b59"
      },
      "execution_count": 101,
      "outputs": [
        {
          "output_type": "execute_result",
          "data": {
            "text/plain": [
              "<matplotlib.axes._subplots.AxesSubplot at 0x7f0b90f42490>"
            ]
          },
          "metadata": {},
          "execution_count": 101
        },
        {
          "output_type": "display_data",
          "data": {
            "text/plain": [
              "<Figure size 432x288 with 1 Axes>"
            ],
            "image/png": "[encoded data removed]"
          },
          "metadata": {
            "needs_background": "light"
          }
        }
      ]
    },
    {
      "cell_type": "markdown",
      "source": [
        "Nota-se desbalanceamento dos dados"
      ],
      "metadata": {
        "id": "IAF5BnMaMaMm"
      }
    },
    {
      "cell_type": "code",
      "source": [
        "from sklearn.utils import resample\n",
        "# Separar a maioria e minoria\n",
        "df_5 = df[df['overall']==5.0]\n",
        "df_4 = df[df['overall']==4.0]\n",
        "df_3 = df[df['overall']==3.0]\n",
        "df_2 = df[df['overall']==2.0]\n",
        "df_1 = df[df['overall']==1.0]\n",
        "\n",
        "# Downsample\n",
        "df_5 = resample(df_5,\n",
        "                                 replace=False,    \n",
        "                                 n_samples=249)\n",
        "df_4 = resample(df_4,\n",
        "                                 replace=False,    \n",
        "                                 n_samples=249)\n",
        "df_3 = resample(df_3, \n",
        "                                 replace=False,    \n",
        "                                 n_samples=249)\n",
        "\n",
        "\n",
        "# Combinar a maioria downsampled com a minoria\n",
        "df = pd.concat([df_5,df_4, df_3, df_2, df_1])"
      ],
      "metadata": {
        "id": "0gB8tiO6_f0V"
      },
      "execution_count": 102,
      "outputs": []
    },
    {
      "cell_type": "code",
      "source": [
        "df['overall'].value_counts()"
      ],
      "metadata": {
        "colab": {
          "base_uri": "https://localhost:8080/"
        },
        "id": "Kgy-LXDMAMEf",
        "outputId": "3fea820e-6732-4de0-e9c8-7717868748c8"
      },
      "execution_count": 103,
      "outputs": [
        {
          "output_type": "execute_result",
          "data": {
            "text/plain": [
              "5.0    249\n",
              "4.0    249\n",
              "3.0    249\n",
              "2.0    249\n",
              "1.0    216\n",
              "Name: overall, dtype: int64"
            ]
          },
          "metadata": {},
          "execution_count": 103
        }
      ]
    },
    {
      "cell_type": "markdown",
      "source": [
        "Criando uma coluna para a classificação binária. Valores acima de 3 serão 1; e o restante será 0. Essa classificação indicará se a avaliação do usuário foi positiva ou negativa."
      ],
      "metadata": {
        "id": "CSfH-ngTMiTP"
      }
    },
    {
      "cell_type": "code",
      "source": [
        "df.loc[((df['overall'] <= 3) \n",
        "       ), 'total'] = 0\n",
        "\n",
        "df['total'] = df['total'].fillna(1)"
      ],
      "metadata": {
        "id": "A57sLV6TD2St"
      },
      "execution_count": 208,
      "outputs": []
    },
    {
      "cell_type": "code",
      "source": [
        "df['total'].value_counts()"
      ],
      "metadata": {
        "id": "LMdpMpICFPPn"
      },
      "execution_count": null,
      "outputs": []
    },
    {
      "cell_type": "code",
      "source": [
        "df.head()"
      ],
      "metadata": {
        "colab": {
          "base_uri": "https://localhost:8080/",
          "height": 336
        },
        "id": "dK3ekX4AM1ne",
        "outputId": "9a809ad8-52ce-404e-e4d2-59ded4b7bcb0"
      },
      "execution_count": 107,
      "outputs": [
        {
          "output_type": "execute_result",
          "data": {
            "text/plain": [
              "           reviewerID        asin                  reviewerName helpful  \\\n",
              "10022  A3R8TPM1N7HFS4  B00B1N06PO  Amazon Customer \"kateTaylor\"  [7, 7]   \n",
              "8870   A1TLMSOE1VRDZI  B004XNK7AI                       Igneous  [2, 2]   \n",
              "9324   A1ZGNCN1VRUO1H  B005MR6IHK                            JC  [0, 0]   \n",
              "7741   A2B58VXLLOFQKR  B003AYC1SM                 James Moulton  [0, 1]   \n",
              "3963    ATSVUBE2115N1  B0009EU01G                  Aaron Madden  [0, 0]   \n",
              "\n",
              "                                              reviewText  overall  \\\n",
              "10022  Tascam is an industry leader in pro audio and ...      5.0   \n",
              "8870   -  This tuner is affordable and it works well....      5.0   \n",
              "9324   I have owned two Snark headstock tuners (the b...      5.0   \n",
              "7741   After trying about every comp out there for ye...      5.0   \n",
              "3963   Great cord for the money. Works well with the ...      5.0   \n",
              "\n",
              "                                                 summary  unixReviewTime  \\\n",
              "10022  Absolutely THE best under $100.00 headphones y...      1362182400   \n",
              "8870    Easy to stay in tune. Small, handy & time saving      1343347200   \n",
              "9324                        Great alternative to a Snark      1378166400   \n",
              "7741                Great Compressor, like a Script Logo      1308182400   \n",
              "3963                                           Cool cord      1357603200   \n",
              "\n",
              "        reviewTime  total  \n",
              "10022   03 2, 2013    1.0  \n",
              "8870   07 27, 2012    1.0  \n",
              "9324    09 3, 2013    1.0  \n",
              "7741   06 16, 2011    1.0  \n",
              "3963    01 8, 2013    1.0  "
            ],
            "text/html": [
              "\n",
              "  <div id=\"df-996e5ff2-08c3-4b16-9203-b6cc6c09195a\">\n",
              "    <div class=\"colab-df-container\">\n",
              "      <div>\n",
              "<style scoped>\n",
              "    .dataframe tbody tr th:only-of-type {\n",
              "        vertical-align: middle;\n",
              "    }\n",
              "\n",
              "    .dataframe tbody tr th {\n",
              "        vertical-align: top;\n",
              "    }\n",
              "\n",
              "    .dataframe thead th {\n",
              "        text-align: right;\n",
              "    }\n",
              "</style>\n",
              "<table border=\"1\" class=\"dataframe\">\n",
              "  <thead>\n",
              "    <tr style=\"text-align: right;\">\n",
              "      <th></th>\n",
              "      <th>reviewerID</th>\n",
              "      <th>asin</th>\n",
              "      <th>reviewerName</th>\n",
              "      <th>helpful</th>\n",
              "      <th>reviewText</th>\n",
              "      <th>overall</th>\n",
              "      <th>summary</th>\n",
              "      <th>unixReviewTime</th>\n",
              "      <th>reviewTime</th>\n",
              "      <th>total</th>\n",
              "    </tr>\n",
              "  </thead>\n",
              "  <tbody>\n",
              "    <tr>\n",
              "      <th>10022</th>\n",
              "      <td>A3R8TPM1N7HFS4</td>\n",
              "      <td>B00B1N06PO</td>\n",
              "      <td>Amazon Customer \"kateTaylor\"</td>\n",
              "      <td>[7, 7]</td>\n",
              "      <td>Tascam is an industry leader in pro audio and ...</td>\n",
              "      <td>5.0</td>\n",
              "      <td>Absolutely THE best under $100.00 headphones y...</td>\n",
              "      <td>1362182400</td>\n",
              "      <td>03 2, 2013</td>\n",
              "      <td>1.0</td>\n",
              "    </tr>\n",
              "    <tr>\n",
              "      <th>8870</th>\n",
              "      <td>A1TLMSOE1VRDZI</td>\n",
              "      <td>B004XNK7AI</td>\n",
              "      <td>Igneous</td>\n",
              "      <td>[2, 2]</td>\n",
              "      <td>-  This tuner is affordable and it works well....</td>\n",
              "      <td>5.0</td>\n",
              "      <td>Easy to stay in tune. Small, handy &amp; time saving</td>\n",
              "      <td>1343347200</td>\n",
              "      <td>07 27, 2012</td>\n",
              "      <td>1.0</td>\n",
              "    </tr>\n",
              "    <tr>\n",
              "      <th>9324</th>\n",
              "      <td>A1ZGNCN1VRUO1H</td>\n",
              "      <td>B005MR6IHK</td>\n",
              "      <td>JC</td>\n",
              "      <td>[0, 0]</td>\n",
              "      <td>I have owned two Snark headstock tuners (the b...</td>\n",
              "      <td>5.0</td>\n",
              "      <td>Great alternative to a Snark</td>\n",
              "      <td>1378166400</td>\n",
              "      <td>09 3, 2013</td>\n",
              "      <td>1.0</td>\n",
              "    </tr>\n",
              "    <tr>\n",
              "      <th>7741</th>\n",
              "      <td>A2B58VXLLOFQKR</td>\n",
              "      <td>B003AYC1SM</td>\n",
              "      <td>James Moulton</td>\n",
              "      <td>[0, 1]</td>\n",
              "      <td>After trying about every comp out there for ye...</td>\n",
              "      <td>5.0</td>\n",
              "      <td>Great Compressor, like a Script Logo</td>\n",
              "      <td>1308182400</td>\n",
              "      <td>06 16, 2011</td>\n",
              "      <td>1.0</td>\n",
              "    </tr>\n",
              "    <tr>\n",
              "      <th>3963</th>\n",
              "      <td>ATSVUBE2115N1</td>\n",
              "      <td>B0009EU01G</td>\n",
              "      <td>Aaron Madden</td>\n",
              "      <td>[0, 0]</td>\n",
              "      <td>Great cord for the money. Works well with the ...</td>\n",
              "      <td>5.0</td>\n",
              "      <td>Cool cord</td>\n",
              "      <td>1357603200</td>\n",
              "      <td>01 8, 2013</td>\n",
              "      <td>1.0</td>\n",
              "    </tr>\n",
              "  </tbody>\n",
              "</table>\n",
              "</div>\n",
              "      <button class=\"colab-df-convert\" onclick=\"convertToInteractive('df-996e5ff2-08c3-4b16-9203-b6cc6c09195a')\"\n",
              "              title=\"Convert this dataframe to an interactive table.\"\n",
              "              style=\"display:none;\">\n",
              "        \n",
              "  <svg xmlns=\"http://www.w3.org/2000/svg\" height=\"24px\"viewBox=\"0 0 24 24\"\n",
              "       width=\"24px\">\n",
              "    <path d=\"M0 0h24v24H0V0z\" fill=\"none\"/>\n",
              "    <path d=\"M18.56 5.44l.94 2.06.94-2.06 2.06-.94-2.06-.94-.94-2.06-.94 2.06-2.06.94zm-11 1L8.5 8.5l.94-2.06 2.06-.94-2.06-.94L8.5 2.5l-.94 2.06-2.06.94zm10 10l.94 2.06.94-2.06 2.06-.94-2.06-.94-.94-2.06-.94 2.06-2.06.94z\"/><path d=\"M17.41 7.96l-1.37-1.37c-.4-.4-.92-.59-1.43-.59-.52 0-1.04.2-1.43.59L10.3 9.45l-7.72 7.72c-.78.78-.78 2.05 0 2.83L4 21.41c.39.39.9.59 1.41.59.51 0 1.02-.2 1.41-.59l7.78-7.78 2.81-2.81c.8-.78.8-2.07 0-2.86zM5.41 20L4 18.59l7.72-7.72 1.47 1.35L5.41 20z\"/>\n",
              "  </svg>\n",
              "      </button>\n",
              "      \n",
              "  <style>\n",
              "    .colab-df-container {\n",
              "      display:flex;\n",
              "      flex-wrap:wrap;\n",
              "      gap: 12px;\n",
              "    }\n",
              "\n",
              "    .colab-df-convert {\n",
              "      background-color: #E8F0FE;\n",
              "      border: none;\n",
              "      border-radius: 50%;\n",
              "      cursor: pointer;\n",
              "      display: none;\n",
              "      fill: #1967D2;\n",
              "      height: 32px;\n",
              "      padding: 0 0 0 0;\n",
              "      width: 32px;\n",
              "    }\n",
              "\n",
              "    .colab-df-convert:hover {\n",
              "      background-color: #E2EBFA;\n",
              "      box-shadow: 0px 1px 2px rgba(60, 64, 67, 0.3), 0px 1px 3px 1px rgba(60, 64, 67, 0.15);\n",
              "      fill: #174EA6;\n",
              "    }\n",
              "\n",
              "    [theme=dark] .colab-df-convert {\n",
              "      background-color: #3B4455;\n",
              "      fill: #D2E3FC;\n",
              "    }\n",
              "\n",
              "    [theme=dark] .colab-df-convert:hover {\n",
              "      background-color: #434B5C;\n",
              "      box-shadow: 0px 1px 3px 1px rgba(0, 0, 0, 0.15);\n",
              "      filter: drop-shadow(0px 1px 2px rgba(0, 0, 0, 0.3));\n",
              "      fill: #FFFFFF;\n",
              "    }\n",
              "  </style>\n",
              "\n",
              "      <script>\n",
              "        const buttonEl =\n",
              "          document.querySelector('#df-996e5ff2-08c3-4b16-9203-b6cc6c09195a button.colab-df-convert');\n",
              "        buttonEl.style.display =\n",
              "          google.colab.kernel.accessAllowed ? 'block' : 'none';\n",
              "\n",
              "        async function convertToInteractive(key) {\n",
              "          const element = document.querySelector('#df-996e5ff2-08c3-4b16-9203-b6cc6c09195a');\n",
              "          const dataTable =\n",
              "            await google.colab.kernel.invokeFunction('convertToInteractive',\n",
              "                                                     [key], {});\n",
              "          if (!dataTable) return;\n",
              "\n",
              "          const docLinkHtml = 'Like what you see? Visit the ' +\n",
              "            '<a target=\"_blank\" href=https://colab.research.google.com/notebooks/data_table.ipynb>data table notebook</a>'\n",
              "            + ' to learn more about interactive tables.';\n",
              "          element.innerHTML = '';\n",
              "          dataTable['output_type'] = 'display_data';\n",
              "          await google.colab.output.renderOutput(dataTable, element);\n",
              "          const docLink = document.createElement('div');\n",
              "          docLink.innerHTML = docLinkHtml;\n",
              "          element.appendChild(docLink);\n",
              "        }\n",
              "      </script>\n",
              "    </div>\n",
              "  </div>\n",
              "  "
            ]
          },
          "metadata": {},
          "execution_count": 107
        }
      ]
    },
    {
      "cell_type": "code",
      "source": [
        "rws = df.loc[:, ['reviewText', 'overall', 'total']]"
      ],
      "metadata": {
        "id": "FdX2JM7-J9zG"
      },
      "execution_count": 210,
      "outputs": []
    },
    {
      "cell_type": "markdown",
      "source": [
        "# Pré processamento"
      ],
      "metadata": {
        "id": "IsT2e0nJM5G-"
      }
    },
    {
      "cell_type": "markdown",
      "source": [
        "## Passo a passo"
      ],
      "metadata": {
        "id": "jc3RfhLKM6xg"
      }
    },
    {
      "cell_type": "code",
      "source": [
        "rws['reviewText'] = rws['reviewText'].apply(word_tokenize)\n",
        "rws.head()\n",
        "# Tokenizando"
      ],
      "metadata": {
        "colab": {
          "base_uri": "https://localhost:8080/",
          "height": 206
        },
        "id": "1Ppz4Gze4NwJ",
        "outputId": "ff54f7d0-53ca-47a2-8f35-5cf0153872ac"
      },
      "execution_count": 109,
      "outputs": [
        {
          "output_type": "execute_result",
          "data": {
            "text/plain": [
              "                                              reviewText  overall  total\n",
              "10022  [Tascam, is, an, industry, leader, in, pro, au...      5.0    1.0\n",
              "8870   [-, This, tuner, is, affordable, and, it, work...      5.0    1.0\n",
              "9324   [I, have, owned, two, Snark, headstock, tuners...      5.0    1.0\n",
              "7741   [After, trying, about, every, comp, out, there...      5.0    1.0\n",
              "3963   [Great, cord, for, the, money, ., Works, well,...      5.0    1.0"
            ],
            "text/html": [
              "\n",
              "  <div id=\"df-d46c7e6c-887b-4fda-af3a-8fd3e6105790\">\n",
              "    <div class=\"colab-df-container\">\n",
              "      <div>\n",
              "<style scoped>\n",
              "    .dataframe tbody tr th:only-of-type {\n",
              "        vertical-align: middle;\n",
              "    }\n",
              "\n",
              "    .dataframe tbody tr th {\n",
              "        vertical-align: top;\n",
              "    }\n",
              "\n",
              "    .dataframe thead th {\n",
              "        text-align: right;\n",
              "    }\n",
              "</style>\n",
              "<table border=\"1\" class=\"dataframe\">\n",
              "  <thead>\n",
              "    <tr style=\"text-align: right;\">\n",
              "      <th></th>\n",
              "      <th>reviewText</th>\n",
              "      <th>overall</th>\n",
              "      <th>total</th>\n",
              "    </tr>\n",
              "  </thead>\n",
              "  <tbody>\n",
              "    <tr>\n",
              "      <th>10022</th>\n",
              "      <td>[Tascam, is, an, industry, leader, in, pro, au...</td>\n",
              "      <td>5.0</td>\n",
              "      <td>1.0</td>\n",
              "    </tr>\n",
              "    <tr>\n",
              "      <th>8870</th>\n",
              "      <td>[-, This, tuner, is, affordable, and, it, work...</td>\n",
              "      <td>5.0</td>\n",
              "      <td>1.0</td>\n",
              "    </tr>\n",
              "    <tr>\n",
              "      <th>9324</th>\n",
              "      <td>[I, have, owned, two, Snark, headstock, tuners...</td>\n",
              "      <td>5.0</td>\n",
              "      <td>1.0</td>\n",
              "    </tr>\n",
              "    <tr>\n",
              "      <th>7741</th>\n",
              "      <td>[After, trying, about, every, comp, out, there...</td>\n",
              "      <td>5.0</td>\n",
              "      <td>1.0</td>\n",
              "    </tr>\n",
              "    <tr>\n",
              "      <th>3963</th>\n",
              "      <td>[Great, cord, for, the, money, ., Works, well,...</td>\n",
              "      <td>5.0</td>\n",
              "      <td>1.0</td>\n",
              "    </tr>\n",
              "  </tbody>\n",
              "</table>\n",
              "</div>\n",
              "      <button class=\"colab-df-convert\" onclick=\"convertToInteractive('df-d46c7e6c-887b-4fda-af3a-8fd3e6105790')\"\n",
              "              title=\"Convert this dataframe to an interactive table.\"\n",
              "              style=\"display:none;\">\n",
              "        \n",
              "  <svg xmlns=\"http://www.w3.org/2000/svg\" height=\"24px\"viewBox=\"0 0 24 24\"\n",
              "       width=\"24px\">\n",
              "    <path d=\"M0 0h24v24H0V0z\" fill=\"none\"/>\n",
              "    <path d=\"M18.56 5.44l.94 2.06.94-2.06 2.06-.94-2.06-.94-.94-2.06-.94 2.06-2.06.94zm-11 1L8.5 8.5l.94-2.06 2.06-.94-2.06-.94L8.5 2.5l-.94 2.06-2.06.94zm10 10l.94 2.06.94-2.06 2.06-.94-2.06-.94-.94-2.06-.94 2.06-2.06.94z\"/><path d=\"M17.41 7.96l-1.37-1.37c-.4-.4-.92-.59-1.43-.59-.52 0-1.04.2-1.43.59L10.3 9.45l-7.72 7.72c-.78.78-.78 2.05 0 2.83L4 21.41c.39.39.9.59 1.41.59.51 0 1.02-.2 1.41-.59l7.78-7.78 2.81-2.81c.8-.78.8-2.07 0-2.86zM5.41 20L4 18.59l7.72-7.72 1.47 1.35L5.41 20z\"/>\n",
              "  </svg>\n",
              "      </button>\n",
              "      \n",
              "  <style>\n",
              "    .colab-df-container {\n",
              "      display:flex;\n",
              "      flex-wrap:wrap;\n",
              "      gap: 12px;\n",
              "    }\n",
              "\n",
              "    .colab-df-convert {\n",
              "      background-color: #E8F0FE;\n",
              "      border: none;\n",
              "      border-radius: 50%;\n",
              "      cursor: pointer;\n",
              "      display: none;\n",
              "      fill: #1967D2;\n",
              "      height: 32px;\n",
              "      padding: 0 0 0 0;\n",
              "      width: 32px;\n",
              "    }\n",
              "\n",
              "    .colab-df-convert:hover {\n",
              "      background-color: #E2EBFA;\n",
              "      box-shadow: 0px 1px 2px rgba(60, 64, 67, 0.3), 0px 1px 3px 1px rgba(60, 64, 67, 0.15);\n",
              "      fill: #174EA6;\n",
              "    }\n",
              "\n",
              "    [theme=dark] .colab-df-convert {\n",
              "      background-color: #3B4455;\n",
              "      fill: #D2E3FC;\n",
              "    }\n",
              "\n",
              "    [theme=dark] .colab-df-convert:hover {\n",
              "      background-color: #434B5C;\n",
              "      box-shadow: 0px 1px 3px 1px rgba(0, 0, 0, 0.15);\n",
              "      filter: drop-shadow(0px 1px 2px rgba(0, 0, 0, 0.3));\n",
              "      fill: #FFFFFF;\n",
              "    }\n",
              "  </style>\n",
              "\n",
              "      <script>\n",
              "        const buttonEl =\n",
              "          document.querySelector('#df-d46c7e6c-887b-4fda-af3a-8fd3e6105790 button.colab-df-convert');\n",
              "        buttonEl.style.display =\n",
              "          google.colab.kernel.accessAllowed ? 'block' : 'none';\n",
              "\n",
              "        async function convertToInteractive(key) {\n",
              "          const element = document.querySelector('#df-d46c7e6c-887b-4fda-af3a-8fd3e6105790');\n",
              "          const dataTable =\n",
              "            await google.colab.kernel.invokeFunction('convertToInteractive',\n",
              "                                                     [key], {});\n",
              "          if (!dataTable) return;\n",
              "\n",
              "          const docLinkHtml = 'Like what you see? Visit the ' +\n",
              "            '<a target=\"_blank\" href=https://colab.research.google.com/notebooks/data_table.ipynb>data table notebook</a>'\n",
              "            + ' to learn more about interactive tables.';\n",
              "          element.innerHTML = '';\n",
              "          dataTable['output_type'] = 'display_data';\n",
              "          await google.colab.output.renderOutput(dataTable, element);\n",
              "          const docLink = document.createElement('div');\n",
              "          docLink.innerHTML = docLinkHtml;\n",
              "          element.appendChild(docLink);\n",
              "        }\n",
              "      </script>\n",
              "    </div>\n",
              "  </div>\n",
              "  "
            ]
          },
          "metadata": {},
          "execution_count": 109
        }
      ]
    },
    {
      "cell_type": "code",
      "source": [
        "rws['reviewText'] = rws['reviewText'].apply(lambda x: [word.lower() for word in x])\n",
        "rws.head()\n",
        "\n",
        "# Lowercase"
      ],
      "metadata": {
        "colab": {
          "base_uri": "https://localhost:8080/",
          "height": 206
        },
        "id": "lUt9WQ9EhHnl",
        "outputId": "2911ec96-abfe-4f96-ace4-24b06201d84a"
      },
      "execution_count": null,
      "outputs": [
        {
          "output_type": "execute_result",
          "data": {
            "text/plain": [
              "                                          reviewText  overall  \\\n",
              "0  [not, much, to, write, about, here, ,, but, it...      5.0   \n",
              "1  [the, product, does, exactly, as, it, should, ...      5.0   \n",
              "2  [the, primary, job, of, this, device, is, to, ...      5.0   \n",
              "3  [nice, windscreen, protects, my, mxl, mic, and...      5.0   \n",
              "4  [this, pop, filter, is, great, ., it, looks, a...      5.0   \n",
              "\n",
              "                                 summary  \n",
              "0                                   good  \n",
              "1                                   Jake  \n",
              "2                   It Does The Job Well  \n",
              "3          GOOD WINDSCREEN FOR THE MONEY  \n",
              "4  No more pops when I record my vocals.  "
            ],
            "text/html": [
              "\n",
              "  <div id=\"df-95c5b618-f7f6-4a14-814f-db2be1bba84f\">\n",
              "    <div class=\"colab-df-container\">\n",
              "      <div>\n",
              "<style scoped>\n",
              "    .dataframe tbody tr th:only-of-type {\n",
              "        vertical-align: middle;\n",
              "    }\n",
              "\n",
              "    .dataframe tbody tr th {\n",
              "        vertical-align: top;\n",
              "    }\n",
              "\n",
              "    .dataframe thead th {\n",
              "        text-align: right;\n",
              "    }\n",
              "</style>\n",
              "<table border=\"1\" class=\"dataframe\">\n",
              "  <thead>\n",
              "    <tr style=\"text-align: right;\">\n",
              "      <th></th>\n",
              "      <th>reviewText</th>\n",
              "      <th>overall</th>\n",
              "      <th>summary</th>\n",
              "    </tr>\n",
              "  </thead>\n",
              "  <tbody>\n",
              "    <tr>\n",
              "      <th>0</th>\n",
              "      <td>[not, much, to, write, about, here, ,, but, it...</td>\n",
              "      <td>5.0</td>\n",
              "      <td>good</td>\n",
              "    </tr>\n",
              "    <tr>\n",
              "      <th>1</th>\n",
              "      <td>[the, product, does, exactly, as, it, should, ...</td>\n",
              "      <td>5.0</td>\n",
              "      <td>Jake</td>\n",
              "    </tr>\n",
              "    <tr>\n",
              "      <th>2</th>\n",
              "      <td>[the, primary, job, of, this, device, is, to, ...</td>\n",
              "      <td>5.0</td>\n",
              "      <td>It Does The Job Well</td>\n",
              "    </tr>\n",
              "    <tr>\n",
              "      <th>3</th>\n",
              "      <td>[nice, windscreen, protects, my, mxl, mic, and...</td>\n",
              "      <td>5.0</td>\n",
              "      <td>GOOD WINDSCREEN FOR THE MONEY</td>\n",
              "    </tr>\n",
              "    <tr>\n",
              "      <th>4</th>\n",
              "      <td>[this, pop, filter, is, great, ., it, looks, a...</td>\n",
              "      <td>5.0</td>\n",
              "      <td>No more pops when I record my vocals.</td>\n",
              "    </tr>\n",
              "  </tbody>\n",
              "</table>\n",
              "</div>\n",
              "      <button class=\"colab-df-convert\" onclick=\"convertToInteractive('df-95c5b618-f7f6-4a14-814f-db2be1bba84f')\"\n",
              "              title=\"Convert this dataframe to an interactive table.\"\n",
              "              style=\"display:none;\">\n",
              "        \n",
              "  <svg xmlns=\"http://www.w3.org/2000/svg\" height=\"24px\"viewBox=\"0 0 24 24\"\n",
              "       width=\"24px\">\n",
              "    <path d=\"M0 0h24v24H0V0z\" fill=\"none\"/>\n",
              "    <path d=\"M18.56 5.44l.94 2.06.94-2.06 2.06-.94-2.06-.94-.94-2.06-.94 2.06-2.06.94zm-11 1L8.5 8.5l.94-2.06 2.06-.94-2.06-.94L8.5 2.5l-.94 2.06-2.06.94zm10 10l.94 2.06.94-2.06 2.06-.94-2.06-.94-.94-2.06-.94 2.06-2.06.94z\"/><path d=\"M17.41 7.96l-1.37-1.37c-.4-.4-.92-.59-1.43-.59-.52 0-1.04.2-1.43.59L10.3 9.45l-7.72 7.72c-.78.78-.78 2.05 0 2.83L4 21.41c.39.39.9.59 1.41.59.51 0 1.02-.2 1.41-.59l7.78-7.78 2.81-2.81c.8-.78.8-2.07 0-2.86zM5.41 20L4 18.59l7.72-7.72 1.47 1.35L5.41 20z\"/>\n",
              "  </svg>\n",
              "      </button>\n",
              "      \n",
              "  <style>\n",
              "    .colab-df-container {\n",
              "      display:flex;\n",
              "      flex-wrap:wrap;\n",
              "      gap: 12px;\n",
              "    }\n",
              "\n",
              "    .colab-df-convert {\n",
              "      background-color: #E8F0FE;\n",
              "      border: none;\n",
              "      border-radius: 50%;\n",
              "      cursor: pointer;\n",
              "      display: none;\n",
              "      fill: #1967D2;\n",
              "      height: 32px;\n",
              "      padding: 0 0 0 0;\n",
              "      width: 32px;\n",
              "    }\n",
              "\n",
              "    .colab-df-convert:hover {\n",
              "      background-color: #E2EBFA;\n",
              "      box-shadow: 0px 1px 2px rgba(60, 64, 67, 0.3), 0px 1px 3px 1px rgba(60, 64, 67, 0.15);\n",
              "      fill: #174EA6;\n",
              "    }\n",
              "\n",
              "    [theme=dark] .colab-df-convert {\n",
              "      background-color: #3B4455;\n",
              "      fill: #D2E3FC;\n",
              "    }\n",
              "\n",
              "    [theme=dark] .colab-df-convert:hover {\n",
              "      background-color: #434B5C;\n",
              "      box-shadow: 0px 1px 3px 1px rgba(0, 0, 0, 0.15);\n",
              "      filter: drop-shadow(0px 1px 2px rgba(0, 0, 0, 0.3));\n",
              "      fill: #FFFFFF;\n",
              "    }\n",
              "  </style>\n",
              "\n",
              "      <script>\n",
              "        const buttonEl =\n",
              "          document.querySelector('#df-95c5b618-f7f6-4a14-814f-db2be1bba84f button.colab-df-convert');\n",
              "        buttonEl.style.display =\n",
              "          google.colab.kernel.accessAllowed ? 'block' : 'none';\n",
              "\n",
              "        async function convertToInteractive(key) {\n",
              "          const element = document.querySelector('#df-95c5b618-f7f6-4a14-814f-db2be1bba84f');\n",
              "          const dataTable =\n",
              "            await google.colab.kernel.invokeFunction('convertToInteractive',\n",
              "                                                     [key], {});\n",
              "          if (!dataTable) return;\n",
              "\n",
              "          const docLinkHtml = 'Like what you see? Visit the ' +\n",
              "            '<a target=\"_blank\" href=https://colab.research.google.com/notebooks/data_table.ipynb>data table notebook</a>'\n",
              "            + ' to learn more about interactive tables.';\n",
              "          element.innerHTML = '';\n",
              "          dataTable['output_type'] = 'display_data';\n",
              "          await google.colab.output.renderOutput(dataTable, element);\n",
              "          const docLink = document.createElement('div');\n",
              "          docLink.innerHTML = docLinkHtml;\n",
              "          element.appendChild(docLink);\n",
              "        }\n",
              "      </script>\n",
              "    </div>\n",
              "  </div>\n",
              "  "
            ]
          },
          "metadata": {},
          "execution_count": 74
        }
      ]
    },
    {
      "cell_type": "code",
      "source": [
        "punc = string.punctuation\n",
        "rws['reviewText'] = rws['reviewText'].apply(lambda x: [word for word in x if word not in punc])\n",
        "rws.head()\n",
        "#Removendo pontuação"
      ],
      "metadata": {
        "colab": {
          "base_uri": "https://localhost:8080/",
          "height": 206
        },
        "id": "v_ScnhImLnN3",
        "outputId": "e100cddf-cb90-430a-c4cb-44c953954d0e"
      },
      "execution_count": null,
      "outputs": [
        {
          "output_type": "execute_result",
          "data": {
            "text/plain": [
              "                                          reviewText  overall  \\\n",
              "0  [not, much, to, write, about, here, but, it, d...      5.0   \n",
              "1  [the, product, does, exactly, as, it, should, ...      5.0   \n",
              "2  [the, primary, job, of, this, device, is, to, ...      5.0   \n",
              "3  [nice, windscreen, protects, my, mxl, mic, and...      5.0   \n",
              "4  [this, pop, filter, is, great, it, looks, and,...      5.0   \n",
              "\n",
              "                                 summary  \n",
              "0                                   good  \n",
              "1                                   Jake  \n",
              "2                   It Does The Job Well  \n",
              "3          GOOD WINDSCREEN FOR THE MONEY  \n",
              "4  No more pops when I record my vocals.  "
            ],
            "text/html": [
              "\n",
              "  <div id=\"df-ac913667-098f-4516-bd34-4c42524cc1ea\">\n",
              "    <div class=\"colab-df-container\">\n",
              "      <div>\n",
              "<style scoped>\n",
              "    .dataframe tbody tr th:only-of-type {\n",
              "        vertical-align: middle;\n",
              "    }\n",
              "\n",
              "    .dataframe tbody tr th {\n",
              "        vertical-align: top;\n",
              "    }\n",
              "\n",
              "    .dataframe thead th {\n",
              "        text-align: right;\n",
              "    }\n",
              "</style>\n",
              "<table border=\"1\" class=\"dataframe\">\n",
              "  <thead>\n",
              "    <tr style=\"text-align: right;\">\n",
              "      <th></th>\n",
              "      <th>reviewText</th>\n",
              "      <th>overall</th>\n",
              "      <th>summary</th>\n",
              "    </tr>\n",
              "  </thead>\n",
              "  <tbody>\n",
              "    <tr>\n",
              "      <th>0</th>\n",
              "      <td>[not, much, to, write, about, here, but, it, d...</td>\n",
              "      <td>5.0</td>\n",
              "      <td>good</td>\n",
              "    </tr>\n",
              "    <tr>\n",
              "      <th>1</th>\n",
              "      <td>[the, product, does, exactly, as, it, should, ...</td>\n",
              "      <td>5.0</td>\n",
              "      <td>Jake</td>\n",
              "    </tr>\n",
              "    <tr>\n",
              "      <th>2</th>\n",
              "      <td>[the, primary, job, of, this, device, is, to, ...</td>\n",
              "      <td>5.0</td>\n",
              "      <td>It Does The Job Well</td>\n",
              "    </tr>\n",
              "    <tr>\n",
              "      <th>3</th>\n",
              "      <td>[nice, windscreen, protects, my, mxl, mic, and...</td>\n",
              "      <td>5.0</td>\n",
              "      <td>GOOD WINDSCREEN FOR THE MONEY</td>\n",
              "    </tr>\n",
              "    <tr>\n",
              "      <th>4</th>\n",
              "      <td>[this, pop, filter, is, great, it, looks, and,...</td>\n",
              "      <td>5.0</td>\n",
              "      <td>No more pops when I record my vocals.</td>\n",
              "    </tr>\n",
              "  </tbody>\n",
              "</table>\n",
              "</div>\n",
              "      <button class=\"colab-df-convert\" onclick=\"convertToInteractive('df-ac913667-098f-4516-bd34-4c42524cc1ea')\"\n",
              "              title=\"Convert this dataframe to an interactive table.\"\n",
              "              style=\"display:none;\">\n",
              "        \n",
              "  <svg xmlns=\"http://www.w3.org/2000/svg\" height=\"24px\"viewBox=\"0 0 24 24\"\n",
              "       width=\"24px\">\n",
              "    <path d=\"M0 0h24v24H0V0z\" fill=\"none\"/>\n",
              "    <path d=\"M18.56 5.44l.94 2.06.94-2.06 2.06-.94-2.06-.94-.94-2.06-.94 2.06-2.06.94zm-11 1L8.5 8.5l.94-2.06 2.06-.94-2.06-.94L8.5 2.5l-.94 2.06-2.06.94zm10 10l.94 2.06.94-2.06 2.06-.94-2.06-.94-.94-2.06-.94 2.06-2.06.94z\"/><path d=\"M17.41 7.96l-1.37-1.37c-.4-.4-.92-.59-1.43-.59-.52 0-1.04.2-1.43.59L10.3 9.45l-7.72 7.72c-.78.78-.78 2.05 0 2.83L4 21.41c.39.39.9.59 1.41.59.51 0 1.02-.2 1.41-.59l7.78-7.78 2.81-2.81c.8-.78.8-2.07 0-2.86zM5.41 20L4 18.59l7.72-7.72 1.47 1.35L5.41 20z\"/>\n",
              "  </svg>\n",
              "      </button>\n",
              "      \n",
              "  <style>\n",
              "    .colab-df-container {\n",
              "      display:flex;\n",
              "      flex-wrap:wrap;\n",
              "      gap: 12px;\n",
              "    }\n",
              "\n",
              "    .colab-df-convert {\n",
              "      background-color: #E8F0FE;\n",
              "      border: none;\n",
              "      border-radius: 50%;\n",
              "      cursor: pointer;\n",
              "      display: none;\n",
              "      fill: #1967D2;\n",
              "      height: 32px;\n",
              "      padding: 0 0 0 0;\n",
              "      width: 32px;\n",
              "    }\n",
              "\n",
              "    .colab-df-convert:hover {\n",
              "      background-color: #E2EBFA;\n",
              "      box-shadow: 0px 1px 2px rgba(60, 64, 67, 0.3), 0px 1px 3px 1px rgba(60, 64, 67, 0.15);\n",
              "      fill: #174EA6;\n",
              "    }\n",
              "\n",
              "    [theme=dark] .colab-df-convert {\n",
              "      background-color: #3B4455;\n",
              "      fill: #D2E3FC;\n",
              "    }\n",
              "\n",
              "    [theme=dark] .colab-df-convert:hover {\n",
              "      background-color: #434B5C;\n",
              "      box-shadow: 0px 1px 3px 1px rgba(0, 0, 0, 0.15);\n",
              "      filter: drop-shadow(0px 1px 2px rgba(0, 0, 0, 0.3));\n",
              "      fill: #FFFFFF;\n",
              "    }\n",
              "  </style>\n",
              "\n",
              "      <script>\n",
              "        const buttonEl =\n",
              "          document.querySelector('#df-ac913667-098f-4516-bd34-4c42524cc1ea button.colab-df-convert');\n",
              "        buttonEl.style.display =\n",
              "          google.colab.kernel.accessAllowed ? 'block' : 'none';\n",
              "\n",
              "        async function convertToInteractive(key) {\n",
              "          const element = document.querySelector('#df-ac913667-098f-4516-bd34-4c42524cc1ea');\n",
              "          const dataTable =\n",
              "            await google.colab.kernel.invokeFunction('convertToInteractive',\n",
              "                                                     [key], {});\n",
              "          if (!dataTable) return;\n",
              "\n",
              "          const docLinkHtml = 'Like what you see? Visit the ' +\n",
              "            '<a target=\"_blank\" href=https://colab.research.google.com/notebooks/data_table.ipynb>data table notebook</a>'\n",
              "            + ' to learn more about interactive tables.';\n",
              "          element.innerHTML = '';\n",
              "          dataTable['output_type'] = 'display_data';\n",
              "          await google.colab.output.renderOutput(dataTable, element);\n",
              "          const docLink = document.createElement('div');\n",
              "          docLink.innerHTML = docLinkHtml;\n",
              "          element.appendChild(docLink);\n",
              "        }\n",
              "      </script>\n",
              "    </div>\n",
              "  </div>\n",
              "  "
            ]
          },
          "metadata": {},
          "execution_count": 75
        }
      ]
    },
    {
      "cell_type": "code",
      "source": [
        "nltk.download('stopwords')\n",
        "\n",
        "stop_words = set(stopwords.words('english'))\n",
        "rws['reviewText'] = rws['reviewText'].apply(lambda x: [word for word in x if word not in stop_words])\n",
        "rws.head()\n",
        "\n",
        "# Tirando stopwords"
      ],
      "metadata": {
        "colab": {
          "base_uri": "https://localhost:8080/",
          "height": 243
        },
        "id": "E0jz1tp7LsUu",
        "outputId": "27f4ca68-c1aa-4fe2-af47-f67888ca6967"
      },
      "execution_count": null,
      "outputs": [
        {
          "output_type": "stream",
          "name": "stdout",
          "text": [
            "[nltk_data] Downloading package stopwords to /root/nltk_data...\n",
            "[nltk_data]   Package stopwords is already up-to-date!\n"
          ]
        },
        {
          "output_type": "execute_result",
          "data": {
            "text/plain": [
              "                                          reviewText  overall  \\\n",
              "0  [much, write, exactly, 's, supposed, filters, ...      5.0   \n",
              "1  [product, exactly, quite, affordable.i, realiz...      5.0   \n",
              "2  [primary, job, device, block, breath, would, o...      5.0   \n",
              "3  [nice, windscreen, protects, mxl, mic, prevent...      5.0   \n",
              "4  [pop, filter, great, looks, performs, like, st...      5.0   \n",
              "\n",
              "                                 summary  \n",
              "0                                   good  \n",
              "1                                   Jake  \n",
              "2                   It Does The Job Well  \n",
              "3          GOOD WINDSCREEN FOR THE MONEY  \n",
              "4  No more pops when I record my vocals.  "
            ],
            "text/html": [
              "\n",
              "  <div id=\"df-d2fb735b-0b1d-449d-b43c-b40ff8c2edb0\">\n",
              "    <div class=\"colab-df-container\">\n",
              "      <div>\n",
              "<style scoped>\n",
              "    .dataframe tbody tr th:only-of-type {\n",
              "        vertical-align: middle;\n",
              "    }\n",
              "\n",
              "    .dataframe tbody tr th {\n",
              "        vertical-align: top;\n",
              "    }\n",
              "\n",
              "    .dataframe thead th {\n",
              "        text-align: right;\n",
              "    }\n",
              "</style>\n",
              "<table border=\"1\" class=\"dataframe\">\n",
              "  <thead>\n",
              "    <tr style=\"text-align: right;\">\n",
              "      <th></th>\n",
              "      <th>reviewText</th>\n",
              "      <th>overall</th>\n",
              "      <th>summary</th>\n",
              "    </tr>\n",
              "  </thead>\n",
              "  <tbody>\n",
              "    <tr>\n",
              "      <th>0</th>\n",
              "      <td>[much, write, exactly, 's, supposed, filters, ...</td>\n",
              "      <td>5.0</td>\n",
              "      <td>good</td>\n",
              "    </tr>\n",
              "    <tr>\n",
              "      <th>1</th>\n",
              "      <td>[product, exactly, quite, affordable.i, realiz...</td>\n",
              "      <td>5.0</td>\n",
              "      <td>Jake</td>\n",
              "    </tr>\n",
              "    <tr>\n",
              "      <th>2</th>\n",
              "      <td>[primary, job, device, block, breath, would, o...</td>\n",
              "      <td>5.0</td>\n",
              "      <td>It Does The Job Well</td>\n",
              "    </tr>\n",
              "    <tr>\n",
              "      <th>3</th>\n",
              "      <td>[nice, windscreen, protects, mxl, mic, prevent...</td>\n",
              "      <td>5.0</td>\n",
              "      <td>GOOD WINDSCREEN FOR THE MONEY</td>\n",
              "    </tr>\n",
              "    <tr>\n",
              "      <th>4</th>\n",
              "      <td>[pop, filter, great, looks, performs, like, st...</td>\n",
              "      <td>5.0</td>\n",
              "      <td>No more pops when I record my vocals.</td>\n",
              "    </tr>\n",
              "  </tbody>\n",
              "</table>\n",
              "</div>\n",
              "      <button class=\"colab-df-convert\" onclick=\"convertToInteractive('df-d2fb735b-0b1d-449d-b43c-b40ff8c2edb0')\"\n",
              "              title=\"Convert this dataframe to an interactive table.\"\n",
              "              style=\"display:none;\">\n",
              "        \n",
              "  <svg xmlns=\"http://www.w3.org/2000/svg\" height=\"24px\"viewBox=\"0 0 24 24\"\n",
              "       width=\"24px\">\n",
              "    <path d=\"M0 0h24v24H0V0z\" fill=\"none\"/>\n",
              "    <path d=\"M18.56 5.44l.94 2.06.94-2.06 2.06-.94-2.06-.94-.94-2.06-.94 2.06-2.06.94zm-11 1L8.5 8.5l.94-2.06 2.06-.94-2.06-.94L8.5 2.5l-.94 2.06-2.06.94zm10 10l.94 2.06.94-2.06 2.06-.94-2.06-.94-.94-2.06-.94 2.06-2.06.94z\"/><path d=\"M17.41 7.96l-1.37-1.37c-.4-.4-.92-.59-1.43-.59-.52 0-1.04.2-1.43.59L10.3 9.45l-7.72 7.72c-.78.78-.78 2.05 0 2.83L4 21.41c.39.39.9.59 1.41.59.51 0 1.02-.2 1.41-.59l7.78-7.78 2.81-2.81c.8-.78.8-2.07 0-2.86zM5.41 20L4 18.59l7.72-7.72 1.47 1.35L5.41 20z\"/>\n",
              "  </svg>\n",
              "      </button>\n",
              "      \n",
              "  <style>\n",
              "    .colab-df-container {\n",
              "      display:flex;\n",
              "      flex-wrap:wrap;\n",
              "      gap: 12px;\n",
              "    }\n",
              "\n",
              "    .colab-df-convert {\n",
              "      background-color: #E8F0FE;\n",
              "      border: none;\n",
              "      border-radius: 50%;\n",
              "      cursor: pointer;\n",
              "      display: none;\n",
              "      fill: #1967D2;\n",
              "      height: 32px;\n",
              "      padding: 0 0 0 0;\n",
              "      width: 32px;\n",
              "    }\n",
              "\n",
              "    .colab-df-convert:hover {\n",
              "      background-color: #E2EBFA;\n",
              "      box-shadow: 0px 1px 2px rgba(60, 64, 67, 0.3), 0px 1px 3px 1px rgba(60, 64, 67, 0.15);\n",
              "      fill: #174EA6;\n",
              "    }\n",
              "\n",
              "    [theme=dark] .colab-df-convert {\n",
              "      background-color: #3B4455;\n",
              "      fill: #D2E3FC;\n",
              "    }\n",
              "\n",
              "    [theme=dark] .colab-df-convert:hover {\n",
              "      background-color: #434B5C;\n",
              "      box-shadow: 0px 1px 3px 1px rgba(0, 0, 0, 0.15);\n",
              "      filter: drop-shadow(0px 1px 2px rgba(0, 0, 0, 0.3));\n",
              "      fill: #FFFFFF;\n",
              "    }\n",
              "  </style>\n",
              "\n",
              "      <script>\n",
              "        const buttonEl =\n",
              "          document.querySelector('#df-d2fb735b-0b1d-449d-b43c-b40ff8c2edb0 button.colab-df-convert');\n",
              "        buttonEl.style.display =\n",
              "          google.colab.kernel.accessAllowed ? 'block' : 'none';\n",
              "\n",
              "        async function convertToInteractive(key) {\n",
              "          const element = document.querySelector('#df-d2fb735b-0b1d-449d-b43c-b40ff8c2edb0');\n",
              "          const dataTable =\n",
              "            await google.colab.kernel.invokeFunction('convertToInteractive',\n",
              "                                                     [key], {});\n",
              "          if (!dataTable) return;\n",
              "\n",
              "          const docLinkHtml = 'Like what you see? Visit the ' +\n",
              "            '<a target=\"_blank\" href=https://colab.research.google.com/notebooks/data_table.ipynb>data table notebook</a>'\n",
              "            + ' to learn more about interactive tables.';\n",
              "          element.innerHTML = '';\n",
              "          dataTable['output_type'] = 'display_data';\n",
              "          await google.colab.output.renderOutput(dataTable, element);\n",
              "          const docLink = document.createElement('div');\n",
              "          docLink.innerHTML = docLinkHtml;\n",
              "          element.appendChild(docLink);\n",
              "        }\n",
              "      </script>\n",
              "    </div>\n",
              "  </div>\n",
              "  "
            ]
          },
          "metadata": {},
          "execution_count": 76
        }
      ]
    },
    {
      "cell_type": "code",
      "source": [
        "nltk.download('averaged_perceptron_tagger')\n",
        "\n",
        "rws['reviewText'] = rws['reviewText'].apply(nltk.tag.pos_tag)\n",
        "rws.head()\n",
        "\n",
        "# Para fazer o lemmatization, é necessário classificar as palavras de acordo com sua classe gramatical"
      ],
      "metadata": {
        "colab": {
          "base_uri": "https://localhost:8080/",
          "height": 280
        },
        "id": "MBjs2xu2Od8G",
        "outputId": "65af7063-3fb9-4d65-908c-66970747eda7"
      },
      "execution_count": null,
      "outputs": [
        {
          "output_type": "stream",
          "name": "stdout",
          "text": [
            "[nltk_data] Downloading package averaged_perceptron_tagger to\n",
            "[nltk_data]     /root/nltk_data...\n",
            "[nltk_data]   Package averaged_perceptron_tagger is already up-to-\n",
            "[nltk_data]       date!\n"
          ]
        },
        {
          "output_type": "execute_result",
          "data": {
            "text/plain": [
              "                                          reviewText  overall  \\\n",
              "0  [(much, JJ), (write, WP), (exactly, RB), ('s, ...      5.0   \n",
              "1  [(product, NN), (exactly, RB), (quite, RB), (a...      5.0   \n",
              "2  [(primary, JJ), (job, NN), (device, NN), (bloc...      5.0   \n",
              "3  [(nice, JJ), (windscreen, JJ), (protects, NNS)...      5.0   \n",
              "4  [(pop, NN), (filter, NN), (great, JJ), (looks,...      5.0   \n",
              "\n",
              "                                 summary  \n",
              "0                                   good  \n",
              "1                                   Jake  \n",
              "2                   It Does The Job Well  \n",
              "3          GOOD WINDSCREEN FOR THE MONEY  \n",
              "4  No more pops when I record my vocals.  "
            ],
            "text/html": [
              "\n",
              "  <div id=\"df-6af54945-4add-4674-8a52-3806762d142d\">\n",
              "    <div class=\"colab-df-container\">\n",
              "      <div>\n",
              "<style scoped>\n",
              "    .dataframe tbody tr th:only-of-type {\n",
              "        vertical-align: middle;\n",
              "    }\n",
              "\n",
              "    .dataframe tbody tr th {\n",
              "        vertical-align: top;\n",
              "    }\n",
              "\n",
              "    .dataframe thead th {\n",
              "        text-align: right;\n",
              "    }\n",
              "</style>\n",
              "<table border=\"1\" class=\"dataframe\">\n",
              "  <thead>\n",
              "    <tr style=\"text-align: right;\">\n",
              "      <th></th>\n",
              "      <th>reviewText</th>\n",
              "      <th>overall</th>\n",
              "      <th>summary</th>\n",
              "    </tr>\n",
              "  </thead>\n",
              "  <tbody>\n",
              "    <tr>\n",
              "      <th>0</th>\n",
              "      <td>[(much, JJ), (write, WP), (exactly, RB), ('s, ...</td>\n",
              "      <td>5.0</td>\n",
              "      <td>good</td>\n",
              "    </tr>\n",
              "    <tr>\n",
              "      <th>1</th>\n",
              "      <td>[(product, NN), (exactly, RB), (quite, RB), (a...</td>\n",
              "      <td>5.0</td>\n",
              "      <td>Jake</td>\n",
              "    </tr>\n",
              "    <tr>\n",
              "      <th>2</th>\n",
              "      <td>[(primary, JJ), (job, NN), (device, NN), (bloc...</td>\n",
              "      <td>5.0</td>\n",
              "      <td>It Does The Job Well</td>\n",
              "    </tr>\n",
              "    <tr>\n",
              "      <th>3</th>\n",
              "      <td>[(nice, JJ), (windscreen, JJ), (protects, NNS)...</td>\n",
              "      <td>5.0</td>\n",
              "      <td>GOOD WINDSCREEN FOR THE MONEY</td>\n",
              "    </tr>\n",
              "    <tr>\n",
              "      <th>4</th>\n",
              "      <td>[(pop, NN), (filter, NN), (great, JJ), (looks,...</td>\n",
              "      <td>5.0</td>\n",
              "      <td>No more pops when I record my vocals.</td>\n",
              "    </tr>\n",
              "  </tbody>\n",
              "</table>\n",
              "</div>\n",
              "      <button class=\"colab-df-convert\" onclick=\"convertToInteractive('df-6af54945-4add-4674-8a52-3806762d142d')\"\n",
              "              title=\"Convert this dataframe to an interactive table.\"\n",
              "              style=\"display:none;\">\n",
              "        \n",
              "  <svg xmlns=\"http://www.w3.org/2000/svg\" height=\"24px\"viewBox=\"0 0 24 24\"\n",
              "       width=\"24px\">\n",
              "    <path d=\"M0 0h24v24H0V0z\" fill=\"none\"/>\n",
              "    <path d=\"M18.56 5.44l.94 2.06.94-2.06 2.06-.94-2.06-.94-.94-2.06-.94 2.06-2.06.94zm-11 1L8.5 8.5l.94-2.06 2.06-.94-2.06-.94L8.5 2.5l-.94 2.06-2.06.94zm10 10l.94 2.06.94-2.06 2.06-.94-2.06-.94-.94-2.06-.94 2.06-2.06.94z\"/><path d=\"M17.41 7.96l-1.37-1.37c-.4-.4-.92-.59-1.43-.59-.52 0-1.04.2-1.43.59L10.3 9.45l-7.72 7.72c-.78.78-.78 2.05 0 2.83L4 21.41c.39.39.9.59 1.41.59.51 0 1.02-.2 1.41-.59l7.78-7.78 2.81-2.81c.8-.78.8-2.07 0-2.86zM5.41 20L4 18.59l7.72-7.72 1.47 1.35L5.41 20z\"/>\n",
              "  </svg>\n",
              "      </button>\n",
              "      \n",
              "  <style>\n",
              "    .colab-df-container {\n",
              "      display:flex;\n",
              "      flex-wrap:wrap;\n",
              "      gap: 12px;\n",
              "    }\n",
              "\n",
              "    .colab-df-convert {\n",
              "      background-color: #E8F0FE;\n",
              "      border: none;\n",
              "      border-radius: 50%;\n",
              "      cursor: pointer;\n",
              "      display: none;\n",
              "      fill: #1967D2;\n",
              "      height: 32px;\n",
              "      padding: 0 0 0 0;\n",
              "      width: 32px;\n",
              "    }\n",
              "\n",
              "    .colab-df-convert:hover {\n",
              "      background-color: #E2EBFA;\n",
              "      box-shadow: 0px 1px 2px rgba(60, 64, 67, 0.3), 0px 1px 3px 1px rgba(60, 64, 67, 0.15);\n",
              "      fill: #174EA6;\n",
              "    }\n",
              "\n",
              "    [theme=dark] .colab-df-convert {\n",
              "      background-color: #3B4455;\n",
              "      fill: #D2E3FC;\n",
              "    }\n",
              "\n",
              "    [theme=dark] .colab-df-convert:hover {\n",
              "      background-color: #434B5C;\n",
              "      box-shadow: 0px 1px 3px 1px rgba(0, 0, 0, 0.15);\n",
              "      filter: drop-shadow(0px 1px 2px rgba(0, 0, 0, 0.3));\n",
              "      fill: #FFFFFF;\n",
              "    }\n",
              "  </style>\n",
              "\n",
              "      <script>\n",
              "        const buttonEl =\n",
              "          document.querySelector('#df-6af54945-4add-4674-8a52-3806762d142d button.colab-df-convert');\n",
              "        buttonEl.style.display =\n",
              "          google.colab.kernel.accessAllowed ? 'block' : 'none';\n",
              "\n",
              "        async function convertToInteractive(key) {\n",
              "          const element = document.querySelector('#df-6af54945-4add-4674-8a52-3806762d142d');\n",
              "          const dataTable =\n",
              "            await google.colab.kernel.invokeFunction('convertToInteractive',\n",
              "                                                     [key], {});\n",
              "          if (!dataTable) return;\n",
              "\n",
              "          const docLinkHtml = 'Like what you see? Visit the ' +\n",
              "            '<a target=\"_blank\" href=https://colab.research.google.com/notebooks/data_table.ipynb>data table notebook</a>'\n",
              "            + ' to learn more about interactive tables.';\n",
              "          element.innerHTML = '';\n",
              "          dataTable['output_type'] = 'display_data';\n",
              "          await google.colab.output.renderOutput(dataTable, element);\n",
              "          const docLink = document.createElement('div');\n",
              "          docLink.innerHTML = docLinkHtml;\n",
              "          element.appendChild(docLink);\n",
              "        }\n",
              "      </script>\n",
              "    </div>\n",
              "  </div>\n",
              "  "
            ]
          },
          "metadata": {},
          "execution_count": 77
        }
      ]
    },
    {
      "cell_type": "code",
      "source": [
        "nltk.download('wordnet')\n",
        "\n",
        "def get_wordnet_pos(tag):\n",
        "    if tag.startswith('J'):\n",
        "        return wordnet.ADJ\n",
        "    elif tag.startswith('V'):\n",
        "        return wordnet.VERB\n",
        "    elif tag.startswith('N'):\n",
        "        return wordnet.NOUN\n",
        "    elif tag.startswith('R'):\n",
        "        return wordnet.ADV\n",
        "    else:\n",
        "        return wordnet.NOUN\n",
        "rws['reviewText'] = rws['reviewText'].apply(lambda x: [(word, get_wordnet_pos(pos_tag)) for (word, pos_tag) in x])\n",
        "rws.head()\n",
        "\n",
        "# Este trecho torna legível ao algoritmo a classificação das palavras feita na etapa anterior"
      ],
      "metadata": {
        "colab": {
          "base_uri": "https://localhost:8080/",
          "height": 243
        },
        "id": "OGeGl9HCPI71",
        "outputId": "35afd85a-fef9-466d-9a2e-1a22b45bc57c"
      },
      "execution_count": null,
      "outputs": [
        {
          "output_type": "stream",
          "name": "stdout",
          "text": [
            "[nltk_data] Downloading package wordnet to /root/nltk_data...\n",
            "[nltk_data]   Package wordnet is already up-to-date!\n"
          ]
        },
        {
          "output_type": "execute_result",
          "data": {
            "text/plain": [
              "                                          reviewText  overall  \\\n",
              "0  [(much, a), (write, n), (exactly, r), ('s, n),...      5.0   \n",
              "1  [(product, n), (exactly, r), (quite, r), (affo...      5.0   \n",
              "2  [(primary, a), (job, n), (device, n), (block, ...      5.0   \n",
              "3  [(nice, a), (windscreen, a), (protects, n), (m...      5.0   \n",
              "4  [(pop, n), (filter, n), (great, a), (looks, v)...      5.0   \n",
              "\n",
              "                                 summary  \n",
              "0                                   good  \n",
              "1                                   Jake  \n",
              "2                   It Does The Job Well  \n",
              "3          GOOD WINDSCREEN FOR THE MONEY  \n",
              "4  No more pops when I record my vocals.  "
            ],
            "text/html": [
              "\n",
              "  <div id=\"df-d141d52b-686d-41aa-8108-b7b1d7f76106\">\n",
              "    <div class=\"colab-df-container\">\n",
              "      <div>\n",
              "<style scoped>\n",
              "    .dataframe tbody tr th:only-of-type {\n",
              "        vertical-align: middle;\n",
              "    }\n",
              "\n",
              "    .dataframe tbody tr th {\n",
              "        vertical-align: top;\n",
              "    }\n",
              "\n",
              "    .dataframe thead th {\n",
              "        text-align: right;\n",
              "    }\n",
              "</style>\n",
              "<table border=\"1\" class=\"dataframe\">\n",
              "  <thead>\n",
              "    <tr style=\"text-align: right;\">\n",
              "      <th></th>\n",
              "      <th>reviewText</th>\n",
              "      <th>overall</th>\n",
              "      <th>summary</th>\n",
              "    </tr>\n",
              "  </thead>\n",
              "  <tbody>\n",
              "    <tr>\n",
              "      <th>0</th>\n",
              "      <td>[(much, a), (write, n), (exactly, r), ('s, n),...</td>\n",
              "      <td>5.0</td>\n",
              "      <td>good</td>\n",
              "    </tr>\n",
              "    <tr>\n",
              "      <th>1</th>\n",
              "      <td>[(product, n), (exactly, r), (quite, r), (affo...</td>\n",
              "      <td>5.0</td>\n",
              "      <td>Jake</td>\n",
              "    </tr>\n",
              "    <tr>\n",
              "      <th>2</th>\n",
              "      <td>[(primary, a), (job, n), (device, n), (block, ...</td>\n",
              "      <td>5.0</td>\n",
              "      <td>It Does The Job Well</td>\n",
              "    </tr>\n",
              "    <tr>\n",
              "      <th>3</th>\n",
              "      <td>[(nice, a), (windscreen, a), (protects, n), (m...</td>\n",
              "      <td>5.0</td>\n",
              "      <td>GOOD WINDSCREEN FOR THE MONEY</td>\n",
              "    </tr>\n",
              "    <tr>\n",
              "      <th>4</th>\n",
              "      <td>[(pop, n), (filter, n), (great, a), (looks, v)...</td>\n",
              "      <td>5.0</td>\n",
              "      <td>No more pops when I record my vocals.</td>\n",
              "    </tr>\n",
              "  </tbody>\n",
              "</table>\n",
              "</div>\n",
              "      <button class=\"colab-df-convert\" onclick=\"convertToInteractive('df-d141d52b-686d-41aa-8108-b7b1d7f76106')\"\n",
              "              title=\"Convert this dataframe to an interactive table.\"\n",
              "              style=\"display:none;\">\n",
              "        \n",
              "  <svg xmlns=\"http://www.w3.org/2000/svg\" height=\"24px\"viewBox=\"0 0 24 24\"\n",
              "       width=\"24px\">\n",
              "    <path d=\"M0 0h24v24H0V0z\" fill=\"none\"/>\n",
              "    <path d=\"M18.56 5.44l.94 2.06.94-2.06 2.06-.94-2.06-.94-.94-2.06-.94 2.06-2.06.94zm-11 1L8.5 8.5l.94-2.06 2.06-.94-2.06-.94L8.5 2.5l-.94 2.06-2.06.94zm10 10l.94 2.06.94-2.06 2.06-.94-2.06-.94-.94-2.06-.94 2.06-2.06.94z\"/><path d=\"M17.41 7.96l-1.37-1.37c-.4-.4-.92-.59-1.43-.59-.52 0-1.04.2-1.43.59L10.3 9.45l-7.72 7.72c-.78.78-.78 2.05 0 2.83L4 21.41c.39.39.9.59 1.41.59.51 0 1.02-.2 1.41-.59l7.78-7.78 2.81-2.81c.8-.78.8-2.07 0-2.86zM5.41 20L4 18.59l7.72-7.72 1.47 1.35L5.41 20z\"/>\n",
              "  </svg>\n",
              "      </button>\n",
              "      \n",
              "  <style>\n",
              "    .colab-df-container {\n",
              "      display:flex;\n",
              "      flex-wrap:wrap;\n",
              "      gap: 12px;\n",
              "    }\n",
              "\n",
              "    .colab-df-convert {\n",
              "      background-color: #E8F0FE;\n",
              "      border: none;\n",
              "      border-radius: 50%;\n",
              "      cursor: pointer;\n",
              "      display: none;\n",
              "      fill: #1967D2;\n",
              "      height: 32px;\n",
              "      padding: 0 0 0 0;\n",
              "      width: 32px;\n",
              "    }\n",
              "\n",
              "    .colab-df-convert:hover {\n",
              "      background-color: #E2EBFA;\n",
              "      box-shadow: 0px 1px 2px rgba(60, 64, 67, 0.3), 0px 1px 3px 1px rgba(60, 64, 67, 0.15);\n",
              "      fill: #174EA6;\n",
              "    }\n",
              "\n",
              "    [theme=dark] .colab-df-convert {\n",
              "      background-color: #3B4455;\n",
              "      fill: #D2E3FC;\n",
              "    }\n",
              "\n",
              "    [theme=dark] .colab-df-convert:hover {\n",
              "      background-color: #434B5C;\n",
              "      box-shadow: 0px 1px 3px 1px rgba(0, 0, 0, 0.15);\n",
              "      filter: drop-shadow(0px 1px 2px rgba(0, 0, 0, 0.3));\n",
              "      fill: #FFFFFF;\n",
              "    }\n",
              "  </style>\n",
              "\n",
              "      <script>\n",
              "        const buttonEl =\n",
              "          document.querySelector('#df-d141d52b-686d-41aa-8108-b7b1d7f76106 button.colab-df-convert');\n",
              "        buttonEl.style.display =\n",
              "          google.colab.kernel.accessAllowed ? 'block' : 'none';\n",
              "\n",
              "        async function convertToInteractive(key) {\n",
              "          const element = document.querySelector('#df-d141d52b-686d-41aa-8108-b7b1d7f76106');\n",
              "          const dataTable =\n",
              "            await google.colab.kernel.invokeFunction('convertToInteractive',\n",
              "                                                     [key], {});\n",
              "          if (!dataTable) return;\n",
              "\n",
              "          const docLinkHtml = 'Like what you see? Visit the ' +\n",
              "            '<a target=\"_blank\" href=https://colab.research.google.com/notebooks/data_table.ipynb>data table notebook</a>'\n",
              "            + ' to learn more about interactive tables.';\n",
              "          element.innerHTML = '';\n",
              "          dataTable['output_type'] = 'display_data';\n",
              "          await google.colab.output.renderOutput(dataTable, element);\n",
              "          const docLink = document.createElement('div');\n",
              "          docLink.innerHTML = docLinkHtml;\n",
              "          element.appendChild(docLink);\n",
              "        }\n",
              "      </script>\n",
              "    </div>\n",
              "  </div>\n",
              "  "
            ]
          },
          "metadata": {},
          "execution_count": 78
        }
      ]
    },
    {
      "cell_type": "code",
      "source": [
        "wnl = WordNetLemmatizer()\n",
        "rws['reviewText'] = rws['reviewText'].apply(lambda x: [wnl.lemmatize(word, tag) for word, tag in x])\n",
        "rws.head()\n",
        "\n",
        "# Lemmatization"
      ],
      "metadata": {
        "colab": {
          "base_uri": "https://localhost:8080/",
          "height": 206
        },
        "id": "SC91rRMgPYTe",
        "outputId": "a66b9e92-53ec-4d05-ef46-4c6f333a34ff"
      },
      "execution_count": null,
      "outputs": [
        {
          "output_type": "execute_result",
          "data": {
            "text/plain": [
              "                                          reviewText  overall  \\\n",
              "0  [much, write, exactly, 's, suppose, filter, po...      5.0   \n",
              "1  [product, exactly, quite, affordable.i, realiz...      5.0   \n",
              "2  [primary, job, device, block, breath, would, o...      5.0   \n",
              "3  [nice, windscreen, protects, mxl, mic, prevent...      5.0   \n",
              "4  [pop, filter, great, look, performs, like, stu...      5.0   \n",
              "\n",
              "                                 summary  \n",
              "0                                   good  \n",
              "1                                   Jake  \n",
              "2                   It Does The Job Well  \n",
              "3          GOOD WINDSCREEN FOR THE MONEY  \n",
              "4  No more pops when I record my vocals.  "
            ],
            "text/html": [
              "\n",
              "  <div id=\"df-44170b7a-8928-4375-bc63-208706d935fd\">\n",
              "    <div class=\"colab-df-container\">\n",
              "      <div>\n",
              "<style scoped>\n",
              "    .dataframe tbody tr th:only-of-type {\n",
              "        vertical-align: middle;\n",
              "    }\n",
              "\n",
              "    .dataframe tbody tr th {\n",
              "        vertical-align: top;\n",
              "    }\n",
              "\n",
              "    .dataframe thead th {\n",
              "        text-align: right;\n",
              "    }\n",
              "</style>\n",
              "<table border=\"1\" class=\"dataframe\">\n",
              "  <thead>\n",
              "    <tr style=\"text-align: right;\">\n",
              "      <th></th>\n",
              "      <th>reviewText</th>\n",
              "      <th>overall</th>\n",
              "      <th>summary</th>\n",
              "    </tr>\n",
              "  </thead>\n",
              "  <tbody>\n",
              "    <tr>\n",
              "      <th>0</th>\n",
              "      <td>[much, write, exactly, 's, suppose, filter, po...</td>\n",
              "      <td>5.0</td>\n",
              "      <td>good</td>\n",
              "    </tr>\n",
              "    <tr>\n",
              "      <th>1</th>\n",
              "      <td>[product, exactly, quite, affordable.i, realiz...</td>\n",
              "      <td>5.0</td>\n",
              "      <td>Jake</td>\n",
              "    </tr>\n",
              "    <tr>\n",
              "      <th>2</th>\n",
              "      <td>[primary, job, device, block, breath, would, o...</td>\n",
              "      <td>5.0</td>\n",
              "      <td>It Does The Job Well</td>\n",
              "    </tr>\n",
              "    <tr>\n",
              "      <th>3</th>\n",
              "      <td>[nice, windscreen, protects, mxl, mic, prevent...</td>\n",
              "      <td>5.0</td>\n",
              "      <td>GOOD WINDSCREEN FOR THE MONEY</td>\n",
              "    </tr>\n",
              "    <tr>\n",
              "      <th>4</th>\n",
              "      <td>[pop, filter, great, look, performs, like, stu...</td>\n",
              "      <td>5.0</td>\n",
              "      <td>No more pops when I record my vocals.</td>\n",
              "    </tr>\n",
              "  </tbody>\n",
              "</table>\n",
              "</div>\n",
              "      <button class=\"colab-df-convert\" onclick=\"convertToInteractive('df-44170b7a-8928-4375-bc63-208706d935fd')\"\n",
              "              title=\"Convert this dataframe to an interactive table.\"\n",
              "              style=\"display:none;\">\n",
              "        \n",
              "  <svg xmlns=\"http://www.w3.org/2000/svg\" height=\"24px\"viewBox=\"0 0 24 24\"\n",
              "       width=\"24px\">\n",
              "    <path d=\"M0 0h24v24H0V0z\" fill=\"none\"/>\n",
              "    <path d=\"M18.56 5.44l.94 2.06.94-2.06 2.06-.94-2.06-.94-.94-2.06-.94 2.06-2.06.94zm-11 1L8.5 8.5l.94-2.06 2.06-.94-2.06-.94L8.5 2.5l-.94 2.06-2.06.94zm10 10l.94 2.06.94-2.06 2.06-.94-2.06-.94-.94-2.06-.94 2.06-2.06.94z\"/><path d=\"M17.41 7.96l-1.37-1.37c-.4-.4-.92-.59-1.43-.59-.52 0-1.04.2-1.43.59L10.3 9.45l-7.72 7.72c-.78.78-.78 2.05 0 2.83L4 21.41c.39.39.9.59 1.41.59.51 0 1.02-.2 1.41-.59l7.78-7.78 2.81-2.81c.8-.78.8-2.07 0-2.86zM5.41 20L4 18.59l7.72-7.72 1.47 1.35L5.41 20z\"/>\n",
              "  </svg>\n",
              "      </button>\n",
              "      \n",
              "  <style>\n",
              "    .colab-df-container {\n",
              "      display:flex;\n",
              "      flex-wrap:wrap;\n",
              "      gap: 12px;\n",
              "    }\n",
              "\n",
              "    .colab-df-convert {\n",
              "      background-color: #E8F0FE;\n",
              "      border: none;\n",
              "      border-radius: 50%;\n",
              "      cursor: pointer;\n",
              "      display: none;\n",
              "      fill: #1967D2;\n",
              "      height: 32px;\n",
              "      padding: 0 0 0 0;\n",
              "      width: 32px;\n",
              "    }\n",
              "\n",
              "    .colab-df-convert:hover {\n",
              "      background-color: #E2EBFA;\n",
              "      box-shadow: 0px 1px 2px rgba(60, 64, 67, 0.3), 0px 1px 3px 1px rgba(60, 64, 67, 0.15);\n",
              "      fill: #174EA6;\n",
              "    }\n",
              "\n",
              "    [theme=dark] .colab-df-convert {\n",
              "      background-color: #3B4455;\n",
              "      fill: #D2E3FC;\n",
              "    }\n",
              "\n",
              "    [theme=dark] .colab-df-convert:hover {\n",
              "      background-color: #434B5C;\n",
              "      box-shadow: 0px 1px 3px 1px rgba(0, 0, 0, 0.15);\n",
              "      filter: drop-shadow(0px 1px 2px rgba(0, 0, 0, 0.3));\n",
              "      fill: #FFFFFF;\n",
              "    }\n",
              "  </style>\n",
              "\n",
              "      <script>\n",
              "        const buttonEl =\n",
              "          document.querySelector('#df-44170b7a-8928-4375-bc63-208706d935fd button.colab-df-convert');\n",
              "        buttonEl.style.display =\n",
              "          google.colab.kernel.accessAllowed ? 'block' : 'none';\n",
              "\n",
              "        async function convertToInteractive(key) {\n",
              "          const element = document.querySelector('#df-44170b7a-8928-4375-bc63-208706d935fd');\n",
              "          const dataTable =\n",
              "            await google.colab.kernel.invokeFunction('convertToInteractive',\n",
              "                                                     [key], {});\n",
              "          if (!dataTable) return;\n",
              "\n",
              "          const docLinkHtml = 'Like what you see? Visit the ' +\n",
              "            '<a target=\"_blank\" href=https://colab.research.google.com/notebooks/data_table.ipynb>data table notebook</a>'\n",
              "            + ' to learn more about interactive tables.';\n",
              "          element.innerHTML = '';\n",
              "          dataTable['output_type'] = 'display_data';\n",
              "          await google.colab.output.renderOutput(dataTable, element);\n",
              "          const docLink = document.createElement('div');\n",
              "          docLink.innerHTML = docLinkHtml;\n",
              "          element.appendChild(docLink);\n",
              "        }\n",
              "      </script>\n",
              "    </div>\n",
              "  </div>\n",
              "  "
            ]
          },
          "metadata": {},
          "execution_count": 79
        }
      ]
    },
    {
      "cell_type": "markdown",
      "source": [
        "## A função"
      ],
      "metadata": {
        "id": "bF6pL-KuNW-F"
      }
    },
    {
      "cell_type": "markdown",
      "source": [
        "Juntando todos os passos acima numa função, obtemos:"
      ],
      "metadata": {
        "id": "NWhREMp365ux"
      }
    },
    {
      "cell_type": "code",
      "source": [
        "nltk.download('wordnet')\n",
        "nltk.download('punkt')\n",
        "\n",
        "def get_wordnet_pos(tag):\n",
        "    if tag.startswith('J'):\n",
        "        return wordnet.ADJ\n",
        "    elif tag.startswith('V'):\n",
        "        return wordnet.VERB\n",
        "    elif tag.startswith('N'):\n",
        "        return wordnet.NOUN\n",
        "    elif tag.startswith('R'):\n",
        "        return wordnet.ADV\n",
        "    else:\n",
        "        return wordnet.NOUN\n",
        "\n",
        "\n",
        "def preprocessnltk(rws):\n",
        "  rws['reviewText'] = rws['reviewText'].apply(word_tokenize)\n",
        "\n",
        "  rws['reviewText'] = rws['reviewText'].apply(lambda x: [word.lower() for word in x])\n",
        " \n",
        "  punc = string.punctuation\n",
        "  rws['reviewText'] = rws['reviewText'].apply(lambda x: [word for word in x if word not in punc])\n",
        "\n",
        "  nltk.download('stopwords')\n",
        "  stop_words = set(stopwords.words('english'))\n",
        "  rws['reviewText'] = rws['reviewText'].apply(lambda x: [word for word in x if word not in stop_words])\n",
        "\n",
        "  nltk.download('averaged_perceptron_tagger')\n",
        "  rws['reviewText'] = rws['reviewText'].apply(nltk.tag.pos_tag)\n",
        "\n",
        "  rws['reviewText'] = rws['reviewText'].apply(lambda x: [(word, get_wordnet_pos(pos_tag)) for (word, pos_tag) in x])\n",
        "\n",
        "  wnl = WordNetLemmatizer()\n",
        "  rws['reviewText'] = rws['reviewText'].apply(lambda x: [wnl.lemmatize(word, tag) for word, tag in x])\n",
        "\n",
        "  return rws\n",
        "\n",
        "rws = preprocessnltk(rws)"
      ],
      "metadata": {
        "colab": {
          "base_uri": "https://localhost:8080/"
        },
        "id": "7RnuPSsX5Uax",
        "outputId": "00a2ea83-bd88-4fe4-ac7c-01d5b1db963c"
      },
      "execution_count": 211,
      "outputs": [
        {
          "output_type": "stream",
          "name": "stdout",
          "text": [
            "[nltk_data] Downloading package wordnet to /root/nltk_data...\n",
            "[nltk_data]   Package wordnet is already up-to-date!\n",
            "[nltk_data] Downloading package punkt to /root/nltk_data...\n",
            "[nltk_data]   Package punkt is already up-to-date!\n",
            "[nltk_data] Downloading package stopwords to /root/nltk_data...\n",
            "[nltk_data]   Package stopwords is already up-to-date!\n",
            "[nltk_data] Downloading package averaged_perceptron_tagger to\n",
            "[nltk_data]     /root/nltk_data...\n",
            "[nltk_data]   Package averaged_perceptron_tagger is already up-to-\n",
            "[nltk_data]       date!\n"
          ]
        }
      ]
    },
    {
      "cell_type": "code",
      "source": [
        "rws['reviewText'] = [' '.join(map(str,l)) for l in rws['reviewText']]\n",
        "rws.head()\n",
        "\n",
        "# Os textos da função são retornados dentro de uma lista. Isto é um problema para o algoritmo\n",
        "# Sendo assim, esta etapa elimina a lista"
      ],
      "metadata": {
        "colab": {
          "base_uri": "https://localhost:8080/",
          "height": 206
        },
        "id": "TMdBpR_dDGvX",
        "outputId": "2bc873ba-32cf-4570-beba-47c3c721696e"
      },
      "execution_count": 212,
      "outputs": [
        {
          "output_type": "execute_result",
          "data": {
            "text/plain": [
              "                                          reviewText  overall  total\n",
              "0  much write exactly 's suppose filter pop sound...      5.0    1.0\n",
              "1  product exactly quite affordable.i realize dou...      5.0    1.0\n",
              "2  primary job device block breath would otherwis...      5.0    1.0\n",
              "3  nice windscreen protects mxl mic prevents pops...      5.0    1.0\n",
              "4  pop filter great look performs like studio fil...      5.0    1.0"
            ],
            "text/html": [
              "\n",
              "  <div id=\"df-8278f214-f31b-4101-8e1f-b71a292bdbdc\">\n",
              "    <div class=\"colab-df-container\">\n",
              "      <div>\n",
              "<style scoped>\n",
              "    .dataframe tbody tr th:only-of-type {\n",
              "        vertical-align: middle;\n",
              "    }\n",
              "\n",
              "    .dataframe tbody tr th {\n",
              "        vertical-align: top;\n",
              "    }\n",
              "\n",
              "    .dataframe thead th {\n",
              "        text-align: right;\n",
              "    }\n",
              "</style>\n",
              "<table border=\"1\" class=\"dataframe\">\n",
              "  <thead>\n",
              "    <tr style=\"text-align: right;\">\n",
              "      <th></th>\n",
              "      <th>reviewText</th>\n",
              "      <th>overall</th>\n",
              "      <th>total</th>\n",
              "    </tr>\n",
              "  </thead>\n",
              "  <tbody>\n",
              "    <tr>\n",
              "      <th>0</th>\n",
              "      <td>much write exactly 's suppose filter pop sound...</td>\n",
              "      <td>5.0</td>\n",
              "      <td>1.0</td>\n",
              "    </tr>\n",
              "    <tr>\n",
              "      <th>1</th>\n",
              "      <td>product exactly quite affordable.i realize dou...</td>\n",
              "      <td>5.0</td>\n",
              "      <td>1.0</td>\n",
              "    </tr>\n",
              "    <tr>\n",
              "      <th>2</th>\n",
              "      <td>primary job device block breath would otherwis...</td>\n",
              "      <td>5.0</td>\n",
              "      <td>1.0</td>\n",
              "    </tr>\n",
              "    <tr>\n",
              "      <th>3</th>\n",
              "      <td>nice windscreen protects mxl mic prevents pops...</td>\n",
              "      <td>5.0</td>\n",
              "      <td>1.0</td>\n",
              "    </tr>\n",
              "    <tr>\n",
              "      <th>4</th>\n",
              "      <td>pop filter great look performs like studio fil...</td>\n",
              "      <td>5.0</td>\n",
              "      <td>1.0</td>\n",
              "    </tr>\n",
              "  </tbody>\n",
              "</table>\n",
              "</div>\n",
              "      <button class=\"colab-df-convert\" onclick=\"convertToInteractive('df-8278f214-f31b-4101-8e1f-b71a292bdbdc')\"\n",
              "              title=\"Convert this dataframe to an interactive table.\"\n",
              "              style=\"display:none;\">\n",
              "        \n",
              "  <svg xmlns=\"http://www.w3.org/2000/svg\" height=\"24px\"viewBox=\"0 0 24 24\"\n",
              "       width=\"24px\">\n",
              "    <path d=\"M0 0h24v24H0V0z\" fill=\"none\"/>\n",
              "    <path d=\"M18.56 5.44l.94 2.06.94-2.06 2.06-.94-2.06-.94-.94-2.06-.94 2.06-2.06.94zm-11 1L8.5 8.5l.94-2.06 2.06-.94-2.06-.94L8.5 2.5l-.94 2.06-2.06.94zm10 10l.94 2.06.94-2.06 2.06-.94-2.06-.94-.94-2.06-.94 2.06-2.06.94z\"/><path d=\"M17.41 7.96l-1.37-1.37c-.4-.4-.92-.59-1.43-.59-.52 0-1.04.2-1.43.59L10.3 9.45l-7.72 7.72c-.78.78-.78 2.05 0 2.83L4 21.41c.39.39.9.59 1.41.59.51 0 1.02-.2 1.41-.59l7.78-7.78 2.81-2.81c.8-.78.8-2.07 0-2.86zM5.41 20L4 18.59l7.72-7.72 1.47 1.35L5.41 20z\"/>\n",
              "  </svg>\n",
              "      </button>\n",
              "      \n",
              "  <style>\n",
              "    .colab-df-container {\n",
              "      display:flex;\n",
              "      flex-wrap:wrap;\n",
              "      gap: 12px;\n",
              "    }\n",
              "\n",
              "    .colab-df-convert {\n",
              "      background-color: #E8F0FE;\n",
              "      border: none;\n",
              "      border-radius: 50%;\n",
              "      cursor: pointer;\n",
              "      display: none;\n",
              "      fill: #1967D2;\n",
              "      height: 32px;\n",
              "      padding: 0 0 0 0;\n",
              "      width: 32px;\n",
              "    }\n",
              "\n",
              "    .colab-df-convert:hover {\n",
              "      background-color: #E2EBFA;\n",
              "      box-shadow: 0px 1px 2px rgba(60, 64, 67, 0.3), 0px 1px 3px 1px rgba(60, 64, 67, 0.15);\n",
              "      fill: #174EA6;\n",
              "    }\n",
              "\n",
              "    [theme=dark] .colab-df-convert {\n",
              "      background-color: #3B4455;\n",
              "      fill: #D2E3FC;\n",
              "    }\n",
              "\n",
              "    [theme=dark] .colab-df-convert:hover {\n",
              "      background-color: #434B5C;\n",
              "      box-shadow: 0px 1px 3px 1px rgba(0, 0, 0, 0.15);\n",
              "      filter: drop-shadow(0px 1px 2px rgba(0, 0, 0, 0.3));\n",
              "      fill: #FFFFFF;\n",
              "    }\n",
              "  </style>\n",
              "\n",
              "      <script>\n",
              "        const buttonEl =\n",
              "          document.querySelector('#df-8278f214-f31b-4101-8e1f-b71a292bdbdc button.colab-df-convert');\n",
              "        buttonEl.style.display =\n",
              "          google.colab.kernel.accessAllowed ? 'block' : 'none';\n",
              "\n",
              "        async function convertToInteractive(key) {\n",
              "          const element = document.querySelector('#df-8278f214-f31b-4101-8e1f-b71a292bdbdc');\n",
              "          const dataTable =\n",
              "            await google.colab.kernel.invokeFunction('convertToInteractive',\n",
              "                                                     [key], {});\n",
              "          if (!dataTable) return;\n",
              "\n",
              "          const docLinkHtml = 'Like what you see? Visit the ' +\n",
              "            '<a target=\"_blank\" href=https://colab.research.google.com/notebooks/data_table.ipynb>data table notebook</a>'\n",
              "            + ' to learn more about interactive tables.';\n",
              "          element.innerHTML = '';\n",
              "          dataTable['output_type'] = 'display_data';\n",
              "          await google.colab.output.renderOutput(dataTable, element);\n",
              "          const docLink = document.createElement('div');\n",
              "          docLink.innerHTML = docLinkHtml;\n",
              "          element.appendChild(docLink);\n",
              "        }\n",
              "      </script>\n",
              "    </div>\n",
              "  </div>\n",
              "  "
            ]
          },
          "metadata": {},
          "execution_count": 212
        }
      ]
    },
    {
      "cell_type": "markdown",
      "source": [
        "# Bag of words"
      ],
      "metadata": {
        "id": "VgiIj_pKvBJu"
      }
    },
    {
      "cell_type": "code",
      "source": [
        "vect = CountVectorizer()\n",
        "vect.fit(rws['reviewText'])"
      ],
      "metadata": {
        "colab": {
          "base_uri": "https://localhost:8080/"
        },
        "id": "TaqV1T2WtpBe",
        "outputId": "8d0379be-dbe8-432e-b882-ae6dc96cfaf7"
      },
      "execution_count": 114,
      "outputs": [
        {
          "output_type": "execute_result",
          "data": {
            "text/plain": [
              "CountVectorizer()"
            ]
          },
          "metadata": {},
          "execution_count": 114
        }
      ]
    },
    {
      "cell_type": "code",
      "source": [
        "print(\"Tamanho: {}\".format(len(vect.vocabulary_)))\n",
        "print(\"Conteúdo: {}\".format(vect.vocabulary_))"
      ],
      "metadata": {
        "colab": {
          "base_uri": "https://localhost:8080/"
        },
        "id": "pB51hlvfty1f",
        "outputId": "3b38fda4-78d0-44b4-adcd-3fb86bbc832c"
      },
      "execution_count": 115,
      "outputs": [
        {
          "output_type": "stream",
          "name": "stdout",
          "text": [
            "Tamanho: 6675\n",
            "Conteúdo: {'tascam': 5797, 'industry': 3030, 'leader': 3334, 'pro': 4531, 'audio': 623, 'many': 3558, 'year': 6633, 'quality': 4638, 'unmatched': 6226, 'dollar': 1826, 'exception': 2129, 'excellent': 2127, 'sound': 5409, 'premium': 4491, 'fit': 2320, 'comfort': 1268, 'wear': 6460, 'day': 1568, 'station': 5541, 'ca': 1014, 'go': 2603, 'wrong': 6608, 're': 4692, 'order': 4111, 'pair': 4210, 'tuner': 6112, 'affordable': 367, 'work': 6573, 'well': 6478, 'purchase': 4608, 'six': 5274, 'far': 2223, 'sturdy': 5652, 'come': 1267, 'battery': 728, 'box': 897, 'install': 3065, 'yourself': 6658, 'actually': 311, 'sit': 5267, 'one': 4072, 'thought': 5919, 'break': 913, 'turn': 6121, 'main': 3526, 'head': 2770, 'pop': 4430, 'right': 4912, 'back': 671, 'goose': 2616, 'neck': 3899, 'lead': 3333, 'bright': 923, 'low': 3481, 'light': 3387, 'display': 1778, 'daylight': 1569, 'start': 5531, 'dim': 1719, 'dark': 1552, 'need': 3902, 'new': 3925, 'fairly': 2210, 'large': 3305, 'disk': 1770, 'style': 5654, 'cost': 1427, '80': 224, 'two': 6140, 'pack': 4196, 'walgreens': 6409, 'birthday': 814, 'jam': 3165, 'friend': 2457, 'house': 2890, 'use': 6287, 'guitar': 2688, 'end': 2031, 'pass': 4234, 'around': 555, 'night': 3943, 'three': 5926, 'bass': 717, 'player': 4376, 'four': 2430, 'guitarist': 2691, 'give': 2585, 'boy': 900, 'admire': 344, 'grand': 2627, 'nephews': 3915, 'keep': 3241, 'favorite': 2244, 'acoustic': 296, 'electric': 1986, 'stay': 5544, 'case': 1072, 'like': 3393, 'try': 6091, 'no': 3950, 'swivel': 5753, 'also': 421, 'great': 2639, 'musician': 3855, 'party': 4232, 'favor': 2241, 'always': 431, 'trouble': 6078, 'read': 4695, 'old': 4065, 'analog': 467, 'really': 4709, 'forget': 2408, 'practice': 4469, 'own': 4185, 'snark': 5348, 'headstock': 2782, 'blue': 849, 'product': 4550, 'find': 2294, 'thing': 5900, 'absolutely': 260, 'infuriate': 3043, 'design': 1665, 'ball': 693, 'joint': 3206, 'connects': 1355, 'clip': 1208, 'snarks': 5349, 'home': 2859, 'put': 4624, 'type': 6141, 'stress': 5611, 'this': 5910, 'fender': 2267, 'alternative': 425, 'way': 6451, 'connect': 1350, 'much': 3829, 'however': 2893, 'others': 4131, 'mention': 3636, 'rotate': 4951, 'freely': 2441, 'live': 3425, 'usage': 6285, 'may': 3600, 'prove': 4586, 'difficult': 1712, 'depend': 1649, 'orient': 4117, 'fine': 2296, 'the': 5869, 'small': 5326, 'would': 6596, 'prs': 4591, 'lot': 3470, 'free': 2440, 'real': 4702, 'estate': 2096, 'compare': 1284, 'strat': 5603, 'negative': 3908, 'see': 5084, 'change': 1115, 'first': 2315, 'require': 4837, 'phillips': 4309, 'screwdriver': 5057, 'build': 963, 'computer': 1312, 'handy': 2721, 'guess': 2683, 'people': 4276, 'probably': 4536, 'dont': 1831, 'enough': 2044, 'job': 3203, 'hand': 2717, 'every': 2111, 'comp': 1277, 'across': 301, 'wampler': 6416, 'ego': 1966, 'compressor': 1309, 'better': 801, 'script': 5060, 'reissue': 4789, 'noisey': 3960, 'cord': 1413, 'money': 3783, 'violin': 6369, 'mic': 3673, 'daughter': 1561, 'get': 2562, 'christmas': 1165, 'buy': 998, 'future': 2498, 'defiantly': 1617, 'space': 5430, 'saver': 5021, 'effect': 1958, 'side': 5226, 'ad': 313, 'hook': 2868, 'em': 2008, 'patch': 4239, 'cable': 1017, 'convenient': 1397, 'angle': 477, 'profile': 4556, 'complaint': 1296, 'easily': 1939, 'fall': 2214, 'socket': 5361, 'jostle': 3209, '30': 138, 'buck': 950, 'garage': 2518, 'band': 697, 'voice': 6385, 'room': 4944, 'record': 4748, 'different': 1709, 'mode': 3753, 'distinct': 1786, 'perfect': 4281, 'podcast': 4407, 'vocal': 6383, 'long': 3448, 'bad': 682, 'nice': 3932, 'carry': 1068, 'pocket': 4404, '30bucks': 141, 'surprise': 5726, 'demo': 1639, 'gigs': 2579, 'gigging': 2577, '20': 87, 'half': 2713, 'hour': 2888, 'open': 4088, 'track': 6022, 'drum': 1886, 'garageband': 2519, 'lay': 3325, 'easy': 1943, 'plug': 4393, 'macbookpro': 3511, 'recording': 4751, 'edit': 1955, 'cheap': 1131, 'shure': 5218, 'pg': 4302, '48': 174, 'fx': 2502, 'layer': 3326, 'harmony': 2745, 'still': 5570, 'yet': 6640, 'kit': 3263, 'enjoy': 2043, 'amazed': 436, 'ease': 1936, 'software': 5369, 'pc': 4250, 'vista': 6378, 'luck': 3493, 'mixer': 3742, 'line': 3408, 'interface': 3097, 'mixed': 3741, 'mics': 3687, 'single': 5265, 'mix': 3740, 'individually': 3027, 'ie': 2939, 'snare': 5347, 'kick': 3253, 'set': 5128, 'sure': 5720, 'engineer': 2038, 'could': 1433, 'good': 2611, 'idea': 2934, 'pleased': 4383, 'weight': 6474, 'counter': 1437, 'reach': 4693, 'detail': 1680, 'make': 3534, 'forgot': 2410, 'mine': 3708, 'love': 3478, 'take': 5777, 'spot': 5474, 'power': 4460, 'strip': 5625, 'outlet': 4144, 'juice': 3214, 'pedal': 4259, 'simultaneouslytotally': 5260, 'worth': 6591, 'mesa': 3647, 'boogie': 866, 'mark': 3563, '1x12': 86, 'cabinet': 1016, 'hold': 2852, 'sm57': 5321, 'microphone': 3680, 'stand': 5516, 'plastic': 4366, 'metal': 3654, 'thread': 5923, 'hey': 2821, 'jerk': 3189, 'play': 4371, 'string': 5618, 'experimental': 2163, 'stringless': 5622, 'stop': 5585, 'reading': 4699, 'damn': 1542, 'self': 5094, 'ten': 5836, 'seriously': 5122, 'child': 1152, 'extra': 2181, 'addarios': 323, 'last': 3308, 'time': 5955, 'bottom': 890, 'price': 4515, 'range': 4673, 'douchnozzle': 1839, 'pretty': 4509, 'straight': 5591, 'clone': 1212, 'sm': 5320, '57': 187, 'even': 2103, 'close': 1213, 'orange': 4110, 'county': 1441, 'speaker': 5441, 'website': 6464, '29': 128, '25': 115, 'store': 5587, 'entirely': 2051, '50': 181, 'amazon': 440, 'xlr': 6620, 'female': 2265, 'male': 3538, 'adapter': 317, 'simply': 5255, 'another': 489, 'fix': 2325, 'gadget': 2510, 've': 6330, 'bag': 686, 'suppose': 5712, 'to': 5973, 'now': 4001, 'picture': 4336, 'mono': 3788, 'version': 6343, 'balanced': 692, 'unbalanced': 6170, 'unbalance': 6169, 'jack': 3162, 'feed': 2257, 'run': 4976, 'stereo': 5557, 'channel': 1118, 'll': 3431, 'trs': 6079, 'tip': 5964, 'ring': 4915, 'sleeve': 5297, 'balance': 691, 'uke': 6153, '12': 39, 'parlor': 4225, 'trusty': 6088, 'taylor': 5802, 'accurate': 287, 'highly': 2830, 'recommend': 4742, 'pin': 4342, 'size': 5278, 'notice': 3991, 'difference': 1708, 'ebony': 1947, 'attractive': 616, 'certainly': 1106, 'appear': 520, 'effective': 1959, 'lock': 3440, 'strap': 5595, 'place': 4357, 'high': 2827, 'material': 3588, 'quick': 4645, 'shipping': 5183, 'perfectly': 4283, 'able': 254, 'screw': 5056, 'without': 6558, 'pre': 4475, 'drilling': 1876, 'multiple': 3843, 'cradle': 1455, 'jim': 3196, 'dunlop': 1909, 'although': 426, 'little': 3424, 'pricey': 4519, 'rest': 4865, 'soft': 5363, 'overall': 4158, 'big': 806, 'warm': 6426, 'fuzzies': 2500, 'know': 3273, 'wo': 6559, 'skimpy': 5290, 'legged': 3353, 'arrangement': 558, 'sell': 5095, 'elsewhere': 2005, 'planet': 4364, 'short': 5198, 'support': 5711, 'ovation': 4156, 'length': 3358, 'second': 5076, 'rotates': 4952, 'front': 2464, 'fretboard': 2450, 'face': 2195, 'guts': 2700, 'mike': 3695, 'solo': 5376, 'show': 5210, 'portastudio': 4440, 'studio': 5642, 'spaghetti': 5432, 'trip': 6074, 'digitech': 1717, 'processor': 4544, 'operational': 4096, 'hard': 2731, '10': 27, 'usually': 6295, 'obtainable': 4027, 'used': 6289, 'several': 5136, 'brand': 910, 'must': 3857, 'musicians': 3856, 'basic': 714, 'suggest': 5686, 'singer': 5264, 'micing': 3676, 'acoutuc': 299, 'instrument': 3075, 'deal': 1580, 'addario': 322, 'prelude': 4488, 'scale': 5028, 'medium': 3624, 'tension': 5841, 'beginner': 765, 'expensive': 2157, 'till': 5953, 'ready': 4701, 'research': 4844, 'wonderful': 6564, 'plenty': 4387, 'capture': 1054, 'clear': 1199, 'mids': 3693, 'fantastic': 2221, 'review': 4887, 'say': 5025, 'wonder': 6563, 'shot': 5205, 'budget': 956, 'america': 443, 'formula': 2418, '65': 206, 'polish': 4417, '40': 162, 'since': 5261, 'hair': 2711, 'longer': 3449, 'hippie': 2838, 'grow': 2663, 'heavy': 2792, 'grime': 2652, 'fingerprint': 2301, 'body': 858, 'look': 3452, 'solid': 5374, 'hollow': 2857, 'acrylic': 302, 'lacquer': 3295, 'finish': 2307, 'streak': 5607, 'clean': 1195, 'finger': 2298, 'lubricant': 3491, 'separately': 5109, 'gls': 2600, 'spend': 5459, 'happy': 2729, 'less': 3364, 'saving': 5022, 'something': 5384, 'else': 2004, 'sm58lc': 5324, 'sm58': 5323, 'seem': 5086, 'staple': 5523, 'performance': 4285, 'rightly': 4913, 'due': 1900, 'comparative': 1282, 'value': 6313, 'amaze': 435, 'craftsmanship': 1457, 'beta': 797, '58a': 191, 'amazing': 438, 'dynamic': 1922, 'might': 3694, 'alleviate': 407, 'associate': 593, 'efficient': 1962, 'cousin': 1446, 'confined': 1341, 'scenario': 5032, 'utilize': 6297, 'demonstrated': 1641, 'broad': 937, 'sweet': 5744, 'completely': 1298, 'eliminate': 1999, 'severe': 5137, 'feedback': 2258, 'issue': 3147, 'vocalist': 6384, 'pull': 4597, 'touch': 6011, 'belt': 781, 'sustain': 5735, 'note': 3983, 'dream': 1871, 'help': 2806, 'experiencing': 2161, 'sibilance': 5222, 'popping': 4433, 'complication': 1301, 'sing': 5263, 'past': 4238, 'oppose': 4101, 'directly': 1732, 'it': 3148, 'while': 6502, 'wish': 6551, 'understand': 6189, 'engineering': 2039, 'standpoint': 5521, 'technical': 5813, 'specific': 5448, 'expound': 2168, 'upon': 6269, 'confidently': 1337, 'best': 795, 'ever': 2109, 'aside': 577, 'condenser': 1327, 'isolate': 3142, 'environment': 2057, 'quite': 4655, 'honestly': 2862, 'confine': 1340, 'situation': 5272, 'popular': 4434, 'penny': 4275, 'anyone': 505, 'opportunity': 4100, 'chance': 1114, 'demonstrate': 1640, 'superiority': 5706, 'five': 2324, 'star': 5524, 'delay': 1629, 'potential': 4455, 'possible': 4449, 'baby': 670, 'offer': 4051, 'true': 6080, 'bypass': 1010, 'useful': 6290, 'want': 6420, 'rack': 4662, 'noiseless': 3957, 'signal': 5234, 'strong': 5628, 'begin': 762, 'tank': 5788, 'board': 855, 'user': 6292, 'friendly': 2458, 'iphone': 3129, 'input': 3051, 'drag': 1859, 'near': 3889, 'gear': 2535, 'portable': 4438, 'mu': 3828, 'mandolin': 3545, 'banjo': 700, 'etc': 2101, 'noise': 3955, 'recently': 4730, 'switch': 5749, 'blackstar': 827, 'ht': 2897, 'mustang': 3861, 'iii': 2946, 'v2': 6303, 'amp': 451, 'sounding': 5419, 'natural': 3886, 'warmth': 6428, 'tube': 6101, 'liveliness': 3428, 'miss': 3729, 'overdrive': 4161, 'distortion': 1793, 'add': 320, 'buying': 1002, 'decide': 1598, 'kind': 3258, 'sparkle': 5437, 'boost': 872, 'believe': 775, 'call': 1025, '34': 148, 'pixie': 4355, 'dust': 1918, 'bit': 815, 'magic': 3517, 'alive': 402, 'interestingly': 3096, 'leave': 3346, 'stack': 5506, 'certain': 1105, 'chorus': 1163, 'shimmer': 5175, 'reverb': 4884, 'maybe': 3601, 'leslie': 3363, 'awesome': 649, 'eq': 2066, 'think': 5904, 'life': 3380, 'state': 5535, 'maintain': 3531, 'regular': 4783, 'basis': 716, 'tech': 5810, 'everything': 2115, 'care': 1061, 'fretboards': 2451, 'straplok': 5599, 'they': 5892, 'fail': 2206, 'straploks': 5600, 'nine': 3946, 'got': 2620, 'initial': 3045, 'impressions': 2976, 'expect': 2150, 'relaxed': 4797, 'volume': 6394, 'm1': 3506, 'definitely': 1622, 'fuller': 2478, 'commensurate': 1271, 'drawbacks': 1866, 'slightly': 5305, 'naturally': 3887, 'sparkly': 5438, 'reduce': 4758, 'via': 6349, 'fuse': 2494, 'editor': 1956, 'translate': 6038, 'smoother': 5337, 'press': 4502, 'buzzy': 1006, 'course': 1445, 'panel': 4216, 'do': 1812, 'lb': 3328, 'feel': 2259, 'fiendishly': 2281, 'wondering': 6566, 'shoehorn': 5192, 'there': 5883, 'part': 4226, 'create': 1470, 'firmware': 2314, 'update': 6264, 'needing': 3904, 'adjustment': 341, 'appreciative': 532, 'extend': 2172, 'crank': 1460, 'control': 1392, 'headroom': 2779, 'more': 3797, 'liked': 3395, 'deluxe': 1637, 'model': 3754, 'cab': 1015, 'vice': 6358, 'versa': 6340, 'spanky': 5434, 'propensity': 4573, 'sooner': 5399, 'girth': 2584, 'twin': 6136, 'icepick': 2930, 'sometimes': 5385, 'bassman': 722, 'supersonic': 5707, 'mute': 3863, 'top': 5999, 'gain': 2512, 'fat': 2233, 'sim': 5247, 'respond': 4859, 'tex': 5855, 'mex': 3664, 'pickup': 4333, 'humbuckers': 2905, 'amps': 461, 'mini': 3709, 'somehow': 5382, 'feeling': 2260, 'understandable': 6190, 'though': 5918, 'coil': 1246, 'surprised': 5727, 'impedance': 2966, 'relationship': 4794, 'on': 4070, 'so': 5356, '200': 88, 'ask': 580, 'often': 4056, 'pick': 4324, 'soprano': 5403, 'mahalo': 3522, 'bring': 929, 'clarity': 1187, 'tone': 5991, 'especially': 2092, 'brighter': 925, 'thickness': 5896, 'hit': 2845, 'guitarfetish': 2690, 'com': 1261, 'sensitive': 5104, 'accord': 282, 'ear': 1926, 'anyway': 508, 'quickly': 4647, 'color': 1256, 'visual': 6379, 'indicator': 3024, 'someone': 5383, 'point': 4411, 'training': 6031, 'tool': 5996, 'learn': 3339, 'purpose': 4619, 'eye': 2188, 'g7th': 2507, 'capo': 1051, 'awhile': 653, 'become': 749, 'available': 641, 'vine': 6365, 'program': 4559, 'package': 4197, 'simple': 5251, 'lightweight': 3392, 'epiphone': 2064, 'built': 965, 'in': 2986, 'holder': 2853, 'meet': 3626, 'remove': 4812, 'list': 3416, 'never': 3924, 'trigger': 6070, 'shock': 5187, 'pedalboard': 4260, 'picky': 4335, 'grip': 2654, 'mount': 3812, 'tape': 5790, 'velcro': 6331, 'steroid': 5559, 'super': 5702, 'secure': 5080, 'rate': 4684, 'adhesive': 334, 'teeth': 5821, 'jaw': 3178, 'shark': 5153, 'envious': 2056, 'word': 6571, 'advice': 358, 'arrange': 557, 'exact': 2119, 'count': 1436, 'almost': 414, 'perment': 4295, 'mounting': 3815, 'and': 471, 'hint': 2836, 'behringer': 773, 'rubber': 4966, 'non': 3964, 'skid': 5286, 'plate': 4369, 'coupler': 1444, 'cut': 1523, 'clutter': 1230, 'as': 572, 'matter': 3593, 'fact': 2198, 'together': 5980, 'boom': 869, 'attach': 605, 'desk': 1672, 'clamp': 1182, 'talk': 5779, 'wannabe': 6419, 'radio': 4665, 'shack': 5143, 'collapse': 1249, 'tilt': 5954, 'position': 4443, 'generous': 2549, '16': 60, 'inch': 2995, 'standard': 5518, 'base': 712, 'risk': 4922, 'clutch': 1229, 'nob': 3951, 'knob': 3269, 'sufficient': 5685, 'basses': 719, 'clover': 1220, 'vox': 6398, 'mini3': 3710, 'g2': 2506, 'modeling': 3757, 'mainland': 3527, 'tenor': 5840, 'ukulele': 6156, 'immediately': 2961, 'fell': 2262, 'combination': 1263, 'diy': 1805, 'inexpensive': 3034, 'expense': 2156, 'eight': 1971, 'hassle': 2753, 'drill': 1874, 'hole': 2855, 'instal': 3064, 'instruments': 3076, 'then': 5881, 'stumble': 5647, 'cherub': 1149, 'lunch': 3500, 'mcdonalds': 3603, 'electrify': 1990, 'fly': 2374, 'whatever': 6490, 'critical': 1484, 'hear': 2784, 'slight': 5304, 'onto': 4082, 'recommended': 4745, 'if': 2940, 'rock': 4928, 'god': 2604, 'consider': 1360, 'mere': 3644, 'mortal': 3804, 'fun': 2483, 'option': 4106, 'mandobanjoacoustic': 3544, 'guitarupright': 2695, 'bassreg': 723, 'bassdo': 718, 'itbut': 3149, 'button': 995, 'youtube': 6661, 'video': 6360, 'either': 1973, 'tele': 5823, 'debate': 1587, 'tough': 6012, 'lp': 3485, 'unbox': 6176, 'fd2': 2249, 'tune': 6110, 'essentially': 2095, 'varing': 6326, 'degree': 1628, 'od': 4040, 'push': 4623, 'father': 2235, 'flat': 2338, 'increase': 3008, 'teles': 5825, 'strats': 5606, 'hence': 2809, 'huge': 2899, 'mud': 3831, 'downside': 1849, 'constantly': 1369, 'fantastically': 2222, 'vary': 6328, 'amount': 450, 'dirty': 1734, 'solve': 5379, 'problem': 4538, '13': 46, 'mess': 3649, 'realize': 4708, 'california': 1024, 'truly': 6082, 'marshall': 3573, 'ability': 253, '31': 143, '00': 0, 'versatile': 6341, 'stage': 5508, 'headphones': 2775, 'junction': 3220, 'send': 5099, 'speakers': 5442, 'individual': 3026, 'hum': 2901, 'hiss': 2841, 'unit': 6213, 'stout': 5590, 'stable': 5505, 'gibson': 2569, 'le': 3331, 'paul': 4246, 'trustworthy': 6087, 'wayne': 6452, 'played': 4375, 'variety': 6325, 'lifetime': 3385, 'wife': 6521, 'gift': 2570, 'tell': 5827, 'beautiful': 745, 'justice': 3225, 'incredible': 3009, 'harmonic': 2740, 'fast': 2230, 'fret': 2449, 'pickups': 4334, 'anything': 506, 'perform': 4284, 'heartbeat': 2788, 'extremely': 2186, 'impressed': 2974, 'bet': 796, 'next': 3930, 'collection': 1253, 'service': 5125, 'comfortable': 1269, 'sharp': 5154, 'least': 3343, 'stiff': 5567, 'leather': 3344, 'experience': 2159, 'levy': 3374, 'satisfy': 5017, 'thank': 5862, 'reluctance': 4803, 'unboxed': 6177, 'dealie': 1582, 'exactly': 2120, 'ipad': 3128, 'terrific': 5848, '99': 242, 'tag': 5773, 'curve': 1517, 'include': 2999, 'dock': 1816, 'select': 5092, 'click': 1204, 'icon': 2932, 'monitoring': 3786, 'man': 3540, 'prefer': 4485, 'instead': 3071, 'fostex': 2428, 'recorder': 4749, 'simpler': 5252, 'xenyx': 6617, '802': 225, 'discover': 1757, 'apogee': 513, 'rout': 4958, 'thus': 5942, 'allow': 410, 'beautifully': 746, 'careful': 1062, 'consequently': 1358, 'opinion': 4097, 'write': 6607, 'march': 3562, 'focusrite': 2378, 'canvas': 1043, 'pile': 4341, 'pa': 4194, 'equipment': 2072, 'cart': 1069, 'music': 3852, 'construction': 1374, 'thick': 5893, 'zipper': 6672, 'handle': 2719, 'assume': 597, 'stitch': 5574, 'kenny': 3244, 'shepherd': 5168, 'stratocaster': 5604, 'these': 5889, 'flawlessly': 2347, 'ernie': 2082, 'gauge': 2529, 'describe': 1660, 'suede': 5682, 'slippery': 5312, 'smooth': 5336, 'narrow': 3881, 'slip': 5311, 'distribute': 1797, 'be': 735, 'notch': 3982, 'stars': 5529, 'economical': 1950, 'tall': 5781, 'person': 4297, 'adjusts': 343, 'normal': 3973, 'frustrate': 2467, 'beat': 740, 'withdunlop': 6555, 'dual': 1895, 'system': 5763, 'blacktoo': 829, 'backup': 679, 'primary': 4521, 'step': 5555, 'cheapies': 1134, 'ups': 6272, 'watts': 6447, 'output': 4146, 'loop': 3459, 'distance': 1784, 'zero': 6667, 'nearly': 3892, 'venue': 6334, 'plain': 4361, 'abuse': 262, 'fold': 2382, 'otherwise': 4132, 'concede': 1317, 'spoiled': 5470, 'compact': 1278, 'dimension': 1723, 'myk': 3869, 'memphis': 3634, 'fragile': 2433, 'heft': 2797, 'hercules': 2813, 'advantage': 351, 'stability': 5504, 'tends': 5839, 'bounce': 892, 'backward': 680, 'pad': 4201, 'carpeted': 1067, 'floor': 2361, 'despite': 1675, 'unfold': 6202, 'adjust': 335, 'action': 304, 'legs': 3354, 'height': 2799, 'whereas': 6497, 'separate': 5108, 'leg': 3349, 'vertical': 6347, 'section': 5079, 'yoke': 6645, 'aspect': 582, 'gig': 2571, 'convinced': 1403, 'trade': 6025, 'pivoting': 4354, 'necessary': 3898, 'portion': 4441, 'mean': 3609, 'force': 2403, 'knock': 3271, 'whole': 6511, 'automatically': 637, 'inward': 3125, 'width': 6518, 'applied': 526, 'pivot': 4353, 'gate': 2526, 'similar': 5248, 'stocks': 5577, 'disaster': 1745, 'defective': 1612, 'area': 545, 'defect': 1611, 'happen': 2725, 'highlight': 2829, 'weakness': 6459, 'concern': 1321, 'weak': 6458, 'durable': 1915, 'tolerant': 5984, 'occasional': 4032, 'clumsiness': 1226, 'glad': 2587, 'appreciate': 531, 'strength': 5610, 'mainly': 3528, 'portability': 4437, 'nature': 3888, 'interest': 3093, 'comparison': 1286, 'anultimate': 499, 'gs100': 2670, 'genesis': 2551, '100': 28, 'standon': 5520, 'opt': 4103, 'gs': 2669, 'automatic': 636, 'closing': 1218, 'mechanism': 3620, '1000': 29, 'reason': 4716, 'above': 256, 'strictly': 5616, 'favorable': 2242, 'cheaper': 1132, 'suit': 5691, 'cheapness': 1137, 'along': 416, 'bos': 882, 'zone': 6673, 'bite': 816, 'barely': 705, 'joyo': 3210, 'market': 3565, 'guy': 2702, 'acid': 292, 'sweat': 5742, 'borrow': 881, 'packaging': 4198, 'envelope': 2055, 'cod': 1243, 'green': 2645, 'brass': 911, 'memory': 3633, 'silver': 5245, 'explosion': 2166, 'paper': 4219, 'reference': 4767, 'where': 6496, 'pearl': 4257, 'pay': 4248, 'hi': 2823, 'cover': 1447, 'item': 3154, 'properly': 4575, 'suggestion': 5689, 'wall': 6413, 'stud': 5640, 'heavier': 2789, 'hang': 2722, 'month': 3792, 'bracket': 904, 'bendable': 784, 'adapt': 315, 'virtually': 6371, 'grippy': 2657, 'slick': 5299, 'slipping': 5313, 'brush': 947, 'bristle': 930, 'softness': 5368, 'sits': 5271, 'project': 4562, 'uca202': 6148, 'stretch': 5613, 'creativity': 1472, 'anyways': 509, 'guaranteed': 2680, 'ness': 3916, 'crisp': 1479, 'history': 2844, 'apart': 511, 'spare': 5435, 'xd': 6615, 'foam': 2376, 'prevents': 4512, 'wind': 6533, 'smelly': 5332, 'saw': 5023, 'shop': 5194, 'away': 647, 'avoid': 645, 'abrasion': 259, 'squeeze': 5492, 'made': 3516, 'hangar': 2723, 'exceed': 2125, 'thousand': 5922, 'playing': 4378, 'forever': 2407, 'rogue': 4938, '123': 41, 'affiliate': 364, 'ra': 4661, '090': 25, 'entry': 2053, 'level': 3371, 'dreadnought': 1870, 'starcaster': 5526, 'hurt': 2920, 'thier': 5898, 'lose': 3465, 'bed': 752, 'soon': 5398, 'forgotten': 2411, 'serious': 5120, 'intermediate': 3102, 'advanced': 350, 'deep': 1605, 'rich': 4900, 'workmanship': 6579, 'tend': 5837, 'shy': 5221, 'figure': 2285, 'believer': 776, 'camping': 1032, 'campfire': 1031, 'damage': 1540, 'steal': 5549, 'arm': 553, 'among': 449, 'equal': 2067, 'choice': 1158, 'recommendation': 4744, 'promise': 4564, 'disappoint': 1741, '51': 184, 'stock': 5575, 'endorse': 2033, 'honest': 2861, 'hobby': 2849, 'therefore': 5884, 'podcasting': 4408, 'speak': 5440, 'minimal': 3713, 'squeak': 5488, 'some': 5381, 'havent': 2760, 'settle': 5133, 'will': 6525, 'week': 6470, 'blown': 848, 'looked': 3453, 'serve': 5123, 'everyday': 2113, 'advertised': 354, 'modern': 3762, 'manage': 3541, 'sick': 5225, 'detailed': 1681, 'setting': 5130, 'desire': 1670, '24': 112, 'presets': 4501, 'advertise': 353, 'red': 4754, 'totally': 6010, 'customize': 1522, 'ableton': 255, 'tutorial': 6125, 'save': 5020, 'bummer': 975, 'kinda': 3259, 'pas': 4233, 'allows': 412, 'foot': 2397, 'remember': 4807, 'connector': 1354, 'mate': 3585, 'firmly': 2313, 'duty': 1920, 'treat': 6055, 'respect': 4857, 'exhibit': 2140, 'throughout': 5933, 'frequency': 2445, 'resonant': 4856, 'midrange': 3691, 'highs': 2832, 'announcer': 483, 'cardiod': 1060, 'pattern': 4245, 'reduces': 4759, 'background': 673, 'corporate': 1418, 'production': 4551, 'unbelievable': 6174, 'twenty': 6134, 'pyle': 4631, 'dr40': 1857, 'generates': 2545, 'digital': 1716, 'pulse': 4599, 'electronics': 1994, 'device': 1697, 'd40': 1532, 'multipurpose': 3844, 'cutter': 1527, 'winder': 6534, 'remover': 4814, 'spray': 5477, 'bottle': 889, 'ammout': 447, 'ammount': 446, 'definately': 1618, 'online': 4077, 'locally': 3437, 'midi': 3690, 'confirm': 1342, 'cpu': 1450, 'windows': 6537, 'worked': 6576, 'msi': 3825, 'netbook': 3918, 'filter': 2289, 'deessing': 1608, 'professional': 4553, 'lil': 3399, 'awkward': 654, 'please': 4382, 'everybody': 2112, 'fan': 2218, 'all': 403, 'ones': 4074, 'inside': 3057, 'moderate': 3760, 'decent': 1594, 'bulletproof': 972, 'function': 2484, 'neither': 3913, 'suck': 5676, 'buzzing': 1005, 'complain': 1295, 'thicken': 5894, 'gilmour': 2580, 'ej': 1975, 'surely': 5721, 'feature': 2252, 'tap': 5789, 'tempo': 5832, 'instruction': 3073, 'engage': 2036, 'double': 1837, '70': 211, 'ibanez': 2929, 'de7': 1576, 'incidentally': 2997, 'eat': 1944, 'flaw': 2344, 'relate': 4792, 'invest': 3120, 'daisy': 1538, 'chain': 1108, 'train': 6030, 'stomp': 5580, 'volt': 6393, 'brainer': 907, 'name': 3878, 'biz': 819, 'yes': 6638, 'attain': 610, 'fatter': 2237, 'usa': 6282, 'clincher': 1206, 'provide': 4588, 'amazingly': 439, 'full': 2476, 'replace': 4824, 'x2': 6613, 'champ': 1112, 'magnet': 3518, 'louder': 3474, 'crap': 1463, 'flubby': 2366, 'replacement': 4826, 'definite': 1621, 'upgrade': 6267, '2nd': 134, '15': 54, 'delivered': 1635, 'cheapest': 1133, 'anywhere': 510, 'confuse': 1346, 'becomes': 750, 'obviously': 4030, 'rehearse': 4786, 'fooled': 2396, 'unless': 6218, 'mash': 3579, 'idiot': 2937, 'torque': 6004, 'driver': 1879, 'threads': 5925, 'depth': 1657, 'boss': 884, 'tremendous': 6061, 'hobbyist': 2850, 'hundred': 2915, 'pedals': 4263, 'plus': 4400, 'associated': 594, 'for': 2401, 'danelectrode': 1547, '9v': 245, 'gang': 2516, 'supply': 5710, 'danelectro': 1546, 'tie': 5944, 'inputs': 3052, 'outputs': 4147, 'independently': 3017, 'daily': 1536, 'couple': 1442, 'date': 1560, 'impress': 2973, 'benefit': 787, 'ukuleles': 6157, 'cavaquinhos': 1085, 'piano': 4321, 'various': 6327, 'korg': 3276, 'ga': 2508, 'tm': 5972, 'cm': 1231, 'worry': 6586, 'noisei': 3956, 'cava': 1084, 'most': 3806, 'nowadays': 4002, 'chromatic': 1167, 'intelli': 3086, 'imt': 2985, 'series': 5119, '100x': 32, 'okay': 4063, 'exaggerate': 2121, 'ambient': 441, 'accessory': 274, 'arrive': 561, 'muchhowever': 3830, 'family': 2216, 'creepy': 1475, 'quiet': 4649, 'bear': 737, 'dig': 1714, 'cause': 1082, 'fuzzy': 2501, 'wuzzy': 6611, 'frog': 2462, 'nothing': 3987, 'behind': 772, '55': 186, 'shockingly': 5188, 'serviceable': 5126, 'construct': 1372, 'drop': 1881, 'ive': 3159, 'ton': 5988, 'strum': 5633, 'thin': 5899, 'forgive': 2409, 'chest': 1150, 'classic': 1190, 'sticker': 5563, 'soak': 5357, 'maple': 3560, 'wood': 6568, 'metronome': 3663, 'only': 4078, 'incredibly': 3010, 'indicate': 3020, 'clearly': 1202, 'whether': 6498, 'subdivision': 5659, 'eighth': 1972, 'sixteenth': 5275, 'ensemble': 2046, 'personally': 4299, 'ago': 380, 'subsequently': 5664, 'result': 4870, 'stuck': 5639, 'middle': 3689, 'installation': 3066, 'additional': 327, 'sg': 5141, 'ouch': 4134, 'schaller': 5034, 'component': 1303, 'screws': 5058, 'piece': 4338, 'mind': 3707, 'somone': 5389, 'backordered': 677, 'site': 5269, 'everyone': 2114, 'preference': 4486, '14': 52, 'powder': 4459, 'bonus': 864, 'durability': 1914, 'skeptical': 5284, '39': 156, 'late': 3313, 'nov': 3997, '2012': 97, 'visit': 6377, 'pleasantly': 4381, 'shape': 5149, 'glue': 2601, 'affect': 362, 'allen': 406, 'wrench': 6602, 'trust': 6086, 'rod': 4936, 'lower': 3482, 'school': 5040, 'guard': 2681, 'nitpicking': 3949, 'warehouse': 6425, 'tear': 5808, 'thanks': 5864, 'tour': 6014, 'group': 2661, 'church': 1172, 'local': 3436, 'nursing': 4014, 'willing': 6528, 'town': 6020, 'celebration': 1094, 'activity': 309, 'warrant': 6432, 'typical': 6143, 'trunk': 6084, 'car': 1055, 'pedaltrain': 4265, 'extreme': 2185, 'stuff': 5645, 'wrap': 6600, 'minute': 3721, 'travel': 6053, 'roadie': 4926, 'surface': 5722, 'relative': 4795, 'clearance': 1200, 'wire': 6545, 'rearranged': 4714, 'already': 419, 'wired': 6546, 'movable': 3817, 'setup': 5134, 'versitile': 6345, 'asset': 589, 'fuss': 2495, 'chrome': 1168, 'neckplate': 3900, 'largely': 3306, 'cosmetic': 1426, 'serial': 5118, 'number': 4011, 'corrode': 1424, 'thinner': 5908, 'assuming': 598, 'underneath': 6187, 'anybody': 502, 'dent': 1644, 'likely': 3397, 'overtightened': 4180, 'fits': 2322, 'tightly': 5950, 'firm': 2312, 'disconnect': 1754, 'elixir': 2001, 'elixirs': 2002, 'stretchy': 5615, 'important': 2969, 'accurately': 288, 'move': 3818, 'muffle': 3837, 'loud': 3473, 'drown': 1883, 'sn': 5341, 'anticipated': 496, 'attache': 606, 'snugly': 5355, 'getgoing': 2564, 'tray': 6054, 'kvm': 3285, 'server': 5124, 'peterson': 4300, 'seiko': 5090, 'quiktune': 4653, 'ons': 4079, 'young': 6652, 'student': 5641, 'tuning': 6116, 'reliable': 4801, 'produce': 4547, 'ukus': 6158, 'hung': 2917, 'taper': 5791, 'fault': 2238, 'incorrect': 3006, 'nonetheless': 3966, 'unquestionably': 6238, 'richer': 4901, 'report': 4829, 'inlay': 3048, 'rehearsal': 4785, 'wireless': 6547, 'receiver': 4727, 'consistent': 1365, '90': 237, 'country': 1440, 'les': 3362, 'rickenbacker': 4902, 'gretsch': 2649, 'wave': 6448, 'selection': 5093, 'widths': 6519, 'limited': 3404, 'limitation': 3403, 'heart': 2787, 'ahead': 385, 'straplocks': 5597, 'asian': 576, 'except': 2128, 'takamine': 5776, 'yorker': 6648, 'ami': 445, 'custom': 1520, 'grown': 2665, 'fondness': 2393, 'phosphor': 4315, 'bronze': 941, 'brightness': 927, 'retain': 4874, 'alloy': 413, 'martin': 3575, 'lasting': 3310, 'coded': 1244, 'restringing': 4869, 'typically': 6144, 'restring': 4868, 'trio': 6073, 'herd': 2814, '012': 7, '016': 9, '024w': 10, '032w': 13, '042w': 16, '053whighly': 18, 'pic': 4322, 'sm57s': 5322, 'heck': 2795, 'special': 5445, 'coating': 1238, 'coated': 1237, 'lust': 3502, 'reasonable': 4717, 'sale': 4998, 'spill': 5464, 'wipe': 6544, 'rag': 4667, 'dry': 1888, 'edge': 1954, 'cleaner': 1196, 'bunch': 978, 'tight': 5947, 'loose': 3462, 'nady': 3875, 'starpower': 5528, 'akg': 394, '5800s': 190, 'mxl': 3865, '990': 243, 'connection': 1352, 'numerous': 4013, 'rule': 4974, 'shine': 5178, 'shiny': 5179, 'dps': 1855, 'couldnt': 1435, 'happier': 2727, 'brag': 905, 'wonderfull': 6565, 'dealer': 1581, 'forward': 2427, 'test': 5851, 'white': 6508, 'photo': 4316, 'clash': 1188, 'colors': 1259, 'designs': 1668, 'relatively': 4796, 'operate': 4092, 'aa': 248, 'primarily': 4520, 'meter': 3660, 'later': 3316, 'noisy': 3962, 'calibration': 1023, 'generator': 2547, 'pitch': 4351, 'hearing': 2786, 'loss': 3467, 'speed': 5458, '208': 105, 'bpm': 901, 'pendulum': 4274, 'preset': 4500, '42': 165, '44': 168, '88': 232, '92': 239, '96': 241, 'incrementally': 3011, '41': 164, '206': 103, '207': 104, 'signature': 5235, 'duplets': 1912, 'triplet': 6076, 'quadruplet': 4634, 'center': 1102, 'earphone': 1931, 'private': 4529, 'simultaneously': 5259, 'austin': 628, 'bazaar': 729, 'ship': 5180, 'consideration': 1363, 'tighten': 5948, 'nonpadded': 3967, 'contact': 1377, 'spring': 5479, 'gripping': 2656, 'buzz': 1004, 'playability': 4372, 'keyser': 3251, 'unique': 6211, 'adjustable': 337, 'trick': 6067, 'capoing': 1052, 'ultra': 6162, 'unobtrusive': 6230, 'jf': 3192, 'son': 5390, 'interested': 3094, 'technique': 5816, 'maxed': 3597, 'heavily': 2790, 'distort': 1791, 'effects': 1961, 'external': 2179, 'source': 5425, 'players': 4377, 'cfhnote': 1107, 'manufacturer': 3556, 'influence': 3038, 'rating': 4686, 'comment': 1272, 'seldom': 5091, 'ah': 384, 'charm': 1128, 'office': 4053, 'grasp': 2634, 'clever': 1203, 'empty': 2022, 'off': 4049, 'stringed': 5619, 'original': 4121, 'facilitates': 2196, 'smack': 5325, 'limestone': 3401, 'you': 6650, 'performs': 4288, 'piezo': 4340, 'invironments': 3122, 'insightful': 3058, 'upfront': 6266, 'transaction': 6032, 'thegibson': 5875, 'brite': 932, 'those': 5917, 'thismakes': 5912, 'easier': 1937, 'matterwho': 3594, 'none': 3965, 'heavyuse': 2793, 'exl': 2143, 'bending': 785, 'broadcast': 938, 'studios': 5643, 'response': 4861, 'roll': 4940, 'million': 3701, 'pedall': 4261, 'ur': 6279, 'pedalls': 4262, 'quaiet': 4635, 'soupose': 5423, 'german': 2560, 'knee': 3266, 'lol': 3447, 'whining': 6505, 'whatsoever': 6492, 'audible': 621, 'footprint': 2399, 'applies': 527, 'absorb': 261, 'fresh': 2448, 'exl110bt': 2144, 'nickel': 3936, 'wound': 6597, 'chord': 1161, 'tuned': 6111, 'check': 1140, 'alright': 420, 'bar': 703, 'impressive': 2977, 'reviewer': 4888, 'disappointed': 1742, 'genres': 2554, 'learning': 3341, 'shipped': 5182, 'rewievs': 4892, 'yrs': 6663, 'element': 1997, 'game': 2515, 'suppossed': 5714, 'mathmatically': 3591, 'match': 3582, 'fully': 2481, 'nope': 3971, 'snappy': 5345, 'xl': 6619, 'tensioned': 5842, 'disect': 1765, 'dna': 1811, 'strings': 5624, 'likes': 3398, 'harsh': 2749, 'twangy': 6128, 'present': 4498, 'flex': 2350, 'sharpen': 5155, 'supple': 5708, 'effortless': 1964, 'with': 6552, 'technology': 5817, 'textured': 5858, 'round': 4956, 'hex': 2820, 'shaped': 5150, 'core': 1415, 'brough': 944, 'waste': 6441, 'preamp': 4476, 'efeels': 1957, 'reveiws': 4883, 'surprisingly': 5728, 'positively': 4446, 'adaptor': 318, 'adorable': 347, 'lovely': 3480, 'toy': 6021, 'professionally': 4554, '10w': 34, 'manufactor': 3553, 'basically': 715, 'fool': 2395, 'song': 5392, 'tiny': 5963, 'cute': 1525, 'practical': 4467, 'frequence': 2444, 'reviwers': 4891, 'poor': 4428, 'direction': 1731, 'previous': 4513, 'luckily': 3495, 'deeply': 1607, 'longevity': 3450, 'headphone': 2774, 'silent': 5239, 'hp': 2894, 'dramatic': 1860, 'slider': 5303, 'manipulate': 3549, 'post': 4451, 'bullet': 971, 'helpful': 2807, 'period': 4290, 'expose': 2167, 'up': 6262, 'enhance': 2041, 'variable': 6323, 'colored': 1258, 'subtract': 5670, 'subtle': 5668, 'bump': 976, 'experiment': 2162, 'es': 2088, '58': 189, 'hefty': 2798, 'plan': 4362, 'outdoors': 4141, 'jackson': 3164, 'dkmg': 1808, '1st': 82, 'gator': 2528, 'skb': 5283, 'nicely': 3933, 'hsc': 2896, 'ax': 657, '814': 227, 'ce': 1091, '710': 216, 'agree': 381, 'coat': 1236, 'improve': 2979, 'them': 5877, 'strung': 5636, 'exp': 2147, 'unlike': 6219, 'unbearably': 6172, 'laguna': 3297, 'symphony': 5758, 'concert': 1323, 'pump': 4600, 'auditorium': 625, 'demand': 1638, 'positive': 4444, 'improvement': 2981, 'endless': 2032, 'mid': 3688, 'treble': 6056, 'darn': 1556, 'uncoated': 6178, 'doesnt': 1823, 'peircing': 4272, '60mm': 199, 'occasionally': 4033, 'warrany': 6434, 'hope': 2871, 'competitor': 1294, '120': 40, 'book': 867, 'prostuner': 4579, 'wellability': 6479, 'computerclean': 1313, 'drip': 1877, 'downloadable': 1847, 'internetconsdistortions': 3107, 'meh': 3628, 'ds': 1891, 'league': 3335, 'universe': 6216, 'permanent': 4293, 'dice': 1702, 'slot': 5316, '60': 197, 'fill': 2287, 'spent': 5462, 'cecilio': 1092, 'shoulder': 5208, 'easil': 1938, 'amplifier': 456, 'recode': 4737, 'recomend': 4740, 'extension': 2176, 'unlock': 6224, 'perchase': 4280, 'rust': 4982, '11': 36, 'attachment': 608, 'neatly': 3895, 'easthetic': 1942, 'black': 820, 'anodized': 487, 'stem': 5554, 'appearance': 521, 'accessible': 273, 'over': 4157, 'screen': 5055, 'responsive': 4864, 'let': 3367, 'needle': 3905, 'honeytone': 2865, 'connected': 1351, 'reverse': 4886, 'polarity': 4413, 'central': 1103, 'significantly': 5238, 'electrics': 1989, 'based': 713, 'magnetic': 3519, 'stayed': 5545, 'faster': 2232, 'slinkys': 5310, 'chunky': 1171, 'luster': 3503, 'an': 464, 'springy': 5480, 'supposedly': 5713, 'mi': 3672, 'crunch': 1490, 'account': 284, 'ultimate': 6160, 'solidly': 5375, 'apprears': 529, 'road': 4925, 'worthy': 6594, 'hesitation': 2819, 'aggravation': 376, 'gold': 2607, 'rockisland': 4932, 'laptop': 3304, 'sens': 5101, 'vibration': 6353, 'return': 4881, 'mosfet': 3805, 'circuit': 1175, 'overdriven': 4162, 'par': 4221, 'ehx': 1970, 'muff': 3836, 'fuzz': 2499, 'kindof': 3260, 'useless': 6291, 'hot': 2886, 'keeper': 3242, 'diameter': 1700, 'hat': 2754, 'anon': 488, 'gooseneckto': 2618, 'anady': 465, 'dm70': 1809, 'microphoneor': 3681, 'dm80': 1810, 'gooseneck': 2617, 'alto': 427, 'saxophone': 5024, 'baritone': 707, 'situations': 5273, 'stressful': 5612, 'drummer': 1887, 'foresight': 2406, 'cite': 1178, 'foreseen': 2405, 'within': 6557, 'watch': 6444, 'wide': 6516, 'wayyy': 6455, 'matte': 3592, 'glossy': 2597, 'gun': 2697, 'dial': 1699, 'bold': 859, 'srh840s': 5500, 'rather': 4685, 'srh440s': 5498, 'forum': 2426, '440s': 170, 'term': 5844, 'wanted': 6421, 'crack': 1453, 'placebo': 4358, 'presence': 4497, 'stubby': 5638, 'spoil': 5469, 'alternate': 424, 'picking': 4329, 'insane': 3054, 'bargain': 706, 'twice': 6135, 'tremolo': 6062, 'block': 844, 'intonation': 3113, 'cheaply': 1136, 'squier': 5493, 'affinity': 365, 'chinese': 1155, 'sleep': 5296, 'intend': 3089, 'sssss': 5503, 'processing': 4543, 'substantial': 5665, 'lever': 3372, 'pain': 4206, 'arse': 565, 'collapsible': 1250, 'klutz': 3265, 'encase': 2025, 'carbonite': 1057, 'satisfaction': 5013, 'steel': 5551, 'resonance': 4855, 'superior': 5705, 'songbooks': 5393, 'assembles': 586, 'folds': 2385, 'transport': 6046, 'cam': 1028, 'insert': 3056, 'gizmo': 2586, 'unplugging': 6236, 'plugging': 4396, 'between': 802, 'noiselessly': 3958, 'aluminum': 429, 'giggingowned': 2578, 'newly': 3928, '5c': 193, 'knobs': 3270, 'reccomend': 4723, 'iron': 3134, 'mackie': 3513, 'fabulous': 2194, 'weigh': 6473, 'daw': 1567, 'geetarists': 2539, 'funny': 2489, 'pot': 4454, 'cap': 1044, 'pup': 4606, 'fortune': 2424, 'tonal': 5989, 'spending': 5460, 'pure': 4612, 'gee': 2536, 'whiz': 6510, 'coincidence': 1247, 'warmer': 6427, 'convey': 1401, 'brain': 906, 'millisecond': 3702, 'wrapped': 6601, 'rig': 4910, 'sweeter': 5745, 'musical': 3854, 'general': 2542, 'tubes': 6103, 'angus': 479, 'sgs': 5142, 'nuts': 4016, 'slinkies': 5307, 'tos': 6007, '75': 220, 'nearer': 3891, 'dull': 1904, 'wait': 6406, 'faded': 2204, 'nicer': 3934, 'fingertip': 2304, 'but': 990, 'modded': 3752, 'cops': 1411, 'neighbor': 3910, 'chunk': 1170, 'squeal': 5491, 'triad': 6065, 'felt': 2264, 'grind': 2653, 'electrical': 1987, 'cohesion': 1245, 'sublime': 5661, 'bb': 730, 'legendary': 3352, 'regal': 4775, 'normally': 3975, 'priced': 4516, 'convert': 1399, 'ears': 1934, 'zep': 6666, 'jimi': 3197, 'riff': 4909, 'otis': 4133, 'rush': 4980, 'billy': 810, 'gibbon': 2568, 'lick': 3377, 'bluesy': 852, 'begs': 766, 'nickels': 3939, 'hell': 2802, '351': 152, 'fellow': 2263, 'squeaking': 5490, 'purist': 4616, 'movement': 3819, 'micron': 3679, 'loooong': 3458, 'washburn': 6437, 'folk': 2387, 'today': 5978, 'periods': 4292, 'brutalize': 948, 'fingertips': 2305, 'ta': 5764, 'probable': 4535, 'misplace': 3728, 'float': 2360, 'tweed': 6131, 'grows': 2666, 'yank': 6630, 'crush': 1493, 'retainer': 4875, 'cat': 1077, 'mustache': 3858, 'recomended': 4741, 'unplug': 6235, 'frequent': 2446, 'suspect': 5732, 'grab': 2623, 'anal': 466, 'shuffle': 5217, 'wore': 6572, 'bedroom': 754, 'bother': 886, 'storage': 5586, 'dozen': 1852, 'multi': 3840, 'limitless': 3406, 'cumbersome': 1505, 'flip': 2359, 'modify': 3765, 'lots': 3471, 'ordered': 4112, 'generally': 2543, 'perhaps': 4289, 'elite': 2000, 'category': 1080, 'wart': 6435, 'management': 3542, 'solution': 5378, 'cutout': 1526, 'securely': 5081, 'tangle': 5787, 'my': 3867, 'organize': 4116, 'lid': 3378, 'latch': 3312, 'slide': 5302, 'matching': 3583, 'twist': 6137, 'malfunction': 3539, 'satisfied': 5015, 'sizes': 5280, 'addition': 326, 'dedicate': 1603, 'expectation': 2152, 'continuously': 1387, 'listen': 3418, 'outstanding': 4150, 'disappears': 1740, 'hype': 2924, 'applaud': 522, 'cad': 1019, 'functional': 2485, 'competition': 1293, 'foggy': 2380, 'fog': 2379, 'funky': 2488, 'scent': 5033, 'wise': 6548, 'thingie': 5901, 'toss': 6008, 'smell': 5331, 'weird': 6476, 'machine': 3512, 'popped': 4431, 'fire': 2310, 'seamlessly': 5070, 'v1': 6301, 'watt': 6446, 'nos': 3977, 'route': 4959, 'jj': 3200, 'brother': 943, 'messing': 3652, 'modlers': 3766, 'dec': 1589, 'vt': 6401, '400': 163, 'overloaded': 4167, 'junior': 3221, 'bug': 958, 'v22': 6304, 'peavey': 4258, 'valveking': 6316, 'neccessarily': 3896, 'micros': 3684, 'sort': 5406, 'prepackaged': 4492, 'wally': 6414, 'world': 6582, 'schlepp': 5038, 'kid': 3254, '15lb': 58, 'initially': 3046, 'micro': 3677, 'virtuoso': 6373, 'destroy': 1676, 'pathfinder': 4243, '6watt': 210, 'v12': 6302, 'frontman': 2465, 'ballpark': 694, 'each': 1923, 'trebly': 6058, 'articulate': 568, 'powered': 4462, 'suprisingly': 5719, 'fork': 2412, 'lame': 3298, 'onboard': 4071, 'example': 2124, 'tremelo': 6060, 'dick': 1703, 'dale': 1539, 'surpher': 5725, 'suprising': 5718, 'accuracy': 286, 'oh': 4058, 'failure': 2208, 'minimum': 3715, 'requirement': 4838, 'sterile': 5558, 'ez': 2190, 'mxr': 3866, 'fear': 2250, 'guitarr': 2693, 'oacute': 4020, 'thicker': 5895, 'cello': 1098, 'amenable': 442, 'modification': 3764, 'bulge': 968, 'blowfish': 847, 'upper': 6270, 'gently': 2556, 'closely': 1214, 'view': 6362, 'acceptable': 270, 'retried': 4877, 'steady': 5548, '3mm': 159, 'hop': 2870, 'possibly': 4450, 'gigged': 2575, 'physically': 4318, 'discourage': 1756, 'itchy': 3151, 'class': 1189, 'ampand': 452, 'awonderful': 655, 'ipurchased': 3131, 'hybrid': 2923, 'us': 6280, 'tubesto': 6105, 'preampis': 4477, 'youthis': 6660, 'detractor': 1691, 'thereis': 5885, 'web': 6462, 'blackface': 825, 'channelthat': 1120, 'voices': 6388, 'enable': 2024, 'channelone': 1119, 'youso': 6659, 'choose': 1160, 'decibel': 1597, 'outto': 4151, 'reinforcement': 4787, 'unfortunately': 6204, 'aheadphone': 386, '1x': 84, '12ax7': 42, '2x': 136, '6v6s': 209, '8ohm': 234, 'replacethe': 4827, 'eminence': 2015, 'rajin': 4670, 'cajun': 1020, 'stockspeaker': 5578, 'regard': 4776, 'themods': 5879, 'subsequent': 5663, 'mod': 3751, 'easilymod': 1940, 'that': 5866, 'myfender': 3868, 'breakupwhen': 917, 'master': 3580, 'voicing': 6390, 'dsp': 1894, 'arepretty': 548, 'british': 933, 'jangle': 3171, 'fenderhot': 2268, 'optimize': 4105, 'alsoa': 422, 'jazz': 3179, 'character': 1122, 'king': 3262, 'amnot': 448, 'positivecomments': 4445, 'vibratone': 6355, 'opinionsout': 4098, 'authentic': 629, 'buya': 999, 'thisis': 5911, 'pound': 4458, '9kg': 244, 'ampwas': 462, '300': 139, 'originally': 4122, '2011': 96, 'dealtoday': 1583, 'windscreen': 6538, 'escpecially': 2090, 'needed': 3903, 'walk': 6410, 'chair': 1109, 'cant': 1042, 'row': 4961, 'shield': 5171, 'drive': 1878, 'beep': 757, 'silly': 5244, 'interfere': 3098, 'designed': 1667, 'clamps': 1183, 'mar': 3561, 'ukelele': 6154, 'internal': 3105, 'sensor': 5106, 'readable': 4697, 'finally': 2292, 'wander': 6418, 'attune': 617, 'instantly': 3070, 'sense': 5102, 'detune': 1693, '16th': 62, 'detects': 1684, 'admit': 345, 'intimidated': 3111, 'process': 4542, 'shopping': 5195, 'suprised': 5717, 'complete': 1297, 'instillation': 3072, 'jig': 3194, 'method': 3661, 'excited': 2134, 'roland': 4939, 'ac': 264, '33': 146, 'rip': 4919, 'awsome': 656, 'representative': 4830, 'direct': 1730, '770': 221, 'combine': 1264, 'sheraton': 5169, 'ii': 2944, 'semi': 5098, 'leon': 3361, 'u2': 6145, 'caveat': 1086, 'throw': 5934, 'preconceived': 4483, 'notion': 3995, 'jump': 3218, 'decay': 1592, 'register': 4780, 'subjective': 5660, 'judgment': 3213, 'involved': 3124, 'concerned': 1322, 'insure': 3080, 'yellow': 6635, 'symmetric': 5757, 'rad': 4664, 'illuminate': 2949, 'indication': 3023, 'sharpness': 5156, 'flatness': 2339, 'vanish': 6321, 'image': 2953, 'behaving': 770, 'uhm': 6152, 'tones': 5992, 'boat': 856, 'tv': 6126, 'tights': 5952, 'gage': 2511, 'stuffer': 5646, 'whicdh': 6499, 'workhorse': 6577, 'robust': 4927, 'greatly': 2641, 'beater': 741, 'toughness': 6013, 'tel': 5822, 'company': 1280, 'forsee': 2420, 'hooking': 2869, 'eithout': 1974, 'mesws': 3653, 'american': 444, 'noticed': 3994, '10mm': 33, 'stagger': 5510, 'glove': 2598, 'genuine': 2557, 'conditioner': 1331, 'assortment': 596, 'from': 2463, 'nominal': 3963, 'how': 2892, 'apresonus': 537, 'tubepre': 6102, 'vacuum': 6308, 'phantom': 4304, 'skip': 5292, 'merely': 3645, 'essential': 2094, 'optimal': 4104, 'delicate': 1630, 'lend': 3357, 'excess': 2131, 'stationary': 5542, 'itd': 3152, 'nearby': 3890, '30hz': 142, '20hz': 106, 'characteristic': 1123, 'dava': 1563, 'guilty': 2686, 'pleasure': 4384, 'batch': 725, 'davas': 1564, 'gone': 2610, 'stamped': 5515, 'out': 4137, 'tendency': 5838, 'investment': 3121, 'rp255': 4963, 'load': 3434, 'looper': 3460, 'cool': 1405, 'sets': 5129, 'greasr': 2638, 'tired': 5968, 'rockin': 4931, 'condo': 1332, 'ipod': 3130, 'daunt': 1562, 'owner': 4187, 'manual': 3551, 'anxious': 500, 'mail': 3524, 'polarize': 4414, 'boutique': 895, 'significant': 5237, 'hardcore': 2732, 'techie': 5811, 'community': 1276, 'despise': 1674, 'concept': 1320, 'exist': 2141, 'tried': 6069, 'loyal': 3484, 'controversy': 1396, 'copied': 1408, 'circuitry': 1176, 'known': 3275, 'western': 6483, 'fulltone': 2480, 'ocd': 4036, 'tubescreamer': 6104, 'vintage': 6366, 'crunchbox': 1491, 'disturb': 1800, 'appal': 516, 'follow': 2389, 'manufacture': 3554, 'faithful': 2212, 'successful': 5674, 'casual': 1076, 'afford': 366, 'openly': 4091, 'copy': 1412, 'inspiration': 3061, 'nobody': 3952, 'personal': 4298, 'differ': 1707, 'answer': 490, 'question': 4643, 'told': 5982, '21': 108, 'nyc': 4017, 'apparently': 518, 'discontinue': 1755, 'transparency': 6043, 'craft': 1456, 'correspond': 1423, 'fortunately': 2423, 'clock': 1210, 'trying': 6094, 'valvetronix': 6318, 'combo': 1265, 'importantly': 2970, 'admittedly': 346, 'actual': 310, 'bodied': 857, 'capable': 1046, 'somewhat': 5387, 'modeler': 3755, 'final': 2290, 'placed': 4359, 'dc': 1571, 'onespot': 4075, 'sorry': 5405, 'information': 3042, 'struggle': 5632, 'dod': 1819, 'soundtank': 5422, 'regret': 4782, 'safe': 4993, 'safety': 4995, 'cuz': 1528, 'cushined': 1518, 'lush': 3501, 'trems': 6063, 'hate': 2755, 'housing': 2891, 'locate': 3438, 'purchased': 4609, 'slow': 5318, 'precise': 4480, 'ratchet': 4683, 'whenever': 6495, 'downgrading': 1845, 'ns': 4005, 'microtuners': 3686, 'precisely': 4481, 'pluck': 4392, 'repeatedly': 4823, 'microtuner': 3685, 'acknowledges': 294, 'target': 5795, 'flicker': 2355, 'patience': 4244, 'repeat': 4822, 'effort': 1963, 'silk': 5241, 'produced': 4548, 'famous': 2217, 'whose': 6513, 'assemble': 584, 'south': 5426, 'border': 877, 'mellow': 3629, 'cross': 1487, 'nylon': 4018, 'ideal': 2935, 'occasion': 4031, 'bought': 891, 'niece': 3941, 'carefully': 1063, 'manufactured': 3555, 'dunno': 1910, 'pickguard': 4327, 'biggie': 807, 'oversized': 4177, 'tho': 5913, 'peel': 4268, 'sticky': 5566, 'email': 2009, 'proof': 4571, 'customer': 1521, 'blemish': 836, 'listened': 3419, 'cymbal': 1530, 'zildjians': 6668, 'paistes': 4211, 'trashy': 6052, 'china': 1153, 'resist': 4850, 'unaware': 6168, 'threaded': 5924, 'pole': 4415, 'posi': 4442, 'lok': 3446, 'reclaim': 4736, 'constructed': 1373, 'anymore': 504, 'decade': 1591, 'cd': 1090, 'mother': 3808, 'andrews': 474, 'sisters': 5266, 'pace': 4195, 'lack': 3292, 'drawback': 1865, 'mileage': 3699, 'measure': 3616, 'limits': 3407, 'carvin': 1071, 'fishman': 2318, 'sonic': 5395, 'flexibility': 2352, 'composition': 1304, 'entertainment': 2048, 'approach': 533, 'attitude': 614, 'manhattan': 3548, 'transfer': 6034, 'seal': 5067, 'celine': 1096, 'dion': 1728, 'freakin': 2439, 'wah': 6405, 'depressing': 1655, 'factual': 2202, 'mostly': 3807, 'sixth': 5276, 'decided': 1599, 'broken': 940, 'gem': 2541, 'lucky': 3496, 'frequently': 2447, 'eventually': 2108, 'guitars': 2694, 'advertisement': 355, 'psu': 4594, 'sb': 5027, 'described': 1661, 'generic': 2548, 'outside': 4149, 'pioneer': 4348, 'hdj': 2769, '2000': 89, 'terrible': 5846, 'at': 601, 'glance': 2589, 'grade': 2626, 'snug': 5354, 'flexible': 2353, 'unglued': 6205, 'spin': 5465, '5mm': 195, 'pristine': 4528, 'muddy': 3835, 'leak': 3336, 'pros': 4577, 'headband': 2772, 'volumes': 6395, 'markings': 3569, 'plugcons': 4394, 'annoy': 484, 'protect': 4580, 'compression': 1308, 'particular': 4229, 'caution': 1083, 'indent': 3015, 'permanently': 4294, 'rave': 4689, 'deliver': 1633, 'giggin': 2576, 'early': 1928, 'host': 2884, 'boot': 874, 'season': 5074, 'grace': 2625, 'wiser': 6550, 'pierce': 4339, 'unscrew': 6245, 'oil': 4060, 'flush': 2370, 'nip': 3947, 'bent': 788, 'shear': 5158, 'noticable': 3988, 'frankly': 2436, 'playable': 4373, 'picker': 4326, 'fair': 2209, 'ff': 2270, 'usual': 6294, 'sps': 5483, 'yairi': 6628, 'alvarez': 430, 'ay': 663, '000': 1, 'sized': 5279, 'physicist': 4319, 'explain': 2165, 'mechanic': 3618, 'slice': 5298, 'bread': 912, 'overpriced': 4173, 'overprice': 4172, 'yourinexpensive': 6656, 'asboutique': 574, 'lookingfor': 3455, 'andget': 473, 'specially': 5447, 'tame': 5784, 'quieter': 4651, 'xotic': 6622, 'ep': 2060, 'booster': 873, 'whichi': 6501, 'hardwire': 2738, 'disappear': 1739, 'butyou': 997, 'boxes': 898, 'poweradapter': 4461, 'specifically': 5449, 'telecaster': 5824, 'forth': 2421, 'beefy': 756, 'monster': 3791, 'condensor': 1328, 'album': 397, 'session': 5127, 'loosen': 3464, 'responses': 4862, 'moderately': 3761, 'negligible': 3909, 'functionality': 2486, 'added': 324, 'ensure': 2047, 'motion': 3809, 'receive': 4725, 'assembling': 587, 'suppressor': 5715, 'simplicity': 5253, 'correctly': 1422, 'kill': 3255, 'mouth': 3816, 'humidity': 2911, 'prevent': 4510, 'unwound': 6261, 'accustom': 289, 'jumbo': 3217, 'accentuate': 268, 'wan': 6417, 'na': 3874, 'science': 5042, 'focus': 2377, 'bbe': 732, 'uniquely': 6212, 'serf': 5117, 'producing': 4549, 'lo': 3433, 'contour': 1388, 'jumble': 3216, 'unpleasant': 6234, 'grate': 2635, 'smooths': 5340, 'clearer': 1201, 'aggressive': 378, 'indeed': 3013, 'sear': 5071, 'unsatisfied': 6244, 'recognize': 4739, 'impact': 2964, 'before': 760, 'conclusion': 1324, 'sheets': 5163, 'zip': 6670, 'tied': 5945, 'total': 6009, 'stealth': 5550, 'unaltered': 6165, 'stick': 5562, 'harder': 2733, 'beware': 803, 'ok': 4061, 'praise': 4472, 'transformer': 6035, 'included': 3000, 'substitute': 5666, 'rescue': 4842, 'orphan': 4123, 'rebuild': 4720, 'bada': 683, 'bing': 813, 'shoukd': 5207, 'text': 5856, 'specs': 5453, 'lacking': 3293, 'fiancee': 2274, '35yrs': 153, 'professionaly': 4555, '35': 151, 'ts9': 6097, 'ts': 6095, 'form': 2414, 'success': 5673, 'echo': 1948, 'dr600': 1858, 'weekend': 6471, 'earnie': 1930, 'curt': 1514, 'mangan': 3547, 'expectancy': 2151, 'bend': 783, 'alot': 417, 'crazy': 1466, 'blow': 846, 'doritos': 1834, 'fulfils': 2475, 'picks': 4332, 'marring': 3572, 'finishes': 2309, 'withdraw': 6554, 'knew': 3267, 'smash': 5330, 'fizzy': 2329, 'imo': 2963, 'opposite': 4102, 'screamer': 5053, 'pronounce': 4569, 'botique': 888, 'pauper': 4247, 'prop': 4572, 'plexi': 4388, 'crunchy': 1492, 'canada': 1036, 'wow': 6599, 'alone': 415, 'appropriate': 535, 'wrestling': 6604, 'clapton': 1185, 'consciousness': 1357, 'field': 2280, 'page': 4204, 'woman': 6562, 'stocking': 5576, 'contraption': 1389, 'purge': 4615, 'elocution': 2003, 'offensive': 4050, 'phoneme': 4311, 'plosive': 4391, 'phonemes': 4312, 'sibilant': 5223, 'guttural': 2701, 'artifact': 569, 'vowel': 6397, 'preface': 4484, 'ignite': 2941, 'momentary': 3781, 'gargle': 2524, 'purport': 4618, 'buggers': 961, 'prepared': 4495, 'doubt': 1838, 'status': 5543, 'hardware': 2737, 'apply': 528, 'lookout': 3456, 'snarl': 5351, 'dog': 1824, 'raspy': 4680, 'tongue': 5993, 'mm': 3746, 'besides': 793, 'recent': 4729, 'here': 2815, 'mistake': 3732, 'impossible': 2972, 'dot': 1836, 'superglue': 5704, 'compared': 1285, 'cobalt': 1240, 'silkier': 5242, 'discolored': 1752, 'quicker': 4646, 'husband': 2921, 'throne': 5931, 'ikea': 2947, 'stool': 5584, 'saddle': 4991, 'pice': 4323, 'recommmended': 4746, 'mold': 3776, 'cloth': 1219, 'unravel': 6239, 'tortex': 6006, '73': 219, 'mainstay': 3530, 'attack': 609, 'rapidly': 4677, 'spectrum': 5455, 'emphasis': 2016, 'attention': 613, 'amplify': 458, 'previously': 4514, 'menus': 3640, 'app': 515, 'tablet': 5767, 'phone': 4310, 'routine': 4960, 'el84': 1980, 'scratch': 5049, 'trinity': 6072, 'ac15': 265, 'lightning': 3391, 'mullard': 3838, 'ri': 4899, 'sovtek': 5427, 'el84m': 1982, '7189': 218, '365vdc': 155, '340vdc': 150, 'plat': 4368, 'doug': 1840, 'ruby': 4969, 'el84cz': 1981, 'performing': 4287, 'mim': 3703, '12ax7lps': 43, 'pi': 4320, 'matchless': 3584, 'b4': 669, 'mas': 3578, 'suction': 5679, 'soundholded': 5415, 'viewer': 6363, 'moisture': 3774, 'pressure': 4505, 'bridge': 921, 'unwanted': 6260, 'shift': 5172, 'lke': 3430, 'untuned': 6253, 'susceptible': 5731, 'temperature': 5830, 'eject': 1978, 'wedgie': 6468, 'receipt': 4724, 'regardless': 4777, 'inspect': 3059, 'inspection': 3060, 'wrestle': 6603, 'lodge': 3443, '4th': 178, 'act': 303, 'ride': 4905, 'strange': 5594, 'major': 3532, 'by': 1008, 'proven': 4587, 'climate': 1205, 'unlikely': 6220, 'allegiance': 405, 'peace': 4252, 'wet': 6484, 'sponge': 5472, 'humidifier': 2906, 'desktop': 1673, 'shockmount': 5189, 'arise': 551, 'cardboard': 1059, 'objectively': 4022, '335': 147, '81': 226, 'deserve': 1664, 'buckle': 953, 'hinge': 2835, 'plush': 4401, 'dreadnaught': 1869, 'cons': 1356, 'snap': 5344, 'shut': 5219, 'exterior': 2178, 'padded': 4202, 'unlined': 6222, 'epi': 2063, 'chemical': 1147, 'odor': 4047, 'air': 389, 'junk': 3222, 'nephew': 3914, 'sibling': 5224, 'parent': 4224, 'rhythm': 4897, '3rd': 160, 'lengthy': 3359, 'outer': 4142, 'pvc': 4629, 'zinc': 6669, 'develop': 1695, 'inner': 3049, 'condition': 1330, 'wider': 6517, 'classical': 1191, 'carpal': 1065, 'tunnel': 6118, 'surgery': 5723, 'jasmine': 3177, 'kept': 3245, 's34c': 4985, 'firstly': 2316, 'promptly': 4566, 'request': 4835, 'arrived': 562, 'honey': 2864, 'attract': 615, 'cutaway': 1524, 'unpracticed': 6237, 'superb': 5703, 'letter': 3369, 'lettering': 3370, 'tonality': 5990, 'jazzed': 3180, 'lesson': 3365, 'storm': 5588, 'leo': 3360, 'kottke': 3277, 'simpson': 5256, 'anytime': 507, 'shoot': 5193, 'thumb': 5938, 'octave': 4038, 'ya': 6625, 'palce': 4212, 'gap': 2517, 'tail': 5774, 'walker': 6411, 'williams': 6527, 'evernthough': 2110, 'washer': 6438, 'fight': 2283, 'metallic': 3657, 'bassier': 720, 'skill': 5287, 'normalcy': 3974, 'uncomfortable': 6180, 'retubed': 4879, 'duet': 1901, 'mullards': 3839, 'eh': 1967, 'sizzle': 5281, 'amz': 463, 'walkman': 6412, 'distorted': 1792, 'defintely': 1624, 'da': 1534, 'adjustability': 336, 'neighbour': 3912, 'rumble': 4975, 'everywhere': 2116, 'found': 2429, 'puller': 4598, 'yr': 6662, 'groove': 2659, 'strobe': 5627, 'overkill': 4165, 'average': 643, 'plasticy': 4367, 'tin': 5959, 'fitting': 2323, 'bench': 782, 'precision': 4482, 'gentle': 2555, 'toppy': 6002, 'describes': 1662, 'sample': 5001, 'lazy': 3327, 'attempt': 611, 'typewriter': 6142, 'bucker': 951, 'prce': 4474, 'key': 3248, 'compliment': 1302, 'equally': 2070, 'cs': 1499, 'sustainer': 5736, 'reasonably': 4718, 'minor': 3717, 'common': 1274, 'former': 2417, 'contemplate': 1382, 'solved': 5380, 'latter': 3319, 'necessarily': 3897, 'extremes': 2187, 'neutered': 3921, 'default': 1609, 'settings': 5132, 'keeley': 3240, 'north': 3976, 'similarly': 5249, 'compressed': 1307, 'ultimately': 6161, 'remain': 4805, 'lean': 3338, 'begining': 764, 'unsing': 6248, 'config': 1338, 'wha': 6486, 'bundle': 979, 'hosa': 2883, 'shorter': 5202, '5ft': 194, 'measurement': 3617, 'panic': 4217, 'comparable': 1281, 'aquila': 540, 'yeah': 6632, 'noticeable': 3992, 'polyphonic': 4422, '440': 169, 'hz': 2927, 'eb': 1945, 'gimmicky': 2582, 'traditional': 6028, 'gimmick': 2581, 'august': 626, '2013': 98, 'dislike': 1771, 'polytune': 4424, 'recommendable': 4743, 'wont': 6567, 'whammy': 6488, 'dk2': 1807, 'con': 1315, 'fullbore': 2477, 'octane': 4037, 'suitable': 5692, 'fm': 2375, 'what': 6489, 'jcm2000': 3185, 'dsl50': 1892, '1960a': 70, '4x12': 180, 'jcm': 3184, 'flavored': 2343, 'metalcore': 3655, 'advance': 349, 'minutes': 3722, 'proper': 4574, 'purposes': 4621, 'selling': 5097, 'summary': 5698, 'unmusical': 6227, 'sensitivity': 5105, 'me': 3607, 'currently': 1512, 'peer': 4269, 'fashioned': 2229, 'fake': 2213, 'extent': 2177, 'fyi': 2504, 'dave': 1565, 'mustaine': 3860, 'gsp1101': 2675, 'endrant': 2035, 'onstage': 4080, 'tad': 5772, 'compress': 1306, 'wins': 6542, 'conjunction': 1349, 'ada': 314, 'gcs': 2533, 'simulator': 5258, 'emulation': 2023, 'why': 6514, 'friggin': 2460, 'obvious': 4029, 'disadvantage': 1736, '150': 55, 'rely': 4804, 'discipline': 1750, 'rooms': 4945, 'hosts': 2885, 'limit': 3402, 'solder': 5372, 'speech': 5457, 'flimsy': 2357, 'sheath': 5159, 'plumber': 4398, 'regularly': 4784, 'guage': 2678, 'title': 5971, 'timeless': 5956, 'neutrik': 3923, 'mogami': 3773, 'definition': 1623, 'effectively': 1960, 'obtrusive': 4028, 'audience': 622, 'particularly': 4230, '175': 65, 'problematic': 4539, 'unusable': 6254, 'shelf': 5165, 'usb': 6286, 'window': 6536, 'led': 3347, 'thatcons': 5867, '15v': 59, 'intuitive': 3117, 'fiddling': 2278, 'overcome': 4159, 'overpower': 4171, 'slowly': 5319, 'notes': 3986, 'problems': 4540, 'tweaking': 6130, 'internet': 3106, 'shows': 5213, 'fifty': 2282, 'duo': 1911, 'addendum': 325, 'webcast': 6463, 'transmission': 6040, 'identical': 2936, 'hints': 2837, 'lantern': 3303, 'cell': 1097, 'printer': 4526, 'entire': 2050, 'uninstall': 6208, 'defeat': 1610, 'alter': 423, 'audacity': 619, 'manner': 3550, 'relevance': 4799, 'mac': 3509, 'linux': 3411, 'capacity': 1049, 'node': 3954, 'blaringly': 832, 'undefined': 6184, 'dyna': 1921, 'refreshing': 4770, 'organic': 4115, '600': 198, 'hd': 2765, 'bd': 734, 'ordinary': 4114, 'exceeds': 2126, 'expectations': 2153, 'promised': 4565, 'frustration': 2470, 'packing': 4200, 'hood': 2867, 'dirt': 1733, 'spit': 5466, 'transportation': 6047, 'age': 375, 'sans': 5006, 'coax': 1239, 'salesperson': 4999, 'incentive': 2994, 'itch': 3150, 'touring': 6015, 'covered': 1448, 'tolex': 5986, 'interior': 3101, 'compartment': 1287, 'adequately': 331, 'andsquier': 475, 'metallicperfectly': 3659, 'excuse': 2136, 'stratocasters': 5605, 'thumbwheel': 5940, 'locking': 3441, 'building': 964, 'lift': 3386, 'lug': 3497, 'programmable': 4560, 'clubs': 1223, 'stair': 5512, 'soundcraft': 5413, 'gigarac': 2574, 'active': 308, 'cs9': 1501, 'alesis': 399, 'seems': 5088, 'winner': 6541, 'sheriton': 5170, 'dc9': 1572, '1984': 77, 'ts10': 6096, 'sqeezer': 5485, 'ratio': 4687, 'threshold': 5927, 'release': 4798, 'peak': 4254, 'punch': 4603, 'cs400': 1500, 'pleather': 4385, 'beatle': 742, 'collector': 1254, 'graphic': 2632, 'duplicate': 1913, 'operation': 4095, 'imagination': 2954, 'differently': 1710, 'generation': 2546, 'wee': 6469, 'autoharps': 634, 'loudly': 3475, 'taste': 5799, 'smoothness': 5339, 'responds': 4860, 'peg': 4270, 'changes': 1117, 'purposely': 4620, 'carpet': 1066, 'rough': 4954, 'inconvenient': 3004, 'closer': 1215, 'imagined': 2956, 'stamp': 5514, 'imac': 2951, 'lighter': 3388, 'furniture': 2493, 'bill': 809, 'sheet': 5162, 'plexiglas': 4389, 'sandwich': 5005, 'score': 5046, 'sturdiness': 5651, 'elevation': 1998, 'discrepancy': 1760, 'october': 4039, 'erect': 2077, 'hisonic': 2840, 'table': 5766, 'folding': 2384, 'bell': 777, 'whistle': 6507, 'sophistication': 5402, 'fab': 2192, 'confident': 1336, 'marking': 3568, 'pale': 4213, 'thoughtfully': 5920, 'desingned': 1669, 'contrast': 1390, 'paint': 4209, 'marker': 3564, 'whiteout': 6509, 'shore': 5197, 'twang': 6127, 'beyond': 804, 'neighborhood': 3911, 'fasten': 2231, 'thong': 5915, 'im': 2950, 'highr': 2831, 'tinny': 5961, 'heavyweight': 2794, 'id': 2933, 'tubular': 6107, 'stiffer': 5568, 'stainless': 5511, 'roller': 4942, 'adjuster': 339, 'rivet': 4924, 'sideways': 5230, 'camt': 1033, 'port': 4436, 'flap': 2334, 'prone': 4567, 'sided': 5227, 'ave': 642, 'imputs': 2984, 'defenetly': 1614, 'reggae': 4778, 'warp': 6431, 'bugger': 960, 'worn': 6584, 'mimic': 3704, 'rarely': 4679, 'tavern': 5800, '500': 182, 'iv': 3158, 'jury': 3223, 'plunk': 4399, 'readout': 4700, 'span': 5433, 'bulk': 969, 'wisely': 6549, 'print': 4525, 'drug': 1885, 'greed': 2643, 'charge': 1125, 'rugged': 4972, 'dab': 1535, 'gorilla': 2619, 'flute': 2371, 'launder': 3322, 'satisfies': 5016, 'strain': 5593, 'unintentionally': 6210, 'zoom': 6674, 'olympus': 4068, 'ls11': 3488, 'features': 2253, 'combi': 1262, 'fluff': 2367, 'pocketstudio': 4405, 'farse': 2226, 'japanese': 3174, 'english': 2040, 'translation': 6039, 'familiar': 2215, 'dug': 1903, 'menu': 3639, 'fiddly': 2279, 'modes': 3763, 'h4n': 2706, 'mme': 3747, 'asio': 578, 'xp': 6623, 'asio4all': 579, 'monitor': 3785, 'multitracking': 3846, 'cakewalk': 1021, 'sonar': 5391, 'sadly': 4992, 'stellar': 5553, 'ps': 4593, 'accept': 269, 'converter': 1400, 'recorders': 4750, 'growl': 2664, 'costly': 1428, 'quit': 4654, 'harmonica': 2741, 'hohner': 2851, 'prepare': 4494, 'kazoos': 3237, 'duct': 1898, 'kazoo': 3236, 'aesthetic': 361, 'lipstick': 3414, 'silvertone': 5246, 'aweful': 648, '1980': 75, 'kramer': 3278, 'humbucker': 2904, 'assisted': 592, 'thump': 5941, 'b212d': 667, 'corner': 1417, 'waiter': 6407, 'generously': 2550, 'powerful': 4463, 'modules': 3771, 'reproduce': 4831, 'assort': 595, 'instuments': 3077, 'behringers': 774, 'srm': 5501, 'mp3': 3822, 'b21d': 668, 'mistreat': 3734, 'accidentally': 275, '250': 116, 'facing': 2197, 'telescope': 5826, 'headache': 2771, 'brits': 934, 'specialized': 5446, 'aware': 646, 'amplifiers': 457, 'secondly': 5078, 'crispy': 1481, '15db': 57, 'club': 1222, 'overwhelm': 4183, '500hz': 183, 'drowns': 1884, 'unnecessary': 6229, 'di': 1698, 'virtual': 6370, 'reamping': 4711, 'darken': 1553, 'brighten': 924, 'bothersome': 887, 'ge': 2534, 'generate': 2544, 'fence': 2266, 'snob': 5353, '24hrs': 114, 'loses': 3466, 'peddle': 4267, 'flexable': 2351, 'overly': 4169, 'warn': 6429, 'didnt': 1705, 'description': 1663, 'ample': 454, 'mitigates': 3739, 'sleek': 5295, 'frame': 2434, '83cb': 229, 'counterfeit': 1438, 'spo': 5468, 'nut': 4015, 'wove': 6598, 'lowly': 3483, 'hindsight': 2834, 'lace': 3291, 'norma': 3972, 'origin': 4120, 'claim': 1181, '099': 26, '0818': 22, 'straplock': 5596, 'chromethe': 1169, 'overload': 4166, 'funtions': 2490, 'interferes': 3100, 'tricky': 6068, 'phaser': 4306, 'phase': 4305, 'hump': 2914, 'dos': 1835, 'voiceover': 6387, 'yeti': 6641, 'transition': 6037, 'orientation': 4118, 'diaphragm': 1701, 'reattach': 4719, 'after': 369, 'isolation': 3143, 'isolator': 3144, 'universal': 6214, 'probally': 4537, 'application': 523, 'truley': 6081, 'fom': 2391, 'surroundings': 5730, 'isolators': 3145, 'bands': 698, 'going': 2606, 'provider': 4589, 'accustomed': 290, 'technically': 5814, 'compromise': 1310, 'intonate': 3112, 'electronically': 1993, 'confused': 1347, 'stagg': 5509, 'format': 2416, 'yamaha': 6629, 'lr': 3486, 'baggs': 687, 'para': 4222, 'impeccable': 2965, 'buster': 988, 'tiesco': 5946, 'refurbish': 4773, 'grandson': 2628, 'compatible': 1289, 'belong': 778, '1u': 83, 'connectivity': 1353, 'conventional': 1398, 'moreover': 3800, 'deny': 1645, 'refund': 4771, 'offering': 4052, 'presumably': 4506, 'vendor': 6333, 'sonority': 5396, 'npr': 4004, 'distinction': 1787, 'purchaser': 4610, 'derives': 1658, 'consuming': 1376, 'practically': 4468, 'neat': 3893, 'having': 2761, 'keyboard': 3249, 'pro88sx': 4533, 'mistakenly': 3733, 'pro88': 4532, 'hesitant': 2817, 'buyer': 1001, 'sub': 5657, 'assured': 600, 'postage': 4452, 'jazzmaster': 3181, 'notably': 3981, 'humm': 2912, 'unsuccessful': 6250, 'axe': 658, 'desired': 1671, 'vic': 6357, 'firth': 2317, 'downer': 1843, 'vaders': 6309, 'bank': 702, 'obtain': 4026, 'dead': 1577, 'ernies': 2083, 'martins': 3576, 'd5': 1533, 'harp': 2747, '26': 122, 'jcm800': 3186, 'wild': 6524, 'midrangey': 3692, 'scoop': 5044, 'hollowness': 2858, 'throaty': 5930, 'tames': 5785, 'fizzyness': 2330, 'ghostbusters': 2566, 'stream': 5608, 'harshness': 2750, 'metallica': 3658, 'sabbath': 4988, 'scandinavian': 5029, 'boston': 885, 'darker': 1554, 'dr': 1856, 'accomplishes': 281, 'fluid': 2368, 'crystal': 1498, 'delivery': 1636, 'odds': 4045, 'removed': 4813, 'seemingly': 5087, 'removal': 4811, 'encasement': 2026, 'suffer': 5683, 'reproduction': 4832, 'versatility': 6342, 'couch': 1432, 'pitchblack': 4352, 'powersource': 4464, 'specify': 5452, 'blind': 840, 'anti': 494, 'ls': 3487, 'die': 1706, 'encode': 2028, 'tripod': 6077, 'charger': 1126, 'earbuds': 1927, 'environments': 2059, 'tradeoff': 6027, 'casing': 1074, 'h1': 2704, 'sept': 5113, '2010': 95, 'killer': 3256, 'aroung': 556, 'hidden': 2825, 'worship': 6589, 'antenna': 491, 'darkness': 1555, 'bleed': 835, 'industrial': 3029, 'years': 6634, 'we': 6457, 'operated': 4093, 'microphones': 3682, 'environmental': 2058, 'versus': 6346, 'handiness': 2718, 'adaptability': 316, 'lumen': 3499, 'define': 1619, 'solos': 5377, 'filling': 2288, '900': 238, '140': 53, 'bolt': 860, 'purely': 4613, 'conservative': 1359, '160': 61, 'tempt': 5834, 'proud': 4585, 'amplification': 455, 'practicing': 4470, 'nit': 3948, 'universality': 6215, 'advise': 359, 'arises': 552, 'rg7321': 4893, 'le200qbc': 3332, 'straps': 5602, 'discs': 1762, '1990': 78, '2003': 90, 'dd': 1573, 'held': 2800, 'stalwart': 5513, 'texture': 5857, 'fx600': 2503, 'lite': 3422, 'thru': 5936, 'unintended': 6209, 'valuable': 6312, 'confidence': 1335, 'buddy': 955, 'introduce': 3116, 'vague': 6310, 'jammed': 3168, 'jcm900': 3187, 'badass': 684, '78': 222, 'riot': 4918, 'etb92': 2100, 'tapewounds': 5792, 'polished': 4418, 'will1': 6526, 'drool': 1880, 'and2': 472, 'soundcheck': 5412, 'intact': 3081, 'examination': 2122, 'does': 1822, 'nt': 4006, 'polypropylene': 4423, 'business': 986, 'bedazzler': 753, 'awesomely': 650, 'defenley': 1615, 'bone': 862, 'thogh': 5914, 'sand': 5003, 'beause': 743, 'mislead': 3726, 'wedge': 6467, 'neath': 3894, 'february': 2254, '08': 21, 'truth': 6089, 'verb': 6335, 'apologize': 514, 'financial': 2293, 'search': 5072, 'ducking': 1897, 'reverbs': 4885, 'slap': 5293, 'verbzilla': 6336, 'gsp': 2674, '2101': 109, 'duck': 1896, 'swell': 5747, 'giga': 2572, 'rv600': 4983, 'received': 4726, 'ep2500': 2061, 'rife': 4908, 'ep4000': 2062, 'jammer': 3169, 'cramp': 1458, 'theblue': 5872, 'encore': 2029, 'breeze': 919, 'inadvertently': 2990, 'bind': 811, 'binding': 812, 'prevented': 4511, 'theseismic': 5890, 'dj': 1806, 'wedding': 6466, 'styleon': 5655, 'mc7201b': 3602, 'blackto': 828, 'stompbox': 5581, 'installed': 3067, 'schallers': 5035, 'mentioned': 3637, 'goofy': 2613, 'challenge': 1111, 'allowance': 411, 'differing': 1711, 'locks': 3442, 'buttons': 996, 'riser': 4921, 'airplane': 391, 'stiffness': 5569, 'closest': 1216, 'strummer': 5634, 'loosely': 3463, 'softly': 5367, 'preferred': 4487, 'elusive': 2007, 'incl': 2998, 'sansamp': 5007, 'svt': 5738, 'seymour': 5140, 'duncan': 1907, 'aguilar': 383, 'gs410': 2673, '9vdc': 246, 'closet': 1217, 'vs': 6399, 'continue': 1386, 'left': 3348, 'footswitch': 2400, 'drilled': 1875, 'ish': 3139, 'observe': 4024, 'ofthe': 4057, 'beasue': 739, 'gs330s': 2671, 'iif': 2945, 'stingy': 5572, 'raise': 4669, 'harmonizer': 2744, 'discovered': 1758, 'dean': 1584, 'shifter': 5173, 'harmonist': 2742, 'needless': 3906, 'ruin': 4973, 'controle': 1393, 'array': 559, 'morning': 3802, 'meant': 3613, 'ziplock': 6671, 'bulky': 970, 'applicator': 525, 'gripe': 2655, 'jangly': 3172, 'peaky': 4255, 'bitey': 817, 'albert': 396, 'collins': 1255, 'oomph': 4086, 'dash': 1557, 'sounds': 5420, 'hughes': 2900, 'kettner': 3246, 'statesman': 5536, 'heard': 2785, 'fatness': 2236, 'impression': 2975, 'swear': 5741, 'copper': 1410, 'bracelet': 903, 'arthritis': 567, 'vitamin': 6381, 'regimen': 4779, 'suggestable': 5687, 'are': 544, 'tweak': 6129, 'hanger': 2724, 'candy': 1039, 'street': 5609, 'girlfriend': 2583, 'mainsqueeze': 3529, 'nuff': 4009, 'prime': 4522, 'fourth': 2431, 'seen': 5089, 'brittle': 935, 'shirt': 5184, 'sore': 5404, 'wash': 6436, 'fabric': 2193, 'softener': 5365, 'soften': 5364, 'furious': 2492, 'barrier': 711, 'mentioning': 3638, 'had': 2709, 'rat': 4681, 'topple': 6000, 'story': 5589, 'finicky': 2306, 'his': 2839, 'her': 2811, 'workstation': 6581, 'champion': 1113, 'thats': 5868, 'eh6v6': 1968, '6v6': 208, 'modulate': 3768, 'related': 4793, 'un': 6163, 'usable': 6284, 'putzing': 4626, 'carbon': 1056, 'nod': 3953, 'onthe': 4081, 'lit': 3421, 'substitution': 5667, 'picked': 4325, 'evenly': 2105, 'constant': 1368, 'peadl': 4253, 'configuration': 1339, 'descent': 1659, 'disliked': 1772, 'chosen': 1164, 'happens': 2726, 'glass': 2591, 'frill': 2461, 'rattle': 4688, 'v5': 6305, 'starbugera': 5525, 'starslets': 5530, 'realistic': 4704, 'its': 3156, 'reflect': 4768, 'microphonic': 3683, 'bugera': 959, 'worst': 6590, 'clueless': 1225, 'arrogant': 564, 'condescending': 1329, 'itself': 3157, '5w': 196, 'garble': 2521, 'arent': 547, 'isnt': 3141, 'celestion': 1095, 'youre': 6655, 'justify': 3227, '1k': 80, 'farty': 2227, 'unbeatable': 6173, 'shortcoming': 5200, 'horrid': 2882, 'mal': 3537, 'adjusted': 338, 'versions': 6344, 'higher': 2828, 'acknowledge': 293, 'minority': 3718, 'repair': 4820, 'afterwards': 372, 'literally': 3423, 'suspected': 5733, 'potentiameter': 4456, 'reoccurred': 4817, 'horrible': 2880, 'static': 5537, 'hopefully': 2873, '10x': 35, 'dud': 1899, 'artist': 571, 'adjusting': 340, 'seagull': 5066, 'dano': 1551, 'imho': 2958, 'link': 3409, 'enclosure': 2027, 'sturdier': 5650, 'trem': 6059, 'humble': 2903, 'purple': 4617, 'charcoal': 1124, 'annoying': 486, 'other': 4130, 'sooooo': 5401, 'multitude': 3847, 'is': 3138, 'readability': 4696, 'win': 6531, 'capability': 1045, 'down': 1842, 'loadable': 3435, 'can': 1034, 'rp': 4962, '255': 117, 'provision': 4590, 'overwhelming': 4184, 'bulb': 966, 'bulbs': 967, 'flash': 2335, 'flashing': 2337, 'switcher': 5752, 'rotation': 4953, 'melt': 3631, 'knife': 3268, 'guardian': 2682, 'prior': 4527, 'nick': 3935, 'security': 5083, 'plane': 4363, 'flight': 2356, 'suffice': 5684, 'lie': 3379, 'sob': 5359, 'third': 5909, 'of': 4048, 'hopeful': 2872, 'ridiculous': 4906, 'novelty': 3998, 'collect': 1252, 'finding': 2295, 'nuance': 4007, 'impulse': 2983, 'grabbed': 2624, 'passion': 4235, 'ehh': 1969, 'shit': 5185, 'hawaiian': 2762, 'israel': 3146, 'kamakawiwo': 3231, 'ole': 4067, 'lmao': 3432, 'goodness': 2612, 'forty': 2425, 'retail': 4872, 'joke': 3207, 'irig': 3132, 'not': 3979, 'amplitube': 459, 'saturate': 5019, 'plent': 4386, 'rangey': 4675, 'vanilla': 6320, 'flavor': 2342, 'successfully': 5675, 'intention': 3091, 'task': 5798, '2008': 93, 'talyor': 5783, 'ga4e': 2509, 'bassy': 724, 'thud': 5937, 'ymmv': 6644, 'reiterate': 4790, 'grunge': 2668, 'cheapish': 1135, 'afraid': 368, 'vibrato': 6354, 'toe': 5979, 'sixty': 5277, 'bucks': 954, 'multifunction': 3841, 'rear': 4713, 'upwardly': 6277, 'tabletop': 5768, 'approx': 536, 'postive': 4453, 'pun': 4602, 'modulation': 3769, 'moreley': 3799, 'alligator': 408, 'mimimum': 3705, 'law': 3323, 'max': 3596, 'awful': 651, 'hotel': 2887, 'barre': 710, 'progression': 4561, 'banjos': 701, 'lessson': 3366, 'origianlly': 4119, 'results': 4871, 'spendthrift': 5461, 'duration': 1917, 'producci': 4546, 'consumer': 1375, 'dramatically': 1861, 'remedy': 4806, 'fryette': 2471, 'deliverance': 1634, '490r': 175, '498t': 176, 'extraneous': 2183, 'prob': 4534, 'nonsense': 3968, 'nifty': 3942, 'groupie': 2662, 'clumsy': 1227, 'scream': 5052, 'pink': 4346, 'hello': 2804, 'kitty': 3264, 'prize': 4530, '1968': 73, 'hendrix': 2810, '1964': 72, 'eric': 2080, 'es335': 2089, 'ohm': 4059, 'transparently': 6045, 'activate': 306, 'quote': 4656, 'satisfactory': 5014, 'ouput': 4136, 'fee': 2256, 'rotary': 4950, 'ground': 2660, 'blend': 837, 'taking': 5778, 'logically': 3444, 'cranking': 1462, 'inject': 3047, 'passive': 4237, '12db': 44, 'db': 1570, 'coloration': 1257, 'content': 1383, 'conflict': 1344, 'clockwise': 1211, 'labor': 3290, 'germany': 2561, 'spec': 5444, 'entice': 2049, 'destructed': 1678, 'terminal': 5845, 'duracell': 1916, 'tweeter': 6132, 'glare': 2590, 'foremost': 2404, 'indefinitely': 3014, 'fashion': 2228, 'combos': 1266, 'beauty': 747, 'backline': 675, '18': 66, 'turtle': 6124, 'beach': 736, 'santa': 5008, 'cruz': 1494, 'soundcard': 5411, 'inadequate': 2989, 'strongly': 5630, 'thinline': 5906, 'don': 1829, 'aqua': 539, 'pus': 4622, 'difficulty': 1713, 'eadgbe': 1925, 'tab': 5765, 'trash': 6051, 'dusty': 1919, 'protection': 4581, 'sync': 5759, 'implementation': 2968, 'flawed': 2345, 'erratic': 2084, 'unreliable': 6241, 'quantize': 4641, 'sigh': 5231, 'sampler': 5002, 'sequencer': 5115, 'flashback': 2336, 'decision': 1600, 'adequate': 330, 'greenish': 2646, 'square': 5487, 'nasty': 3883, 'habit': 2708, 'deter': 1685, 'scheme': 5037, 'couple4pcs': 1443, 'bond': 861, 'logo': 3445, 'understate': 6191, 'classy': 1193, 'neutral': 3922, 'pointy': 4412, 'drastically': 1863, 'depends': 1652, 'through': 5932, 'holiday': 2856, 'damp': 1543, 'improper': 2978, 'indigo': 3025, 'outlast': 4143, 'bm': 854, 'intro': 3115, 'abalone': 249, 'celluloid': 1099, 'thinmy': 5907, 'ancient': 470, 'stub': 5637, 'interpretation': 3108, 'bessie': 794, 'smith': 5333, 'simon': 5250, 'garfunkel': 2523, 'scarborough': 5030, 'exclusively': 2135, 'george': 2559, 'harrison': 2748, 'sun': 5700, 'fingerstyle': 2303, 'ej16': 1976, 'bristol': 931, 'blueridge': 850, 'lightfor': 3389, 'rank': 4676, 'wrist': 6606, 'smoothly': 5338, 'undoubtedly': 6196, 'accomplished': 280, 'delighted': 1632, 'quantity': 4640, 'accordingly': 283, 'foil': 2381, 'poly': 4420, 'antic': 495, 'thumbs': 5939, 'mom': 3778, 'bare': 704, 'bones': 863, 'padding': 4203, 'esteban': 2097, 'infomercial': 3040, 'unplayable': 6233, 'noticably': 3990, '03': 12, 'mobile': 3750, 'latency': 3315, 'tuff': 6109, 'ksm': 3281, '32': 145, 'tuck': 6108, 'sag': 4996, 'premature': 4489, 'hardshell': 2736, 'chipboard': 1157, '1963': 71, '135': 49, 'archtop': 542, 'bout': 894, 'shell': 5166, 'fur': 2491, 'dumb': 1906, 'reminder': 4808, 'crook': 1485, 'immediatly': 2962, 'arrival': 560, 'slit': 5314, 'xds': 6616, 'transmitter': 6042, 'creative': 1471, 'jimmy': 3198, 'pgae': 4303, 'harness': 2746, 'guytone': 2703, 'swollen': 5754, 'pickle': 4331, 'shredder': 5215, 'bight': 808, 'moment': 3779, 'shred': 5214, 'pures': 4614, 'pony': 4426, 'listing': 3420, 'podium': 4410, 'cup': 1506, 'japan': 3173, 'gotoh': 2621, 'bush': 985, '340': 149, 'parts': 4231, 'deoxit': 1646, 'military': 3700, 'wasteful': 6442, 'wd40': 6456, 'flammable': 2333, 'coolsoft': 1407, 'virtualmidisynth': 6372, 'realtime': 4710, 'sprang': 5476, '3x': 161, 'bulletstrat': 973, 'or': 4109, 'consistently': 1366, 'soooo': 5400, 'brown': 946, 'searching': 5073, 'obligatory': 4023, 'jamming': 3170, '1970': 74, 'correct': 1420, 'alas': 395, 'stone': 5582, 'lately': 3314, 'men': 3635, 'capitalists': 1050, 'greedy': 2644, 'socialist': 5360, 'precent': 4479, 'lint': 3410, 'catch': 1078, 'caught': 1081, 'evans': 2102, 'tint': 5962, 'ply': 4402, 'wasnt': 6439, 'cream': 1468, 'music123': 3853, 'usps': 6293, 'blame': 830, '2006': 92, 'electronic': 1992, 'indoor': 3028, 'outdoor': 4140, 'thermometer': 5887, 'gallon': 2513, 'water': 6445, '1500': 56, 'sq': 5484, 'ft': 2474, 'winter': 6543, '47': 173, 'breathe': 918, 'safer': 4994, 'silica': 5240, 'gel': 2540, 'showroom': 5212, 'tabs': 5769, 'appropiately': 534, 'fancy': 2220, 'victim': 6359, 'confirmation': 1343, 'bias': 805, 'undesirable': 6194, 'nasal': 3882, 'hissy': 2843, 'advertises': 356, 'dimebagged': 1722, 'electro': 1991, 'harmonix': 2743, 'overstep': 4179, 'bound': 893, 'cash': 1073, 'simplify': 5254, 'compete': 1292, 'cranked': 1461, 'reality': 4707, 'scooper': 5045, 'grit': 2658, 'laskin': 3307, 'dismantle': 1774, 'fumble': 2482, 'sudden': 5680, 'sincerely': 5262, 'doc': 1814, 'cheer': 1142, 'shake': 5144, 'expected': 2154, 'moving': 3821, 'deterioratecons': 1687, 'rhythms': 4898, 'activated': 307, 'contest': 1384, 'suddenly': 5681, 'spectacular': 5454, 'beefier': 755, 'slinks': 5308, 'existance': 2142, 'realise': 4703, 'lustre': 3504, 'polycoating': 4421, 'few': 2269, 'stringmakers': 5623, 'grant': 2629, 'hay': 2764, 'patent': 4240, 'kyser': 3286, 'sting': 5571, 'detrimentally': 1692, 'affected': 363, 'improving': 2982, 'inferior': 3036, 'unattached': 6166, 'unsure': 6251, 'useable': 6288, 'nickle': 3940, 'indentation': 3016, 'slimmer': 5306, 'sloppy': 5315, 'concave': 1316, 'shallow': 5147, 'depression': 1656, 'apt': 538, 'when': 6494, 'weighted': 6475, 'living': 3429, 'annoyance': 485, 'leverage': 3373, 'horizontally': 2876, 'nudge': 4008, 'worthwhile': 6593, 'location': 3439, 'earn': 1929, 'retrospect': 4878, 'flag': 2331, 'curl': 1510, 'wrinkle': 6605, 'fray': 2437, 'developed': 1696, 'deform': 1626, 'secondary': 5077, 'softer': 5366, 'degrade': 1627, 'imhoupdate': 2959, 'ghost': 2565, 'modtone': 3767, 'slapback': 5294, 'strapprotec': 5601, 'blackand': 821, 'straplocksschaller': 5598, 'nickelfor': 3938, 'dolphin': 1827, 'begginers': 761, 'preamps': 4478, 'ref': 4765, 'numb': 4010, 'acclimate': 277, '6th': 207, 'interesting': 3095, 'excite': 2133, 'designation': 1666, 'audiophile': 624, 'fortunate': 2422, 'thebose': 5873, 'ae2w': 360, 'bluetooth': 853, 'blackbeing': 822, 'bose': 883, 'unfair': 6198, 'th': 5860, 'equalizer': 2069, 'seek': 5085, 'genre': 2553, 'latino': 3318, 'attempted': 612, 'andyamaha': 476, 'rx': 4984, 'v675': 6306, 'network': 3919, '3d': 157, 'av': 639, 'airplay': 392, 'headpiece': 2778, 'estimate': 2099, 'foldable': 2383, 'reduction': 4760, 'appeal': 519, 'headset': 2781, 'heads': 2780, 'subtlety': 5669, 'verge': 6338, 'backwards': 681, 'tippy': 5965, 'tips': 5966, 'seat': 5075, 'rudimentary': 4970, 'unsightly': 6247, 'upc': 6263, 'tediously': 5819, 'granted': 2630, 'temperamental': 5829, 'livelihood': 3427, 'gretch': 2648, 'dd400': 1574, '1300': 48, 'floyd': 2365, 'david': 1566, 'rockabilly': 4929, 'hardly': 2734, 'tested': 5852, 'valvestate': 6317, 'interference': 3099, 'la': 3287, 'berkeley': 792, 'cb': 1088, 'innovation': 3050, 'advertising': 357, 'shar': 5151, 'overture': 4182, 'premier': 4490, 'dominant': 1828, 'mic200': 3674, 'mic800': 3675, 'unused': 6257, 'owned': 4186, 'considerable': 1361, 'fade': 2203, 'peanut': 4256, 'trademark': 6026, 'tri': 6064, 'modelers': 3756, 'experement': 2158, 'utmost': 6298, 'discwasher': 1764, 'dish': 1768, 'soap': 5358, 'rinse': 4917, 'fiber': 2275, 'label': 3289, '09': 24, 'downgrade': 1844, 'trump': 6083, 'mykyserin': 3870, 'triple': 6075, 'integrated': 3084, 'holderi': 2854, 'adjustmentwith': 342, 'mywashburnat': 3873, 'maximum': 3599, 'ashubb': 575, 'dismiss': 1775, 'critic': 1483, 'bore': 879, 'shortly': 5203, 'insulting': 3079, 'laugh': 3320, 'lifers': 3383, 'mails': 3525, 'formally': 2415, 'bored': 880, 'roughly': 4955, 'harvest': 2751, 'blackout': 826, 'schecter': 5036, 'moron': 3803, 'tinnie': 5960, 'container': 1380, 'cleaning': 1197, 'dried': 1873, 'terribly': 5847, 'judge': 3212, 'inauthentic': 2991, 'trail': 6029, 'unnatural': 6228, 'wetter': 6485, 'hall': 2715, 'worse': 6587, 'hellish': 2803, 'portal': 4439, 'confusion': 1348, 'ill': 2948, 'indecipherable': 3012, 'scribble': 5059, 'whim': 6504, 'philip': 4308, 'makeup': 3536, 'noisier': 3961, 'did': 1704, 'sucker': 5678, 'trebley': 6057, 'doing': 1825, 'mahogany': 3523, 'nowhere': 4003, 'experimentation': 2164, 'fanatic': 2219, 'equation': 2071, 'rope': 4947, 'vanished': 6322, 'analysis': 468, 'assembled': 585, 'james': 3166, 'starter': 5533, 'flaws': 2348, 'friction': 2455, 'resists': 4852, 'unto': 6252, 'lanikai': 3301, 'lu': 3490, 'distinctive': 1788, 'disposable': 1779, 'rearranging': 4715, 'scissors': 5043, 'hardness': 2735, 'de': 1575, 'emphasized': 2018, 'duller': 1905, 'fare': 2225, 'notable': 3980, 'agreeable': 382, 'emphasize': 2017, 'doe': 1821, 'lightly': 3390, 'redeisigned': 4755, '1mm': 81, 'unusually': 6259, 'cling': 1207, 'verdict': 6337, 'heaviness': 2791, 'dip': 1729, 'earpiece': 1933, 'retract': 4876, 'were': 6480, 'shame': 5148, 'thesony': 5891, 'mdr7506': 3606, 'sony': 5397, 'theakg': 5871, '240': 113, 'mk': 3744, 'headphonesorakg': 2776, 'headphonesover': 2777, 'relief': 4802, 'crooked': 1486, 'map': 3559, 'controller': 1395, 'hammer': 2716, 'nails': 3877, 'lets': 3368, 'whack': 6487, 'idk': 2938, 'valueless': 6315, 'tuners': 6113, 'considerably': 1362, 'comparatively': 1283, 'unresponsive': 6242, 'current': 1511, 'wimpy': 6530, 'weather': 6461, 'blast': 833, 'says': 5026, 'action2': 305, 'loudness': 3476, 'pickingi': 4330, 'mitchell': 3738, 'md100': 3605, 'breaking': 916, 'emergency': 2013, 'july': 3215, '2013i': 99, 'assist': 591, 'friends': 2459, 'employ': 2019, 'copious': 1409, 'somewhere': 5388, 'deplorable': 1653, 'disclaimer': 1751, 'boo': 865, 'frustrated': 2468, 'upwards': 6278, 'gamble': 2514, 'chasing': 1130, 'planning': 4365, 'celtic': 1100, 'ordinarily': 4113, 'cotton': 1431, '4x': 179, 'boomy': 870, 'tightness': 5951, 'motley': 3810, 'crue': 1489, 'bark': 708, 'moon': 3794, 'era': 2074, 'ozzy': 4192, 'thejoyo': 5876, '01': 4, 'pedalwould': 4266, 'sake': 4997, 'tire': 5967, 'transmit': 6041, 'instance': 3069, 'mounted': 3814, 'fling': 2358, 'worried': 6585, 'lastly': 3311, 'kinds': 3261, 'poorly': 4429, 'co': 1232, 'plugs': 4397, 'yup': 6665, 'booty': 876, '17': 64, '2014': 100, 'kt7800': 3283, 'butt': 992, 'hoping': 2875, 'lossens': 3469, 'experienced': 2160, 'wobbling': 6561, 'fiddle': 2276, 'van': 6319, 'pod': 4406, 'hd500': 2766, 'too': 5994, 'eddie': 1953, 'halen': 2712, 'joe': 3204, 'satriani': 5018, 'guitarists': 2692, 'gt': 2676, 'installing': 3068, 'limborg': 3400, 'google': 2614, 'structural': 5631, 'integrity': 3085, 'mat': 3581, 'jiggle': 3195, '2mm': 133, 'lemon': 3356, 'crud': 1488, 'fingerboard': 2299, 'detergent': 1686, 'toll': 5987, 'rosewood': 4948, 'exotic': 2146, '130': 47, 'sculpting': 5062, 'coaster': 1235, 'beer': 758, 'callus': 1027, 'presume': 4507, 'graphite': 2633, 'oxidation': 4189, 'spritz': 5481, 'withfingerease': 6556, 'lubricanti': 3492, 'qualified': 4637, 'getdean': 2563, 'markley': 3570, 'lt': 3489, '2552': 118, '009': 3, '042': 15, 'withd': 6553, 'exl120': 2145, 'evenernie': 2104, 'slinky': 5309, 'dairy': 1537, 'mh': 3671, 'wat': 6443, 'reconsider': 4747, 'pantyhose': 4218, 'honesty': 2863, 'passionate': 4236, '1940s': 68, 'disintegrated': 1769, 'dearly': 1585, 'depart': 1647, 'has': 2752, 'haha': 2710, 'okaaaaaay': 4062, 'disbelief': 1746, 'stretched': 5614, 'cured': 1508, 'shimming': 5176, 'card': 1058, 'shim': 5174, 'steadily': 5547, 'qc': 4632, 'friday': 2456, 'afternoon': 371, 'duncans': 1908, 'dimarzios': 1721, 'wax': 6450, 'argue': 549, 'hesitate': 2818, 'epis': 2065, 'hmm': 2848, '299': 129, '115': 37, 'acoustics': 298, 'thes6': 5888, 'fgx730': 2273, 's6': 4987, 'sounded': 5414, 'thanmy': 5865, '420': 166, '282': 126, 'fg730s': 2272, 'yourmoney': 6657, 'thicknesse': 5897, 'visible': 6375, 'branch': 909, 'delight': 1631, 'briefcase': 922, 'quarter': 4642, 'stripe': 5626, 'rockn': 4933, 'credit': 1474, 'execute': 2137, 'toward': 6018, 'fullness': 2479, 'asmartin': 581, 'msp4150': 3826, 'sp': 5429, 'dampen': 1544, 'depending': 1651, 'overdo': 4160, 'upscale': 6273, 'oversold': 4178, 'moot': 3795, 'valid': 6311, 'viewpoint': 6364, 'crackle': 1454, 'intermittently': 3104, 'warranty': 6433, 'partial': 4227, 'authorized': 632, 'retailer': 4873, 'exchange': 2132, 'policy': 4416, 'refer': 4766, 'mile': 3698, 'resolve': 4854, 'quietly': 4652, 'switched': 5751, 'twisted': 6138, 'elastic': 1984, 'imagine': 2955, 'genz': 2558, 'benz': 789, 'shuttlemax': 5220, 'fearful': 2251, 'proco': 4545, 'whirlwind': 6506, 'pw': 4630, 'tout': 6016, 'swap': 5740, 'at2020': 603, 'podcasts': 4409, 'v67g': 6307, 'b1': 665, 'c1': 1011, 'exceptional': 2130, '2003a': 91, 'neumann': 3920, 'u87': 6146, 'ldc': 3330, 'camera': 1030, 'squeakily': 5489, 'incongrously': 3003, 'beneath': 786, 'leary': 3342, 'drywall': 1890, 'awfully': 652, 'anchor': 469, 'pine': 4344, 'studs': 5644, 'sabine': 4989, 'detuning': 1694, 'overextend': 4164, 'stronger': 5629, 'national': 3885, 'suited': 5695, 'per': 4277, 'se': 5065, 'mr': 3823, 'morley': 3801, 'taller': 5782, 'cheese': 1144, 'spread': 5478, 'checking': 1141, 'hide': 2826, 'eyelet': 2189, 'casio': 1075, 'ghs': 2567, 'nanoweb': 3880, 'nano': 3879, 'maker': 3535, 'valued': 6314, 'digit': 1715, 'workable': 6574, 'optional': 4107, 'appreciable': 530, 'creature': 1473, 'accidently': 276, 'seller': 5096, 'deaden': 1578, 'tea': 5806, 'theory': 5882, 'periodically': 4291, 'gunk': 2698, 'lying': 3505, 'fc': 2247, 'drawer': 1867, 'canon': 1041, 'vixia': 6382, 'hf': 2822, 'g10': 2505, 'shotgun': 5206, 'shoe': 5190, 'nikon': 3945, 'd3200': 1531, 'angry': 478, 'dslr': 1893, 'rushed': 4981, 'mexican': 3666, 'resell': 4845, 'rid': 4904, 'mexy': 3668, 'greg': 2647, 'abrams': 258, 'entitle': 2052, 'disagree': 1737, 'afterall': 370, 'nation': 3884, 'nickelback': 3937, 'movie': 3820, 'franchise': 2435, 'kardashian': 3234, 'artificial': 570, 'practic': 4466, '25r': 120, '52': 185, 'at100': 602, '100w': 31, 'halfstack': 2714, 'diverse': 1804, 'likeable': 3394, 'taiwan': 5775, 'dozens': 1853, 'shops': 5196, 'ol': 4064, 'turbo': 6119, 'flame': 2332, 'hater': 2757, 'tu': 6100, 'odb': 4041, 'md': 3604, 'xt': 6624, 'overshadow': 4176, 'popularity': 4435, 'ebay': 1946, 'overlook': 4168, 'rat2': 4682, 'hundreds': 2916, 'territory': 5849, 'carlos': 1064, 'santana': 5009, 'pumpkin': 4601, 'dinosaur': 1727, 'jr': 3211, 'creamy': 1469, 'whats': 6491, 'transparent': 6044, 'greatful': 2640, 'jerry': 3190, 'garcia': 2522, 'randy': 4672, 'rhoads': 4895, 'steve': 5561, 'jones': 3208, 'sex': 5139, 'pistols': 4350, 'roof': 4943, 'unbelievably': 6175, 'succeed': 5672, 'ragin': 4668, 'simualtion': 5257, 'speaking': 5443, 'moen': 3772, 'themoen': 5880, 'mo': 3749, 'moowhich': 3796, 'hemisphere': 2808, 'demos': 1642, 'share': 5152, 'significance': 5236, 'align': 400, '8th': 235, 'radius': 4666, '16ths': 63, 'lateral': 3317, 'magnify': 3521, 'outward': 4152, '27': 124, 'realistically': 4705, 'oval': 4155, 'cent': 1101, 'file': 2286, 'sander': 5004, 'fraction': 2432, 'pronounced': 4570, 'gasket': 2525, 'undo': 6195, 'elegant': 1996, 'platform': 4370, 'sign': 5233, 'toast': 5974, 'tar': 5794, 'jc120': 3183, 'duffle': 1902, 'toating': 5975, 'instructor': 3074, 'adult': 348, 'glorified': 2595, 'scuff': 5061, 'ding': 1724, 'comprable': 1305, 'becuase': 751, 'mustain': 3859, 'mil': 3696, 'ultex': 6159, 'clackity': 1180, 'clack': 1179, 'flick': 2354, 'magnification': 3520, 'fluke': 2369, 'humidify': 2908, 'realitively': 4706, 'enought': 2045, '010': 5, '011': 6, 'shaky': 5145, 'toooo': 5998, 'ergonomic': 2079, 'stringer': 5621, 'snip': 5352, 'clipper': 1209, 'badly': 685, 'header': 2773, 'lookin': 3454, 'plier': 4390, 'opening': 4090, 'ick': 2931, 'swing': 5748, 'manually': 3552, 'grimace': 2651, 'crescent': 1477, 'miniature': 3711, 'nose': 3978, 'redo': 4757, 'eko': 1979, 'ranger': 4674, 'xii': 6618, '11th': 38, 'convince': 1402, 'thankfully': 5863, 'dilemma': 1718, 'supdate': 5701, '25well': 121, 'reevaluate': 4764, 'cheesey': 1145, 'pinhole': 4345, '95': 240, 'luggage': 3498, 'florida': 2364, 'lax': 3324, 'flopping': 2363, 'dangle': 1550, 'glued': 2602, 'airline': 390, 'upright': 6271, 'loo': 3451, 'sorta': 5407, 'occurs': 4035, 'tarnish': 5796, 'corrosion': 1425, 'performer': 4286, 'contaminate': 1381, 'importent': 2971, 'stess': 5560, 'espescially': 2093, 'pinch': 4343, 'hormonic': 2877, 'skilled': 5288, 'extream': 2184, 'any': 501, 'soud': 5408, 'recamend': 4722, 'beginer': 763, 'stat': 5534, 'switchcraft': 5750, 'trad': 6024, 'swore': 5756, 'altogether': 428, 'breaker': 915, 'dimarzio': 1720, 'again': 373, 'capacitance': 1047, 'news': 3929, 'guarantee': 2679, 'mojo': 3775, 'intangible': 3082, 'publish': 4596, 'criterion': 1482, 'lifespan': 3384, 'honor': 2866, 'chalk': 1110, 'percentage': 4278, 'fund': 2487, 'eventual': 2107, 'perception': 4279, 'unknowingly': 6217, 'unfortunate': 6203, 'fond': 2392, 'abide': 252, 'tolerate': 5985, 'potentiometer': 4457, 'stating': 5540, 'reputation': 4834, '6180': 202, 'resistance': 4851, 'rocker': 4930, 'occur': 4034, 'buffer': 957, 'responsibility': 4863, 'fails': 2207, 'harm': 2739, 'principle': 4524, 'indestructible': 3019, 'esthetic': 2098, 'miserably': 3725, 'testing': 5854, 'ampeg': 453, 'addrio': 329, 'barr': 709, 'winding': 6535, 'pry': 4592, 'busy': 989, 'recycled': 4753, 'bumper': 977, 'ead': 1924, 'gbe': 2531, 'ej45': 1977, 'arte': 566, 'accoustic': 285, 'adario': 319, 'thrill': 5929, 'offs': 4055, 'sweeper': 5743, 'betray': 799, 'insult': 3078, 'skinny': 5291, 'exacerbate': 2118, 'newbie': 3926, '710ce': 217, 'sitdown': 5268, 'dive': 1803, 'death': 1586, 'alittle': 401, 'decrease': 1602, 'tolerable': 5983, 'majority': 3533, 'karaoke': 3233, 'piss': 4349, 'have': 2759, 'reject': 4791, '315k': 144, '289k': 127, '205k': 102, 'ctl': 1502, 'upgrading': 6268, 'cavity': 1087, 'concrete': 1325, 'kaput': 3232, 'punk': 4605, 'rigid': 4914, 'hopes': 2874, '13th': 51, 'glow': 2599, '8230': 228, 'wobble': 6560, 'brace': 902, 'attached': 607, 'couldn': 1434, 'harbor': 2730, 'freight': 2443, 'sulfur': 5696, 'booooooooo': 871, 'heritage': 2816, '575': 188, 'arch': 541, 'curious': 1509, 'incomparison': 3002, 'discharge': 1749, 'electrostatic': 1995, 'pragmatically': 4471, 'conspicuous': 1367, 'debris': 1588, 'vinyl': 6367, 'disc': 1747, '7000': 212, 'pegs': 4271, '7007si': 213, 'rounder': 4957, 'slicker': 5300, 'looks': 3457, 'complicate': 1300, 'classroom': 1192, 'schoolmate': 5041, 'anthem': 492, 'announcement': 482, 'defense': 1616, 'fighting': 2284, 'severely': 5138, 'reception': 4731, 'gather': 2527, 'adverse': 352, 'yikes': 6643, 'receiving': 4728, 'dependable': 1650, 'asap': 573, 'cheat': 1139, 'rental': 4816, 'ska': 5282, 'suicide': 5690, 'someway': 5386, 'meanwhile': 3614, 'pleasant': 4380, 'shatter': 5157, 'muddier': 3832, 'crisper': 1480, 'retune': 4880, 'dampit': 1545, 'humidipak': 2909, 'humidifiers': 2907, 'recharge': 4733, 'distil': 1785, 'resealable': 4843, 'pressing': 4504, 'microfiber': 3678, 'unroll': 6243, 'humidipaks': 2910, 'acquisition': 300, 'om': 4069, 'guitarelele': 2689, 'fretting': 2453, 'effortlessly': 1965, 'calibrate': 1022, 'contacted': 1378, 'runaround': 4977, 'very': 6348, 'frustrating': 2469, 'tobe': 5976, 'buyall': 1000, 'tis': 5970, 'decentclassic': 1595, 'geeetar': 2537, 'shrillbutwhat': 5216, 'garbage': 2520, 'bebass': 748, 'gigantic': 2573, 'noticablecant': 3989, 'geeetars': 2538, 'oohthanks': 4085, 'jet': 3191, 'ski': 5285, 'johnson': 3205, 'jg': 3193, '610': 201, '620': 204, 's35': 4986, 'fg700gs': 2271, 'yahama': 6626, 'same': 5000, 'hive': 2847, 'factory': 2200, 'technics': 5815, 'tt': 6099, 'technica': 5812, 'cartridge': 1070, 'newer': 3927, 'onkyo': 4076, 'phono': 4314, 'm3040': 3507, 'spike': 5463, 'cushion': 1519, 'fedex': 2255, 'sent': 5107, 'prepaid': 4493, 'fist': 2319, 'understatement': 6192, 'vdrums': 6329, 'fader': 2205, 'scratchy': 5051, 'jumpy': 3219, 'works': 6580, 'reliability': 4800, 'earphones': 1932, 'equalization': 2068, 'manufacturing': 3557, 'soi': 5370, 'distor': 1789, 'alwaysif': 432, 'wayu': 6454, 'accepts': 271, 'ksm32': 3282, 'strike': 5617, 'yield': 6642, 'working': 6578, 'changeable': 1116, 'mesh': 3648, 'ballscons': 695, '62': 203, '8khz': 233, 'abused': 263, 'requires': 4839, 'sight': 5232, 'summaryacoustic': 5699, 'marketplace': 3567, 'mechanical': 3619, 'belongs': 779, 'integrate': 3083, 'font': 2394, 'details': 1682, '85': 231, 'redesign': 4756, 'improved': 2980, 'tax': 5801, 'modeller': 3758, 'modelling': 3759, 'discrete': 1761, 'disapointed': 1738, 'download': 1846, 'dedicated': 1604, 'gtr215r': 2677, 'haul': 2758, 'hyper': 2926, 'downright': 1848, 'chew': 1151, 'factor': 2199, 'pressed': 4503, 'transistor': 6036, 'novice': 4000, 'unattractive': 6167, 'snake': 5343, 'cedar': 1093, 'laminate': 3299, 'sides': 5229, 'satin': 5011, 'finished': 2308, 'marr': 3571, 'encounter': 2030, 'embody': 2012, 'mystical': 3872, 'vibe': 6351, 'just': 3224, 'sitka': 5270, 'spruce': 5482, 'gloss': 2596, 'overpaid': 4170, 'hyped': 2925, 'miracle': 3723, 'rhino': 4894, 'choise': 1159, 'freak': 2438, 'trap': 6050, 'shin': 5177, 'minimize': 3714, 'sqishy': 5486, 'dense': 1643, 'squishy': 5495, 'elswhere': 2006, 'wieght': 6520, 'dispers': 1776, 'inflate': 3037, 'srh840': 5499, 'm50': 3508, 'punchy': 4604, 'stringent': 5620, 'recess': 4732, 'fatally': 2234, 'tiring': 5969, 'whilst': 6503, 'starchy': 5527, 'lacks': 3294, 'soundstage': 5421, 'presentation': 4499, 'positoning': 4447, 'outclass': 4138, 'areas': 546, 'noob': 3969, 'axx': 662, 'freeze': 2442, 'reinstall': 4788, 'conductor': 1333, 'breakage': 914, 'booth': 875, 'curtain': 1515, 'items': 3155, 'horribly': 2881, 'yukko': 6664, 'lousy': 3477, '4star': 177, '2stars': 135, 'ac30': 266, 'horrendous': 2879, 'blues': 851, 'mediocre': 3622, 'ac30s': 267, 'materials': 3589, 'determined': 1689, 'mediocrity': 3623, 'cleans': 1198, 'amateur': 434, 'chase': 1129, 'mistreatment': 3735, 'fixable': 2326, 'jacket': 3163, 'uncoil': 6179, 'silky': 5243, 'rubberize': 4967, 'uncommon': 6182, 'understood': 6193, 'woofers': 6570, 'krk': 3280, 'rp8': 4964, 'woofer': 6569, 'burn': 981, 'turned': 6122, 'turning': 6123, '3031a': 140, 'flutter': 2372, 'fluttering': 2373, 'oscillate': 4126, 'us600': 6281, 'tracked': 6023, 'mountain': 3813, 'batteries': 727, '63': 205, 'synth': 5762, 'merit': 3646, 'kala': 3230, 'ka': 3229, 'tg': 5859, 'rare': 4678, 'weld': 6477, '025': 11, 'snaps': 5346, 'tubing': 6106, 'perfection': 4282, 'blink': 841, 'thoroughly': 5916, 'towel': 6019, 'accommodation': 279, 'voodoo': 6396, 'lab': 3288, 'documentation': 1818, 'underside': 6188, 'circular': 1177, 'fitment': 2321, 'access': 272, 'allegedly': 404, 'tapping': 5793, 'butter': 993, 'compatibility': 1288, 'rectangle': 4752, 'wimpiest': 6529, 'intensity': 3090, 'render': 4815, 'worthless': 6592, 'upset': 6274, 'b20': 666, 'applications': 524, 'detect': 1683, 'td9': 5805, 'data': 1559, 'respective': 4858, 'hihat': 2833, 'compensate': 1291, 'notebook': 3984, 'yep': 6636, 'misunderstand': 3736, '28': 125, 'slotted': 5317, 'spaced': 5431, 'unhappy': 6206, 'h2': 2705, 'reviews': 4889, 'minidisc': 3712, '07': 19, 'ex': 2117, 'tempted': 5835, 'chore': 1162, 'boxing': 899, 'broke': 939, 'minus': 3720, 'hourly': 2889, 'wage': 6404, 'public': 4595, 'expression': 2170, 'visually': 6380, 'needs': 3907, 'sequence': 5114, 'os': 4124, 'aint': 388, 'yer': 6637, 'timeyer': 5958, 'vst': 6400, 'au': 618, 'osx': 4129, 'cubase': 1503, 'rca': 4691, 'puter': 4625, 'hustle': 2922, 'sour': 5424, 'dat': 1558, 'talkning': 5780, 'katz': 3235, 'ownnewer': 4188, 'macs': 3514, 'imacs': 2952, 'truying': 6090, 'muddle': 3834, 'sequencingfor': 5116, 'pizza': 4356, '1953': 69, 'trim': 6071, 'possibility': 4448, 'verify': 6339, 'odered': 4046, 'disgust': 1767, '59': 192, 'mad': 3515, 'rolled': 4941, 'employee': 2020, 'standalone': 5517, 'songs': 5394, 'nightmaregoing': 3944, 'heed': 2796, 'ni': 3931, 'reroute': 4841, 'info': 3039, 'net': 3917, 'module': 3770, 'circle': 1174, 'rocksmith': 4934, 'temp': 5828, '70f': 215, 'f335': 2191, 'transducer': 6033, 'axl': 660, 'bits': 818, 'plugged': 4395, 'bang': 699, 'screech': 5054, 'placement': 4360, 'reuse': 4882, 'endpin': 2034, 'soundhole': 5416, 'alchemy': 398, 'spots': 5475, 'flop': 2362, 'outweigh': 4154, 'fingerscons': 2302, 'dreadfully': 1868, 'your': 6654, 'rub': 4965, 'wicked': 6515, 'insanely': 3055, 'lip': 3413, 'seperate': 5111, 'cables': 1018, 'suitcase': 5693, 'vibro': 6356, 'princeton': 4523, 'fbv': 2246, 'scour': 5047, 'guide': 2685, 'thinking': 5905, 'lucked': 3494, 'express': 2169, 'scouring': 5048, 'workaround': 6575, 'abcd': 250, 'fs5': 2472, 'fs8': 2473, 'behavior': 771, 'exp2c': 2149, 'exp1d': 2148, 'overdub': 4163, 'unfixed': 6201, 'bugnice': 962, 'yay': 6631, 'cry': 1495, 'cana': 1035, 'disable': 1735, 'pedalsb': 4264, 'fb': 2245, 'itedit': 3153, '19': 67, 'abovec': 257, 'sod': 5362, 'td': 5804, 'shortboard': 5199, 'hd500x': 2767, 'tooo': 5997, 'intellitouch': 3088, 'upside': 6275, 'rosin': 4949, 'bow': 896, 'fiddler': 2277, 'trial': 6066, 'error': 2086, 'arrives': 563, 'collarbone': 1251, 'foray': 2402, 'audacityfor': 620, 'qualty': 4639, 'requred': 4840, 'distorion': 1790, 'humms': 2913, 'theres': 5886, 'indicated': 3021, 'scratched': 5050, 'accommodate': 278, 'disappointing': 1743, 'pamphlet': 4214, 'missed': 3730, 'suspicious': 5734, 'youll': 6651, 'dissapointed': 1782, 'sparingly': 5436, 'shed': 5160, 'lanikais': 3302, 'uninspiring': 6207, 'downward': 1851, 'ukes': 6155, 'upward': 6276, 'standhercules': 5519, 'gs402b': 2672, 'herc': 2812, 'lifelong': 3382, 'splay': 5467, 'imperfect': 2967, 'bye': 1009, 'soundholes': 5418, 'specifications': 5451, 'oscar': 4125, 'schmidt': 5039, 'oport': 4099, 'overtunes': 4181, 'fingerpicking': 2300, 'noticeably': 3993, 'torn': 6003, 'opened': 4089, 'finer': 2297, 'cone': 1334, 'deflect': 1625, 'aria': 550, 'deadened': 1579, 'voiced': 6386, 'corral': 1419, 'horn': 2878, 'crab': 1452, 'recall': 4721, 'rug': 4971, 'ooh': 4084, 'windshield': 6539, 'reflector': 4769, 'reset': 4847, '3gs': 158, 'communication': 1275, 'registered': 4781, 'amplitude': 460, 'operating': 4094, 'brick': 920, 'irighd': 3133, 'waaaaaay': 6403, 'chinsy': 1156, 'macbook': 3510, 'intermittent': 3103, 'bus': 984, 'visibly': 6376, 'wiggly': 6523, 'bust': 987, 'oxygen': 4190, 'velocity': 6332, 'assignable': 590, 'livedislikes': 3426, 'cheesy': 1146, 'betteer': 800, 'tc': 5803, 'overrated': 4174, 'bbds': 731, 'ibanex': 2928, 'nail': 3876, 'managers': 3543, 'ignore': 2943, 'unopened': 6231, 'examine': 2123, 'leisurely': 3355, 'achieve': 291, 'adgcea': 332, 'transpose': 6048, 'recognition': 4738, 'purchasing': 4611, 'snag': 5342, 'inventive': 3119, 'mixup': 3743, 'unexpected': 6197, 'shellac': 5167, 'glitch': 2594, 'blatantly': 834, 'unusual': 6258, 'guitalele': 2687, 'reek': 4763, 'decoration': 1601, 'protective': 4582, 'unfinished': 6199, 'solely': 5373, 'folks': 2388, 'mumblety': 3849, 'mumble': 3848, 'deca': 1590, 'uh': 6151, 'quaint': 4636, 'hawk': 2763, 'facts': 2201, 'humanly': 2902, 'surpass': 5724, 'under': 6185, 'cordoba': 1414, 'merchant': 3643, 'mf': 3669, 'subpar': 5662, 'disregarding': 1780, 'theeffects': 5874, 'foronly': 2419, 'removable': 4810, 'path': 4241, 'brilliant': 928, 'runtime': 4979, 'replaced': 4825, 'po': 4403, 'execution': 2139, 'jar': 3175, 'embarrass': 2011, 'requested': 4836, 'elec': 1985, 'acoust': 295, 'acoustically': 297, 'headstocks': 2783, 'snarksnark': 5350, 'tunertuners': 6114, 'indicates': 3022, 'perpendicular': 4296, 'crane': 1459, 'stylized': 5656, 'unreadable': 6240, 'anyhow': 503, 'supplier': 5709, 'kdm': 3239, 'distributor': 1798, 'ripoff': 4920, 'definetly': 1620, 'decently': 1596, 'cheapo': 1138, '004': 2, 'rode': 4937, 'disappointment': 1744, 'assembly': 588, 'inspiring': 3063, 'p90': 4193, 'expecting': 2155, 'hellraiser': 2805, 'drastic': 1862, 'fretted': 2452, 'miniscule': 3716, 'brightly': 926, 'folio': 2386, 'marware': 3577, 'axis': 659, 'unstable': 6249, 'chargercity': 1127, 'sad': 4990, 'sd': 5064, 'monkey': 3787, 'legend': 3351, 'react': 4694, 'crying': 1497, 'blender': 838, 'waveform': 6449, 'cube': 1504, 'stays': 5546, 'ppc112': 4465, 'buckers': 952, 'mild': 3697, 'gutless': 2699, 'committed': 1273, 'stunning': 5648, 'terror': 5850, 'voicetone': 6389, 'correction': 1421, 'helicon': 2801, 'engaging': 2037, 'disengaging': 1766, 'rhythem': 4896, 'mea': 3608, 'bum': 974, 'dang': 1548, 'cups': 1507, 'residual': 4848, 'deepen': 1606, 'phones': 4313, 'jut': 3228, 'discomfort': 1753, 'prolonged': 4563, 'ha': 2707, 'sparse': 5439, 'remotely': 4809, 'resemble': 4846, 'playback': 4374, 'quickstart': 4648, 'address': 328, 'pdf': 4251, 'blog': 845, 'which': 6500, 'wine': 6540, 'constraints': 1370, 'computerized': 1314, 'cursor': 1513, 'fussy': 2496, 'tedious': 5818, 'consistency': 1364, 'supremely': 5716, 'inexcusable': 3033, 'complex': 1299, 'interconnection': 3092, 'aspire': 583, 'stands': 5522, '45': 171, 'shekel': 5164, 'conform': 1345, 'cancel': 1037, 'kudos': 3284, 'ned': 3901, 'smoking': 5335, 'protude': 4583, 'distract': 1795, 'justification': 3226, 'obstruct': 4025, 'flatter': 2341, 'flatten': 2340, 'protudes': 4584, 'notorious': 3996, 'wrought': 6609, 'capos': 1053, 'meaningless': 3612, 'profit': 4557, 'marketing': 3566, 'jargon': 3176, 'smaller': 5327, '012s': 8, 'ostensibly': 4128, 'moniker': 3784, 'hated': 2756, 'gummy': 2696, 'blister': 843, 'soundboard': 5410, 'distorts': 1794, 'oxymoron': 4191, '700th': 214, 'kelly': 3243, 'kexmg': 3247, 'min': 3706, 'jabs': 3161, 'stomach': 5579, 'destroyed': 1677, 'oddly': 4044, 'noooooooo': 3970, 'emg': 2014, 'stink': 5573, 'gook': 2615, 'randomly': 4671, 'clayton': 1194, 'teardrop': 5809, 'template': 5831, 'specification': 5450, '423r60': 167, '36': 154, 'chromacast': 1166, 'paid': 4205, 'cookbook': 1404, 'notepad': 3985, 'recipe': 4735, 'door': 1832, 'aid': 387, 'animal': 480, 'creak': 1467, 'avail': 640, 'outline': 4145, 'official': 4054, 'reputable': 4833, 'apparent': 517, 'measurable': 3615, 'oops': 4087, 'farce': 2224, 'callouses': 1026, 'painful': 4207, 'momentarily': 3780, '2yr': 137, 'incapable': 2992, 'secures': 5082, 'lady': 3296, 'flea': 2349, 'losse': 3468, 'errrrr': 2087, 'tryed': 6092, 'hunk': 2918, 'poppin': 4432, 'wast': 6440, 'ug': 6149, '26mm': 123, 'shove': 5209, 'weeks': 6472, 'detirorate': 1690, 'molded': 3777, 'sealed': 5068, 'thrown': 5935, 'lottery': 3472, 'mustang2': 3862, 'started': 5532, 'unlucky': 6225, 'unuseable': 6255, 'suggested': 5688, 'viagra': 6350, 'oddball': 4043, 'metric': 3662, 'theads': 5870, '8ths': 236, 'tsunami': 6098, 'irritate': 3137, 'swoosh': 5755, 'erik': 2081, 'r28': 4660, 'c11': 1012, 'c12': 1013, 'churn': 1173, 'guessed': 2684, 'futile': 2497, 'incarnation': 2993, 'divas': 1802, 'clown': 1221, 'dough': 1841, 'diva': 1801, 'poop': 4427, 'levys': 3375, 'walnut': 6415, 'maneuver': 3546, 'extended': 2173, 'donate': 1830, 'teacher': 5807, 'glaesel': 2588, 'discernible': 1748, 'stutter': 5653, 'noises': 3959, 'buythe': 1003, 'ardsley': 543, 'aglaesel': 379, 'mediumwith': 3625, 'cv': 1529, 'controler': 1394, 'conceived': 1319, 'fc9': 2248, 'dingy': 1725, 'mots': 3811, 'tort': 6005, 'shipment': 5181, 'blacken': 824, 'subcontract': 5658, 'depot': 1654, 'maximize': 3598, 'mexi': 3665, 'backplate': 678, 'mint': 3719, 'lifeless': 3381, 'unlimited': 6221, 'polywebs': 4425, 'crappy': 1464, 'sponsor': 5473, 'rockstars': 4935, 'ergo': 2078, 'pickholder': 4328, 'colour': 1260, 'muted': 3864, 'strumming': 5635, 'rubbery': 4968, 'residue': 4849, 'draw': 1864, 'sensible': 5103, 'sidemount': 5228, 'msa9508': 3824, 'forking': 2413, 'cheers': 1143, 'staedy': 5507, 'beloved': 780, 'intelligently': 3087, 'threw': 5928, 'sculpture': 5063, 'hickey': 2824, 'reply': 4828, 'frost': 2466, 'unbearable': 6171, 'blackboard': 823, 'bassist': 721, 'continual': 1385, '60th': 200, 'anniversary': 481, 'petro': 4301, 'jelly': 3188, 'phenomenon': 4307, 'incorporate': 3005, 'bearing': 738, 'unscrewing': 6246, 'shallers': 5146, 'distruptions': 1799, 'hunt': 2919, 'coach': 1233, 'tack': 5771, 'pie': 4337, 'grey': 2650, 'glen': 2593, 'ingles': 3044, 'refuse': 4774, 'golden': 2608, 'melody': 3630, 'outwards': 4153, 'bagpipe': 688, 'things': 5903, 'crikey': 1478, 'packet': 4199, 'mismarked': 3727, 'favorably': 2243, 'clangy': 1184, 'earthwood': 1935, 'med': 3621, 'godawful': 2605, 'detachment': 1679, 'partially': 4228, 'repaired': 4821, 'photograph': 4317, 'cr': 1451, 'blanket': 831, 'dispersion': 1777, 'compel': 1290, 'killing': 3257, 'eraser': 2076, 'rickety': 4903, 'rackmount': 4663, 'automated': 635, 'twelve': 6133, '200w': 94, 'booklet': 868, 'usability': 6283, 'condense': 1326, 'visibility': 6374, 'graph': 2631, 'cents': 1104, 'sat800': 5010, '45deg': 172, 'auto': 633, '1e': 79, '2e': 130, 'alphabet': 418, 'oactaves': 4019, 'numerical': 4012, 'wholly': 6512, 'clarinet': 1186, 'automaticly': 638, 'wal': 6408, 'mart': 3574, 'tow': 6017, 'older': 4066, 'tunings': 6117, 'clue': 1224, 'stupid': 5649, 'bags': 689, 'borderline': 878, 'ravel': 4690, 'knot': 3272, 'unable': 6164, 'riggors': 4911, 'steer': 5552, 'lasted': 3309, 'befor': 759, 'butthis': 994, 'beringer': 791, 'aussie': 627, 'genius': 2552, 'took': 5995, 'pinky': 4347, 'sheer': 5161, 'actuallystill': 312, 'berhinger': 790, 'abelton': 251, 'miserable': 3724, 'addapter': 321, 'clunky': 1228, 'profound': 4558, 'faux': 2240, 'fizz': 2328, 'companion': 1279, 'batter': 726, 'shorted': 5201, '9volt': 247, 'readily': 4698, 'damaged': 1541, 'isn': 3140, 'doa': 1813, 'meaning': 3611, 'pan': 4215, 'economy': 1951, 'payed': 4249, 'messed': 3651, 'sending': 5100, 'shitty': 5186, '23': 111, 'ugly': 6150, 'costumer': 1430, 'income': 3001, 'crybaby': 1496, '847': 230, '1981': 76, 'tocompression': 5977, 'morecrap': 3798, 'onefrequency': 4073, 'kb': 3238, 'inferface': 3035, 'agc': 374, 'limiter': 3405, 'murder': 3850, 'mystery': 3871, 'staticky': 5538, '25ft': 119, 'warning': 6430, 'extendo': 2175, '22': 110, 'fired': 2311, 'extract': 2182, 'optionlevy': 4108, 'mmgxl': 3748, 'brn': 936, 'extender': 2174, 'http': 2898, 'www': 6612, 'leathers': 3345, 'dp': 1854, 'b00bh5n91e': 664, 'sr_1_2': 5497, 'utf8': 6296, 'qid': 4633, '1361565768': 50, 'sr': 5496, 'keywords': 3252, 'irony': 3135, 'immediate': 2960, 'emptor': 2021, 'cobble': 1241, 'bait': 690, 'intertwine': 3109, 'inform': 3041, 'amazement': 437, 'doorstep': 1833, 'refurb': 4772, 'listed': 3417, 'monday': 3782, 'muddies': 3833, 'capacitor': 1048, 'east': 1941, 'coast': 1234, 'west': 6482, 'bx5a': 1007, 'event': 2106, '20s': 107, 'faulty': 2239, 'leaked': 3337, 'avid': 644, 'aggression': 377, 'worsen': 6588, 'el84s': 1983, 'tung': 6115, 'sol': 5371, 'comfortably': 1270, 'thingies': 5902, 'curvature': 1516, 'utterly': 6300, 'separation': 5110, 'wheel': 6493, 'member': 3632, 'root': 4946, 'invaluable': 3118, 'keys': 3250, 'transposition': 6049, 'showman': 5211, '100g': 30, 'authorization': 631, 'jm': 3202, 'tepper': 5843, 'prices': 4518, 'skimp': 5289, 'puzzle': 4627, 'pen': 4273, 'straighten': 5592, 'metalhead': 3656, 'jazzy': 3182, 'lion': 3412, 'maverick': 3595, 'win7': 6532, 'x64': 6614, 'cc': 1089, 'xmidi': 6621, '1x1': 85, 'landfill': 3300, 'wotk': 6595, 'brake': 908, 'ware': 6424, 'beter': 798, 'assure': 599, 'wiggle': 6522, 'twizzlers': 6139, 'sweetwater': 5746, 'liquid': 3415, 'docafter': 1815, 'puppy': 4607, 'tester': 5853, 'incorrectly': 3007, 'monoprice': 3789, 'discovery': 1759, 'monorpice': 3790, 'coversion': 1449, 'axlr': 661, 'ubs': 6147, 'blinking': 842, 'syndrome': 5761, 'izm': 3160, 'hde': 2768, 'smoke': 5334, 'grudge': 2667, 'crescendo': 1476, 'interval': 3110, 'apex': 512, 'pray': 4473, 'akai': 393, 'department': 1648, 'knowledge': 3274, '08nov2010': 23, 'footpad': 2398, 'contain': 1379, 'reorder': 4818, 'vibrates': 6352, 'jingle': 3199, 'determine': 1688, 'ticket': 5943, 'backgrounc': 672, 'lauging': 3321, 'outs': 4148, 'brought': 945, 'mexico': 3667, 'electrician': 1988, 'dissapointing': 1783, 'dislodge': 1773, 'violent': 6368, 'burnt': 982, 'blew': 839, 'atock': 604, 'jjs': 3201, 'satisactory': 5012, 'construcion': 1371, 'topples': 6001, 'candidate': 1038, 'materails': 3587, 'runner': 4978, 'materail': 3586, 'sticks': 5565, 'stickiness': 5564, 'seprated': 5112, 'gravity': 2636, 'thouh': 5921, 'recheck': 4734, 'unfixable': 6200, 'prong': 4568, 'object': 4021, 'prosecute': 4578, 'pollute': 4419, 'restock': 4866, 'websites': 6465, 'worldwide': 6583, 'faith': 2211, 'hisssssssing': 2842, 'cold': 1248, 'wanting': 6422, 'shoegaze': 5191, 'dreampop': 1872, 'cocteau': 1242, 'chapterhouse': 1121, 'cooler': 1406, 'yahoo': 6627, 'squire': 5494, 'rinky': 4916, 'dink': 1726, 'vypyr': 6402, 'mg': 3670, 'teenager': 5820, 'danger': 1549, 'costume': 1429, 'timer': 5957, 'gc': 2532, 'presure': 4508, 'wtf': 6610, 'inept': 3031, 'inspire': 3062, 'loved': 3479, 'grease': 2637, 'erase': 2075, 'enhanced': 2042, 'likelihood': 3396, 'drying': 1889, 'slid': 5301, 'underlying': 6186, 'drove': 1882, 'staticy': 5539, 'surround': 5729, 'crash': 1465, 'author': 630, 'arose': 554, 'computed': 1311, 'speculation': 5456, 'lcd': 3329, 'rep': 4819, 'turd': 6120, 'ounce': 4135, 'counterweight': 1439, 'allotoday': 409, 'followingtascams': 2390, '05': 17, 'mk2': 3745, 'meeting': 3627, 'ext': 2171, '07etc': 20, 'inquite': 3053, 'wantingline': 6423, 'involve': 3123, 'seriouslive': 5121, 'mstr': 3827, 'ed': 1952, 'r24': 4659, 'sum': 5697, 'downto': 1850, 'finallly': 2291, 'ss': 5502, 'r100': 4657, 'r200': 4658, 'camels': 1029, '12th': 45, 'truss': 6085, 'proceeded': 4541, 'contribute': 1391, 'burst': 983, 'amapleorrosewoodneck': 433, 'november': 3999, 'backorder': 676, 'december': 1593, 'yesterday': 6639, 'happiness': 2728, 'legacy': 3350, 'antique': 498, 'beautful': 744, 'smartphone': 5329, 'antiquate': 497, 'smart': 5328, 'brookmays': 942, 'ignorant': 2942, 'cherbub': 1148, 'message': 3650, 'gon': 2609, 'shorty': 5204, '04': 14, 'unconvincing': 6183, 'varies': 6324, 'setups': 5135, 'property': 4576, '79': 223, 'merchandise': 3642, 'soundholed': 5417, 'distress': 1796, 'pricenow': 4517, 'inaccuratethe': 2988, 'btw': 949, 'bc': 733, 'intrigue': 3114, 'tighter': 5949, 'extortion': 2180, 'embarassed': 2010, 'behalf': 767, 'steps': 5556, 'io': 3126, 'imaginedit': 2957, 'feels': 2261, 'backing': 674, 'adhere': 333, 'uncomfortably': 6181, 'learneda': 3340, 'fixsomething': 2327, 'redundant': 4761, 'odd': 4042, 'werent': 6481, 'playingmy': 4379, 'unuseablethe': 6256, 'mush': 3851, 'settingread': 5131, 'videosmine': 6361, 'themmaybe': 5878, 'defectivei': 1613, 'flawless': 2346, 'voila': 6392, 'equpment': 2073, 'updated': 6265, '2014after': 101, '2i2': 131, 'revise': 4890, 'gleam': 2592, 'parameter': 4223, 'suite': 5694, 'tandem': 5786, 'dodgy': 1820, 'gazillionth': 2530, 'ballsdogit': 696, 'license': 3376, 'reaper': 4712, 'painstaking': 4208, 'indescribably': 3018, 'pathetic': 4242, 'greatness': 2642, '2i4': 132, 'paperweight': 4220, 'disrespect': 1781, 'irrelevant': 3136, 'outdated': 4139, 'pres': 4496, 'scarlett': 5031, 'wayside': 6453, 'products': 4552, 'puzzler': 4628, 'utter': 6299, 'enuf': 2054, 'kripes': 3279, 'honer': 2860, 'chinaand': 1154, 'butmaaan': 991, 'merana': 3641, 'tryin': 6093, 'suzuki': 5737, 'swan': 5739, 'overseas': 4175, 'meand': 3610, 'mississipi': 3731, 'river': 4923, 'oo': 4083, 'burke': 980, 'unowho': 6232, 'doctah': 1817, 'spoken': 5471, 'yorozuya': 6649, 'yokoshima': 6646, 'ridiculously': 4907, 'canelled': 1040, 'incident': 2996, 'hitch': 2846, 'tac': 5770, 'oscillating': 4127, 'void': 6391, 'mooer': 3793, 'reecho': 4762, 'inaccuracy': 2987, 'quibble': 4644, 'ios7': 3127, 'toggle': 5981, 'multitrack': 3845, 'unlistenable': 6223, 'behaves': 769, 'restore': 4867, 'discuss': 1763, 'resolution': 4853, 'math': 3590, 'subway': 5671, 'hrs': 2895, 'handles': 2720, 'seam': 5069, 'sown': 5428, 'temporary': 5833, 'esp': 2091, 'eclipse': 1949, 'than': 5861, 'youngster': 6653, 'misuse': 3737, 'executed': 2138, 'anther': 493, 'gr55': 2622, 'multimeter': 3842, 'behave': 768, 'erratically': 2085, 'jamman': 3167, 'sucked': 5677, 'synching': 5760, 'loops': 3461, 'conceive': 1318, 'inevitable': 3032, 'frickin': 2454, 'catching': 1079, 'york': 6647, 'stoneware': 5583, 'cork': 1416, 'quieten': 4650}\n"
          ]
        }
      ]
    },
    {
      "cell_type": "code",
      "source": [
        "bagofwords = vect.transform(rws['reviewText'])"
      ],
      "metadata": {
        "id": "KpuBkqxKuXJW"
      },
      "execution_count": 116,
      "outputs": []
    },
    {
      "cell_type": "code",
      "source": [
        "print(bagofwords)"
      ],
      "metadata": {
        "id": "ucFiaC0SubFu",
        "colab": {
          "base_uri": "https://localhost:8080/"
        },
        "outputId": "05609bf9-fd9b-41f6-ba08-7af2d8cc316f"
      },
      "execution_count": 121,
      "outputs": [
        {
          "output_type": "stream",
          "name": "stdout",
          "text": [
            "  (0, 623)\t1\n",
            "  (0, 1014)\t1\n",
            "  (0, 1268)\t1\n",
            "  (0, 1568)\t1\n",
            "  (0, 1826)\t2\n",
            "  (0, 2127)\t1\n",
            "  (0, 2129)\t1\n",
            "  (0, 2320)\t1\n",
            "  (0, 2603)\t1\n",
            "  (0, 3030)\t1\n",
            "  (0, 3334)\t1\n",
            "  (0, 3558)\t1\n",
            "  (0, 4111)\t1\n",
            "  (0, 4210)\t1\n",
            "  (0, 4491)\t1\n",
            "  (0, 4531)\t1\n",
            "  (0, 4638)\t2\n",
            "  (0, 4692)\t1\n",
            "  (0, 5409)\t1\n",
            "  (0, 5541)\t1\n",
            "  (0, 5797)\t1\n",
            "  (0, 6226)\t1\n",
            "  (0, 6460)\t1\n",
            "  (0, 6608)\t1\n",
            "  (0, 6633)\t1\n",
            "  :\t:\n",
            "  (1211, 2603)\t1\n",
            "  (1211, 2792)\t1\n",
            "  (1211, 2853)\t1\n",
            "  (1211, 3387)\t1\n",
            "  (1211, 3393)\t1\n",
            "  (1211, 3410)\t1\n",
            "  (1211, 3600)\t1\n",
            "  (1211, 3649)\t1\n",
            "  (1211, 3721)\t1\n",
            "  (1211, 3783)\t1\n",
            "  (1211, 3924)\t1\n",
            "  (1211, 3925)\t1\n",
            "  (1211, 4650)\t1\n",
            "  (1211, 4692)\t1\n",
            "  (1211, 4709)\t1\n",
            "  (1211, 5020)\t1\n",
            "  (1211, 5084)\t1\n",
            "  (1211, 5347)\t2\n",
            "  (1211, 5566)\t1\n",
            "  (1211, 5583)\t1\n",
            "  (1211, 5934)\t1\n",
            "  (1211, 6287)\t1\n",
            "  (1211, 6420)\t1\n",
            "  (1211, 6521)\t1\n",
            "  (1211, 6647)\t1\n"
          ]
        }
      ]
    },
    {
      "cell_type": "code",
      "source": [
        "print(bagofwords.toarray())"
      ],
      "metadata": {
        "colab": {
          "base_uri": "https://localhost:8080/"
        },
        "id": "Le7dsoigubNO",
        "outputId": "452e7dc0-132b-46d2-efc2-3bffb079ae43"
      },
      "execution_count": 122,
      "outputs": [
        {
          "output_type": "stream",
          "name": "stdout",
          "text": [
            "[[0 0 0 ... 0 0 0]\n",
            " [0 0 0 ... 0 0 0]\n",
            " [0 0 0 ... 0 0 0]\n",
            " ...\n",
            " [0 0 0 ... 0 0 0]\n",
            " [0 0 0 ... 0 0 0]\n",
            " [0 0 0 ... 0 0 0]]\n"
          ]
        }
      ]
    },
    {
      "cell_type": "code",
      "source": [
        "vect.get_feature_names_out()"
      ],
      "metadata": {
        "colab": {
          "base_uri": "https://localhost:8080/"
        },
        "id": "MFekz-jJux8-",
        "outputId": "09841063-90d7-4195-800c-6fffb3172090"
      },
      "execution_count": 123,
      "outputs": [
        {
          "output_type": "execute_result",
          "data": {
            "text/plain": [
              "array(['00', '000', '004', ..., 'zipper', 'zone', 'zoom'], dtype=object)"
            ]
          },
          "metadata": {},
          "execution_count": 123
        }
      ]
    },
    {
      "cell_type": "markdown",
      "source": [
        "# TFIDF"
      ],
      "metadata": {
        "id": "kGvnhAkXvDVN"
      }
    },
    {
      "cell_type": "code",
      "source": [
        "feature_names = vectorizer.get_feature_names()\n",
        "dense = vectors.todense()\n",
        "denselist = dense.tolist()\n",
        "data = pd.DataFrame(denselist, columns=feature_names)\n",
        "\n",
        "# Tentativa de fazer um dataframe com tfidf. nao sei se é um bom caminho"
      ],
      "metadata": {
        "id": "ryIXLIdi_f4j"
      },
      "execution_count": null,
      "outputs": []
    },
    {
      "cell_type": "code",
      "source": [
        "dense = 0\n",
        "denselist = 0\n",
        "vectors = 0\n",
        "feature_names = 0\n",
        "\n",
        "### Isso aqui é pq pelo método que eu to fazendo, a ram fica destruída por essas variaveis, ja que sao listas imensas. entao eu deixo elas pequenas pra abrir espaço dps que ja usei"
      ],
      "metadata": {
        "id": "6ZQiwwsoWYS-"
      },
      "execution_count": null,
      "outputs": []
    },
    {
      "cell_type": "code",
      "source": [
        "vectorizer = TfidfVectorizer()\n",
        "vectors = vectorizer.fit_transform(rws['reviewText'])\n"
      ],
      "metadata": {
        "id": "NAp6kKEXCysw"
      },
      "execution_count": 215,
      "outputs": []
    },
    {
      "cell_type": "code",
      "source": [
        "vectorizer.get_params()"
      ],
      "metadata": {
        "colab": {
          "base_uri": "https://localhost:8080/"
        },
        "id": "CoarzU6Q8LB_",
        "outputId": "b842d4a9-1e00-42c2-fed0-a9376a638bb4"
      },
      "execution_count": 214,
      "outputs": [
        {
          "output_type": "execute_result",
          "data": {
            "text/plain": [
              "{'analyzer': 'word',\n",
              " 'binary': False,\n",
              " 'decode_error': 'strict',\n",
              " 'dtype': numpy.float64,\n",
              " 'encoding': 'utf-8',\n",
              " 'input': 'content',\n",
              " 'lowercase': True,\n",
              " 'max_df': 1.0,\n",
              " 'max_features': None,\n",
              " 'min_df': 1,\n",
              " 'ngram_range': (1, 1),\n",
              " 'norm': 'l2',\n",
              " 'preprocessor': None,\n",
              " 'smooth_idf': True,\n",
              " 'stop_words': None,\n",
              " 'strip_accents': None,\n",
              " 'sublinear_tf': False,\n",
              " 'token_pattern': '(?u)\\\\b\\\\w\\\\w+\\\\b',\n",
              " 'tokenizer': None,\n",
              " 'use_idf': True,\n",
              " 'vocabulary': None}"
            ]
          },
          "metadata": {},
          "execution_count": 214
        }
      ]
    },
    {
      "cell_type": "markdown",
      "source": [
        "Onde o valor é 0, não há ocorrencia da palvra na frase em questão. Para melhor visualizar, pegarei algumas palavras mais frequentes e relevantes, para que vejamos os valores de TFIDF delas em cada frase"
      ],
      "metadata": {
        "id": "l3RTkMsqP3ae"
      }
    },
    {
      "cell_type": "code",
      "source": [
        "data['much']"
      ],
      "metadata": {
        "colab": {
          "base_uri": "https://localhost:8080/"
        },
        "id": "bT1c8p7APWH-",
        "outputId": "ee515d12-5fca-428b-ce38-c1a1061e4467"
      },
      "execution_count": null,
      "outputs": [
        {
          "output_type": "execute_result",
          "data": {
            "text/plain": [
              "0        0.241310\n",
              "1        0.000000\n",
              "2        0.000000\n",
              "3        0.000000\n",
              "4        0.000000\n",
              "           ...   \n",
              "10222    0.000000\n",
              "10223    0.023573\n",
              "10224    0.077838\n",
              "10225    0.000000\n",
              "10226    0.000000\n",
              "Name: much, Length: 10227, dtype: float64"
            ]
          },
          "metadata": {},
          "execution_count": 11
        }
      ]
    },
    {
      "cell_type": "code",
      "source": [
        "data['great']"
      ],
      "metadata": {
        "colab": {
          "base_uri": "https://localhost:8080/"
        },
        "id": "CnO1FDu3P-on",
        "outputId": "fab5f7dd-f1e6-4ae4-a1e0-7627dc69fd1d"
      },
      "execution_count": null,
      "outputs": [
        {
          "output_type": "execute_result",
          "data": {
            "text/plain": [
              "0        0.000000\n",
              "1        0.000000\n",
              "2        0.000000\n",
              "3        0.000000\n",
              "4        0.099925\n",
              "           ...   \n",
              "10222    0.297066\n",
              "10223    0.018061\n",
              "10224    0.000000\n",
              "10225    0.025161\n",
              "10226    0.000000\n",
              "Name: great, Length: 10227, dtype: float64"
            ]
          },
          "metadata": {},
          "execution_count": 12
        }
      ]
    },
    {
      "cell_type": "markdown",
      "source": [
        "# Tentando treinar"
      ],
      "metadata": {
        "id": "cP4-3jTp90Wz"
      }
    },
    {
      "cell_type": "code",
      "source": [
        "pip install sklearn2pmml"
      ],
      "metadata": {
        "colab": {
          "base_uri": "https://localhost:8080/"
        },
        "id": "GOlenEZao2ND",
        "outputId": "bf9e92e6-718c-4962-e70a-9f051d7ff3cf"
      },
      "execution_count": 126,
      "outputs": [
        {
          "output_type": "stream",
          "name": "stdout",
          "text": [
            "Collecting sklearn2pmml\n",
            "  Downloading sklearn2pmml-0.78.0.tar.gz (6.0 MB)\n",
            "\u001b[K     |████████████████████████████████| 6.0 MB 4.6 MB/s \n",
            "\u001b[?25hRequirement already satisfied: joblib>=0.13.0 in /usr/local/lib/python3.7/dist-packages (from sklearn2pmml) (1.1.0)\n",
            "Requirement already satisfied: scikit-learn>=0.18.0 in /usr/local/lib/python3.7/dist-packages (from sklearn2pmml) (1.0.2)\n",
            "Requirement already satisfied: sklearn-pandas>=0.0.10 in /usr/local/lib/python3.7/dist-packages (from sklearn2pmml) (1.8.0)\n",
            "Requirement already satisfied: threadpoolctl>=2.0.0 in /usr/local/lib/python3.7/dist-packages (from scikit-learn>=0.18.0->sklearn2pmml) (3.1.0)\n",
            "Requirement already satisfied: scipy>=1.1.0 in /usr/local/lib/python3.7/dist-packages (from scikit-learn>=0.18.0->sklearn2pmml) (1.4.1)\n",
            "Requirement already satisfied: numpy>=1.14.6 in /usr/local/lib/python3.7/dist-packages (from scikit-learn>=0.18.0->sklearn2pmml) (1.21.5)\n",
            "Requirement already satisfied: pandas>=0.11.0 in /usr/local/lib/python3.7/dist-packages (from sklearn-pandas>=0.0.10->sklearn2pmml) (1.3.5)\n",
            "Requirement already satisfied: python-dateutil>=2.7.3 in /usr/local/lib/python3.7/dist-packages (from pandas>=0.11.0->sklearn-pandas>=0.0.10->sklearn2pmml) (2.8.2)\n",
            "Requirement already satisfied: pytz>=2017.3 in /usr/local/lib/python3.7/dist-packages (from pandas>=0.11.0->sklearn-pandas>=0.0.10->sklearn2pmml) (2018.9)\n",
            "Requirement already satisfied: six>=1.5 in /usr/local/lib/python3.7/dist-packages (from python-dateutil>=2.7.3->pandas>=0.11.0->sklearn-pandas>=0.0.10->sklearn2pmml) (1.15.0)\n",
            "Building wheels for collected packages: sklearn2pmml\n",
            "  Building wheel for sklearn2pmml (setup.py) ... \u001b[?25l\u001b[?25hdone\n",
            "  Created wheel for sklearn2pmml: filename=sklearn2pmml-0.78.0-py3-none-any.whl size=5996535 sha256=79aff0633f83bc823531f972f6858723a48e5d37d8d5ba0eb5ad711fe3068186\n",
            "  Stored in directory: /root/.cache/pip/wheels/99/46/0c/118f1c1ad8a84cb536b5adb8838257b2cfb3c3b193ee7aed8d\n",
            "Successfully built sklearn2pmml\n",
            "Installing collected packages: sklearn2pmml\n",
            "Successfully installed sklearn2pmml-0.78.0\n"
          ]
        }
      ]
    },
    {
      "cell_type": "code",
      "source": [
        "from sklearn2pmml.pipeline import PMMLPipeline\n",
        "from sklearn.pipeline import Pipeline \n",
        "from sklearn.svm import SVC\n"
      ],
      "metadata": {
        "id": "HNnyzz2obx6m"
      },
      "execution_count": 127,
      "outputs": []
    },
    {
      "cell_type": "markdown",
      "source": [
        "## Binário"
      ],
      "metadata": {
        "id": "jhZpL4qwOUFv"
      }
    },
    {
      "cell_type": "code",
      "source": [
        "X = vectors\n",
        "Y = rws['total']\n",
        "X_train, X_test, y_train, y_test = train_test_split(X,Y, test_size=0.2)"
      ],
      "metadata": {
        "id": "LzN3mCfUmE-M"
      },
      "execution_count": 158,
      "outputs": []
    },
    {
      "cell_type": "code",
      "source": [
        "from sklearn import preprocessing, svm"
      ],
      "metadata": {
        "id": "z7rMUzMK8eY2"
      },
      "execution_count": 129,
      "outputs": []
    },
    {
      "cell_type": "code",
      "source": [
        "clf = svm.SVC()\n",
        "clf.fit(X_train,y_train)"
      ],
      "metadata": {
        "colab": {
          "base_uri": "https://localhost:8080/"
        },
        "id": "1WKHvrVI8git",
        "outputId": "bd0c548f-5f4f-450d-e6df-e7834938418f"
      },
      "execution_count": 159,
      "outputs": [
        {
          "output_type": "execute_result",
          "data": {
            "text/plain": [
              "SVC()"
            ]
          },
          "metadata": {},
          "execution_count": 159
        }
      ]
    },
    {
      "cell_type": "code",
      "source": [
        "print(f'A acurácia do algoritmo de Support Vector Machine binário foi de {round(clf.score(X_test,y_test)*100,2)}%')"
      ],
      "metadata": {
        "colab": {
          "base_uri": "https://localhost:8080/"
        },
        "id": "LZlxTzAZAf82",
        "outputId": "bf4f62b7-ef6d-43cd-e21b-4e6f36ca67d6"
      },
      "execution_count": 160,
      "outputs": [
        {
          "output_type": "stream",
          "name": "stdout",
          "text": [
            "A acurácia do algoritmo de Support Vector Machine binário foi de 70.78%\n"
          ]
        }
      ]
    },
    {
      "cell_type": "code",
      "source": [
        "y_pred = clf.predict(X_test)"
      ],
      "metadata": {
        "id": "vkwq0-9tPwll"
      },
      "execution_count": 161,
      "outputs": []
    },
    {
      "cell_type": "code",
      "source": [
        "sklearn.metrics.confusion_matrix(y_test, y_pred)"
      ],
      "metadata": {
        "colab": {
          "base_uri": "https://localhost:8080/"
        },
        "id": "sUWJjv5YP0W2",
        "outputId": "d0a62f9e-c477-4491-a4ca-8dedf079b920"
      },
      "execution_count": 162,
      "outputs": [
        {
          "output_type": "execute_result",
          "data": {
            "text/plain": [
              "array([[133,   9],\n",
              "       [ 62,  39]])"
            ]
          },
          "metadata": {},
          "execution_count": 162
        }
      ]
    },
    {
      "cell_type": "markdown",
      "source": [
        "Há muitos erros por parte do código ao identificar avaliações positivas"
      ],
      "metadata": {
        "id": "H0dkT55AP1vl"
      }
    },
    {
      "cell_type": "markdown",
      "source": [
        "## Categorico"
      ],
      "metadata": {
        "id": "Y6XQ_LooOZXn"
      }
    },
    {
      "cell_type": "code",
      "source": [
        "X = vectors\n",
        "Y = rws['overall']\n",
        "X_train, X_test, y_train, y_test = train_test_split(X,Y, test_size=0.2)"
      ],
      "metadata": {
        "id": "IbOJegV8Obhl"
      },
      "execution_count": 153,
      "outputs": []
    },
    {
      "cell_type": "code",
      "source": [
        "Y"
      ],
      "metadata": {
        "id": "PEKt4mMFPZm1"
      },
      "execution_count": null,
      "outputs": []
    },
    {
      "cell_type": "code",
      "source": [
        "clf = svm.SVC()\n",
        "clf.fit(X_train,y_train)"
      ],
      "metadata": {
        "colab": {
          "base_uri": "https://localhost:8080/"
        },
        "id": "VmLZe3bCOdwt",
        "outputId": "055b157f-b57a-4fc3-c6e0-cd88bce51bbf"
      },
      "execution_count": 154,
      "outputs": [
        {
          "output_type": "execute_result",
          "data": {
            "text/plain": [
              "SVC()"
            ]
          },
          "metadata": {},
          "execution_count": 154
        }
      ]
    },
    {
      "cell_type": "code",
      "source": [
        "print(f'A acurácia do algoritmo de Support Vector Machine foi de {round(clf.score(X_test,y_test)*100,2)}%')"
      ],
      "metadata": {
        "colab": {
          "base_uri": "https://localhost:8080/"
        },
        "id": "Rh9idzMh8v-e",
        "outputId": "77961951-2276-4d46-b835-cd05fb240f70"
      },
      "execution_count": 155,
      "outputs": [
        {
          "output_type": "stream",
          "name": "stdout",
          "text": [
            "A acurácia do algoritmo de Support Vector Machine foi de 34.98%\n"
          ]
        }
      ]
    },
    {
      "cell_type": "code",
      "source": [
        "y_pred = clf.predict(X_test)"
      ],
      "metadata": {
        "id": "xWkXdUXSPDh3"
      },
      "execution_count": 156,
      "outputs": []
    },
    {
      "cell_type": "code",
      "source": [
        "sklearn.metrics.confusion_matrix(y_test, y_pred)"
      ],
      "metadata": {
        "colab": {
          "base_uri": "https://localhost:8080/"
        },
        "id": "XDmP6_PaO-B9",
        "outputId": "05710628-5e4d-41a8-9308-f517685a9a84"
      },
      "execution_count": 157,
      "outputs": [
        {
          "output_type": "execute_result",
          "data": {
            "text/plain": [
              "array([[11, 23,  3,  2,  3],\n",
              "       [ 6, 20,  3,  9,  6],\n",
              "       [ 0, 19, 18, 10,  8],\n",
              "       [ 1, 15, 11, 14, 11],\n",
              "       [ 2, 14,  1, 11, 22]])"
            ]
          },
          "metadata": {},
          "execution_count": 157
        }
      ]
    },
    {
      "cell_type": "markdown",
      "source": [
        "O código tem dificuldade em diferenciar avaliações com nota 2 das outras"
      ],
      "metadata": {
        "id": "RXfcYBn9QF0O"
      }
    },
    {
      "cell_type": "markdown",
      "source": [
        "## Binário sem resample"
      ],
      "metadata": {
        "id": "jIMy4uIHT0kD"
      }
    },
    {
      "cell_type": "code",
      "source": [
        "X = vectors\n",
        "Y = rws['total']\n",
        "X_train, X_test, y_train, y_test = train_test_split(X,Y, test_size=0.2)"
      ],
      "metadata": {
        "id": "uV2nXd_MT2tP"
      },
      "execution_count": 216,
      "outputs": []
    },
    {
      "cell_type": "code",
      "source": [
        "clf = svm.SVC()\n",
        "clf.fit(X_train,y_train)"
      ],
      "metadata": {
        "colab": {
          "base_uri": "https://localhost:8080/"
        },
        "id": "aDxlh-FeUDJ1",
        "outputId": "d9d77d36-c4a2-47fd-a82a-3933dffee18c"
      },
      "execution_count": 217,
      "outputs": [
        {
          "output_type": "execute_result",
          "data": {
            "text/plain": [
              "SVC()"
            ]
          },
          "metadata": {},
          "execution_count": 217
        }
      ]
    },
    {
      "cell_type": "code",
      "source": [
        "print(f'A acurácia do algoritmo de Support Vector Machine binário sem resample foi de {round(clf.score(X_test,y_test)*100,2)}%')"
      ],
      "metadata": {
        "colab": {
          "base_uri": "https://localhost:8080/"
        },
        "id": "i7TKW0QjUIwV",
        "outputId": "bab0e02b-bfc7-4d6f-a5b8-18d12755cb03"
      },
      "execution_count": 218,
      "outputs": [
        {
          "output_type": "stream",
          "name": "stdout",
          "text": [
            "A acurácia do algoritmo de Support Vector Machine binário sem resample foi de 89.78%\n"
          ]
        }
      ]
    },
    {
      "cell_type": "code",
      "source": [
        "y_pred = clf.predict(X_test)"
      ],
      "metadata": {
        "id": "UfSPyGmWUPfu"
      },
      "execution_count": 219,
      "outputs": []
    },
    {
      "cell_type": "code",
      "source": [
        "sklearn.metrics.confusion_matrix(y_test, y_pred)"
      ],
      "metadata": {
        "colab": {
          "base_uri": "https://localhost:8080/"
        },
        "id": "YvXy69UAUSD-",
        "outputId": "ab3fa705-700c-4a98-a242-4472b14cba66"
      },
      "execution_count": 220,
      "outputs": [
        {
          "output_type": "execute_result",
          "data": {
            "text/plain": [
              "array([[   4,  209],\n",
              "       [   0, 1833]])"
            ]
          },
          "metadata": {},
          "execution_count": 220
        }
      ]
    },
    {
      "cell_type": "markdown",
      "source": [
        "Imenso desbalanceamento levou a um algoritmo de péssimos resultados, mesmo que com alta acurácia. Neste caso, ele indicou todas as samples como positivas."
      ],
      "metadata": {
        "id": "ZEQUTdnPUgYe"
      }
    },
    {
      "cell_type": "markdown",
      "source": [
        "## Categórico sem resample"
      ],
      "metadata": {
        "id": "mwoV9LmzUoe9"
      }
    },
    {
      "cell_type": "code",
      "source": [
        "X = vectors\n",
        "Y = rws['overall']\n",
        "X_train, X_test, y_train, y_test = train_test_split(X,Y, test_size=0.2)"
      ],
      "metadata": {
        "id": "Z-liTR7zUsL1"
      },
      "execution_count": 221,
      "outputs": []
    },
    {
      "cell_type": "code",
      "source": [
        "clf = svm.SVC()\n",
        "clf.fit(X_train,y_train)"
      ],
      "metadata": {
        "colab": {
          "base_uri": "https://localhost:8080/"
        },
        "id": "YQFUfkdfUuut",
        "outputId": "8a0a714b-c6b2-483a-b8bc-b1254fd43ee8"
      },
      "execution_count": 222,
      "outputs": [
        {
          "output_type": "execute_result",
          "data": {
            "text/plain": [
              "SVC()"
            ]
          },
          "metadata": {},
          "execution_count": 222
        }
      ]
    },
    {
      "cell_type": "code",
      "source": [
        "print(f'A acurácia do algoritmo de Support Vector Machine foi de {round(clf.score(X_test,y_test)*100,2)}%')"
      ],
      "metadata": {
        "colab": {
          "base_uri": "https://localhost:8080/"
        },
        "id": "rBnSvBXOUxbn",
        "outputId": "d45c50b1-c204-41d6-c2f0-f02afab9df52"
      },
      "execution_count": 223,
      "outputs": [
        {
          "output_type": "stream",
          "name": "stdout",
          "text": [
            "A acurácia do algoritmo de Support Vector Machine foi de 67.45%\n"
          ]
        }
      ]
    },
    {
      "cell_type": "code",
      "source": [
        "y_pred = clf.predict(X_test)"
      ],
      "metadata": {
        "id": "AwHhyE7rUzWV"
      },
      "execution_count": 224,
      "outputs": []
    },
    {
      "cell_type": "code",
      "source": [
        "sklearn.metrics.confusion_matrix(y_test, y_pred)"
      ],
      "metadata": {
        "colab": {
          "base_uri": "https://localhost:8080/"
        },
        "id": "Hsv0GINtU1cW",
        "outputId": "04600d2b-bb11-4a81-c3df-487f6ede980d"
      },
      "execution_count": 225,
      "outputs": [
        {
          "output_type": "execute_result",
          "data": {
            "text/plain": [
              "array([[   0,    0,    0,    0,   35],\n",
              "       [   0,    0,    0,    1,   58],\n",
              "       [   0,    0,    0,    9,  149],\n",
              "       [   0,    0,    0,    8,  411],\n",
              "       [   0,    0,    0,    3, 1372]])"
            ]
          },
          "metadata": {},
          "execution_count": 225
        }
      ]
    },
    {
      "cell_type": "markdown",
      "source": [
        "Assim como no modelo anterior, o imenso balanceamento fez com que o algoritmo taxasse todas as samples como overall 5.0"
      ],
      "metadata": {
        "id": "Em2uMv_pVErN"
      }
    },
    {
      "cell_type": "markdown",
      "source": [
        ""
      ],
      "metadata": {
        "id": "HeC07V8CUn4V"
      }
    },
    {
      "cell_type": "markdown",
      "source": [
        "# Tokenizando com tensorflow"
      ],
      "metadata": {
        "id": "9PqPNoC19slM"
      }
    },
    {
      "cell_type": "code",
      "source": [
        "import tensorflow as tf\n",
        "from tensorflow import keras\n",
        "from tensorflow.keras.preprocessing.text import text_to_word_sequence, Tokenizer"
      ],
      "metadata": {
        "id": "sIt74VXxyUx0"
      },
      "execution_count": 226,
      "outputs": []
    },
    {
      "cell_type": "code",
      "source": [
        "vect = CountVectorizer()\n",
        "vect.fit(rws['reviewText'])"
      ],
      "metadata": {
        "colab": {
          "base_uri": "https://localhost:8080/"
        },
        "id": "orFXsRpZh2dx",
        "outputId": "47950fb6-7218-4dff-a01b-b194c8a51fcb"
      },
      "execution_count": 227,
      "outputs": [
        {
          "output_type": "execute_result",
          "data": {
            "text/plain": [
              "CountVectorizer()"
            ]
          },
          "metadata": {},
          "execution_count": 227
        }
      ]
    },
    {
      "cell_type": "code",
      "source": [
        "vocabulary_size = len(vect.vocabulary_)\n",
        "tokenizer = Tokenizer(num_words= vocabulary_size, filters='')\n",
        "tokenizer.fit_on_texts(rws['reviewText'])"
      ],
      "metadata": {
        "id": "X0yJZCTByF3t"
      },
      "execution_count": 165,
      "outputs": []
    },
    {
      "cell_type": "code",
      "source": [
        "len(tokenizer.word_counts)"
      ],
      "metadata": {
        "colab": {
          "base_uri": "https://localhost:8080/"
        },
        "id": "xY6IQNDC0eeA",
        "outputId": "f591f397-97cd-45f3-8a74-eb52ee438e92"
      },
      "execution_count": null,
      "outputs": [
        {
          "output_type": "execute_result",
          "data": {
            "text/plain": [
              "27764"
            ]
          },
          "metadata": {},
          "execution_count": 209
        }
      ]
    },
    {
      "cell_type": "code",
      "source": [
        "sequencia = tokenizer.texts_to_sequences(rws['reviewText'])"
      ],
      "metadata": {
        "id": "nx58puEezKvw"
      },
      "execution_count": 228,
      "outputs": []
    },
    {
      "cell_type": "code",
      "source": [
        "from keras.preprocessing.sequence import pad_sequences\n",
        "\n",
        "sequencia_padded = pad_sequences(\n",
        "    sequencia, maxlen=40, padding='post', truncating='post'\n",
        ")"
      ],
      "metadata": {
        "id": "09mpIflEzaXn"
      },
      "execution_count": 229,
      "outputs": []
    },
    {
      "cell_type": "code",
      "source": [
        "sequencia_padded[0]"
      ],
      "metadata": {
        "colab": {
          "base_uri": "https://localhost:8080/"
        },
        "id": "wumi8V6TzkwX",
        "outputId": "2297696b-4a65-4e28-a7d0-c5c0ba4fe182"
      },
      "execution_count": 183,
      "outputs": [
        {
          "output_type": "execute_result",
          "data": {
            "text/plain": [
              "array([ 458, 1719, 3439,  421,  459,  114,   62,   36, 3440,  519,  519,\n",
              "       2520,  338,    7,   36, 2521,   78, 1489,  339,  151, 1124,  102,\n",
              "          1,   20,  192,   58,  148,  539,  631,    0,    0,    0,    0,\n",
              "          0,    0,    0,    0,    0,    0,    0,    0,    0,    0,    0,\n",
              "          0,    0,    0,    0,    0,    0,    0,    0,    0,    0,    0,\n",
              "          0,    0,    0,    0,    0,    0,    0,    0,    0,    0,    0,\n",
              "          0,    0,    0,    0], dtype=int32)"
            ]
          },
          "metadata": {},
          "execution_count": 183
        }
      ]
    },
    {
      "cell_type": "markdown",
      "source": [
        "## Categórico"
      ],
      "metadata": {
        "id": "pQHx7YWMQTuO"
      }
    },
    {
      "cell_type": "code",
      "source": [
        "from sklearn.preprocessing import OneHotEncoder\n",
        "encoder = OneHotEncoder(handle_unknown='ignore')\n",
        "\n",
        "encoder_df = pd.DataFrame(encoder.fit_transform(rws[['overall']]).toarray())\n",
        "\n",
        "## One hot encoding\n"
      ],
      "metadata": {
        "id": "rD5B8byuzV6P"
      },
      "execution_count": 169,
      "outputs": []
    },
    {
      "cell_type": "code",
      "source": [
        "encoder_df"
      ],
      "metadata": {
        "colab": {
          "base_uri": "https://localhost:8080/",
          "height": 423
        },
        "id": "SFkvlQNtP7FR",
        "outputId": "217ae800-588e-4ff7-91fd-bfddfc706e52"
      },
      "execution_count": 170,
      "outputs": [
        {
          "output_type": "execute_result",
          "data": {
            "text/plain": [
              "        0    1    2    3    4\n",
              "0     0.0  0.0  0.0  0.0  1.0\n",
              "1     0.0  0.0  0.0  0.0  1.0\n",
              "2     0.0  0.0  0.0  0.0  1.0\n",
              "3     0.0  0.0  0.0  0.0  1.0\n",
              "4     0.0  0.0  0.0  0.0  1.0\n",
              "...   ...  ...  ...  ...  ...\n",
              "1207  1.0  0.0  0.0  0.0  0.0\n",
              "1208  1.0  0.0  0.0  0.0  0.0\n",
              "1209  1.0  0.0  0.0  0.0  0.0\n",
              "1210  1.0  0.0  0.0  0.0  0.0\n",
              "1211  1.0  0.0  0.0  0.0  0.0\n",
              "\n",
              "[1212 rows x 5 columns]"
            ],
            "text/html": [
              "\n",
              "  <div id=\"df-59baf6e7-cf5b-40f7-b987-a2110ece1ed0\">\n",
              "    <div class=\"colab-df-container\">\n",
              "      <div>\n",
              "<style scoped>\n",
              "    .dataframe tbody tr th:only-of-type {\n",
              "        vertical-align: middle;\n",
              "    }\n",
              "\n",
              "    .dataframe tbody tr th {\n",
              "        vertical-align: top;\n",
              "    }\n",
              "\n",
              "    .dataframe thead th {\n",
              "        text-align: right;\n",
              "    }\n",
              "</style>\n",
              "<table border=\"1\" class=\"dataframe\">\n",
              "  <thead>\n",
              "    <tr style=\"text-align: right;\">\n",
              "      <th></th>\n",
              "      <th>0</th>\n",
              "      <th>1</th>\n",
              "      <th>2</th>\n",
              "      <th>3</th>\n",
              "      <th>4</th>\n",
              "    </tr>\n",
              "  </thead>\n",
              "  <tbody>\n",
              "    <tr>\n",
              "      <th>0</th>\n",
              "      <td>0.0</td>\n",
              "      <td>0.0</td>\n",
              "      <td>0.0</td>\n",
              "      <td>0.0</td>\n",
              "      <td>1.0</td>\n",
              "    </tr>\n",
              "    <tr>\n",
              "      <th>1</th>\n",
              "      <td>0.0</td>\n",
              "      <td>0.0</td>\n",
              "      <td>0.0</td>\n",
              "      <td>0.0</td>\n",
              "      <td>1.0</td>\n",
              "    </tr>\n",
              "    <tr>\n",
              "      <th>2</th>\n",
              "      <td>0.0</td>\n",
              "      <td>0.0</td>\n",
              "      <td>0.0</td>\n",
              "      <td>0.0</td>\n",
              "      <td>1.0</td>\n",
              "    </tr>\n",
              "    <tr>\n",
              "      <th>3</th>\n",
              "      <td>0.0</td>\n",
              "      <td>0.0</td>\n",
              "      <td>0.0</td>\n",
              "      <td>0.0</td>\n",
              "      <td>1.0</td>\n",
              "    </tr>\n",
              "    <tr>\n",
              "      <th>4</th>\n",
              "      <td>0.0</td>\n",
              "      <td>0.0</td>\n",
              "      <td>0.0</td>\n",
              "      <td>0.0</td>\n",
              "      <td>1.0</td>\n",
              "    </tr>\n",
              "    <tr>\n",
              "      <th>...</th>\n",
              "      <td>...</td>\n",
              "      <td>...</td>\n",
              "      <td>...</td>\n",
              "      <td>...</td>\n",
              "      <td>...</td>\n",
              "    </tr>\n",
              "    <tr>\n",
              "      <th>1207</th>\n",
              "      <td>1.0</td>\n",
              "      <td>0.0</td>\n",
              "      <td>0.0</td>\n",
              "      <td>0.0</td>\n",
              "      <td>0.0</td>\n",
              "    </tr>\n",
              "    <tr>\n",
              "      <th>1208</th>\n",
              "      <td>1.0</td>\n",
              "      <td>0.0</td>\n",
              "      <td>0.0</td>\n",
              "      <td>0.0</td>\n",
              "      <td>0.0</td>\n",
              "    </tr>\n",
              "    <tr>\n",
              "      <th>1209</th>\n",
              "      <td>1.0</td>\n",
              "      <td>0.0</td>\n",
              "      <td>0.0</td>\n",
              "      <td>0.0</td>\n",
              "      <td>0.0</td>\n",
              "    </tr>\n",
              "    <tr>\n",
              "      <th>1210</th>\n",
              "      <td>1.0</td>\n",
              "      <td>0.0</td>\n",
              "      <td>0.0</td>\n",
              "      <td>0.0</td>\n",
              "      <td>0.0</td>\n",
              "    </tr>\n",
              "    <tr>\n",
              "      <th>1211</th>\n",
              "      <td>1.0</td>\n",
              "      <td>0.0</td>\n",
              "      <td>0.0</td>\n",
              "      <td>0.0</td>\n",
              "      <td>0.0</td>\n",
              "    </tr>\n",
              "  </tbody>\n",
              "</table>\n",
              "<p>1212 rows × 5 columns</p>\n",
              "</div>\n",
              "      <button class=\"colab-df-convert\" onclick=\"convertToInteractive('df-59baf6e7-cf5b-40f7-b987-a2110ece1ed0')\"\n",
              "              title=\"Convert this dataframe to an interactive table.\"\n",
              "              style=\"display:none;\">\n",
              "        \n",
              "  <svg xmlns=\"http://www.w3.org/2000/svg\" height=\"24px\"viewBox=\"0 0 24 24\"\n",
              "       width=\"24px\">\n",
              "    <path d=\"M0 0h24v24H0V0z\" fill=\"none\"/>\n",
              "    <path d=\"M18.56 5.44l.94 2.06.94-2.06 2.06-.94-2.06-.94-.94-2.06-.94 2.06-2.06.94zm-11 1L8.5 8.5l.94-2.06 2.06-.94-2.06-.94L8.5 2.5l-.94 2.06-2.06.94zm10 10l.94 2.06.94-2.06 2.06-.94-2.06-.94-.94-2.06-.94 2.06-2.06.94z\"/><path d=\"M17.41 7.96l-1.37-1.37c-.4-.4-.92-.59-1.43-.59-.52 0-1.04.2-1.43.59L10.3 9.45l-7.72 7.72c-.78.78-.78 2.05 0 2.83L4 21.41c.39.39.9.59 1.41.59.51 0 1.02-.2 1.41-.59l7.78-7.78 2.81-2.81c.8-.78.8-2.07 0-2.86zM5.41 20L4 18.59l7.72-7.72 1.47 1.35L5.41 20z\"/>\n",
              "  </svg>\n",
              "      </button>\n",
              "      \n",
              "  <style>\n",
              "    .colab-df-container {\n",
              "      display:flex;\n",
              "      flex-wrap:wrap;\n",
              "      gap: 12px;\n",
              "    }\n",
              "\n",
              "    .colab-df-convert {\n",
              "      background-color: #E8F0FE;\n",
              "      border: none;\n",
              "      border-radius: 50%;\n",
              "      cursor: pointer;\n",
              "      display: none;\n",
              "      fill: #1967D2;\n",
              "      height: 32px;\n",
              "      padding: 0 0 0 0;\n",
              "      width: 32px;\n",
              "    }\n",
              "\n",
              "    .colab-df-convert:hover {\n",
              "      background-color: #E2EBFA;\n",
              "      box-shadow: 0px 1px 2px rgba(60, 64, 67, 0.3), 0px 1px 3px 1px rgba(60, 64, 67, 0.15);\n",
              "      fill: #174EA6;\n",
              "    }\n",
              "\n",
              "    [theme=dark] .colab-df-convert {\n",
              "      background-color: #3B4455;\n",
              "      fill: #D2E3FC;\n",
              "    }\n",
              "\n",
              "    [theme=dark] .colab-df-convert:hover {\n",
              "      background-color: #434B5C;\n",
              "      box-shadow: 0px 1px 3px 1px rgba(0, 0, 0, 0.15);\n",
              "      filter: drop-shadow(0px 1px 2px rgba(0, 0, 0, 0.3));\n",
              "      fill: #FFFFFF;\n",
              "    }\n",
              "  </style>\n",
              "\n",
              "      <script>\n",
              "        const buttonEl =\n",
              "          document.querySelector('#df-59baf6e7-cf5b-40f7-b987-a2110ece1ed0 button.colab-df-convert');\n",
              "        buttonEl.style.display =\n",
              "          google.colab.kernel.accessAllowed ? 'block' : 'none';\n",
              "\n",
              "        async function convertToInteractive(key) {\n",
              "          const element = document.querySelector('#df-59baf6e7-cf5b-40f7-b987-a2110ece1ed0');\n",
              "          const dataTable =\n",
              "            await google.colab.kernel.invokeFunction('convertToInteractive',\n",
              "                                                     [key], {});\n",
              "          if (!dataTable) return;\n",
              "\n",
              "          const docLinkHtml = 'Like what you see? Visit the ' +\n",
              "            '<a target=\"_blank\" href=https://colab.research.google.com/notebooks/data_table.ipynb>data table notebook</a>'\n",
              "            + ' to learn more about interactive tables.';\n",
              "          element.innerHTML = '';\n",
              "          dataTable['output_type'] = 'display_data';\n",
              "          await google.colab.output.renderOutput(dataTable, element);\n",
              "          const docLink = document.createElement('div');\n",
              "          docLink.innerHTML = docLinkHtml;\n",
              "          element.appendChild(docLink);\n",
              "        }\n",
              "      </script>\n",
              "    </div>\n",
              "  </div>\n",
              "  "
            ]
          },
          "metadata": {},
          "execution_count": 170
        }
      ]
    },
    {
      "cell_type": "code",
      "source": [
        "Y = np.array(encoder_df)\n",
        "X_train, X_test, y_train, y_test = train_test_split(sequencia_padded,Y, test_size=0.2)"
      ],
      "metadata": {
        "id": "Js-_43_Au1Om"
      },
      "execution_count": 189,
      "outputs": []
    },
    {
      "cell_type": "code",
      "source": [
        "from keras.models import Sequential\n",
        "from keras.layers import Embedding, LSTM, Dense, Dropout, Bidirectional\n",
        "from keras.initializers import Constant"
      ],
      "metadata": {
        "id": "TTXEPy071rI4"
      },
      "execution_count": 173,
      "outputs": []
    },
    {
      "cell_type": "code",
      "source": [
        "model = Sequential()\n",
        "model.add(Embedding(27764, 128, input_length=40))\n",
        "model.add(LSTM(64))\n",
        "model.add(Dense(64, activation='tanh'))\n",
        "model.add(Dense(5, activation='softmax'))\n",
        "\n",
        "model.compile(loss='categorical_crossentropy', optimizer='adam', metrics=['accuracy'])"
      ],
      "metadata": {
        "id": "U2ZTv4JaQrbW"
      },
      "execution_count": 190,
      "outputs": []
    },
    {
      "cell_type": "code",
      "source": [
        "history = model.fit(\n",
        "    X_train, y_train, epochs=20, validation_data=(X_test, y_test),callbacks=[tf.keras.callbacks.EarlyStopping(monitor='val_accuracy', patience=3)]\n",
        ")"
      ],
      "metadata": {
        "colab": {
          "base_uri": "https://localhost:8080/"
        },
        "id": "9wuCp8J13Tjw",
        "outputId": "557b1a8a-ed5c-4473-c571-2b2a702ab3b8"
      },
      "execution_count": 191,
      "outputs": [
        {
          "output_type": "stream",
          "name": "stdout",
          "text": [
            "Epoch 1/20\n",
            "31/31 [==============================] - 7s 102ms/step - loss: 1.6116 - accuracy: 0.1930 - val_loss: 1.6052 - val_accuracy: 0.1934\n",
            "Epoch 2/20\n",
            "31/31 [==============================] - 2s 77ms/step - loss: 1.5908 - accuracy: 0.3179 - val_loss: 1.6040 - val_accuracy: 0.2263\n",
            "Epoch 3/20\n",
            "31/31 [==============================] - 2s 76ms/step - loss: 1.4305 - accuracy: 0.4654 - val_loss: 1.6103 - val_accuracy: 0.2881\n",
            "Epoch 4/20\n",
            "31/31 [==============================] - 2s 76ms/step - loss: 0.9274 - accuracy: 0.6481 - val_loss: 1.6200 - val_accuracy: 0.3292\n",
            "Epoch 5/20\n",
            "31/31 [==============================] - 2s 76ms/step - loss: 0.5157 - accuracy: 0.8266 - val_loss: 1.9495 - val_accuracy: 0.3128\n",
            "Epoch 6/20\n",
            "31/31 [==============================] - 3s 82ms/step - loss: 0.3100 - accuracy: 0.9040 - val_loss: 2.1837 - val_accuracy: 0.3416\n",
            "Epoch 7/20\n",
            "31/31 [==============================] - 2s 76ms/step - loss: 0.1451 - accuracy: 0.9567 - val_loss: 2.9227 - val_accuracy: 0.2963\n",
            "Epoch 8/20\n",
            "31/31 [==============================] - 2s 76ms/step - loss: 0.1035 - accuracy: 0.9649 - val_loss: 3.2346 - val_accuracy: 0.3416\n",
            "Epoch 9/20\n",
            "31/31 [==============================] - 2s 77ms/step - loss: 0.0682 - accuracy: 0.9845 - val_loss: 3.0500 - val_accuracy: 0.3128\n"
          ]
        }
      ]
    },
    {
      "cell_type": "code",
      "source": [
        "model = Sequential()\n",
        "model.add(Embedding(27764, 128, input_length=40))\n",
        "model.add(Bidirectional(LSTM(64)))\n",
        "model.add(Dense(64, activation='tanh'))\n",
        "model.add(Dense(5, activation='softmax'))\n",
        "\n",
        "model.compile(loss='categorical_crossentropy', optimizer='adam', metrics=['accuracy'])"
      ],
      "metadata": {
        "id": "R4R7w6SfSG1u"
      },
      "execution_count": 193,
      "outputs": []
    },
    {
      "cell_type": "code",
      "source": [
        "history = model.fit(\n",
        "    X_train, y_train, epochs=20, validation_data=(X_test, y_test),callbacks=[tf.keras.callbacks.EarlyStopping(monitor='val_accuracy', patience=3)]\n",
        ")"
      ],
      "metadata": {
        "colab": {
          "base_uri": "https://localhost:8080/"
        },
        "id": "NCUGlEjOSQ8m",
        "outputId": "a2503e35-dd09-4b04-8e58-85c095121c7a"
      },
      "execution_count": 194,
      "outputs": [
        {
          "output_type": "stream",
          "name": "stdout",
          "text": [
            "Epoch 1/20\n",
            "31/31 [==============================] - 8s 136ms/step - loss: 1.6103 - accuracy: 0.2105 - val_loss: 1.6008 - val_accuracy: 0.2099\n",
            "Epoch 2/20\n",
            "31/31 [==============================] - 3s 101ms/step - loss: 1.4934 - accuracy: 0.4675 - val_loss: 1.5007 - val_accuracy: 0.2963\n",
            "Epoch 3/20\n",
            "31/31 [==============================] - 3s 101ms/step - loss: 0.9806 - accuracy: 0.6491 - val_loss: 1.5816 - val_accuracy: 0.3539\n",
            "Epoch 4/20\n",
            "31/31 [==============================] - 3s 101ms/step - loss: 0.4532 - accuracy: 0.8473 - val_loss: 1.8441 - val_accuracy: 0.3580\n",
            "Epoch 5/20\n",
            "31/31 [==============================] - 3s 101ms/step - loss: 0.1920 - accuracy: 0.9515 - val_loss: 2.2598 - val_accuracy: 0.3498\n",
            "Epoch 6/20\n",
            "31/31 [==============================] - 3s 101ms/step - loss: 0.0877 - accuracy: 0.9804 - val_loss: 2.5464 - val_accuracy: 0.3374\n",
            "Epoch 7/20\n",
            "31/31 [==============================] - 3s 103ms/step - loss: 0.0375 - accuracy: 0.9959 - val_loss: 3.0208 - val_accuracy: 0.3210\n"
          ]
        }
      ]
    },
    {
      "cell_type": "markdown",
      "source": [
        "## Binário"
      ],
      "metadata": {
        "id": "tTMRQHLMSdW1"
      }
    },
    {
      "cell_type": "code",
      "source": [
        "Y = np.array(rws['total'])\n",
        "X_train, X_test, y_train, y_test = train_test_split(sequencia_padded,Y, test_size=0.2)"
      ],
      "metadata": {
        "id": "4U73xLBxSiy4"
      },
      "execution_count": 196,
      "outputs": []
    },
    {
      "cell_type": "code",
      "source": [
        "model = Sequential()\n",
        "model.add(Embedding(27764, 128, input_length=40))\n",
        "model.add(LSTM(64, dropout=0.1))\n",
        "model.add(Dense(64, activation='tanh'))\n",
        "model.add(Dense(1, activation='sigmoid'))\n",
        "\n",
        "model.compile(loss='binary_crossentropy', optimizer='adam', metrics=['accuracy'])"
      ],
      "metadata": {
        "id": "UAzkaPgb1XQ5"
      },
      "execution_count": 199,
      "outputs": []
    },
    {
      "cell_type": "code",
      "source": [
        "history = model.fit(\n",
        "    X_train, y_train, epochs=20, validation_data=(X_test, y_test),callbacks=[tf.keras.callbacks.EarlyStopping(monitor='val_accuracy', patience=3)]\n",
        ")"
      ],
      "metadata": {
        "colab": {
          "base_uri": "https://localhost:8080/"
        },
        "id": "BNS0nPkoSox3",
        "outputId": "0eb66840-68e1-4001-9902-9f728bb288a7"
      },
      "execution_count": 200,
      "outputs": [
        {
          "output_type": "stream",
          "name": "stdout",
          "text": [
            "Epoch 1/20\n",
            "31/31 [==============================] - 12s 212ms/step - loss: 0.6857 - accuracy: 0.5697 - val_loss: 0.6599 - val_accuracy: 0.6379\n",
            "Epoch 2/20\n",
            "31/31 [==============================] - 3s 94ms/step - loss: 0.6578 - accuracy: 0.5614 - val_loss: 0.6371 - val_accuracy: 0.6379\n",
            "Epoch 3/20\n",
            "31/31 [==============================] - 3s 81ms/step - loss: 0.4520 - accuracy: 0.7833 - val_loss: 0.6171 - val_accuracy: 0.6996\n",
            "Epoch 4/20\n",
            "31/31 [==============================] - 2s 80ms/step - loss: 0.1558 - accuracy: 0.9432 - val_loss: 0.7842 - val_accuracy: 0.6584\n",
            "Epoch 5/20\n",
            "31/31 [==============================] - 3s 81ms/step - loss: 0.0873 - accuracy: 0.9742 - val_loss: 0.9724 - val_accuracy: 0.6749\n",
            "Epoch 6/20\n",
            "31/31 [==============================] - 3s 83ms/step - loss: 0.0263 - accuracy: 0.9886 - val_loss: 1.2010 - val_accuracy: 0.6626\n"
          ]
        }
      ]
    },
    {
      "cell_type": "code",
      "source": [
        "model = Sequential()\n",
        "model.add(Embedding(27764, 128, input_length=40))\n",
        "model.add(Bidirectional(LSTM(64)))\n",
        "model.add(Dense(64, activation='tanh'))\n",
        "model.add(Dense(1, activation='sigmoid'))\n",
        "\n",
        "model.compile(loss='binary_crossentropy', optimizer='adam', metrics=['accuracy'])\n"
      ],
      "metadata": {
        "id": "5mBh5daA4mnw"
      },
      "execution_count": 204,
      "outputs": []
    },
    {
      "cell_type": "code",
      "source": [
        "history = model.fit(\n",
        "    X_train, y_train, epochs=20, validation_data=(X_test, y_test),callbacks=[tf.keras.callbacks.EarlyStopping(monitor='val_accuracy', patience=3)]\n",
        ")"
      ],
      "metadata": {
        "colab": {
          "base_uri": "https://localhost:8080/"
        },
        "id": "Ov2GU8Kv8ifE",
        "outputId": "85d939b1-956a-4373-9298-9e29efd58315"
      },
      "execution_count": 205,
      "outputs": [
        {
          "output_type": "stream",
          "name": "stdout",
          "text": [
            "Epoch 1/20\n",
            "31/31 [==============================] - 9s 138ms/step - loss: 0.6852 - accuracy: 0.5759 - val_loss: 0.6624 - val_accuracy: 0.6379\n",
            "Epoch 2/20\n",
            "31/31 [==============================] - 3s 101ms/step - loss: 0.5446 - accuracy: 0.7172 - val_loss: 0.6269 - val_accuracy: 0.6914\n",
            "Epoch 3/20\n",
            "31/31 [==============================] - 3s 100ms/step - loss: 0.2266 - accuracy: 0.9257 - val_loss: 0.7042 - val_accuracy: 0.6955\n",
            "Epoch 4/20\n",
            "31/31 [==============================] - 3s 101ms/step - loss: 0.0654 - accuracy: 0.9825 - val_loss: 0.9764 - val_accuracy: 0.7325\n",
            "Epoch 5/20\n",
            "31/31 [==============================] - 3s 102ms/step - loss: 0.0142 - accuracy: 0.9969 - val_loss: 1.1480 - val_accuracy: 0.6955\n",
            "Epoch 6/20\n",
            "31/31 [==============================] - 3s 102ms/step - loss: 0.0041 - accuracy: 0.9990 - val_loss: 1.3750 - val_accuracy: 0.7078\n",
            "Epoch 7/20\n",
            "31/31 [==============================] - 3s 103ms/step - loss: 0.0012 - accuracy: 1.0000 - val_loss: 1.5331 - val_accuracy: 0.7119\n"
          ]
        }
      ]
    },
    {
      "cell_type": "markdown",
      "source": [
        "## Categórico sem resample"
      ],
      "metadata": {
        "id": "ALS_-wvUVb_e"
      }
    },
    {
      "cell_type": "code",
      "source": [
        "from sklearn.preprocessing import OneHotEncoder\n",
        "encoder = OneHotEncoder(handle_unknown='ignore')\n",
        "\n",
        "encoder_df = pd.DataFrame(encoder.fit_transform(rws[['overall']]).toarray())\n",
        "\n",
        "## One hot encoding\n"
      ],
      "metadata": {
        "id": "W4AZKWQYVdEM"
      },
      "execution_count": 230,
      "outputs": []
    },
    {
      "cell_type": "code",
      "source": [
        "Y = np.array(encoder_df)\n",
        "X_train, X_test, y_train, y_test = train_test_split(sequencia_padded,Y, test_size=0.2)"
      ],
      "metadata": {
        "id": "KNWPmJyaVkqV"
      },
      "execution_count": 231,
      "outputs": []
    },
    {
      "cell_type": "code",
      "source": [
        "model = Sequential()\n",
        "model.add(Embedding(27764, 128, input_length=40))\n",
        "model.add(LSTM(64))\n",
        "model.add(Dense(64, activation='tanh'))\n",
        "model.add(Dense(5, activation='softmax'))\n",
        "\n",
        "model.compile(loss='categorical_crossentropy', optimizer='adam', metrics=['accuracy'])"
      ],
      "metadata": {
        "id": "Fee8WxNfVoEX"
      },
      "execution_count": 232,
      "outputs": []
    },
    {
      "cell_type": "code",
      "source": [
        "history = model.fit(\n",
        "    X_train, y_train, epochs=20, validation_data=(X_test, y_test),callbacks=[tf.keras.callbacks.EarlyStopping(monitor='val_accuracy', patience=3)]\n",
        ")"
      ],
      "metadata": {
        "colab": {
          "base_uri": "https://localhost:8080/"
        },
        "id": "bQa5Sr_wVq0_",
        "outputId": "06d82f0f-e4ef-4e77-9567-668cd60a7873"
      },
      "execution_count": 233,
      "outputs": [
        {
          "output_type": "stream",
          "name": "stdout",
          "text": [
            "Epoch 1/20\n",
            "256/256 [==============================] - 26s 84ms/step - loss: 0.9784 - accuracy: 0.6751 - val_loss: 0.9349 - val_accuracy: 0.6774\n",
            "Epoch 2/20\n",
            "256/256 [==============================] - 20s 79ms/step - loss: 0.8373 - accuracy: 0.6868 - val_loss: 0.9044 - val_accuracy: 0.6725\n",
            "Epoch 3/20\n",
            "256/256 [==============================] - 20s 79ms/step - loss: 0.7223 - accuracy: 0.7299 - val_loss: 0.9433 - val_accuracy: 0.6500\n",
            "Epoch 4/20\n",
            "256/256 [==============================] - 20s 79ms/step - loss: 0.6073 - accuracy: 0.7759 - val_loss: 1.0469 - val_accuracy: 0.6373\n"
          ]
        }
      ]
    },
    {
      "cell_type": "markdown",
      "source": [
        "Resultados muito similares aos apresentados no modelo SVM acima no relatório. O desbalanceamento leva a um grande problema"
      ],
      "metadata": {
        "id": "B0TGvyQ1WBsm"
      }
    },
    {
      "cell_type": "code",
      "source": [
        "model = Sequential()\n",
        "model.add(Embedding(27764, 128, input_length=40))\n",
        "model.add(Bidirectional(LSTM(64)))\n",
        "model.add(Dense(64, activation='tanh'))\n",
        "model.add(Dense(5, activation='softmax'))\n",
        "\n",
        "model.compile(loss='categorical_crossentropy', optimizer='adam', metrics=['accuracy'])"
      ],
      "metadata": {
        "id": "tzy9h7rXWKs0"
      },
      "execution_count": 234,
      "outputs": []
    },
    {
      "cell_type": "code",
      "source": [
        "history = model.fit(\n",
        "    X_train, y_train, epochs=20, validation_data=(X_test, y_test),callbacks=[tf.keras.callbacks.EarlyStopping(monitor='val_accuracy', patience=3)]\n",
        ")"
      ],
      "metadata": {
        "colab": {
          "base_uri": "https://localhost:8080/"
        },
        "id": "cxN96GeKWRWY",
        "outputId": "0f466368-6b9f-474b-c43a-3b8ec68aa79f"
      },
      "execution_count": 235,
      "outputs": [
        {
          "output_type": "stream",
          "name": "stdout",
          "text": [
            "Epoch 1/20\n",
            "256/256 [==============================] - 39s 130ms/step - loss: 0.9359 - accuracy: 0.6734 - val_loss: 0.8707 - val_accuracy: 0.6755\n",
            "Epoch 2/20\n",
            "256/256 [==============================] - 27s 106ms/step - loss: 0.7596 - accuracy: 0.7049 - val_loss: 0.8961 - val_accuracy: 0.6716\n",
            "Epoch 3/20\n",
            "256/256 [==============================] - 31s 120ms/step - loss: 0.6118 - accuracy: 0.7631 - val_loss: 0.9407 - val_accuracy: 0.6720\n",
            "Epoch 4/20\n",
            "256/256 [==============================] - 27s 105ms/step - loss: 0.4491 - accuracy: 0.8302 - val_loss: 1.0898 - val_accuracy: 0.6413\n"
          ]
        }
      ]
    },
    {
      "cell_type": "markdown",
      "source": [
        ""
      ],
      "metadata": {
        "id": "4yFYPVbIWVn1"
      }
    },
    {
      "cell_type": "markdown",
      "source": [
        "## Binário sem resample"
      ],
      "metadata": {
        "id": "klDzjs2_WVqu"
      }
    },
    {
      "cell_type": "code",
      "source": [
        "Y = np.array(rws['total'])\n",
        "X_train, X_test, y_train, y_test = train_test_split(sequencia_padded,Y, test_size=0.2)"
      ],
      "metadata": {
        "id": "vvk3hwyFWW5s"
      },
      "execution_count": 236,
      "outputs": []
    },
    {
      "cell_type": "code",
      "source": [
        "model = Sequential()\n",
        "model.add(Embedding(27764, 128, input_length=40))\n",
        "model.add(LSTM(64, dropout=0.1))\n",
        "model.add(Dense(64, activation='tanh'))\n",
        "model.add(Dense(1, activation='sigmoid'))\n",
        "\n",
        "model.compile(loss='binary_crossentropy', optimizer='adam', metrics=['accuracy'])"
      ],
      "metadata": {
        "id": "WjQWJfSGWaCA"
      },
      "execution_count": 237,
      "outputs": []
    },
    {
      "cell_type": "code",
      "source": [
        "history = model.fit(\n",
        "    X_train, y_train, epochs=20, validation_data=(X_test, y_test),callbacks=[tf.keras.callbacks.EarlyStopping(monitor='val_accuracy', patience=3)]\n",
        ")"
      ],
      "metadata": {
        "colab": {
          "base_uri": "https://localhost:8080/"
        },
        "id": "gyKjx1y2WcpW",
        "outputId": "7726266c-c9ad-4f16-b7cc-a7435e5ba712"
      },
      "execution_count": 238,
      "outputs": [
        {
          "output_type": "stream",
          "name": "stdout",
          "text": [
            "Epoch 1/20\n",
            "256/256 [==============================] - 24s 83ms/step - loss: 0.3679 - accuracy: 0.8818 - val_loss: 0.3666 - val_accuracy: 0.8680\n",
            "Epoch 2/20\n",
            "256/256 [==============================] - 22s 84ms/step - loss: 0.2819 - accuracy: 0.8994 - val_loss: 0.3784 - val_accuracy: 0.8680\n",
            "Epoch 3/20\n",
            "256/256 [==============================] - 21s 81ms/step - loss: 0.2008 - accuracy: 0.9259 - val_loss: 0.3952 - val_accuracy: 0.8715\n",
            "Epoch 4/20\n",
            "256/256 [==============================] - 21s 81ms/step - loss: 0.1463 - accuracy: 0.9499 - val_loss: 0.4309 - val_accuracy: 0.8348\n",
            "Epoch 5/20\n",
            "256/256 [==============================] - 20s 78ms/step - loss: 0.1055 - accuracy: 0.9687 - val_loss: 0.4876 - val_accuracy: 0.8548\n",
            "Epoch 6/20\n",
            "256/256 [==============================] - 20s 77ms/step - loss: 0.0804 - accuracy: 0.9756 - val_loss: 0.5847 - val_accuracy: 0.8436\n"
          ]
        }
      ]
    },
    {
      "cell_type": "code",
      "source": [
        "model = Sequential()\n",
        "model.add(Embedding(27764, 128, input_length=40))\n",
        "model.add(Bidirectional(LSTM(64)))\n",
        "model.add(Dense(64, activation='tanh'))\n",
        "model.add(Dense(1, activation='sigmoid'))\n",
        "\n",
        "model.compile(loss='binary_crossentropy', optimizer='adam', metrics=['accuracy'])"
      ],
      "metadata": {
        "id": "m7UJFyfbWfN2"
      },
      "execution_count": 239,
      "outputs": []
    },
    {
      "cell_type": "code",
      "source": [
        "history = model.fit(\n",
        "    X_train, y_train, epochs=20, validation_data=(X_test, y_test),callbacks=[tf.keras.callbacks.EarlyStopping(monitor='val_accuracy', patience=3)]\n",
        ")"
      ],
      "metadata": {
        "colab": {
          "base_uri": "https://localhost:8080/"
        },
        "id": "9UrkZHb-WuF-",
        "outputId": "e3362b4e-dab4-43cf-9125-cf46639920fd"
      },
      "execution_count": 240,
      "outputs": [
        {
          "output_type": "stream",
          "name": "stdout",
          "text": [
            "Epoch 1/20\n",
            "256/256 [==============================] - 33s 106ms/step - loss: 0.3468 - accuracy: 0.8806 - val_loss: 0.3395 - val_accuracy: 0.8700\n",
            "Epoch 2/20\n",
            "256/256 [==============================] - 26s 100ms/step - loss: 0.2269 - accuracy: 0.9124 - val_loss: 0.3551 - val_accuracy: 0.8602\n",
            "Epoch 3/20\n",
            "256/256 [==============================] - 25s 99ms/step - loss: 0.1370 - accuracy: 0.9496 - val_loss: 0.4936 - val_accuracy: 0.8583\n",
            "Epoch 4/20\n",
            "256/256 [==============================] - 26s 101ms/step - loss: 0.0814 - accuracy: 0.9724 - val_loss: 0.6318 - val_accuracy: 0.8436\n"
          ]
        }
      ]
    },
    {
      "cell_type": "markdown",
      "source": [
        "# Fazendo testes de classificação entre 5.0 estrelas ou 4.0 estrelas"
      ],
      "metadata": {
        "id": "gOR_gk-uawMo"
      }
    },
    {
      "cell_type": "code",
      "source": [
        "from sklearn.utils import resample\n",
        "# Separar a maioria e minoria\n",
        "df_5 = rws[rws['overall']==5.0]\n",
        "df_4 = rws[rws['overall']==4.0]\n",
        "\n",
        "\n",
        "# Downsample\n",
        "df_5 = resample(df_5,\n",
        "                                 replace=False,    \n",
        "                                 n_samples=2079)\n",
        "df_4 = resample(df_4,\n",
        "                                 replace=False,    \n",
        "                                 n_samples=2079)\n",
        "\n",
        "\n",
        "# Combinar a maioria downsampled com a minoria\n",
        "df = pd.concat([df_5,df_4])"
      ],
      "metadata": {
        "id": "QM_qB1f3a0Y0"
      },
      "execution_count": 242,
      "outputs": []
    },
    {
      "cell_type": "code",
      "source": [
        "df.loc[((df['overall'] == 4) \n",
        "       ), 'total'] = 0\n",
        "\n",
        "df['total'] = df['total'].fillna(1)"
      ],
      "metadata": {
        "id": "VqhReBm2by7_"
      },
      "execution_count": 249,
      "outputs": []
    },
    {
      "cell_type": "code",
      "source": [
        "df.shape"
      ],
      "metadata": {
        "colab": {
          "base_uri": "https://localhost:8080/"
        },
        "id": "8OwSOW9HcE1u",
        "outputId": "487b04e2-f925-4314-f7a8-63a93f063c3c"
      },
      "execution_count": 254,
      "outputs": [
        {
          "output_type": "execute_result",
          "data": {
            "text/plain": [
              "(4158, 3)"
            ]
          },
          "metadata": {},
          "execution_count": 254
        }
      ]
    },
    {
      "cell_type": "code",
      "source": [
        "vect = CountVectorizer()\n",
        "vect.fit(df['reviewText'])"
      ],
      "metadata": {
        "colab": {
          "base_uri": "https://localhost:8080/"
        },
        "id": "hzWUozORbULW",
        "outputId": "5d173bd2-0415-4c21-89a4-dfed717bf0e9"
      },
      "execution_count": 244,
      "outputs": [
        {
          "output_type": "execute_result",
          "data": {
            "text/plain": [
              "CountVectorizer()"
            ]
          },
          "metadata": {},
          "execution_count": 244
        }
      ]
    },
    {
      "cell_type": "code",
      "source": [
        "vocabulary_size = len(vect.vocabulary_)\n",
        "tokenizer = Tokenizer(num_words= vocabulary_size, filters='')\n",
        "tokenizer.fit_on_texts(df['reviewText'])"
      ],
      "metadata": {
        "id": "h-7fwwY9bagd"
      },
      "execution_count": 245,
      "outputs": []
    },
    {
      "cell_type": "code",
      "source": [
        "len(tokenizer.word_counts)"
      ],
      "metadata": {
        "colab": {
          "base_uri": "https://localhost:8080/"
        },
        "id": "q54wgPHnbfd0",
        "outputId": "65010d00-4b39-4e89-afb6-7f5dcbd0f0e0"
      },
      "execution_count": 246,
      "outputs": [
        {
          "output_type": "execute_result",
          "data": {
            "text/plain": [
              "16219"
            ]
          },
          "metadata": {},
          "execution_count": 246
        }
      ]
    },
    {
      "cell_type": "code",
      "source": [
        "sequencia = tokenizer.texts_to_sequences(df['reviewText'])"
      ],
      "metadata": {
        "id": "GnI5QAc_blHO"
      },
      "execution_count": 247,
      "outputs": []
    },
    {
      "cell_type": "code",
      "source": [
        "from keras.preprocessing.sequence import pad_sequences\n",
        "\n",
        "sequencia_padded = pad_sequences(\n",
        "    sequencia, maxlen=40, padding='post', truncating='post'\n",
        ")"
      ],
      "metadata": {
        "id": "VvQ7aNaEbpbm"
      },
      "execution_count": 248,
      "outputs": []
    },
    {
      "cell_type": "code",
      "source": [
        "Y = np.array(df['total'])\n",
        "X_train, X_test, y_train, y_test = train_test_split(sequencia_padded,Y, test_size=0.2)"
      ],
      "metadata": {
        "id": "e6R0peYob_J_"
      },
      "execution_count": 255,
      "outputs": []
    },
    {
      "cell_type": "code",
      "source": [
        "model = Sequential()\n",
        "model.add(Embedding(16219, 128, input_length=40))\n",
        "model.add(LSTM(64, dropout=0.1))\n",
        "model.add(Dense(64, activation='relu'))\n",
        "model.add(Dense(64, activation='relu'))\n",
        "model.add(Dense(1, activation='sigmoid'))\n",
        "\n",
        "model.compile(loss='binary_crossentropy', optimizer='adam', metrics=['accuracy'])"
      ],
      "metadata": {
        "id": "XC0y61VqcPMH"
      },
      "execution_count": 265,
      "outputs": []
    },
    {
      "cell_type": "code",
      "source": [
        "history = model.fit(\n",
        "    X_train, y_train, epochs=20, validation_data=(X_test, y_test),callbacks=[tf.keras.callbacks.EarlyStopping(monitor='val_accuracy', patience=3)]\n",
        ")"
      ],
      "metadata": {
        "colab": {
          "base_uri": "https://localhost:8080/"
        },
        "id": "AA4k-0fFcSF1",
        "outputId": "0d607d48-d78a-4e51-cdfd-053f7c625263"
      },
      "execution_count": 266,
      "outputs": [
        {
          "output_type": "stream",
          "name": "stdout",
          "text": [
            "Epoch 1/20\n",
            "104/104 [==============================] - 10s 70ms/step - loss: 0.6925 - accuracy: 0.5177 - val_loss: 0.6902 - val_accuracy: 0.5216\n",
            "Epoch 2/20\n",
            "104/104 [==============================] - 7s 65ms/step - loss: 0.6330 - accuracy: 0.6326 - val_loss: 0.6961 - val_accuracy: 0.6058\n",
            "Epoch 3/20\n",
            "104/104 [==============================] - 7s 66ms/step - loss: 0.4485 - accuracy: 0.7673 - val_loss: 0.7726 - val_accuracy: 0.5938\n",
            "Epoch 4/20\n",
            "104/104 [==============================] - 7s 64ms/step - loss: 0.2959 - accuracy: 0.8707 - val_loss: 0.9622 - val_accuracy: 0.6166\n",
            "Epoch 5/20\n",
            "104/104 [==============================] - 7s 64ms/step - loss: 0.1992 - accuracy: 0.9251 - val_loss: 1.4240 - val_accuracy: 0.6070\n",
            "Epoch 6/20\n",
            "104/104 [==============================] - 7s 65ms/step - loss: 0.1321 - accuracy: 0.9486 - val_loss: 1.1321 - val_accuracy: 0.5925\n",
            "Epoch 7/20\n",
            "104/104 [==============================] - 7s 64ms/step - loss: 0.1066 - accuracy: 0.9603 - val_loss: 1.5342 - val_accuracy: 0.5805\n"
          ]
        }
      ]
    },
    {
      "cell_type": "code",
      "source": [
        "model = Sequential()\n",
        "model.add(Embedding(16219, 128, input_length=40))\n",
        "model.add(Bidirectional(LSTM(64)))\n",
        "model.add(Dense(64, activation='tanh'))\n",
        "model.add(Dense(1, activation='sigmoid'))\n",
        "\n",
        "model.compile(loss='binary_crossentropy', optimizer='adam', metrics=['accuracy'])"
      ],
      "metadata": {
        "id": "hHq6bESiddGv"
      },
      "execution_count": 259,
      "outputs": []
    },
    {
      "cell_type": "code",
      "source": [
        "history = model.fit(\n",
        "    X_train, y_train, epochs=20, validation_data=(X_test, y_test),callbacks=[tf.keras.callbacks.EarlyStopping(monitor='val_accuracy', patience=3)]\n",
        ")"
      ],
      "metadata": {
        "colab": {
          "base_uri": "https://localhost:8080/"
        },
        "id": "FNj67MfNdefF",
        "outputId": "a9b292f8-f4d3-4d81-95f6-2bc13b5637f6"
      },
      "execution_count": 260,
      "outputs": [
        {
          "output_type": "stream",
          "name": "stdout",
          "text": [
            "Epoch 1/20\n",
            "104/104 [==============================] - 15s 98ms/step - loss: 0.6807 - accuracy: 0.5508 - val_loss: 0.6596 - val_accuracy: 0.6130\n",
            "Epoch 2/20\n",
            "104/104 [==============================] - 9s 88ms/step - loss: 0.5158 - accuracy: 0.7514 - val_loss: 0.7075 - val_accuracy: 0.6034\n",
            "Epoch 3/20\n",
            "104/104 [==============================] - 9s 87ms/step - loss: 0.2615 - accuracy: 0.8915 - val_loss: 1.0619 - val_accuracy: 0.6046\n",
            "Epoch 4/20\n",
            "104/104 [==============================] - 11s 106ms/step - loss: 0.1124 - accuracy: 0.9561 - val_loss: 1.3873 - val_accuracy: 0.5769\n"
          ]
        }
      ]
    },
    {
      "cell_type": "markdown",
      "source": [
        "# Conclusão"
      ],
      "metadata": {
        "id": "iasSN3PYfALd"
      }
    },
    {
      "cell_type": "markdown",
      "source": [
        "A partir dos resultados estudados, depreende-se que o algoritmo implementado não obtém bons resultados ao prever o overall específico de cada sample a partir do reviewText, seja por SVM, word embedding, lstm uni ou bidirecional.\n",
        "\n",
        "Ao prever se o overall era positivo (4 ou 5) ou negativo (3,2,ou 1), o algoritmo obteve melhores resultados, alcançando por volta de 70% de acurácia. O melhor resultado obtido foi a partir do algoritmo que usava LSTM bidirecional, o qual obteve 87% de acurácia, um resultado assaz bom.\n",
        "\n",
        "Também cabe comentar que o balanceamento dos dados é essencial para o bom resultado do algoritmo."
      ],
      "metadata": {
        "id": "M4ae3NQsfB02"
      }
    }
  ]
}