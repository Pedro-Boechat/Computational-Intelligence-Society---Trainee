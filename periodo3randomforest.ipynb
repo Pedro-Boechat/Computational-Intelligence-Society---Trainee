{
  "nbformat": 4,
  "nbformat_minor": 0,
  "metadata": {
    "colab": {
      "name": "periodo3randomforest.ipynb",
      "provenance": [],
      "collapsed_sections": [
        "jlJtTd3Qecxd"
      ],
      "authorship_tag": "ABX9TyMHwZ4Qr9o1xaCDCNyg9eNt",
      "include_colab_link": true
    },
    "kernelspec": {
      "name": "python3",
      "display_name": "Python 3"
    },
    "language_info": {
      "name": "python"
    }
  },
  "cells": [
    {
      "cell_type": "markdown",
      "metadata": {
        "id": "view-in-github",
        "colab_type": "text"
      },
      "source": [
        "<a href=\"https://colab.research.google.com/github/Pedro-Boechat/trainee/blob/main/periodo3randomforest.ipynb\" target=\"_parent\"><img src=\"https://colab.research.google.com/assets/colab-badge.svg\" alt=\"Open In Colab\"/></a>"
      ]
    },
    {
      "cell_type": "code",
      "execution_count": 282,
      "metadata": {
        "id": "ovfMkx-2A1tp"
      },
      "outputs": [],
      "source": [
        "import pandas as pd\n",
        "import numpy as np\n",
        "import matplotlib.pyplot as plt\n",
        "import seaborn as sns\n",
        "import sklearn\n",
        "from sklearn.decomposition import PCA\n",
        "from sklearn.ensemble import RandomForestClassifier\n",
        "from sklearn.model_selection import train_test_split"
      ]
    },
    {
      "cell_type": "markdown",
      "source": [
        "# Random Forest Binário"
      ],
      "metadata": {
        "id": "ejQR1RV99vmz"
      }
    },
    {
      "cell_type": "code",
      "source": [
        "df = pd.read_csv('/content/winequality.csv')"
      ],
      "metadata": {
        "id": "NScRg3I6Dx1z"
      },
      "execution_count": 635,
      "outputs": []
    },
    {
      "cell_type": "code",
      "source": [
        "df.tail()"
      ],
      "metadata": {
        "colab": {
          "base_uri": "https://localhost:8080/",
          "height": 267
        },
        "id": "rdW6kMv5EDnr",
        "outputId": "77d8da47-b091-489e-b604-85c9d59e950c"
      },
      "execution_count": 636,
      "outputs": [
        {
          "output_type": "execute_result",
          "data": {
            "text/html": [
              "\n",
              "  <div id=\"df-e09d9c63-347f-4a58-b43c-50992698aaf8\">\n",
              "    <div class=\"colab-df-container\">\n",
              "      <div>\n",
              "<style scoped>\n",
              "    .dataframe tbody tr th:only-of-type {\n",
              "        vertical-align: middle;\n",
              "    }\n",
              "\n",
              "    .dataframe tbody tr th {\n",
              "        vertical-align: top;\n",
              "    }\n",
              "\n",
              "    .dataframe thead th {\n",
              "        text-align: right;\n",
              "    }\n",
              "</style>\n",
              "<table border=\"1\" class=\"dataframe\">\n",
              "  <thead>\n",
              "    <tr style=\"text-align: right;\">\n",
              "      <th></th>\n",
              "      <th>Unnamed: 0</th>\n",
              "      <th>fixed acidity</th>\n",
              "      <th>volatile acidity</th>\n",
              "      <th>citric acid</th>\n",
              "      <th>residual sugar</th>\n",
              "      <th>chlorides</th>\n",
              "      <th>free sulfur dioxide</th>\n",
              "      <th>total sulfur dioxide</th>\n",
              "      <th>density</th>\n",
              "      <th>pH</th>\n",
              "      <th>sulphates</th>\n",
              "      <th>alcohol</th>\n",
              "      <th>quality</th>\n",
              "      <th>wine_is_red</th>\n",
              "    </tr>\n",
              "  </thead>\n",
              "  <tbody>\n",
              "    <tr>\n",
              "      <th>6492</th>\n",
              "      <td>6492</td>\n",
              "      <td>7.7</td>\n",
              "      <td>0.32</td>\n",
              "      <td>0.62</td>\n",
              "      <td>10.6</td>\n",
              "      <td>0.036</td>\n",
              "      <td>56.0</td>\n",
              "      <td>153.0</td>\n",
              "      <td>0.99780</td>\n",
              "      <td>3.13</td>\n",
              "      <td>0.44</td>\n",
              "      <td>8.9</td>\n",
              "      <td>6</td>\n",
              "      <td>0</td>\n",
              "    </tr>\n",
              "    <tr>\n",
              "      <th>6493</th>\n",
              "      <td>6493</td>\n",
              "      <td>6.2</td>\n",
              "      <td>0.22</td>\n",
              "      <td>0.28</td>\n",
              "      <td>2.2</td>\n",
              "      <td>0.040</td>\n",
              "      <td>24.0</td>\n",
              "      <td>125.0</td>\n",
              "      <td>0.99170</td>\n",
              "      <td>3.19</td>\n",
              "      <td>0.48</td>\n",
              "      <td>10.5</td>\n",
              "      <td>6</td>\n",
              "      <td>0</td>\n",
              "    </tr>\n",
              "    <tr>\n",
              "      <th>6494</th>\n",
              "      <td>6494</td>\n",
              "      <td>7.9</td>\n",
              "      <td>0.33</td>\n",
              "      <td>0.28</td>\n",
              "      <td>31.6</td>\n",
              "      <td>0.053</td>\n",
              "      <td>35.0</td>\n",
              "      <td>176.0</td>\n",
              "      <td>1.01030</td>\n",
              "      <td>3.15</td>\n",
              "      <td>0.38</td>\n",
              "      <td>8.8</td>\n",
              "      <td>6</td>\n",
              "      <td>0</td>\n",
              "    </tr>\n",
              "    <tr>\n",
              "      <th>6495</th>\n",
              "      <td>6495</td>\n",
              "      <td>7.0</td>\n",
              "      <td>0.30</td>\n",
              "      <td>0.28</td>\n",
              "      <td>2.2</td>\n",
              "      <td>0.042</td>\n",
              "      <td>21.0</td>\n",
              "      <td>177.0</td>\n",
              "      <td>0.99166</td>\n",
              "      <td>3.20</td>\n",
              "      <td>0.57</td>\n",
              "      <td>11.4</td>\n",
              "      <td>5</td>\n",
              "      <td>0</td>\n",
              "    </tr>\n",
              "    <tr>\n",
              "      <th>6496</th>\n",
              "      <td>6496</td>\n",
              "      <td>6.4</td>\n",
              "      <td>0.22</td>\n",
              "      <td>0.49</td>\n",
              "      <td>7.5</td>\n",
              "      <td>0.054</td>\n",
              "      <td>42.0</td>\n",
              "      <td>151.0</td>\n",
              "      <td>0.99480</td>\n",
              "      <td>3.27</td>\n",
              "      <td>0.52</td>\n",
              "      <td>10.1</td>\n",
              "      <td>6</td>\n",
              "      <td>0</td>\n",
              "    </tr>\n",
              "  </tbody>\n",
              "</table>\n",
              "</div>\n",
              "      <button class=\"colab-df-convert\" onclick=\"convertToInteractive('df-e09d9c63-347f-4a58-b43c-50992698aaf8')\"\n",
              "              title=\"Convert this dataframe to an interactive table.\"\n",
              "              style=\"display:none;\">\n",
              "        \n",
              "  <svg xmlns=\"http://www.w3.org/2000/svg\" height=\"24px\"viewBox=\"0 0 24 24\"\n",
              "       width=\"24px\">\n",
              "    <path d=\"M0 0h24v24H0V0z\" fill=\"none\"/>\n",
              "    <path d=\"M18.56 5.44l.94 2.06.94-2.06 2.06-.94-2.06-.94-.94-2.06-.94 2.06-2.06.94zm-11 1L8.5 8.5l.94-2.06 2.06-.94-2.06-.94L8.5 2.5l-.94 2.06-2.06.94zm10 10l.94 2.06.94-2.06 2.06-.94-2.06-.94-.94-2.06-.94 2.06-2.06.94z\"/><path d=\"M17.41 7.96l-1.37-1.37c-.4-.4-.92-.59-1.43-.59-.52 0-1.04.2-1.43.59L10.3 9.45l-7.72 7.72c-.78.78-.78 2.05 0 2.83L4 21.41c.39.39.9.59 1.41.59.51 0 1.02-.2 1.41-.59l7.78-7.78 2.81-2.81c.8-.78.8-2.07 0-2.86zM5.41 20L4 18.59l7.72-7.72 1.47 1.35L5.41 20z\"/>\n",
              "  </svg>\n",
              "      </button>\n",
              "      \n",
              "  <style>\n",
              "    .colab-df-container {\n",
              "      display:flex;\n",
              "      flex-wrap:wrap;\n",
              "      gap: 12px;\n",
              "    }\n",
              "\n",
              "    .colab-df-convert {\n",
              "      background-color: #E8F0FE;\n",
              "      border: none;\n",
              "      border-radius: 50%;\n",
              "      cursor: pointer;\n",
              "      display: none;\n",
              "      fill: #1967D2;\n",
              "      height: 32px;\n",
              "      padding: 0 0 0 0;\n",
              "      width: 32px;\n",
              "    }\n",
              "\n",
              "    .colab-df-convert:hover {\n",
              "      background-color: #E2EBFA;\n",
              "      box-shadow: 0px 1px 2px rgba(60, 64, 67, 0.3), 0px 1px 3px 1px rgba(60, 64, 67, 0.15);\n",
              "      fill: #174EA6;\n",
              "    }\n",
              "\n",
              "    [theme=dark] .colab-df-convert {\n",
              "      background-color: #3B4455;\n",
              "      fill: #D2E3FC;\n",
              "    }\n",
              "\n",
              "    [theme=dark] .colab-df-convert:hover {\n",
              "      background-color: #434B5C;\n",
              "      box-shadow: 0px 1px 3px 1px rgba(0, 0, 0, 0.15);\n",
              "      filter: drop-shadow(0px 1px 2px rgba(0, 0, 0, 0.3));\n",
              "      fill: #FFFFFF;\n",
              "    }\n",
              "  </style>\n",
              "\n",
              "      <script>\n",
              "        const buttonEl =\n",
              "          document.querySelector('#df-e09d9c63-347f-4a58-b43c-50992698aaf8 button.colab-df-convert');\n",
              "        buttonEl.style.display =\n",
              "          google.colab.kernel.accessAllowed ? 'block' : 'none';\n",
              "\n",
              "        async function convertToInteractive(key) {\n",
              "          const element = document.querySelector('#df-e09d9c63-347f-4a58-b43c-50992698aaf8');\n",
              "          const dataTable =\n",
              "            await google.colab.kernel.invokeFunction('convertToInteractive',\n",
              "                                                     [key], {});\n",
              "          if (!dataTable) return;\n",
              "\n",
              "          const docLinkHtml = 'Like what you see? Visit the ' +\n",
              "            '<a target=\"_blank\" href=https://colab.research.google.com/notebooks/data_table.ipynb>data table notebook</a>'\n",
              "            + ' to learn more about interactive tables.';\n",
              "          element.innerHTML = '';\n",
              "          dataTable['output_type'] = 'display_data';\n",
              "          await google.colab.output.renderOutput(dataTable, element);\n",
              "          const docLink = document.createElement('div');\n",
              "          docLink.innerHTML = docLinkHtml;\n",
              "          element.appendChild(docLink);\n",
              "        }\n",
              "      </script>\n",
              "    </div>\n",
              "  </div>\n",
              "  "
            ],
            "text/plain": [
              "      Unnamed: 0  fixed acidity  ...  quality  wine_is_red\n",
              "6492        6492            7.7  ...        6            0\n",
              "6493        6493            6.2  ...        6            0\n",
              "6494        6494            7.9  ...        6            0\n",
              "6495        6495            7.0  ...        5            0\n",
              "6496        6496            6.4  ...        6            0\n",
              "\n",
              "[5 rows x 14 columns]"
            ]
          },
          "metadata": {},
          "execution_count": 636
        }
      ]
    },
    {
      "cell_type": "code",
      "source": [
        "df.isna().sum()"
      ],
      "metadata": {
        "id": "uDQVNrqED3Er",
        "colab": {
          "base_uri": "https://localhost:8080/"
        },
        "outputId": "20951344-be38-4df3-d0cc-0e6bdcb8c7b8"
      },
      "execution_count": 637,
      "outputs": [
        {
          "output_type": "execute_result",
          "data": {
            "text/plain": [
              "Unnamed: 0              0\n",
              "fixed acidity           0\n",
              "volatile acidity        0\n",
              "citric acid             0\n",
              "residual sugar          0\n",
              "chlorides               0\n",
              "free sulfur dioxide     0\n",
              "total sulfur dioxide    0\n",
              "density                 0\n",
              "pH                      0\n",
              "sulphates               0\n",
              "alcohol                 0\n",
              "quality                 0\n",
              "wine_is_red             0\n",
              "dtype: int64"
            ]
          },
          "metadata": {},
          "execution_count": 637
        }
      ]
    },
    {
      "cell_type": "code",
      "source": [
        "df = df.drop(columns='Unnamed: 0')"
      ],
      "metadata": {
        "id": "pBnjhKngElaz"
      },
      "execution_count": 638,
      "outputs": []
    },
    {
      "cell_type": "code",
      "source": [
        "colunas = df.columns"
      ],
      "metadata": {
        "id": "xRVWGRSiXmxx"
      },
      "execution_count": 639,
      "outputs": []
    },
    {
      "cell_type": "markdown",
      "source": [
        "## Normalizar"
      ],
      "metadata": {
        "id": "eOlx4MSfEhX7"
      }
    },
    {
      "cell_type": "code",
      "source": [
        "for i in df.columns.drop('quality'):\n",
        "  df[i] = (df[i] - df[i].min()) / (df[i].max() - df[i].min())"
      ],
      "metadata": {
        "id": "c-WByjVLEH26"
      },
      "execution_count": 640,
      "outputs": []
    },
    {
      "cell_type": "code",
      "source": [
        "df.head()"
      ],
      "metadata": {
        "colab": {
          "base_uri": "https://localhost:8080/",
          "height": 267
        },
        "id": "zern-3TSXing",
        "outputId": "143d7c66-57ac-45f2-d9fb-ed0279fa440d"
      },
      "execution_count": 641,
      "outputs": [
        {
          "output_type": "execute_result",
          "data": {
            "text/html": [
              "\n",
              "  <div id=\"df-f2f04633-8055-4cf9-a1df-2491a801749f\">\n",
              "    <div class=\"colab-df-container\">\n",
              "      <div>\n",
              "<style scoped>\n",
              "    .dataframe tbody tr th:only-of-type {\n",
              "        vertical-align: middle;\n",
              "    }\n",
              "\n",
              "    .dataframe tbody tr th {\n",
              "        vertical-align: top;\n",
              "    }\n",
              "\n",
              "    .dataframe thead th {\n",
              "        text-align: right;\n",
              "    }\n",
              "</style>\n",
              "<table border=\"1\" class=\"dataframe\">\n",
              "  <thead>\n",
              "    <tr style=\"text-align: right;\">\n",
              "      <th></th>\n",
              "      <th>fixed acidity</th>\n",
              "      <th>volatile acidity</th>\n",
              "      <th>citric acid</th>\n",
              "      <th>residual sugar</th>\n",
              "      <th>chlorides</th>\n",
              "      <th>free sulfur dioxide</th>\n",
              "      <th>total sulfur dioxide</th>\n",
              "      <th>density</th>\n",
              "      <th>pH</th>\n",
              "      <th>sulphates</th>\n",
              "      <th>alcohol</th>\n",
              "      <th>quality</th>\n",
              "      <th>wine_is_red</th>\n",
              "    </tr>\n",
              "  </thead>\n",
              "  <tbody>\n",
              "    <tr>\n",
              "      <th>0</th>\n",
              "      <td>0.173554</td>\n",
              "      <td>0.353333</td>\n",
              "      <td>0.048193</td>\n",
              "      <td>0.023006</td>\n",
              "      <td>0.102990</td>\n",
              "      <td>0.052083</td>\n",
              "      <td>0.041475</td>\n",
              "      <td>0.128205</td>\n",
              "      <td>0.651163</td>\n",
              "      <td>0.308989</td>\n",
              "      <td>0.449275</td>\n",
              "      <td>6</td>\n",
              "      <td>1.0</td>\n",
              "    </tr>\n",
              "    <tr>\n",
              "      <th>1</th>\n",
              "      <td>0.363636</td>\n",
              "      <td>0.613333</td>\n",
              "      <td>0.054217</td>\n",
              "      <td>0.026074</td>\n",
              "      <td>0.093023</td>\n",
              "      <td>0.020833</td>\n",
              "      <td>0.071429</td>\n",
              "      <td>0.187777</td>\n",
              "      <td>0.465116</td>\n",
              "      <td>0.185393</td>\n",
              "      <td>0.144928</td>\n",
              "      <td>6</td>\n",
              "      <td>1.0</td>\n",
              "    </tr>\n",
              "    <tr>\n",
              "      <th>2</th>\n",
              "      <td>0.214876</td>\n",
              "      <td>0.106667</td>\n",
              "      <td>0.295181</td>\n",
              "      <td>0.079755</td>\n",
              "      <td>0.073090</td>\n",
              "      <td>0.083333</td>\n",
              "      <td>0.262673</td>\n",
              "      <td>0.136688</td>\n",
              "      <td>0.224806</td>\n",
              "      <td>0.426966</td>\n",
              "      <td>0.362319</td>\n",
              "      <td>6</td>\n",
              "      <td>0.0</td>\n",
              "    </tr>\n",
              "    <tr>\n",
              "      <th>3</th>\n",
              "      <td>0.231405</td>\n",
              "      <td>0.100000</td>\n",
              "      <td>0.156627</td>\n",
              "      <td>0.010736</td>\n",
              "      <td>0.059801</td>\n",
              "      <td>0.052083</td>\n",
              "      <td>0.281106</td>\n",
              "      <td>0.121265</td>\n",
              "      <td>0.496124</td>\n",
              "      <td>0.213483</td>\n",
              "      <td>0.289855</td>\n",
              "      <td>6</td>\n",
              "      <td>0.0</td>\n",
              "    </tr>\n",
              "    <tr>\n",
              "      <th>4</th>\n",
              "      <td>0.280992</td>\n",
              "      <td>0.106667</td>\n",
              "      <td>0.174699</td>\n",
              "      <td>0.036810</td>\n",
              "      <td>0.044850</td>\n",
              "      <td>0.055556</td>\n",
              "      <td>0.255760</td>\n",
              "      <td>0.134953</td>\n",
              "      <td>0.496124</td>\n",
              "      <td>0.258427</td>\n",
              "      <td>0.304348</td>\n",
              "      <td>6</td>\n",
              "      <td>0.0</td>\n",
              "    </tr>\n",
              "  </tbody>\n",
              "</table>\n",
              "</div>\n",
              "      <button class=\"colab-df-convert\" onclick=\"convertToInteractive('df-f2f04633-8055-4cf9-a1df-2491a801749f')\"\n",
              "              title=\"Convert this dataframe to an interactive table.\"\n",
              "              style=\"display:none;\">\n",
              "        \n",
              "  <svg xmlns=\"http://www.w3.org/2000/svg\" height=\"24px\"viewBox=\"0 0 24 24\"\n",
              "       width=\"24px\">\n",
              "    <path d=\"M0 0h24v24H0V0z\" fill=\"none\"/>\n",
              "    <path d=\"M18.56 5.44l.94 2.06.94-2.06 2.06-.94-2.06-.94-.94-2.06-.94 2.06-2.06.94zm-11 1L8.5 8.5l.94-2.06 2.06-.94-2.06-.94L8.5 2.5l-.94 2.06-2.06.94zm10 10l.94 2.06.94-2.06 2.06-.94-2.06-.94-.94-2.06-.94 2.06-2.06.94z\"/><path d=\"M17.41 7.96l-1.37-1.37c-.4-.4-.92-.59-1.43-.59-.52 0-1.04.2-1.43.59L10.3 9.45l-7.72 7.72c-.78.78-.78 2.05 0 2.83L4 21.41c.39.39.9.59 1.41.59.51 0 1.02-.2 1.41-.59l7.78-7.78 2.81-2.81c.8-.78.8-2.07 0-2.86zM5.41 20L4 18.59l7.72-7.72 1.47 1.35L5.41 20z\"/>\n",
              "  </svg>\n",
              "      </button>\n",
              "      \n",
              "  <style>\n",
              "    .colab-df-container {\n",
              "      display:flex;\n",
              "      flex-wrap:wrap;\n",
              "      gap: 12px;\n",
              "    }\n",
              "\n",
              "    .colab-df-convert {\n",
              "      background-color: #E8F0FE;\n",
              "      border: none;\n",
              "      border-radius: 50%;\n",
              "      cursor: pointer;\n",
              "      display: none;\n",
              "      fill: #1967D2;\n",
              "      height: 32px;\n",
              "      padding: 0 0 0 0;\n",
              "      width: 32px;\n",
              "    }\n",
              "\n",
              "    .colab-df-convert:hover {\n",
              "      background-color: #E2EBFA;\n",
              "      box-shadow: 0px 1px 2px rgba(60, 64, 67, 0.3), 0px 1px 3px 1px rgba(60, 64, 67, 0.15);\n",
              "      fill: #174EA6;\n",
              "    }\n",
              "\n",
              "    [theme=dark] .colab-df-convert {\n",
              "      background-color: #3B4455;\n",
              "      fill: #D2E3FC;\n",
              "    }\n",
              "\n",
              "    [theme=dark] .colab-df-convert:hover {\n",
              "      background-color: #434B5C;\n",
              "      box-shadow: 0px 1px 3px 1px rgba(0, 0, 0, 0.15);\n",
              "      filter: drop-shadow(0px 1px 2px rgba(0, 0, 0, 0.3));\n",
              "      fill: #FFFFFF;\n",
              "    }\n",
              "  </style>\n",
              "\n",
              "      <script>\n",
              "        const buttonEl =\n",
              "          document.querySelector('#df-f2f04633-8055-4cf9-a1df-2491a801749f button.colab-df-convert');\n",
              "        buttonEl.style.display =\n",
              "          google.colab.kernel.accessAllowed ? 'block' : 'none';\n",
              "\n",
              "        async function convertToInteractive(key) {\n",
              "          const element = document.querySelector('#df-f2f04633-8055-4cf9-a1df-2491a801749f');\n",
              "          const dataTable =\n",
              "            await google.colab.kernel.invokeFunction('convertToInteractive',\n",
              "                                                     [key], {});\n",
              "          if (!dataTable) return;\n",
              "\n",
              "          const docLinkHtml = 'Like what you see? Visit the ' +\n",
              "            '<a target=\"_blank\" href=https://colab.research.google.com/notebooks/data_table.ipynb>data table notebook</a>'\n",
              "            + ' to learn more about interactive tables.';\n",
              "          element.innerHTML = '';\n",
              "          dataTable['output_type'] = 'display_data';\n",
              "          await google.colab.output.renderOutput(dataTable, element);\n",
              "          const docLink = document.createElement('div');\n",
              "          docLink.innerHTML = docLinkHtml;\n",
              "          element.appendChild(docLink);\n",
              "        }\n",
              "      </script>\n",
              "    </div>\n",
              "  </div>\n",
              "  "
            ],
            "text/plain": [
              "   fixed acidity  volatile acidity  citric acid  ...   alcohol  quality  wine_is_red\n",
              "0       0.173554          0.353333     0.048193  ...  0.449275        6          1.0\n",
              "1       0.363636          0.613333     0.054217  ...  0.144928        6          1.0\n",
              "2       0.214876          0.106667     0.295181  ...  0.362319        6          0.0\n",
              "3       0.231405          0.100000     0.156627  ...  0.289855        6          0.0\n",
              "4       0.280992          0.106667     0.174699  ...  0.304348        6          0.0\n",
              "\n",
              "[5 rows x 13 columns]"
            ]
          },
          "metadata": {},
          "execution_count": 641
        }
      ]
    },
    {
      "cell_type": "markdown",
      "source": [
        "## Implementando Random Forest"
      ],
      "metadata": {
        "id": "BtQIQFFkG4lJ"
      }
    },
    {
      "cell_type": "code",
      "source": [
        "from sklearn.model_selection import train_test_split\n",
        "\n",
        "X = df[colunas.drop('wine_is_red')]\n",
        "Y = df['wine_is_red']\n",
        "X_train, X_test, y_train, y_test = train_test_split(X,Y, test_size=0.2)"
      ],
      "metadata": {
        "id": "PWtRwmzuFzC6"
      },
      "execution_count": 642,
      "outputs": []
    },
    {
      "cell_type": "code",
      "source": [
        "from sklearn.ensemble import RandomForestRegressor\n",
        "from sklearn.metrics import accuracy_score\n",
        "\n",
        "\n",
        "rf = RandomForestClassifier(n_estimators = 1000) # Testei outros hyperparametros, mas essa foi a configuração com maior precisão\n",
        "rf.fit(X_train, y_train)"
      ],
      "metadata": {
        "id": "GNNefaMkajtd",
        "colab": {
          "base_uri": "https://localhost:8080/"
        },
        "outputId": "d7aa40aa-587c-4225-f551-56531c6798f4"
      },
      "execution_count": 653,
      "outputs": [
        {
          "output_type": "execute_result",
          "data": {
            "text/plain": [
              "RandomForestClassifier(n_estimators=1000)"
            ]
          },
          "metadata": {},
          "execution_count": 653
        }
      ]
    },
    {
      "cell_type": "code",
      "source": [
        "predictions = rf.predict(X_test)"
      ],
      "metadata": {
        "id": "HskhoIzl8qW6"
      },
      "execution_count": 644,
      "outputs": []
    },
    {
      "cell_type": "code",
      "source": [
        "accuracy = accuracy_score(y_test, predictions)\n",
        "print(accuracy)"
      ],
      "metadata": {
        "colab": {
          "base_uri": "https://localhost:8080/"
        },
        "id": "s1Wl6gnL8hvJ",
        "outputId": "5f0e071b-41fa-49ee-dcb7-c9457ab2e54e"
      },
      "execution_count": 645,
      "outputs": [
        {
          "output_type": "stream",
          "name": "stdout",
          "text": [
            "0.9969230769230769\n"
          ]
        }
      ]
    },
    {
      "cell_type": "markdown",
      "source": [
        "Foram feitos testes de precisão com downsample da label majoritária, ou sem balanceamento.\n",
        "\n",
        "99,69% Precisão sem resample\n",
        "\n",
        "98,91% Precisão com resample a 1599"
      ],
      "metadata": {
        "id": "GGYktPRWmWKb"
      }
    },
    {
      "cell_type": "markdown",
      "source": [
        "## Feature Importance"
      ],
      "metadata": {
        "id": "k1evu2sK6sTg"
      }
    },
    {
      "cell_type": "code",
      "source": [
        "feature_importances = pd.DataFrame(rf.feature_importances_,\n",
        "                                   index=colunas.drop('wine_is_red'),\n",
        "                                   columns=['importance']).sort_values('importance', ascending=False)"
      ],
      "metadata": {
        "id": "lAe6Z-Mx5jjK"
      },
      "execution_count": 646,
      "outputs": []
    },
    {
      "cell_type": "code",
      "source": [
        "feature_importances"
      ],
      "metadata": {
        "colab": {
          "base_uri": "https://localhost:8080/",
          "height": 426
        },
        "id": "oLNGh5jy6fAZ",
        "outputId": "6f2b0116-a11e-42f2-fa64-d08453182d66"
      },
      "execution_count": 647,
      "outputs": [
        {
          "output_type": "execute_result",
          "data": {
            "text/html": [
              "\n",
              "  <div id=\"df-6744a007-ccaa-4a81-94ea-f818f6ca9dc7\">\n",
              "    <div class=\"colab-df-container\">\n",
              "      <div>\n",
              "<style scoped>\n",
              "    .dataframe tbody tr th:only-of-type {\n",
              "        vertical-align: middle;\n",
              "    }\n",
              "\n",
              "    .dataframe tbody tr th {\n",
              "        vertical-align: top;\n",
              "    }\n",
              "\n",
              "    .dataframe thead th {\n",
              "        text-align: right;\n",
              "    }\n",
              "</style>\n",
              "<table border=\"1\" class=\"dataframe\">\n",
              "  <thead>\n",
              "    <tr style=\"text-align: right;\">\n",
              "      <th></th>\n",
              "      <th>importance</th>\n",
              "    </tr>\n",
              "  </thead>\n",
              "  <tbody>\n",
              "    <tr>\n",
              "      <th>total sulfur dioxide</th>\n",
              "      <td>0.293614</td>\n",
              "    </tr>\n",
              "    <tr>\n",
              "      <th>chlorides</th>\n",
              "      <td>0.270403</td>\n",
              "    </tr>\n",
              "    <tr>\n",
              "      <th>volatile acidity</th>\n",
              "      <td>0.132042</td>\n",
              "    </tr>\n",
              "    <tr>\n",
              "      <th>density</th>\n",
              "      <td>0.059984</td>\n",
              "    </tr>\n",
              "    <tr>\n",
              "      <th>sulphates</th>\n",
              "      <td>0.054419</td>\n",
              "    </tr>\n",
              "    <tr>\n",
              "      <th>free sulfur dioxide</th>\n",
              "      <td>0.051874</td>\n",
              "    </tr>\n",
              "    <tr>\n",
              "      <th>residual sugar</th>\n",
              "      <td>0.047510</td>\n",
              "    </tr>\n",
              "    <tr>\n",
              "      <th>fixed acidity</th>\n",
              "      <td>0.041990</td>\n",
              "    </tr>\n",
              "    <tr>\n",
              "      <th>pH</th>\n",
              "      <td>0.020121</td>\n",
              "    </tr>\n",
              "    <tr>\n",
              "      <th>citric acid</th>\n",
              "      <td>0.015099</td>\n",
              "    </tr>\n",
              "    <tr>\n",
              "      <th>alcohol</th>\n",
              "      <td>0.010493</td>\n",
              "    </tr>\n",
              "    <tr>\n",
              "      <th>quality</th>\n",
              "      <td>0.002452</td>\n",
              "    </tr>\n",
              "  </tbody>\n",
              "</table>\n",
              "</div>\n",
              "      <button class=\"colab-df-convert\" onclick=\"convertToInteractive('df-6744a007-ccaa-4a81-94ea-f818f6ca9dc7')\"\n",
              "              title=\"Convert this dataframe to an interactive table.\"\n",
              "              style=\"display:none;\">\n",
              "        \n",
              "  <svg xmlns=\"http://www.w3.org/2000/svg\" height=\"24px\"viewBox=\"0 0 24 24\"\n",
              "       width=\"24px\">\n",
              "    <path d=\"M0 0h24v24H0V0z\" fill=\"none\"/>\n",
              "    <path d=\"M18.56 5.44l.94 2.06.94-2.06 2.06-.94-2.06-.94-.94-2.06-.94 2.06-2.06.94zm-11 1L8.5 8.5l.94-2.06 2.06-.94-2.06-.94L8.5 2.5l-.94 2.06-2.06.94zm10 10l.94 2.06.94-2.06 2.06-.94-2.06-.94-.94-2.06-.94 2.06-2.06.94z\"/><path d=\"M17.41 7.96l-1.37-1.37c-.4-.4-.92-.59-1.43-.59-.52 0-1.04.2-1.43.59L10.3 9.45l-7.72 7.72c-.78.78-.78 2.05 0 2.83L4 21.41c.39.39.9.59 1.41.59.51 0 1.02-.2 1.41-.59l7.78-7.78 2.81-2.81c.8-.78.8-2.07 0-2.86zM5.41 20L4 18.59l7.72-7.72 1.47 1.35L5.41 20z\"/>\n",
              "  </svg>\n",
              "      </button>\n",
              "      \n",
              "  <style>\n",
              "    .colab-df-container {\n",
              "      display:flex;\n",
              "      flex-wrap:wrap;\n",
              "      gap: 12px;\n",
              "    }\n",
              "\n",
              "    .colab-df-convert {\n",
              "      background-color: #E8F0FE;\n",
              "      border: none;\n",
              "      border-radius: 50%;\n",
              "      cursor: pointer;\n",
              "      display: none;\n",
              "      fill: #1967D2;\n",
              "      height: 32px;\n",
              "      padding: 0 0 0 0;\n",
              "      width: 32px;\n",
              "    }\n",
              "\n",
              "    .colab-df-convert:hover {\n",
              "      background-color: #E2EBFA;\n",
              "      box-shadow: 0px 1px 2px rgba(60, 64, 67, 0.3), 0px 1px 3px 1px rgba(60, 64, 67, 0.15);\n",
              "      fill: #174EA6;\n",
              "    }\n",
              "\n",
              "    [theme=dark] .colab-df-convert {\n",
              "      background-color: #3B4455;\n",
              "      fill: #D2E3FC;\n",
              "    }\n",
              "\n",
              "    [theme=dark] .colab-df-convert:hover {\n",
              "      background-color: #434B5C;\n",
              "      box-shadow: 0px 1px 3px 1px rgba(0, 0, 0, 0.15);\n",
              "      filter: drop-shadow(0px 1px 2px rgba(0, 0, 0, 0.3));\n",
              "      fill: #FFFFFF;\n",
              "    }\n",
              "  </style>\n",
              "\n",
              "      <script>\n",
              "        const buttonEl =\n",
              "          document.querySelector('#df-6744a007-ccaa-4a81-94ea-f818f6ca9dc7 button.colab-df-convert');\n",
              "        buttonEl.style.display =\n",
              "          google.colab.kernel.accessAllowed ? 'block' : 'none';\n",
              "\n",
              "        async function convertToInteractive(key) {\n",
              "          const element = document.querySelector('#df-6744a007-ccaa-4a81-94ea-f818f6ca9dc7');\n",
              "          const dataTable =\n",
              "            await google.colab.kernel.invokeFunction('convertToInteractive',\n",
              "                                                     [key], {});\n",
              "          if (!dataTable) return;\n",
              "\n",
              "          const docLinkHtml = 'Like what you see? Visit the ' +\n",
              "            '<a target=\"_blank\" href=https://colab.research.google.com/notebooks/data_table.ipynb>data table notebook</a>'\n",
              "            + ' to learn more about interactive tables.';\n",
              "          element.innerHTML = '';\n",
              "          dataTable['output_type'] = 'display_data';\n",
              "          await google.colab.output.renderOutput(dataTable, element);\n",
              "          const docLink = document.createElement('div');\n",
              "          docLink.innerHTML = docLinkHtml;\n",
              "          element.appendChild(docLink);\n",
              "        }\n",
              "      </script>\n",
              "    </div>\n",
              "  </div>\n",
              "  "
            ],
            "text/plain": [
              "                      importance\n",
              "total sulfur dioxide    0.293614\n",
              "chlorides               0.270403\n",
              "volatile acidity        0.132042\n",
              "density                 0.059984\n",
              "sulphates               0.054419\n",
              "free sulfur dioxide     0.051874\n",
              "residual sugar          0.047510\n",
              "fixed acidity           0.041990\n",
              "pH                      0.020121\n",
              "citric acid             0.015099\n",
              "alcohol                 0.010493\n",
              "quality                 0.002452"
            ]
          },
          "metadata": {},
          "execution_count": 647
        }
      ]
    },
    {
      "cell_type": "markdown",
      "source": [
        "Nota-se que quality e alcohol influenciam em menos de 1% do resultado. Dito isso, vou remover essas features."
      ],
      "metadata": {
        "id": "bCuAGkYJl_wk"
      }
    },
    {
      "cell_type": "code",
      "source": [
        "mais_imp = list(feature_importances.index[:9])"
      ],
      "metadata": {
        "id": "s5yJpdOU7kg3"
      },
      "execution_count": 648,
      "outputs": []
    },
    {
      "cell_type": "code",
      "source": [
        "X_train = X_train[list(mais_imp)]\n",
        "X_test = X_test[list(mais_imp)]"
      ],
      "metadata": {
        "id": "nAfurJmE76an"
      },
      "execution_count": 649,
      "outputs": []
    },
    {
      "cell_type": "code",
      "source": [
        "X_train"
      ],
      "metadata": {
        "colab": {
          "base_uri": "https://localhost:8080/",
          "height": 423
        },
        "id": "41nIS83d829W",
        "outputId": "0158bd8d-f92a-4b25-ffc1-4e1a6d663e14"
      },
      "execution_count": 650,
      "outputs": [
        {
          "output_type": "execute_result",
          "data": {
            "text/html": [
              "\n",
              "  <div id=\"df-fb8fd351-c4d2-43f5-a2c8-a1398ab96600\">\n",
              "    <div class=\"colab-df-container\">\n",
              "      <div>\n",
              "<style scoped>\n",
              "    .dataframe tbody tr th:only-of-type {\n",
              "        vertical-align: middle;\n",
              "    }\n",
              "\n",
              "    .dataframe tbody tr th {\n",
              "        vertical-align: top;\n",
              "    }\n",
              "\n",
              "    .dataframe thead th {\n",
              "        text-align: right;\n",
              "    }\n",
              "</style>\n",
              "<table border=\"1\" class=\"dataframe\">\n",
              "  <thead>\n",
              "    <tr style=\"text-align: right;\">\n",
              "      <th></th>\n",
              "      <th>total sulfur dioxide</th>\n",
              "      <th>chlorides</th>\n",
              "      <th>volatile acidity</th>\n",
              "      <th>density</th>\n",
              "      <th>sulphates</th>\n",
              "      <th>free sulfur dioxide</th>\n",
              "      <th>residual sugar</th>\n",
              "      <th>fixed acidity</th>\n",
              "      <th>pH</th>\n",
              "    </tr>\n",
              "  </thead>\n",
              "  <tbody>\n",
              "    <tr>\n",
              "      <th>2059</th>\n",
              "      <td>0.211982</td>\n",
              "      <td>0.034884</td>\n",
              "      <td>0.106667</td>\n",
              "      <td>0.049547</td>\n",
              "      <td>0.117978</td>\n",
              "      <td>0.083333</td>\n",
              "      <td>0.010736</td>\n",
              "      <td>0.157025</td>\n",
              "      <td>0.503876</td>\n",
              "    </tr>\n",
              "    <tr>\n",
              "      <th>5106</th>\n",
              "      <td>0.122120</td>\n",
              "      <td>0.122924</td>\n",
              "      <td>0.386667</td>\n",
              "      <td>0.227299</td>\n",
              "      <td>0.275281</td>\n",
              "      <td>0.069444</td>\n",
              "      <td>0.039877</td>\n",
              "      <td>0.495868</td>\n",
              "      <td>0.503876</td>\n",
              "    </tr>\n",
              "    <tr>\n",
              "      <th>5075</th>\n",
              "      <td>0.324885</td>\n",
              "      <td>0.064784</td>\n",
              "      <td>0.240000</td>\n",
              "      <td>0.198381</td>\n",
              "      <td>0.134831</td>\n",
              "      <td>0.031250</td>\n",
              "      <td>0.121166</td>\n",
              "      <td>0.256198</td>\n",
              "      <td>0.465116</td>\n",
              "    </tr>\n",
              "    <tr>\n",
              "      <th>1090</th>\n",
              "      <td>0.317972</td>\n",
              "      <td>0.036545</td>\n",
              "      <td>0.086667</td>\n",
              "      <td>0.117409</td>\n",
              "      <td>0.089888</td>\n",
              "      <td>0.138889</td>\n",
              "      <td>0.102761</td>\n",
              "      <td>0.297521</td>\n",
              "      <td>0.333333</td>\n",
              "    </tr>\n",
              "    <tr>\n",
              "      <th>3937</th>\n",
              "      <td>0.465438</td>\n",
              "      <td>0.059801</td>\n",
              "      <td>0.113333</td>\n",
              "      <td>0.165992</td>\n",
              "      <td>0.134831</td>\n",
              "      <td>0.184028</td>\n",
              "      <td>0.111963</td>\n",
              "      <td>0.198347</td>\n",
              "      <td>0.348837</td>\n",
              "    </tr>\n",
              "    <tr>\n",
              "      <th>...</th>\n",
              "      <td>...</td>\n",
              "      <td>...</td>\n",
              "      <td>...</td>\n",
              "      <td>...</td>\n",
              "      <td>...</td>\n",
              "      <td>...</td>\n",
              "      <td>...</td>\n",
              "      <td>...</td>\n",
              "      <td>...</td>\n",
              "    </tr>\n",
              "    <tr>\n",
              "      <th>920</th>\n",
              "      <td>0.299539</td>\n",
              "      <td>0.073090</td>\n",
              "      <td>0.106667</td>\n",
              "      <td>0.217467</td>\n",
              "      <td>0.168539</td>\n",
              "      <td>0.187500</td>\n",
              "      <td>0.219325</td>\n",
              "      <td>0.239669</td>\n",
              "      <td>0.240310</td>\n",
              "    </tr>\n",
              "    <tr>\n",
              "      <th>3777</th>\n",
              "      <td>0.271889</td>\n",
              "      <td>0.009967</td>\n",
              "      <td>0.073333</td>\n",
              "      <td>0.109312</td>\n",
              "      <td>0.095506</td>\n",
              "      <td>0.159722</td>\n",
              "      <td>0.104294</td>\n",
              "      <td>0.330579</td>\n",
              "      <td>0.209302</td>\n",
              "    </tr>\n",
              "    <tr>\n",
              "      <th>245</th>\n",
              "      <td>0.200461</td>\n",
              "      <td>0.051495</td>\n",
              "      <td>0.166667</td>\n",
              "      <td>0.048005</td>\n",
              "      <td>0.146067</td>\n",
              "      <td>0.069444</td>\n",
              "      <td>0.055215</td>\n",
              "      <td>0.256198</td>\n",
              "      <td>0.356589</td>\n",
              "    </tr>\n",
              "    <tr>\n",
              "      <th>2748</th>\n",
              "      <td>0.453917</td>\n",
              "      <td>0.059801</td>\n",
              "      <td>0.133333</td>\n",
              "      <td>0.166185</td>\n",
              "      <td>0.134831</td>\n",
              "      <td>0.156250</td>\n",
              "      <td>0.105828</td>\n",
              "      <td>0.198347</td>\n",
              "      <td>0.418605</td>\n",
              "    </tr>\n",
              "    <tr>\n",
              "      <th>3124</th>\n",
              "      <td>0.456221</td>\n",
              "      <td>0.068106</td>\n",
              "      <td>0.160000</td>\n",
              "      <td>0.209948</td>\n",
              "      <td>0.151685</td>\n",
              "      <td>0.177083</td>\n",
              "      <td>0.191718</td>\n",
              "      <td>0.272727</td>\n",
              "      <td>0.294574</td>\n",
              "    </tr>\n",
              "  </tbody>\n",
              "</table>\n",
              "<p>5197 rows × 9 columns</p>\n",
              "</div>\n",
              "      <button class=\"colab-df-convert\" onclick=\"convertToInteractive('df-fb8fd351-c4d2-43f5-a2c8-a1398ab96600')\"\n",
              "              title=\"Convert this dataframe to an interactive table.\"\n",
              "              style=\"display:none;\">\n",
              "        \n",
              "  <svg xmlns=\"http://www.w3.org/2000/svg\" height=\"24px\"viewBox=\"0 0 24 24\"\n",
              "       width=\"24px\">\n",
              "    <path d=\"M0 0h24v24H0V0z\" fill=\"none\"/>\n",
              "    <path d=\"M18.56 5.44l.94 2.06.94-2.06 2.06-.94-2.06-.94-.94-2.06-.94 2.06-2.06.94zm-11 1L8.5 8.5l.94-2.06 2.06-.94-2.06-.94L8.5 2.5l-.94 2.06-2.06.94zm10 10l.94 2.06.94-2.06 2.06-.94-2.06-.94-.94-2.06-.94 2.06-2.06.94z\"/><path d=\"M17.41 7.96l-1.37-1.37c-.4-.4-.92-.59-1.43-.59-.52 0-1.04.2-1.43.59L10.3 9.45l-7.72 7.72c-.78.78-.78 2.05 0 2.83L4 21.41c.39.39.9.59 1.41.59.51 0 1.02-.2 1.41-.59l7.78-7.78 2.81-2.81c.8-.78.8-2.07 0-2.86zM5.41 20L4 18.59l7.72-7.72 1.47 1.35L5.41 20z\"/>\n",
              "  </svg>\n",
              "      </button>\n",
              "      \n",
              "  <style>\n",
              "    .colab-df-container {\n",
              "      display:flex;\n",
              "      flex-wrap:wrap;\n",
              "      gap: 12px;\n",
              "    }\n",
              "\n",
              "    .colab-df-convert {\n",
              "      background-color: #E8F0FE;\n",
              "      border: none;\n",
              "      border-radius: 50%;\n",
              "      cursor: pointer;\n",
              "      display: none;\n",
              "      fill: #1967D2;\n",
              "      height: 32px;\n",
              "      padding: 0 0 0 0;\n",
              "      width: 32px;\n",
              "    }\n",
              "\n",
              "    .colab-df-convert:hover {\n",
              "      background-color: #E2EBFA;\n",
              "      box-shadow: 0px 1px 2px rgba(60, 64, 67, 0.3), 0px 1px 3px 1px rgba(60, 64, 67, 0.15);\n",
              "      fill: #174EA6;\n",
              "    }\n",
              "\n",
              "    [theme=dark] .colab-df-convert {\n",
              "      background-color: #3B4455;\n",
              "      fill: #D2E3FC;\n",
              "    }\n",
              "\n",
              "    [theme=dark] .colab-df-convert:hover {\n",
              "      background-color: #434B5C;\n",
              "      box-shadow: 0px 1px 3px 1px rgba(0, 0, 0, 0.15);\n",
              "      filter: drop-shadow(0px 1px 2px rgba(0, 0, 0, 0.3));\n",
              "      fill: #FFFFFF;\n",
              "    }\n",
              "  </style>\n",
              "\n",
              "      <script>\n",
              "        const buttonEl =\n",
              "          document.querySelector('#df-fb8fd351-c4d2-43f5-a2c8-a1398ab96600 button.colab-df-convert');\n",
              "        buttonEl.style.display =\n",
              "          google.colab.kernel.accessAllowed ? 'block' : 'none';\n",
              "\n",
              "        async function convertToInteractive(key) {\n",
              "          const element = document.querySelector('#df-fb8fd351-c4d2-43f5-a2c8-a1398ab96600');\n",
              "          const dataTable =\n",
              "            await google.colab.kernel.invokeFunction('convertToInteractive',\n",
              "                                                     [key], {});\n",
              "          if (!dataTable) return;\n",
              "\n",
              "          const docLinkHtml = 'Like what you see? Visit the ' +\n",
              "            '<a target=\"_blank\" href=https://colab.research.google.com/notebooks/data_table.ipynb>data table notebook</a>'\n",
              "            + ' to learn more about interactive tables.';\n",
              "          element.innerHTML = '';\n",
              "          dataTable['output_type'] = 'display_data';\n",
              "          await google.colab.output.renderOutput(dataTable, element);\n",
              "          const docLink = document.createElement('div');\n",
              "          docLink.innerHTML = docLinkHtml;\n",
              "          element.appendChild(docLink);\n",
              "        }\n",
              "      </script>\n",
              "    </div>\n",
              "  </div>\n",
              "  "
            ],
            "text/plain": [
              "      total sulfur dioxide  chlorides  ...  fixed acidity        pH\n",
              "2059              0.211982   0.034884  ...       0.157025  0.503876\n",
              "5106              0.122120   0.122924  ...       0.495868  0.503876\n",
              "5075              0.324885   0.064784  ...       0.256198  0.465116\n",
              "1090              0.317972   0.036545  ...       0.297521  0.333333\n",
              "3937              0.465438   0.059801  ...       0.198347  0.348837\n",
              "...                    ...        ...  ...            ...       ...\n",
              "920               0.299539   0.073090  ...       0.239669  0.240310\n",
              "3777              0.271889   0.009967  ...       0.330579  0.209302\n",
              "245               0.200461   0.051495  ...       0.256198  0.356589\n",
              "2748              0.453917   0.059801  ...       0.198347  0.418605\n",
              "3124              0.456221   0.068106  ...       0.272727  0.294574\n",
              "\n",
              "[5197 rows x 9 columns]"
            ]
          },
          "metadata": {},
          "execution_count": 650
        }
      ]
    },
    {
      "cell_type": "code",
      "source": [
        "rf = RandomForestClassifier(n_estimators = 1000)\n",
        "# Train the model on training data\n",
        "rf.fit(X_train, y_train)\n",
        "predictions = rf.predict(X_test)\n",
        "accuracy = accuracy_score(y_test, predictions)\n",
        "print(accuracy)"
      ],
      "metadata": {
        "colab": {
          "base_uri": "https://localhost:8080/"
        },
        "id": "DSZBR2zZ8T4v",
        "outputId": "d2686ed8-c6de-48e5-e9a9-c9a57a31d8be"
      },
      "execution_count": 651,
      "outputs": [
        {
          "output_type": "stream",
          "name": "stdout",
          "text": [
            "0.9961538461538462\n"
          ]
        }
      ]
    },
    {
      "cell_type": "markdown",
      "source": [
        "Removendo as duas features menos importantes, perdeu-se 0,08% de precisão"
      ],
      "metadata": {
        "id": "dNouMYOZmK-e"
      }
    },
    {
      "cell_type": "code",
      "source": [
        "from sklearn.metrics import confusion_matrix\n",
        "from sklearn.metrics import plot_confusion_matrix\n",
        "\n",
        "plot_confusion_matrix(estimator=rf,X= X_test, y_true=y_test)"
      ],
      "metadata": {
        "colab": {
          "base_uri": "https://localhost:8080/",
          "height": 351
        },
        "id": "IUTSFLwGWFn5",
        "outputId": "b61feb9e-c7f4-4d01-d09c-a246fe46234c"
      },
      "execution_count": 652,
      "outputs": [
        {
          "output_type": "stream",
          "name": "stderr",
          "text": [
            "/usr/local/lib/python3.7/dist-packages/sklearn/utils/deprecation.py:87: FutureWarning: Function plot_confusion_matrix is deprecated; Function `plot_confusion_matrix` is deprecated in 1.0 and will be removed in 1.2. Use one of the class methods: ConfusionMatrixDisplay.from_predictions or ConfusionMatrixDisplay.from_estimator.\n",
            "  warnings.warn(msg, category=FutureWarning)\n"
          ]
        },
        {
          "output_type": "execute_result",
          "data": {
            "text/plain": [
              "<sklearn.metrics._plot.confusion_matrix.ConfusionMatrixDisplay at 0x7fe381a52590>"
            ]
          },
          "metadata": {},
          "execution_count": 652
        },
        {
          "output_type": "display_data",
          "data": {
            "image/png": "[encoded data removed]",
            "text/plain": [
              "<Figure size 432x288 with 2 Axes>"
            ]
          },
          "metadata": {
            "needs_background": "light"
          }
        }
      ]
    },
    {
      "cell_type": "markdown",
      "source": [
        "# Random Forest Multiclasse"
      ],
      "metadata": {
        "id": "lGvFB6cClQSE"
      }
    },
    {
      "cell_type": "code",
      "source": [
        "df = pd.read_csv('/content/winequality.csv')"
      ],
      "metadata": {
        "id": "pDv5OQknoD_q"
      },
      "execution_count": 622,
      "outputs": []
    },
    {
      "cell_type": "code",
      "source": [
        "df = df.drop(columns='Unnamed: 0')"
      ],
      "metadata": {
        "id": "xnbjjlXWoHJm"
      },
      "execution_count": 623,
      "outputs": []
    },
    {
      "cell_type": "code",
      "source": [
        "colunas = df.columns"
      ],
      "metadata": {
        "id": "k4r1L_U_oJka"
      },
      "execution_count": 624,
      "outputs": []
    },
    {
      "cell_type": "markdown",
      "source": [
        "## Normalizar"
      ],
      "metadata": {
        "id": "w41rbfuEoMFq"
      }
    },
    {
      "cell_type": "code",
      "source": [
        "for i in df.columns.drop('quality'):\n",
        "  df[i] = (df[i] - df[i].min()) / (df[i].max() - df[i].min())"
      ],
      "metadata": {
        "id": "R1JN2dWRoNZT"
      },
      "execution_count": 625,
      "outputs": []
    },
    {
      "cell_type": "code",
      "source": [
        "df.head()"
      ],
      "metadata": {
        "colab": {
          "base_uri": "https://localhost:8080/",
          "height": 267
        },
        "id": "mRVmt3ZSoPzD",
        "outputId": "76355c0e-7ddc-4293-956f-1493ce609fa2"
      },
      "execution_count": 626,
      "outputs": [
        {
          "output_type": "execute_result",
          "data": {
            "text/html": [
              "\n",
              "  <div id=\"df-3285594f-905b-44b6-8fad-77cf860b653d\">\n",
              "    <div class=\"colab-df-container\">\n",
              "      <div>\n",
              "<style scoped>\n",
              "    .dataframe tbody tr th:only-of-type {\n",
              "        vertical-align: middle;\n",
              "    }\n",
              "\n",
              "    .dataframe tbody tr th {\n",
              "        vertical-align: top;\n",
              "    }\n",
              "\n",
              "    .dataframe thead th {\n",
              "        text-align: right;\n",
              "    }\n",
              "</style>\n",
              "<table border=\"1\" class=\"dataframe\">\n",
              "  <thead>\n",
              "    <tr style=\"text-align: right;\">\n",
              "      <th></th>\n",
              "      <th>fixed acidity</th>\n",
              "      <th>volatile acidity</th>\n",
              "      <th>citric acid</th>\n",
              "      <th>residual sugar</th>\n",
              "      <th>chlorides</th>\n",
              "      <th>free sulfur dioxide</th>\n",
              "      <th>total sulfur dioxide</th>\n",
              "      <th>density</th>\n",
              "      <th>pH</th>\n",
              "      <th>sulphates</th>\n",
              "      <th>alcohol</th>\n",
              "      <th>quality</th>\n",
              "      <th>wine_is_red</th>\n",
              "    </tr>\n",
              "  </thead>\n",
              "  <tbody>\n",
              "    <tr>\n",
              "      <th>0</th>\n",
              "      <td>0.173554</td>\n",
              "      <td>0.353333</td>\n",
              "      <td>0.048193</td>\n",
              "      <td>0.023006</td>\n",
              "      <td>0.102990</td>\n",
              "      <td>0.052083</td>\n",
              "      <td>0.041475</td>\n",
              "      <td>0.128205</td>\n",
              "      <td>0.651163</td>\n",
              "      <td>0.308989</td>\n",
              "      <td>0.449275</td>\n",
              "      <td>6</td>\n",
              "      <td>1.0</td>\n",
              "    </tr>\n",
              "    <tr>\n",
              "      <th>1</th>\n",
              "      <td>0.363636</td>\n",
              "      <td>0.613333</td>\n",
              "      <td>0.054217</td>\n",
              "      <td>0.026074</td>\n",
              "      <td>0.093023</td>\n",
              "      <td>0.020833</td>\n",
              "      <td>0.071429</td>\n",
              "      <td>0.187777</td>\n",
              "      <td>0.465116</td>\n",
              "      <td>0.185393</td>\n",
              "      <td>0.144928</td>\n",
              "      <td>6</td>\n",
              "      <td>1.0</td>\n",
              "    </tr>\n",
              "    <tr>\n",
              "      <th>2</th>\n",
              "      <td>0.214876</td>\n",
              "      <td>0.106667</td>\n",
              "      <td>0.295181</td>\n",
              "      <td>0.079755</td>\n",
              "      <td>0.073090</td>\n",
              "      <td>0.083333</td>\n",
              "      <td>0.262673</td>\n",
              "      <td>0.136688</td>\n",
              "      <td>0.224806</td>\n",
              "      <td>0.426966</td>\n",
              "      <td>0.362319</td>\n",
              "      <td>6</td>\n",
              "      <td>0.0</td>\n",
              "    </tr>\n",
              "    <tr>\n",
              "      <th>3</th>\n",
              "      <td>0.231405</td>\n",
              "      <td>0.100000</td>\n",
              "      <td>0.156627</td>\n",
              "      <td>0.010736</td>\n",
              "      <td>0.059801</td>\n",
              "      <td>0.052083</td>\n",
              "      <td>0.281106</td>\n",
              "      <td>0.121265</td>\n",
              "      <td>0.496124</td>\n",
              "      <td>0.213483</td>\n",
              "      <td>0.289855</td>\n",
              "      <td>6</td>\n",
              "      <td>0.0</td>\n",
              "    </tr>\n",
              "    <tr>\n",
              "      <th>4</th>\n",
              "      <td>0.280992</td>\n",
              "      <td>0.106667</td>\n",
              "      <td>0.174699</td>\n",
              "      <td>0.036810</td>\n",
              "      <td>0.044850</td>\n",
              "      <td>0.055556</td>\n",
              "      <td>0.255760</td>\n",
              "      <td>0.134953</td>\n",
              "      <td>0.496124</td>\n",
              "      <td>0.258427</td>\n",
              "      <td>0.304348</td>\n",
              "      <td>6</td>\n",
              "      <td>0.0</td>\n",
              "    </tr>\n",
              "  </tbody>\n",
              "</table>\n",
              "</div>\n",
              "      <button class=\"colab-df-convert\" onclick=\"convertToInteractive('df-3285594f-905b-44b6-8fad-77cf860b653d')\"\n",
              "              title=\"Convert this dataframe to an interactive table.\"\n",
              "              style=\"display:none;\">\n",
              "        \n",
              "  <svg xmlns=\"http://www.w3.org/2000/svg\" height=\"24px\"viewBox=\"0 0 24 24\"\n",
              "       width=\"24px\">\n",
              "    <path d=\"M0 0h24v24H0V0z\" fill=\"none\"/>\n",
              "    <path d=\"M18.56 5.44l.94 2.06.94-2.06 2.06-.94-2.06-.94-.94-2.06-.94 2.06-2.06.94zm-11 1L8.5 8.5l.94-2.06 2.06-.94-2.06-.94L8.5 2.5l-.94 2.06-2.06.94zm10 10l.94 2.06.94-2.06 2.06-.94-2.06-.94-.94-2.06-.94 2.06-2.06.94z\"/><path d=\"M17.41 7.96l-1.37-1.37c-.4-.4-.92-.59-1.43-.59-.52 0-1.04.2-1.43.59L10.3 9.45l-7.72 7.72c-.78.78-.78 2.05 0 2.83L4 21.41c.39.39.9.59 1.41.59.51 0 1.02-.2 1.41-.59l7.78-7.78 2.81-2.81c.8-.78.8-2.07 0-2.86zM5.41 20L4 18.59l7.72-7.72 1.47 1.35L5.41 20z\"/>\n",
              "  </svg>\n",
              "      </button>\n",
              "      \n",
              "  <style>\n",
              "    .colab-df-container {\n",
              "      display:flex;\n",
              "      flex-wrap:wrap;\n",
              "      gap: 12px;\n",
              "    }\n",
              "\n",
              "    .colab-df-convert {\n",
              "      background-color: #E8F0FE;\n",
              "      border: none;\n",
              "      border-radius: 50%;\n",
              "      cursor: pointer;\n",
              "      display: none;\n",
              "      fill: #1967D2;\n",
              "      height: 32px;\n",
              "      padding: 0 0 0 0;\n",
              "      width: 32px;\n",
              "    }\n",
              "\n",
              "    .colab-df-convert:hover {\n",
              "      background-color: #E2EBFA;\n",
              "      box-shadow: 0px 1px 2px rgba(60, 64, 67, 0.3), 0px 1px 3px 1px rgba(60, 64, 67, 0.15);\n",
              "      fill: #174EA6;\n",
              "    }\n",
              "\n",
              "    [theme=dark] .colab-df-convert {\n",
              "      background-color: #3B4455;\n",
              "      fill: #D2E3FC;\n",
              "    }\n",
              "\n",
              "    [theme=dark] .colab-df-convert:hover {\n",
              "      background-color: #434B5C;\n",
              "      box-shadow: 0px 1px 3px 1px rgba(0, 0, 0, 0.15);\n",
              "      filter: drop-shadow(0px 1px 2px rgba(0, 0, 0, 0.3));\n",
              "      fill: #FFFFFF;\n",
              "    }\n",
              "  </style>\n",
              "\n",
              "      <script>\n",
              "        const buttonEl =\n",
              "          document.querySelector('#df-3285594f-905b-44b6-8fad-77cf860b653d button.colab-df-convert');\n",
              "        buttonEl.style.display =\n",
              "          google.colab.kernel.accessAllowed ? 'block' : 'none';\n",
              "\n",
              "        async function convertToInteractive(key) {\n",
              "          const element = document.querySelector('#df-3285594f-905b-44b6-8fad-77cf860b653d');\n",
              "          const dataTable =\n",
              "            await google.colab.kernel.invokeFunction('convertToInteractive',\n",
              "                                                     [key], {});\n",
              "          if (!dataTable) return;\n",
              "\n",
              "          const docLinkHtml = 'Like what you see? Visit the ' +\n",
              "            '<a target=\"_blank\" href=https://colab.research.google.com/notebooks/data_table.ipynb>data table notebook</a>'\n",
              "            + ' to learn more about interactive tables.';\n",
              "          element.innerHTML = '';\n",
              "          dataTable['output_type'] = 'display_data';\n",
              "          await google.colab.output.renderOutput(dataTable, element);\n",
              "          const docLink = document.createElement('div');\n",
              "          docLink.innerHTML = docLinkHtml;\n",
              "          element.appendChild(docLink);\n",
              "        }\n",
              "      </script>\n",
              "    </div>\n",
              "  </div>\n",
              "  "
            ],
            "text/plain": [
              "   fixed acidity  volatile acidity  citric acid  ...   alcohol  quality  wine_is_red\n",
              "0       0.173554          0.353333     0.048193  ...  0.449275        6          1.0\n",
              "1       0.363636          0.613333     0.054217  ...  0.144928        6          1.0\n",
              "2       0.214876          0.106667     0.295181  ...  0.362319        6          0.0\n",
              "3       0.231405          0.100000     0.156627  ...  0.289855        6          0.0\n",
              "4       0.280992          0.106667     0.174699  ...  0.304348        6          0.0\n",
              "\n",
              "[5 rows x 13 columns]"
            ]
          },
          "metadata": {},
          "execution_count": 626
        }
      ]
    },
    {
      "cell_type": "markdown",
      "source": [
        "## Implementando Random Forest"
      ],
      "metadata": {
        "id": "WxNLzrvuoTNb"
      }
    },
    {
      "cell_type": "code",
      "source": [
        "df['quality'].value_counts()"
      ],
      "metadata": {
        "colab": {
          "base_uri": "https://localhost:8080/"
        },
        "id": "2SG5j3sEyp_-",
        "outputId": "d91faa71-08e8-450e-a505-9149db0dedec"
      },
      "execution_count": 627,
      "outputs": [
        {
          "output_type": "execute_result",
          "data": {
            "text/plain": [
              "6    2836\n",
              "5    2138\n",
              "7    1079\n",
              "4     216\n",
              "8     193\n",
              "3      30\n",
              "9       5\n",
              "Name: quality, dtype: int64"
            ]
          },
          "metadata": {},
          "execution_count": 627
        }
      ]
    },
    {
      "cell_type": "code",
      "source": [
        "# Separando as qualidades\n",
        "df_6 = df[df['quality']==6]\n",
        "df_4 = df[df['quality']==4]\n",
        "df_5 = df[df['quality']==5]\n",
        "df_7 = df[df['quality']==7]\n",
        "df_8 = df[df['quality']==8]\n",
        "df_3 = df[df['quality']==3]\n",
        "df_9 = df[df['quality']==9]\n",
        "# Resampling\n",
        "df_6_corrigido = resample(df_6, \n",
        "                                 replace=False,    \n",
        "                                 n_samples=216)\n",
        "df_4_corrigido = resample(df_4, \n",
        "                                 replace=True,    \n",
        "                                 n_samples=900)\n",
        "df_5_corrigido = resample(df_5, \n",
        "                                 replace=False,    \n",
        "                                 n_samples=216)\n",
        "df_7_corrigido = resample(df_7, \n",
        "                                 replace=False,    \n",
        "                                 n_samples=216)\n",
        "df_8_corrigido = resample(df_8, \n",
        "                                 replace=True,    \n",
        "                                 n_samples=900)\n",
        "df_3_corrigido = resample(df_3, \n",
        "                                 replace=True,    \n",
        "                                 n_samples=216)\n",
        "df_9_corrigido = resample(df_9, \n",
        "                                 replace=True,    \n",
        "                                 n_samples=216)\n",
        "# Combinando as qualidades resampled\n",
        "#df = pd.concat([df_6,df_8_corrigido,df_4_corrigido,df_5,df_7])"
      ],
      "metadata": {
        "id": "ScExDRyGlRzL"
      },
      "execution_count": 628,
      "outputs": []
    },
    {
      "cell_type": "code",
      "source": [
        "from sklearn.model_selection import train_test_split\n",
        "\n",
        "X = df[colunas.drop('quality')]\n",
        "Y = df['quality']\n",
        "X_train, X_test, y_train, y_test = train_test_split(X,Y, test_size=0.2)"
      ],
      "metadata": {
        "id": "z2EBT3TooWQz"
      },
      "execution_count": 629,
      "outputs": []
    },
    {
      "cell_type": "code",
      "source": [
        "from sklearn.ensemble import RandomForestRegressor\n",
        "from sklearn.metrics import accuracy_score\n",
        "\n",
        "\n",
        "rf = RandomForestClassifier(n_estimators = 1000, n_jobs=-1) # Testei outros hyperparametros, mas essa foi a configuração com maior sucesso que tive\n",
        "rf.fit(X_train, y_train)"
      ],
      "metadata": {
        "colab": {
          "base_uri": "https://localhost:8080/"
        },
        "id": "yAj0FXiwoinz",
        "outputId": "cb2d46ff-1d90-4625-baea-0f6c3c39eb18"
      },
      "execution_count": 630,
      "outputs": [
        {
          "output_type": "execute_result",
          "data": {
            "text/plain": [
              "RandomForestClassifier(n_estimators=1000, n_jobs=-1)"
            ]
          },
          "metadata": {},
          "execution_count": 630
        }
      ]
    },
    {
      "cell_type": "code",
      "source": [
        "predictions = rf.predict(X_test)\n",
        "predictionstrain = rf.predict(X_train)"
      ],
      "metadata": {
        "id": "_LXEbznxomSc"
      },
      "execution_count": 631,
      "outputs": []
    },
    {
      "cell_type": "code",
      "source": [
        "accuracy = accuracy_score(y_test, predictions)\n",
        "print(accuracy)"
      ],
      "metadata": {
        "colab": {
          "base_uri": "https://localhost:8080/"
        },
        "id": "3HYUwrJpoonK",
        "outputId": "4f56732a-5c6e-492a-d1a0-9f10bea6ef92"
      },
      "execution_count": 632,
      "outputs": [
        {
          "output_type": "stream",
          "name": "stdout",
          "text": [
            "0.6961538461538461\n"
          ]
        }
      ]
    },
    {
      "cell_type": "markdown",
      "source": [
        "70% Precisão com dados sem manipulação\n",
        "\n",
        "70% Precisão removendo 3, 9. Sem resample\n",
        "\n",
        "63% Precisão removendo 3, 9. Resample a 216\n",
        "\n",
        "70% Precisão com resample de todos a 216\n",
        "\n",
        "78% Precisão removendo 3, 9. Oversample das categorias 4, 8 para 900 amostras\n",
        "\n",
        "\n",
        "\n"
      ],
      "metadata": {
        "id": "XaKcM5Idqifq"
      }
    },
    {
      "cell_type": "markdown",
      "source": [
        "## Feature importance"
      ],
      "metadata": {
        "id": "bOgN7_Pdot3C"
      }
    },
    {
      "cell_type": "code",
      "source": [
        "feature_importances = pd.DataFrame(rf.feature_importances_,\n",
        "                                   index=colunas.drop('quality'),\n",
        "                                   columns=['importance']).sort_values('importance', ascending=False)"
      ],
      "metadata": {
        "id": "FrbCkMtkousw"
      },
      "execution_count": 633,
      "outputs": []
    },
    {
      "cell_type": "code",
      "source": [
        "feature_importances"
      ],
      "metadata": {
        "colab": {
          "base_uri": "https://localhost:8080/",
          "height": 426
        },
        "id": "Ecj_LyCAoxaa",
        "outputId": "a300cc0a-fed5-42a1-aa60-fa5caa180a58"
      },
      "execution_count": 634,
      "outputs": [
        {
          "output_type": "execute_result",
          "data": {
            "text/html": [
              "\n",
              "  <div id=\"df-77dcc1cf-2176-4c28-ae4b-c2858e748304\">\n",
              "    <div class=\"colab-df-container\">\n",
              "      <div>\n",
              "<style scoped>\n",
              "    .dataframe tbody tr th:only-of-type {\n",
              "        vertical-align: middle;\n",
              "    }\n",
              "\n",
              "    .dataframe tbody tr th {\n",
              "        vertical-align: top;\n",
              "    }\n",
              "\n",
              "    .dataframe thead th {\n",
              "        text-align: right;\n",
              "    }\n",
              "</style>\n",
              "<table border=\"1\" class=\"dataframe\">\n",
              "  <thead>\n",
              "    <tr style=\"text-align: right;\">\n",
              "      <th></th>\n",
              "      <th>importance</th>\n",
              "    </tr>\n",
              "  </thead>\n",
              "  <tbody>\n",
              "    <tr>\n",
              "      <th>alcohol</th>\n",
              "      <td>0.123266</td>\n",
              "    </tr>\n",
              "    <tr>\n",
              "      <th>density</th>\n",
              "      <td>0.102215</td>\n",
              "    </tr>\n",
              "    <tr>\n",
              "      <th>volatile acidity</th>\n",
              "      <td>0.099549</td>\n",
              "    </tr>\n",
              "    <tr>\n",
              "      <th>total sulfur dioxide</th>\n",
              "      <td>0.091164</td>\n",
              "    </tr>\n",
              "    <tr>\n",
              "      <th>chlorides</th>\n",
              "      <td>0.087140</td>\n",
              "    </tr>\n",
              "    <tr>\n",
              "      <th>free sulfur dioxide</th>\n",
              "      <td>0.086498</td>\n",
              "    </tr>\n",
              "    <tr>\n",
              "      <th>sulphates</th>\n",
              "      <td>0.085982</td>\n",
              "    </tr>\n",
              "    <tr>\n",
              "      <th>residual sugar</th>\n",
              "      <td>0.084862</td>\n",
              "    </tr>\n",
              "    <tr>\n",
              "      <th>pH</th>\n",
              "      <td>0.082684</td>\n",
              "    </tr>\n",
              "    <tr>\n",
              "      <th>citric acid</th>\n",
              "      <td>0.078155</td>\n",
              "    </tr>\n",
              "    <tr>\n",
              "      <th>fixed acidity</th>\n",
              "      <td>0.075122</td>\n",
              "    </tr>\n",
              "    <tr>\n",
              "      <th>wine_is_red</th>\n",
              "      <td>0.003361</td>\n",
              "    </tr>\n",
              "  </tbody>\n",
              "</table>\n",
              "</div>\n",
              "      <button class=\"colab-df-convert\" onclick=\"convertToInteractive('df-77dcc1cf-2176-4c28-ae4b-c2858e748304')\"\n",
              "              title=\"Convert this dataframe to an interactive table.\"\n",
              "              style=\"display:none;\">\n",
              "        \n",
              "  <svg xmlns=\"http://www.w3.org/2000/svg\" height=\"24px\"viewBox=\"0 0 24 24\"\n",
              "       width=\"24px\">\n",
              "    <path d=\"M0 0h24v24H0V0z\" fill=\"none\"/>\n",
              "    <path d=\"M18.56 5.44l.94 2.06.94-2.06 2.06-.94-2.06-.94-.94-2.06-.94 2.06-2.06.94zm-11 1L8.5 8.5l.94-2.06 2.06-.94-2.06-.94L8.5 2.5l-.94 2.06-2.06.94zm10 10l.94 2.06.94-2.06 2.06-.94-2.06-.94-.94-2.06-.94 2.06-2.06.94z\"/><path d=\"M17.41 7.96l-1.37-1.37c-.4-.4-.92-.59-1.43-.59-.52 0-1.04.2-1.43.59L10.3 9.45l-7.72 7.72c-.78.78-.78 2.05 0 2.83L4 21.41c.39.39.9.59 1.41.59.51 0 1.02-.2 1.41-.59l7.78-7.78 2.81-2.81c.8-.78.8-2.07 0-2.86zM5.41 20L4 18.59l7.72-7.72 1.47 1.35L5.41 20z\"/>\n",
              "  </svg>\n",
              "      </button>\n",
              "      \n",
              "  <style>\n",
              "    .colab-df-container {\n",
              "      display:flex;\n",
              "      flex-wrap:wrap;\n",
              "      gap: 12px;\n",
              "    }\n",
              "\n",
              "    .colab-df-convert {\n",
              "      background-color: #E8F0FE;\n",
              "      border: none;\n",
              "      border-radius: 50%;\n",
              "      cursor: pointer;\n",
              "      display: none;\n",
              "      fill: #1967D2;\n",
              "      height: 32px;\n",
              "      padding: 0 0 0 0;\n",
              "      width: 32px;\n",
              "    }\n",
              "\n",
              "    .colab-df-convert:hover {\n",
              "      background-color: #E2EBFA;\n",
              "      box-shadow: 0px 1px 2px rgba(60, 64, 67, 0.3), 0px 1px 3px 1px rgba(60, 64, 67, 0.15);\n",
              "      fill: #174EA6;\n",
              "    }\n",
              "\n",
              "    [theme=dark] .colab-df-convert {\n",
              "      background-color: #3B4455;\n",
              "      fill: #D2E3FC;\n",
              "    }\n",
              "\n",
              "    [theme=dark] .colab-df-convert:hover {\n",
              "      background-color: #434B5C;\n",
              "      box-shadow: 0px 1px 3px 1px rgba(0, 0, 0, 0.15);\n",
              "      filter: drop-shadow(0px 1px 2px rgba(0, 0, 0, 0.3));\n",
              "      fill: #FFFFFF;\n",
              "    }\n",
              "  </style>\n",
              "\n",
              "      <script>\n",
              "        const buttonEl =\n",
              "          document.querySelector('#df-77dcc1cf-2176-4c28-ae4b-c2858e748304 button.colab-df-convert');\n",
              "        buttonEl.style.display =\n",
              "          google.colab.kernel.accessAllowed ? 'block' : 'none';\n",
              "\n",
              "        async function convertToInteractive(key) {\n",
              "          const element = document.querySelector('#df-77dcc1cf-2176-4c28-ae4b-c2858e748304');\n",
              "          const dataTable =\n",
              "            await google.colab.kernel.invokeFunction('convertToInteractive',\n",
              "                                                     [key], {});\n",
              "          if (!dataTable) return;\n",
              "\n",
              "          const docLinkHtml = 'Like what you see? Visit the ' +\n",
              "            '<a target=\"_blank\" href=https://colab.research.google.com/notebooks/data_table.ipynb>data table notebook</a>'\n",
              "            + ' to learn more about interactive tables.';\n",
              "          element.innerHTML = '';\n",
              "          dataTable['output_type'] = 'display_data';\n",
              "          await google.colab.output.renderOutput(dataTable, element);\n",
              "          const docLink = document.createElement('div');\n",
              "          docLink.innerHTML = docLinkHtml;\n",
              "          element.appendChild(docLink);\n",
              "        }\n",
              "      </script>\n",
              "    </div>\n",
              "  </div>\n",
              "  "
            ],
            "text/plain": [
              "                      importance\n",
              "alcohol                 0.123266\n",
              "density                 0.102215\n",
              "volatile acidity        0.099549\n",
              "total sulfur dioxide    0.091164\n",
              "chlorides               0.087140\n",
              "free sulfur dioxide     0.086498\n",
              "sulphates               0.085982\n",
              "residual sugar          0.084862\n",
              "pH                      0.082684\n",
              "citric acid             0.078155\n",
              "fixed acidity           0.075122\n",
              "wine_is_red             0.003361"
            ]
          },
          "metadata": {},
          "execution_count": 634
        }
      ]
    },
    {
      "cell_type": "markdown",
      "source": [
        "A única feature descartável nesse caso seria \"Wine is red\""
      ],
      "metadata": {
        "id": "Kr61eEzJzKZd"
      }
    },
    {
      "cell_type": "markdown",
      "source": [
        "Abaixo está a matriz confusão dos dados sem manipulação. Nenhum acerto nas categorias 3 e 9, devido a sua baixa ocorrência"
      ],
      "metadata": {
        "id": "KhOZnU_hxLa-"
      }
    },
    {
      "cell_type": "markdown",
      "source": [
        "![image.png](data:image/png;base64,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)"
      ],
      "metadata": {
        "id": "2M5bCWmnxHUX"
      }
    },
    {
      "cell_type": "markdown",
      "source": [
        "Abaixo a matriz confusão dos dados com oversample a 216. Nota-se que não houve nenhum erro na classificação de 3 e 9. Isso pode indicar overfit"
      ],
      "metadata": {
        "id": "PZ9jbfEixbVO"
      }
    },
    {
      "cell_type": "markdown",
      "source": [
        "![image.png](data:image/png;base64,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)"
      ],
      "metadata": {
        "id": "tsh3TLtlxaSG"
      }
    },
    {
      "cell_type": "markdown",
      "source": [
        "Abaixo a matriz confusão com as categorias 3 e 9 removidas, mas sem nenhum resample."
      ],
      "metadata": {
        "id": "gPGBRj-2yVQd"
      }
    },
    {
      "cell_type": "markdown",
      "source": [
        "![image.png](data:image/png;base64,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)"
      ],
      "metadata": {
        "id": "6WRaWUCryUPm"
      }
    },
    {
      "cell_type": "markdown",
      "source": [
        "Abaixo a matriz confusão com as categorias 3 e 9 removidas, e oversample das categorias 4 e 8 para 900 amostras."
      ],
      "metadata": {
        "id": "TpERo2NUy9-W"
      }
    },
    {
      "cell_type": "markdown",
      "source": [
        "![image.png](data:image/png;base64,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)"
      ],
      "metadata": {
        "id": "GmDklButy8-W"
      }
    },
    {
      "cell_type": "markdown",
      "source": [
        "# Conclusão"
      ],
      "metadata": {
        "id": "D8xSTk-U1yN0"
      }
    },
    {
      "cell_type": "markdown",
      "source": [
        "Para o caso binário, o random forest obteve precisão de 99,7%; valor um pouco acima do obtido pelo KNN (99,0%)\n",
        "\n",
        "Para o caso multiclasse, o modelo com Random Forest obteve maior precisão do que o modelo KNN em todos os casos testados."
      ],
      "metadata": {
        "id": "hS6Mifqhzeg8"
      }
    }
  ]
}