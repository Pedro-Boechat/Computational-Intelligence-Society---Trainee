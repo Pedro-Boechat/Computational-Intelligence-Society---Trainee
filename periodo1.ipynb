{
  "nbformat": 4,
  "nbformat_minor": 0,
  "metadata": {
    "colab": {
      "name": "periodo1.ipynb",
      "provenance": [],
      "authorship_tag": "ABX9TyP4zQPSVnxkYnTdtKX64flB",
      "include_colab_link": true
    },
    "kernelspec": {
      "name": "python3",
      "display_name": "Python 3"
    },
    "language_info": {
      "name": "python"
    }
  },
  "cells": [
    {
      "cell_type": "markdown",
      "metadata": {
        "id": "view-in-github",
        "colab_type": "text"
      },
      "source": [
        "<a href=\"https://colab.research.google.com/github/Pedro-Boechat/periodo1trainee/blob/main/periodo1.ipynb\" target=\"_parent\"><img src=\"https://colab.research.google.com/assets/colab-badge.svg\" alt=\"Open In Colab\"/></a>"
      ]
    },
    {
      "cell_type": "code",
      "execution_count": 20,
      "metadata": {
        "id": "eaRPRB4jluVl"
      },
      "outputs": [],
      "source": [
        "import pandas as pd\n",
        "import numpy as np\n",
        "import matplotlib.pyplot as plt\n",
        "import seaborn as sns"
      ]
    },
    {
      "cell_type": "code",
      "source": [
        "df = pd.read_csv('/content/co2_emission.csv')\n",
        "df.shape"
      ],
      "metadata": {
        "colab": {
          "base_uri": "https://localhost:8080/"
        },
        "id": "jE3X1o1Ql--V",
        "outputId": "4686e26d-bd92-447e-b2da-5106a43fb780"
      },
      "execution_count": 21,
      "outputs": [
        {
          "output_type": "execute_result",
          "data": {
            "text/plain": [
              "(20853, 4)"
            ]
          },
          "metadata": {},
          "execution_count": 21
        }
      ]
    },
    {
      "cell_type": "code",
      "source": [
        "df.fillna('Não há', inplace=True)"
      ],
      "metadata": {
        "id": "aE_XQNw8tKhG"
      },
      "execution_count": 37,
      "outputs": []
    },
    {
      "cell_type": "markdown",
      "source": [
        "# Estudaremos os dados de 2017 e de 1970 para avaliar a evolução da emissão de carbono no mundo durante este período de 47 anos."
      ],
      "metadata": {
        "id": "xQ6zj0wbtSpV"
      }
    },
    {
      "cell_type": "markdown",
      "source": [
        "## Ano de 2017"
      ],
      "metadata": {
        "id": "oUViQVPin7An"
      }
    },
    {
      "cell_type": "markdown",
      "source": [
        "Vamos analisar os dados para o ano de 2017, que é o mais recente do dataset"
      ],
      "metadata": {
        "id": "PbZoqwS3DJcV"
      }
    },
    {
      "cell_type": "code",
      "source": [
        "di = df[df['Year']==2017]\n",
        "di.drop(di[di['Entity'] =='World'].index, inplace = True)"
      ],
      "metadata": {
        "colab": {
          "base_uri": "https://localhost:8080/"
        },
        "id": "cVyzVn3J-UGR",
        "outputId": "ce0d95b2-a34d-4e96-8deb-9c2d3a88fe08"
      },
      "execution_count": 23,
      "outputs": [
        {
          "output_type": "stream",
          "name": "stderr",
          "text": [
            "/usr/local/lib/python3.7/dist-packages/pandas/core/frame.py:4174: SettingWithCopyWarning: \n",
            "A value is trying to be set on a copy of a slice from a DataFrame\n",
            "\n",
            "See the caveats in the documentation: https://pandas.pydata.org/pandas-docs/stable/user_guide/indexing.html#returning-a-view-versus-a-copy\n",
            "  errors=errors,\n"
          ]
        }
      ]
    },
    {
      "cell_type": "code",
      "source": [
        "media = di['Annual CO₂ emissions (tonnes )'].mean()\n",
        "print(f'A média de emissão por entidade em 2017 é: {media} toneladas')\n",
        "\n",
        "maximo = di['Annual CO₂ emissions (tonnes )'].max()\n",
        "maximo_pais = di['Annual CO₂ emissions (tonnes )'].idxmax()\n",
        "maior_pais = di['Entity'][maximo_pais]\n",
        "print(f'A entidade com maior emissão de CO2 em 2017 é: {maior_pais}')\n",
        "\n",
        "minimo = di['Annual CO₂ emissions (tonnes )'].min()\n",
        "minimo_pais = di['Annual CO₂ emissions (tonnes )'].idxmin()\n",
        "menor_pais = di['Entity'][minimo_pais]\n",
        "print(f'A entidade com menor emissão de CO2 em 2017 é: {menor_pais}')"
      ],
      "metadata": {
        "colab": {
          "base_uri": "https://localhost:8080/"
        },
        "id": "fES3ULDBBmpw",
        "outputId": "20d22ecf-74a8-4708-a0ee-ac200edbc0e2"
      },
      "execution_count": 24,
      "outputs": [
        {
          "output_type": "stream",
          "name": "stdout",
          "text": [
            "A média de emissão por entidade em 2017 é: 241264656.94493213 toneladas\n",
            "A entidade com maior emissão de CO2 em 2017 é: China\n",
            "A entidade com menor emissão de CO2 em 2017 é: Saint Helena\n"
          ]
        }
      ]
    },
    {
      "cell_type": "code",
      "source": [
        "top5 = di.sort_values(by=['Annual CO₂ emissions (tonnes )'], ascending=False).head(8)\n",
        "paisesmax = top5['Entity'].to_list()\n",
        "print(f'As 8 entidades com maior emissão de CO2 em 2017 são: {paisesmax}')"
      ],
      "metadata": {
        "colab": {
          "base_uri": "https://localhost:8080/"
        },
        "id": "yaA7vwYREpYX",
        "outputId": "5b7d6de1-bf59-4f09-ea6f-b46aaeffd367"
      },
      "execution_count": 25,
      "outputs": [
        {
          "output_type": "stream",
          "name": "stdout",
          "text": [
            "As 8 entidades com maior emissão de CO2 em 2017 são: ['China', 'United States', 'Asia and Pacific (other)', 'EU-28', 'Middle East', 'India', 'Americas (other)', 'Europe (other)']\n"
          ]
        }
      ]
    },
    {
      "cell_type": "code",
      "source": [
        "min5 = di.sort_values(by=['Annual CO₂ emissions (tonnes )']).head(8)\n",
        "paisesmin = min5['Entity'].to_list()\n",
        "print(f'As 8 entidades com menor emissão de CO2 em 2017 são: {paisesmin}')"
      ],
      "metadata": {
        "colab": {
          "base_uri": "https://localhost:8080/"
        },
        "id": "Dk56g3u7GHPn",
        "outputId": "5ce13810-a1f3-4cf6-8e11-a52813f8133c"
      },
      "execution_count": 26,
      "outputs": [
        {
          "output_type": "stream",
          "name": "stdout",
          "text": [
            "As 8 entidades com menor emissão de CO2 em 2017 são: ['Saint Helena', 'Niue', 'Tuvalu', 'Wallis and Futuna Islands', 'Montserrat', 'Nauru', 'Kiribati', 'Saint Pierre and Miquelon']\n"
          ]
        }
      ]
    },
    {
      "cell_type": "markdown",
      "source": [
        "## Ano de 1970"
      ],
      "metadata": {
        "id": "SC4nYq2wn9qX"
      }
    },
    {
      "cell_type": "markdown",
      "source": [
        "Vamos analisar como era o cenário de emissão de carbono em 1970 (50 anos atrás)."
      ],
      "metadata": {
        "id": "mn88SfntD4nk"
      }
    },
    {
      "cell_type": "code",
      "source": [
        "di = df[df['Year']==1970]\n",
        "di.drop(di[di['Entity'] =='World'].index, inplace = True)"
      ],
      "metadata": {
        "colab": {
          "base_uri": "https://localhost:8080/"
        },
        "id": "vlgytvWzn_x_",
        "outputId": "eef43efa-f961-43a2-b869-2da0aeed6c1a"
      },
      "execution_count": 27,
      "outputs": [
        {
          "output_type": "stream",
          "name": "stderr",
          "text": [
            "/usr/local/lib/python3.7/dist-packages/pandas/core/frame.py:4174: SettingWithCopyWarning: \n",
            "A value is trying to be set on a copy of a slice from a DataFrame\n",
            "\n",
            "See the caveats in the documentation: https://pandas.pydata.org/pandas-docs/stable/user_guide/indexing.html#returning-a-view-versus-a-copy\n",
            "  errors=errors,\n"
          ]
        }
      ]
    },
    {
      "cell_type": "code",
      "source": [
        "media = di['Annual CO₂ emissions (tonnes )'].mean()\n",
        "print(f'A média de emissão por entidade em 1970 era: {media} toneladas')\n",
        "\n",
        "maximo = di['Annual CO₂ emissions (tonnes )'].max()\n",
        "maximo_pais = di['Annual CO₂ emissions (tonnes )'].idxmax()\n",
        "maior_pais = di['Entity'][maximo_pais]\n",
        "print(f'A entidade com maior emissão de CO2 em 1970 era: {maior_pais}')\n",
        "\n",
        "minimo = di['Annual CO₂ emissions (tonnes )'].min()\n",
        "minimo_pais = di['Annual CO₂ emissions (tonnes )'].idxmin()\n",
        "menor_pais = di['Entity'][minimo_pais]\n",
        "print(f'A entidade com menor emissão de CO2 em 1970 era: {menor_pais}')"
      ],
      "metadata": {
        "colab": {
          "base_uri": "https://localhost:8080/"
        },
        "id": "c9i4K9EsoEx_",
        "outputId": "08a37fb1-8da3-4951-d465-4b28c8ad2183"
      },
      "execution_count": 28,
      "outputs": [
        {
          "output_type": "stream",
          "name": "stdout",
          "text": [
            "A média de emissão por entidade em 1970 era: 113325018.71596244 toneladas\n",
            "A entidade com maior emissão de CO2 em 1970 era: United States\n",
            "A entidade com menor emissão de CO2 em 1970 era: Kyrgysztan\n"
          ]
        }
      ]
    },
    {
      "cell_type": "code",
      "source": [
        "top5 = di.sort_values(by=['Annual CO₂ emissions (tonnes )'], ascending=False).head(8)\n",
        "paisesmax_antigo = top5['Entity'].to_list()\n",
        "print(f'As 8 entidades com maior emissão de CO2 em 1970 eram: {paisesmax_antigo}')"
      ],
      "metadata": {
        "colab": {
          "base_uri": "https://localhost:8080/"
        },
        "id": "CP-e2uo8ortn",
        "outputId": "ed7f2946-ba69-4256-c3eb-71021b1be64e"
      },
      "execution_count": 29,
      "outputs": [
        {
          "output_type": "stream",
          "name": "stdout",
          "text": [
            "As 8 entidades com maior emissão de CO2 em 1970 eram: ['United States', 'EU-28', 'Europe (other)', 'Asia and Pacific (other)', 'Russia', 'Germany', 'Americas (other)', 'China']\n"
          ]
        }
      ]
    },
    {
      "cell_type": "code",
      "source": [
        "min5 = di.sort_values(by=['Annual CO₂ emissions (tonnes )']).head(8)\n",
        "paisesmin_antigo = min5['Entity'].to_list()\n",
        "print(f'As 8 entidades com menor emissão de CO2 em 1970 eram: {paisesmin_antigo}')"
      ],
      "metadata": {
        "colab": {
          "base_uri": "https://localhost:8080/"
        },
        "id": "9-a6msKCo8tf",
        "outputId": "108c962f-4486-44b2-b5f9-82f29209ecd6"
      },
      "execution_count": 30,
      "outputs": [
        {
          "output_type": "stream",
          "name": "stdout",
          "text": [
            "As 8 entidades com menor emissão de CO2 em 1970 eram: ['Kyrgysztan', 'Moldova', 'Niue', 'Bhutan', 'Cook Islands', 'Falkland Islands', 'Sao Tome and Principe', 'Montserrat']\n"
          ]
        }
      ]
    },
    {
      "cell_type": "markdown",
      "source": [
        "Nota-se um grande aumento de emissão de carbono pela China num intervalo de tempo assaz curto, o que pode ser verificado no gráfico mais abaixo desta página."
      ],
      "metadata": {
        "id": "YDwWdY4TEGpk"
      }
    },
    {
      "cell_type": "markdown",
      "source": [
        "# Correlação entre Ano e Emissão"
      ],
      "metadata": {
        "id": "Pw3GrNOgINze"
      }
    },
    {
      "cell_type": "code",
      "source": [
        "correlacoes = np.zeros(8)\n",
        "a = 0\n",
        "for i in paisesmax:\n",
        "  du = df[df['Entity']==i]\n",
        "  correlacao = du['Annual CO₂ emissions (tonnes )'].corr(du['Year'])\n",
        "  correlacoes[a] = (correlacao)\n",
        "  a += 1\n",
        "\n",
        "media_c = np.mean(correlacoes)\n",
        "print(media_c)\n"
      ],
      "metadata": {
        "colab": {
          "base_uri": "https://localhost:8080/"
        },
        "id": "XRNOu-VyIOvN",
        "outputId": "cec7d3e4-eded-412f-c559-95636f8f2e45"
      },
      "execution_count": 31,
      "outputs": [
        {
          "output_type": "stream",
          "name": "stdout",
          "text": [
            "0.7257008385482469\n"
          ]
        }
      ]
    },
    {
      "cell_type": "markdown",
      "source": [
        "Identificamos uma forte correlação entre ano e emissão de carbono. Esse dado indica que, para entidades que mais emitem carbono, quanto mais o tempo passou, maior foi a emissão de carbono.\n",
        "\n",
        "Isto está alinhado com a intuição, uma vez que as emissões de carbono em países desenvolvidos têm aumentado cada vez mais desde as revoluções industriais."
      ],
      "metadata": {
        "id": "YD-YDiwazePm"
      }
    },
    {
      "cell_type": "code",
      "source": [
        "correlacoes = np.zeros(8)\n",
        "a = 0\n",
        "for i in paisesmin:\n",
        "  du = df[df['Entity']==i]\n",
        "  correlacao = du['Annual CO₂ emissions (tonnes )'].corr(du['Year'])\n",
        "  correlacoes[a] = (correlacao)\n",
        "  a += 1\n",
        "\n",
        "media_c = np.mean(correlacoes)\n",
        "print(media_c)"
      ],
      "metadata": {
        "colab": {
          "base_uri": "https://localhost:8080/"
        },
        "id": "EY5zrAG8zwl6",
        "outputId": "839e44f5-cd87-403c-e3dd-cd2f24e329f4"
      },
      "execution_count": 32,
      "outputs": [
        {
          "output_type": "stream",
          "name": "stdout",
          "text": [
            "0.5633477220941376\n"
          ]
        }
      ]
    },
    {
      "cell_type": "markdown",
      "source": [
        "Essa correlação é intermediária, o que indica que a evolução industrial nessas entidades não foi relevante o suficiente para que as emissões fossem consideravelmente elevadas com o passar dos anos."
      ],
      "metadata": {
        "id": "kLv9dvJSNfXH"
      }
    },
    {
      "cell_type": "markdown",
      "source": [
        "# Gráficos"
      ],
      "metadata": {
        "id": "4B1GU67Mpuon"
      }
    },
    {
      "cell_type": "code",
      "source": [
        "# Para acompanhar a evolução da emissão de entidades relevantes\n",
        "\n",
        "sns.set_style('darkgrid')\n",
        "sns.set_context('notebook', font_scale=1)\n",
        "paises = ['China', 'United States', 'Brazil', 'India', 'EU-28', 'Middle East']\n",
        "for i in paises:\n",
        "  data = df[df['Entity']==i]\n",
        "  ax = sns.lineplot(x=data['Year'],y=data['Annual CO₂ emissions (tonnes )'])\n",
        "plt.xticks(rotation=0)\n",
        "plt.legend(labels=paises)"
      ],
      "metadata": {
        "colab": {
          "base_uri": "https://localhost:8080/",
          "height": 313
        },
        "id": "1FgjzPjyNpgz",
        "outputId": "cf140c40-119e-4b43-da78-a13be4710e8b"
      },
      "execution_count": 33,
      "outputs": [
        {
          "output_type": "execute_result",
          "data": {
            "text/plain": [
              "<matplotlib.legend.Legend at 0x7f7f8c7366d0>"
            ]
          },
          "metadata": {},
          "execution_count": 33
        },
        {
          "output_type": "display_data",
          "data": {
            "image/png": "[encoded data removed]",
            "text/plain": [
              "<Figure size 432x288 with 1 Axes>"
            ]
          },
          "metadata": {}
        }
      ]
    },
    {
      "cell_type": "markdown",
      "source": [
        "Notamos por meio deste gráfico que a Europa e Estados Unidos têm buscado reduzir suas emissões de carbono nos últimos anos, ao contrário da China, que vêm em constante e acentuado aumento de emissões."
      ],
      "metadata": {
        "id": "Xd5HA6evFdKF"
      }
    },
    {
      "cell_type": "code",
      "source": [
        "# Acompanhar a evolução da emissão no mundo\n",
        "\n",
        "dw = df[df['Entity']=='World']\n",
        "sns.set_style('darkgrid')\n",
        "sns.set_context('notebook', font_scale=1)\n",
        "ax = sns.lineplot(x=dw['Year'],y=dw['Annual CO₂ emissions (tonnes )'])\n",
        "plt.xticks(rotation=0)\n",
        "plt.legend(labels=['World'])"
      ],
      "metadata": {
        "colab": {
          "base_uri": "https://localhost:8080/",
          "height": 313
        },
        "id": "zGNnQcL_YPu0",
        "outputId": "73a6f1ae-2b93-4d8e-c875-5d04a55ba3c2"
      },
      "execution_count": 34,
      "outputs": [
        {
          "output_type": "execute_result",
          "data": {
            "text/plain": [
              "<matplotlib.legend.Legend at 0x7f7f8b3d01d0>"
            ]
          },
          "metadata": {},
          "execution_count": 34
        },
        {
          "output_type": "display_data",
          "data": {
            "image/png": "[encoded data removed]",
            "text/plain": [
              "<Figure size 432x288 with 1 Axes>"
            ]
          },
          "metadata": {}
        }
      ]
    },
    {
      "cell_type": "markdown",
      "source": [
        "# Normalizando e ordenando"
      ],
      "metadata": {
        "id": "87l2b5lLTmbV"
      }
    },
    {
      "cell_type": "markdown",
      "source": [
        "A fim de facilitar a visualização dos dados de emissão, vou normalizá-los:"
      ],
      "metadata": {
        "id": "vQ5xBC5L1Q96"
      }
    },
    {
      "cell_type": "code",
      "source": [
        "df.drop(df[df['Entity'] =='World'].index, inplace = True)\n",
        "df['Annual CO₂ emissions (tonnes )']=(df['Annual CO₂ emissions (tonnes )']-df['Annual CO₂ emissions (tonnes )'].min())/(df['Annual CO₂ emissions (tonnes )'].max()-df['Annual CO₂ emissions (tonnes )'].min())"
      ],
      "metadata": {
        "id": "5nm3t1cDkwyQ"
      },
      "execution_count": 35,
      "outputs": []
    },
    {
      "cell_type": "markdown",
      "source": [
        "Deixando o dataframe ordenado da maior emissão à menor, no ano de 2017"
      ],
      "metadata": {
        "id": "iTWqijk81Y6T"
      }
    },
    {
      "cell_type": "code",
      "source": [
        "di = df[df['Year']==2017]\n",
        "di.sort_values(by='Annual CO₂ emissions (tonnes )', inplace=True, ascending=False)\n",
        "di"
      ],
      "metadata": {
        "colab": {
          "base_uri": "https://localhost:8080/",
          "height": 510
        },
        "id": "Km3mywmR1NGb",
        "outputId": "5a768174-4fcb-45ec-ba6f-4c76fb50f4ee"
      },
      "execution_count": 36,
      "outputs": [
        {
          "output_type": "stream",
          "name": "stderr",
          "text": [
            "/usr/local/lib/python3.7/dist-packages/ipykernel_launcher.py:2: SettingWithCopyWarning: \n",
            "A value is trying to be set on a copy of a slice from a DataFrame\n",
            "\n",
            "See the caveats in the documentation: https://pandas.pydata.org/pandas-docs/stable/user_guide/indexing.html#returning-a-view-versus-a-copy\n",
            "  \n"
          ]
        },
        {
          "output_type": "execute_result",
          "data": {
            "text/html": [
              "\n",
              "  <div id=\"df-3b925f42-2344-412d-a4f1-9904ca978f7a\">\n",
              "    <div class=\"colab-df-container\">\n",
              "      <div>\n",
              "<style scoped>\n",
              "    .dataframe tbody tr th:only-of-type {\n",
              "        vertical-align: middle;\n",
              "    }\n",
              "\n",
              "    .dataframe tbody tr th {\n",
              "        vertical-align: top;\n",
              "    }\n",
              "\n",
              "    .dataframe thead th {\n",
              "        text-align: right;\n",
              "    }\n",
              "</style>\n",
              "<table border=\"1\" class=\"dataframe\">\n",
              "  <thead>\n",
              "    <tr style=\"text-align: right;\">\n",
              "      <th></th>\n",
              "      <th>Entity</th>\n",
              "      <th>Code</th>\n",
              "      <th>Year</th>\n",
              "      <th>Annual CO₂ emissions (tonnes )</th>\n",
              "    </tr>\n",
              "  </thead>\n",
              "  <tbody>\n",
              "    <tr>\n",
              "      <th>4484</th>\n",
              "      <td>China</td>\n",
              "      <td>CHN</td>\n",
              "      <td>2017</td>\n",
              "      <td>1.000000</td>\n",
              "    </tr>\n",
              "    <tr>\n",
              "      <th>19927</th>\n",
              "      <td>United States</td>\n",
              "      <td>USA</td>\n",
              "      <td>2017</td>\n",
              "      <td>0.563350</td>\n",
              "    </tr>\n",
              "    <tr>\n",
              "      <th>1517</th>\n",
              "      <td>Asia and Pacific (other)</td>\n",
              "      <td>Não há</td>\n",
              "      <td>2017</td>\n",
              "      <td>0.544393</td>\n",
              "    </tr>\n",
              "    <tr>\n",
              "      <th>6090</th>\n",
              "      <td>EU-28</td>\n",
              "      <td>Não há</td>\n",
              "      <td>2017</td>\n",
              "      <td>0.398423</td>\n",
              "    </tr>\n",
              "    <tr>\n",
              "      <th>12735</th>\n",
              "      <td>Middle East</td>\n",
              "      <td>Não há</td>\n",
              "      <td>2017</td>\n",
              "      <td>0.315116</td>\n",
              "    </tr>\n",
              "    <tr>\n",
              "      <th>...</th>\n",
              "      <td>...</td>\n",
              "      <td>...</td>\n",
              "      <td>...</td>\n",
              "      <td>...</td>\n",
              "    </tr>\n",
              "    <tr>\n",
              "      <th>12977</th>\n",
              "      <td>Montserrat</td>\n",
              "      <td>MSR</td>\n",
              "      <td>2017</td>\n",
              "      <td>0.059782</td>\n",
              "    </tr>\n",
              "    <tr>\n",
              "      <th>20352</th>\n",
              "      <td>Wallis and Futuna Islands</td>\n",
              "      <td>Não há</td>\n",
              "      <td>2017</td>\n",
              "      <td>0.059779</td>\n",
              "    </tr>\n",
              "    <tr>\n",
              "      <th>14064</th>\n",
              "      <td>Niue</td>\n",
              "      <td>NIU</td>\n",
              "      <td>2017</td>\n",
              "      <td>0.059778</td>\n",
              "    </tr>\n",
              "    <tr>\n",
              "      <th>19207</th>\n",
              "      <td>Tuvalu</td>\n",
              "      <td>TUV</td>\n",
              "      <td>2017</td>\n",
              "      <td>0.059778</td>\n",
              "    </tr>\n",
              "    <tr>\n",
              "      <th>15791</th>\n",
              "      <td>Saint Helena</td>\n",
              "      <td>SHN</td>\n",
              "      <td>2017</td>\n",
              "      <td>0.059778</td>\n",
              "    </tr>\n",
              "  </tbody>\n",
              "</table>\n",
              "<p>221 rows × 4 columns</p>\n",
              "</div>\n",
              "      <button class=\"colab-df-convert\" onclick=\"convertToInteractive('df-3b925f42-2344-412d-a4f1-9904ca978f7a')\"\n",
              "              title=\"Convert this dataframe to an interactive table.\"\n",
              "              style=\"display:none;\">\n",
              "        \n",
              "  <svg xmlns=\"http://www.w3.org/2000/svg\" height=\"24px\"viewBox=\"0 0 24 24\"\n",
              "       width=\"24px\">\n",
              "    <path d=\"M0 0h24v24H0V0z\" fill=\"none\"/>\n",
              "    <path d=\"M18.56 5.44l.94 2.06.94-2.06 2.06-.94-2.06-.94-.94-2.06-.94 2.06-2.06.94zm-11 1L8.5 8.5l.94-2.06 2.06-.94-2.06-.94L8.5 2.5l-.94 2.06-2.06.94zm10 10l.94 2.06.94-2.06 2.06-.94-2.06-.94-.94-2.06-.94 2.06-2.06.94z\"/><path d=\"M17.41 7.96l-1.37-1.37c-.4-.4-.92-.59-1.43-.59-.52 0-1.04.2-1.43.59L10.3 9.45l-7.72 7.72c-.78.78-.78 2.05 0 2.83L4 21.41c.39.39.9.59 1.41.59.51 0 1.02-.2 1.41-.59l7.78-7.78 2.81-2.81c.8-.78.8-2.07 0-2.86zM5.41 20L4 18.59l7.72-7.72 1.47 1.35L5.41 20z\"/>\n",
              "  </svg>\n",
              "      </button>\n",
              "      \n",
              "  <style>\n",
              "    .colab-df-container {\n",
              "      display:flex;\n",
              "      flex-wrap:wrap;\n",
              "      gap: 12px;\n",
              "    }\n",
              "\n",
              "    .colab-df-convert {\n",
              "      background-color: #E8F0FE;\n",
              "      border: none;\n",
              "      border-radius: 50%;\n",
              "      cursor: pointer;\n",
              "      display: none;\n",
              "      fill: #1967D2;\n",
              "      height: 32px;\n",
              "      padding: 0 0 0 0;\n",
              "      width: 32px;\n",
              "    }\n",
              "\n",
              "    .colab-df-convert:hover {\n",
              "      background-color: #E2EBFA;\n",
              "      box-shadow: 0px 1px 2px rgba(60, 64, 67, 0.3), 0px 1px 3px 1px rgba(60, 64, 67, 0.15);\n",
              "      fill: #174EA6;\n",
              "    }\n",
              "\n",
              "    [theme=dark] .colab-df-convert {\n",
              "      background-color: #3B4455;\n",
              "      fill: #D2E3FC;\n",
              "    }\n",
              "\n",
              "    [theme=dark] .colab-df-convert:hover {\n",
              "      background-color: #434B5C;\n",
              "      box-shadow: 0px 1px 3px 1px rgba(0, 0, 0, 0.15);\n",
              "      filter: drop-shadow(0px 1px 2px rgba(0, 0, 0, 0.3));\n",
              "      fill: #FFFFFF;\n",
              "    }\n",
              "  </style>\n",
              "\n",
              "      <script>\n",
              "        const buttonEl =\n",
              "          document.querySelector('#df-3b925f42-2344-412d-a4f1-9904ca978f7a button.colab-df-convert');\n",
              "        buttonEl.style.display =\n",
              "          google.colab.kernel.accessAllowed ? 'block' : 'none';\n",
              "\n",
              "        async function convertToInteractive(key) {\n",
              "          const element = document.querySelector('#df-3b925f42-2344-412d-a4f1-9904ca978f7a');\n",
              "          const dataTable =\n",
              "            await google.colab.kernel.invokeFunction('convertToInteractive',\n",
              "                                                     [key], {});\n",
              "          if (!dataTable) return;\n",
              "\n",
              "          const docLinkHtml = 'Like what you see? Visit the ' +\n",
              "            '<a target=\"_blank\" href=https://colab.research.google.com/notebooks/data_table.ipynb>data table notebook</a>'\n",
              "            + ' to learn more about interactive tables.';\n",
              "          element.innerHTML = '';\n",
              "          dataTable['output_type'] = 'display_data';\n",
              "          await google.colab.output.renderOutput(dataTable, element);\n",
              "          const docLink = document.createElement('div');\n",
              "          docLink.innerHTML = docLinkHtml;\n",
              "          element.appendChild(docLink);\n",
              "        }\n",
              "      </script>\n",
              "    </div>\n",
              "  </div>\n",
              "  "
            ],
            "text/plain": [
              "                          Entity    Code  Year  Annual CO₂ emissions (tonnes )\n",
              "4484                       China     CHN  2017                        1.000000\n",
              "19927              United States     USA  2017                        0.563350\n",
              "1517    Asia and Pacific (other)  Não há  2017                        0.544393\n",
              "6090                       EU-28  Não há  2017                        0.398423\n",
              "12735                Middle East  Não há  2017                        0.315116\n",
              "...                          ...     ...   ...                             ...\n",
              "12977                 Montserrat     MSR  2017                        0.059782\n",
              "20352  Wallis and Futuna Islands  Não há  2017                        0.059779\n",
              "14064                       Niue     NIU  2017                        0.059778\n",
              "19207                     Tuvalu     TUV  2017                        0.059778\n",
              "15791               Saint Helena     SHN  2017                        0.059778\n",
              "\n",
              "[221 rows x 4 columns]"
            ]
          },
          "metadata": {},
          "execution_count": 36
        }
      ]
    }
  ]
}