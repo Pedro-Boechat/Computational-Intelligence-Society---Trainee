{
  "nbformat": 4,
  "nbformat_minor": 0,
  "metadata": {
    "colab": {
      "name": "periodo3knn_multiclasse.ipynb",
      "provenance": [],
      "collapsed_sections": [
        "jlJtTd3Qecxd"
      ],
      "authorship_tag": "ABX9TyOll2Nvd/qA+b1/55EhrDeo",
      "include_colab_link": true
    },
    "kernelspec": {
      "name": "python3",
      "display_name": "Python 3"
    },
    "language_info": {
      "name": "python"
    }
  },
  "cells": [
    {
      "cell_type": "markdown",
      "metadata": {
        "id": "view-in-github",
        "colab_type": "text"
      },
      "source": [
        "<a href=\"https://colab.research.google.com/github/Pedro-Boechat/trainee/blob/main/periodo3knn_multiclasse.ipynb\" target=\"_parent\"><img src=\"https://colab.research.google.com/assets/colab-badge.svg\" alt=\"Open In Colab\"/></a>"
      ]
    },
    {
      "cell_type": "code",
      "execution_count": null,
      "metadata": {
        "id": "ovfMkx-2A1tp"
      },
      "outputs": [],
      "source": [
        "import pandas as pd\n",
        "import numpy as np\n",
        "import matplotlib.pyplot as plt\n",
        "import seaborn as sns\n",
        "import sklearn\n",
        "from sklearn.decomposition import PCA"
      ]
    },
    {
      "cell_type": "markdown",
      "source": [
        "# Multiclasse"
      ],
      "metadata": {
        "id": "ejQR1RV99vmz"
      }
    },
    {
      "cell_type": "code",
      "source": [
        "df = pd.read_csv('/content/winequality.csv')"
      ],
      "metadata": {
        "id": "NScRg3I6Dx1z"
      },
      "execution_count": null,
      "outputs": []
    },
    {
      "cell_type": "code",
      "source": [
        "df.tail()"
      ],
      "metadata": {
        "colab": {
          "base_uri": "https://localhost:8080/",
          "height": 267
        },
        "id": "rdW6kMv5EDnr",
        "outputId": "21817427-cb6f-4c7c-ce90-f83a4c6aa250"
      },
      "execution_count": null,
      "outputs": [
        {
          "output_type": "execute_result",
          "data": {
            "text/html": [
              "\n",
              "  <div id=\"df-aae3b79a-5ad9-4770-b9b9-3abd3cbf0974\">\n",
              "    <div class=\"colab-df-container\">\n",
              "      <div>\n",
              "<style scoped>\n",
              "    .dataframe tbody tr th:only-of-type {\n",
              "        vertical-align: middle;\n",
              "    }\n",
              "\n",
              "    .dataframe tbody tr th {\n",
              "        vertical-align: top;\n",
              "    }\n",
              "\n",
              "    .dataframe thead th {\n",
              "        text-align: right;\n",
              "    }\n",
              "</style>\n",
              "<table border=\"1\" class=\"dataframe\">\n",
              "  <thead>\n",
              "    <tr style=\"text-align: right;\">\n",
              "      <th></th>\n",
              "      <th>Unnamed: 0</th>\n",
              "      <th>fixed acidity</th>\n",
              "      <th>volatile acidity</th>\n",
              "      <th>citric acid</th>\n",
              "      <th>residual sugar</th>\n",
              "      <th>chlorides</th>\n",
              "      <th>free sulfur dioxide</th>\n",
              "      <th>total sulfur dioxide</th>\n",
              "      <th>density</th>\n",
              "      <th>pH</th>\n",
              "      <th>sulphates</th>\n",
              "      <th>alcohol</th>\n",
              "      <th>quality</th>\n",
              "      <th>wine_is_red</th>\n",
              "    </tr>\n",
              "  </thead>\n",
              "  <tbody>\n",
              "    <tr>\n",
              "      <th>6492</th>\n",
              "      <td>6492</td>\n",
              "      <td>7.7</td>\n",
              "      <td>0.32</td>\n",
              "      <td>0.62</td>\n",
              "      <td>10.6</td>\n",
              "      <td>0.036</td>\n",
              "      <td>56.0</td>\n",
              "      <td>153.0</td>\n",
              "      <td>0.99780</td>\n",
              "      <td>3.13</td>\n",
              "      <td>0.44</td>\n",
              "      <td>8.9</td>\n",
              "      <td>6</td>\n",
              "      <td>0</td>\n",
              "    </tr>\n",
              "    <tr>\n",
              "      <th>6493</th>\n",
              "      <td>6493</td>\n",
              "      <td>6.2</td>\n",
              "      <td>0.22</td>\n",
              "      <td>0.28</td>\n",
              "      <td>2.2</td>\n",
              "      <td>0.040</td>\n",
              "      <td>24.0</td>\n",
              "      <td>125.0</td>\n",
              "      <td>0.99170</td>\n",
              "      <td>3.19</td>\n",
              "      <td>0.48</td>\n",
              "      <td>10.5</td>\n",
              "      <td>6</td>\n",
              "      <td>0</td>\n",
              "    </tr>\n",
              "    <tr>\n",
              "      <th>6494</th>\n",
              "      <td>6494</td>\n",
              "      <td>7.9</td>\n",
              "      <td>0.33</td>\n",
              "      <td>0.28</td>\n",
              "      <td>31.6</td>\n",
              "      <td>0.053</td>\n",
              "      <td>35.0</td>\n",
              "      <td>176.0</td>\n",
              "      <td>1.01030</td>\n",
              "      <td>3.15</td>\n",
              "      <td>0.38</td>\n",
              "      <td>8.8</td>\n",
              "      <td>6</td>\n",
              "      <td>0</td>\n",
              "    </tr>\n",
              "    <tr>\n",
              "      <th>6495</th>\n",
              "      <td>6495</td>\n",
              "      <td>7.0</td>\n",
              "      <td>0.30</td>\n",
              "      <td>0.28</td>\n",
              "      <td>2.2</td>\n",
              "      <td>0.042</td>\n",
              "      <td>21.0</td>\n",
              "      <td>177.0</td>\n",
              "      <td>0.99166</td>\n",
              "      <td>3.20</td>\n",
              "      <td>0.57</td>\n",
              "      <td>11.4</td>\n",
              "      <td>5</td>\n",
              "      <td>0</td>\n",
              "    </tr>\n",
              "    <tr>\n",
              "      <th>6496</th>\n",
              "      <td>6496</td>\n",
              "      <td>6.4</td>\n",
              "      <td>0.22</td>\n",
              "      <td>0.49</td>\n",
              "      <td>7.5</td>\n",
              "      <td>0.054</td>\n",
              "      <td>42.0</td>\n",
              "      <td>151.0</td>\n",
              "      <td>0.99480</td>\n",
              "      <td>3.27</td>\n",
              "      <td>0.52</td>\n",
              "      <td>10.1</td>\n",
              "      <td>6</td>\n",
              "      <td>0</td>\n",
              "    </tr>\n",
              "  </tbody>\n",
              "</table>\n",
              "</div>\n",
              "      <button class=\"colab-df-convert\" onclick=\"convertToInteractive('df-aae3b79a-5ad9-4770-b9b9-3abd3cbf0974')\"\n",
              "              title=\"Convert this dataframe to an interactive table.\"\n",
              "              style=\"display:none;\">\n",
              "        \n",
              "  <svg xmlns=\"http://www.w3.org/2000/svg\" height=\"24px\"viewBox=\"0 0 24 24\"\n",
              "       width=\"24px\">\n",
              "    <path d=\"M0 0h24v24H0V0z\" fill=\"none\"/>\n",
              "    <path d=\"M18.56 5.44l.94 2.06.94-2.06 2.06-.94-2.06-.94-.94-2.06-.94 2.06-2.06.94zm-11 1L8.5 8.5l.94-2.06 2.06-.94-2.06-.94L8.5 2.5l-.94 2.06-2.06.94zm10 10l.94 2.06.94-2.06 2.06-.94-2.06-.94-.94-2.06-.94 2.06-2.06.94z\"/><path d=\"M17.41 7.96l-1.37-1.37c-.4-.4-.92-.59-1.43-.59-.52 0-1.04.2-1.43.59L10.3 9.45l-7.72 7.72c-.78.78-.78 2.05 0 2.83L4 21.41c.39.39.9.59 1.41.59.51 0 1.02-.2 1.41-.59l7.78-7.78 2.81-2.81c.8-.78.8-2.07 0-2.86zM5.41 20L4 18.59l7.72-7.72 1.47 1.35L5.41 20z\"/>\n",
              "  </svg>\n",
              "      </button>\n",
              "      \n",
              "  <style>\n",
              "    .colab-df-container {\n",
              "      display:flex;\n",
              "      flex-wrap:wrap;\n",
              "      gap: 12px;\n",
              "    }\n",
              "\n",
              "    .colab-df-convert {\n",
              "      background-color: #E8F0FE;\n",
              "      border: none;\n",
              "      border-radius: 50%;\n",
              "      cursor: pointer;\n",
              "      display: none;\n",
              "      fill: #1967D2;\n",
              "      height: 32px;\n",
              "      padding: 0 0 0 0;\n",
              "      width: 32px;\n",
              "    }\n",
              "\n",
              "    .colab-df-convert:hover {\n",
              "      background-color: #E2EBFA;\n",
              "      box-shadow: 0px 1px 2px rgba(60, 64, 67, 0.3), 0px 1px 3px 1px rgba(60, 64, 67, 0.15);\n",
              "      fill: #174EA6;\n",
              "    }\n",
              "\n",
              "    [theme=dark] .colab-df-convert {\n",
              "      background-color: #3B4455;\n",
              "      fill: #D2E3FC;\n",
              "    }\n",
              "\n",
              "    [theme=dark] .colab-df-convert:hover {\n",
              "      background-color: #434B5C;\n",
              "      box-shadow: 0px 1px 3px 1px rgba(0, 0, 0, 0.15);\n",
              "      filter: drop-shadow(0px 1px 2px rgba(0, 0, 0, 0.3));\n",
              "      fill: #FFFFFF;\n",
              "    }\n",
              "  </style>\n",
              "\n",
              "      <script>\n",
              "        const buttonEl =\n",
              "          document.querySelector('#df-aae3b79a-5ad9-4770-b9b9-3abd3cbf0974 button.colab-df-convert');\n",
              "        buttonEl.style.display =\n",
              "          google.colab.kernel.accessAllowed ? 'block' : 'none';\n",
              "\n",
              "        async function convertToInteractive(key) {\n",
              "          const element = document.querySelector('#df-aae3b79a-5ad9-4770-b9b9-3abd3cbf0974');\n",
              "          const dataTable =\n",
              "            await google.colab.kernel.invokeFunction('convertToInteractive',\n",
              "                                                     [key], {});\n",
              "          if (!dataTable) return;\n",
              "\n",
              "          const docLinkHtml = 'Like what you see? Visit the ' +\n",
              "            '<a target=\"_blank\" href=https://colab.research.google.com/notebooks/data_table.ipynb>data table notebook</a>'\n",
              "            + ' to learn more about interactive tables.';\n",
              "          element.innerHTML = '';\n",
              "          dataTable['output_type'] = 'display_data';\n",
              "          await google.colab.output.renderOutput(dataTable, element);\n",
              "          const docLink = document.createElement('div');\n",
              "          docLink.innerHTML = docLinkHtml;\n",
              "          element.appendChild(docLink);\n",
              "        }\n",
              "      </script>\n",
              "    </div>\n",
              "  </div>\n",
              "  "
            ],
            "text/plain": [
              "      Unnamed: 0  fixed acidity  ...  quality  wine_is_red\n",
              "6492        6492            7.7  ...        6            0\n",
              "6493        6493            6.2  ...        6            0\n",
              "6494        6494            7.9  ...        6            0\n",
              "6495        6495            7.0  ...        5            0\n",
              "6496        6496            6.4  ...        6            0\n",
              "\n",
              "[5 rows x 14 columns]"
            ]
          },
          "metadata": {},
          "execution_count": 43
        }
      ]
    },
    {
      "cell_type": "code",
      "source": [
        "df.isna().sum()"
      ],
      "metadata": {
        "id": "uDQVNrqED3Er",
        "colab": {
          "base_uri": "https://localhost:8080/"
        },
        "outputId": "003e8ada-512c-4c64-ff72-50a68473de42"
      },
      "execution_count": null,
      "outputs": [
        {
          "output_type": "execute_result",
          "data": {
            "text/plain": [
              "Unnamed: 0              0\n",
              "fixed acidity           0\n",
              "volatile acidity        0\n",
              "citric acid             0\n",
              "residual sugar          0\n",
              "chlorides               0\n",
              "free sulfur dioxide     0\n",
              "total sulfur dioxide    0\n",
              "density                 0\n",
              "pH                      0\n",
              "sulphates               0\n",
              "alcohol                 0\n",
              "quality                 0\n",
              "wine_is_red             0\n",
              "dtype: int64"
            ]
          },
          "metadata": {},
          "execution_count": 44
        }
      ]
    },
    {
      "cell_type": "code",
      "source": [
        "df = df.drop(columns='Unnamed: 0')"
      ],
      "metadata": {
        "id": "pBnjhKngElaz"
      },
      "execution_count": null,
      "outputs": []
    },
    {
      "cell_type": "code",
      "source": [
        "colunas = df.columns"
      ],
      "metadata": {
        "id": "xRVWGRSiXmxx"
      },
      "execution_count": null,
      "outputs": []
    },
    {
      "cell_type": "markdown",
      "source": [
        "## Normalizar"
      ],
      "metadata": {
        "id": "eOlx4MSfEhX7"
      }
    },
    {
      "cell_type": "code",
      "source": [
        "for i in df.columns.drop('quality'):\n",
        "  df[i] = (df[i] - df[i].min()) / (df[i].max() - df[i].min())"
      ],
      "metadata": {
        "id": "c-WByjVLEH26"
      },
      "execution_count": null,
      "outputs": []
    },
    {
      "cell_type": "code",
      "source": [
        "df.head()"
      ],
      "metadata": {
        "colab": {
          "base_uri": "https://localhost:8080/",
          "height": 267
        },
        "id": "zern-3TSXing",
        "outputId": "0446e2ce-ccf2-49e9-b873-ed43474b4d7e"
      },
      "execution_count": null,
      "outputs": [
        {
          "output_type": "execute_result",
          "data": {
            "text/html": [
              "\n",
              "  <div id=\"df-4e759f18-a286-4448-886b-2c0bb85b6ae2\">\n",
              "    <div class=\"colab-df-container\">\n",
              "      <div>\n",
              "<style scoped>\n",
              "    .dataframe tbody tr th:only-of-type {\n",
              "        vertical-align: middle;\n",
              "    }\n",
              "\n",
              "    .dataframe tbody tr th {\n",
              "        vertical-align: top;\n",
              "    }\n",
              "\n",
              "    .dataframe thead th {\n",
              "        text-align: right;\n",
              "    }\n",
              "</style>\n",
              "<table border=\"1\" class=\"dataframe\">\n",
              "  <thead>\n",
              "    <tr style=\"text-align: right;\">\n",
              "      <th></th>\n",
              "      <th>fixed acidity</th>\n",
              "      <th>volatile acidity</th>\n",
              "      <th>citric acid</th>\n",
              "      <th>residual sugar</th>\n",
              "      <th>chlorides</th>\n",
              "      <th>free sulfur dioxide</th>\n",
              "      <th>total sulfur dioxide</th>\n",
              "      <th>density</th>\n",
              "      <th>pH</th>\n",
              "      <th>sulphates</th>\n",
              "      <th>alcohol</th>\n",
              "      <th>quality</th>\n",
              "      <th>wine_is_red</th>\n",
              "    </tr>\n",
              "  </thead>\n",
              "  <tbody>\n",
              "    <tr>\n",
              "      <th>0</th>\n",
              "      <td>0.173554</td>\n",
              "      <td>0.353333</td>\n",
              "      <td>0.048193</td>\n",
              "      <td>0.023006</td>\n",
              "      <td>0.102990</td>\n",
              "      <td>0.052083</td>\n",
              "      <td>0.041475</td>\n",
              "      <td>0.128205</td>\n",
              "      <td>0.651163</td>\n",
              "      <td>0.308989</td>\n",
              "      <td>0.449275</td>\n",
              "      <td>6</td>\n",
              "      <td>1.0</td>\n",
              "    </tr>\n",
              "    <tr>\n",
              "      <th>1</th>\n",
              "      <td>0.363636</td>\n",
              "      <td>0.613333</td>\n",
              "      <td>0.054217</td>\n",
              "      <td>0.026074</td>\n",
              "      <td>0.093023</td>\n",
              "      <td>0.020833</td>\n",
              "      <td>0.071429</td>\n",
              "      <td>0.187777</td>\n",
              "      <td>0.465116</td>\n",
              "      <td>0.185393</td>\n",
              "      <td>0.144928</td>\n",
              "      <td>6</td>\n",
              "      <td>1.0</td>\n",
              "    </tr>\n",
              "    <tr>\n",
              "      <th>2</th>\n",
              "      <td>0.214876</td>\n",
              "      <td>0.106667</td>\n",
              "      <td>0.295181</td>\n",
              "      <td>0.079755</td>\n",
              "      <td>0.073090</td>\n",
              "      <td>0.083333</td>\n",
              "      <td>0.262673</td>\n",
              "      <td>0.136688</td>\n",
              "      <td>0.224806</td>\n",
              "      <td>0.426966</td>\n",
              "      <td>0.362319</td>\n",
              "      <td>6</td>\n",
              "      <td>0.0</td>\n",
              "    </tr>\n",
              "    <tr>\n",
              "      <th>3</th>\n",
              "      <td>0.231405</td>\n",
              "      <td>0.100000</td>\n",
              "      <td>0.156627</td>\n",
              "      <td>0.010736</td>\n",
              "      <td>0.059801</td>\n",
              "      <td>0.052083</td>\n",
              "      <td>0.281106</td>\n",
              "      <td>0.121265</td>\n",
              "      <td>0.496124</td>\n",
              "      <td>0.213483</td>\n",
              "      <td>0.289855</td>\n",
              "      <td>6</td>\n",
              "      <td>0.0</td>\n",
              "    </tr>\n",
              "    <tr>\n",
              "      <th>4</th>\n",
              "      <td>0.280992</td>\n",
              "      <td>0.106667</td>\n",
              "      <td>0.174699</td>\n",
              "      <td>0.036810</td>\n",
              "      <td>0.044850</td>\n",
              "      <td>0.055556</td>\n",
              "      <td>0.255760</td>\n",
              "      <td>0.134953</td>\n",
              "      <td>0.496124</td>\n",
              "      <td>0.258427</td>\n",
              "      <td>0.304348</td>\n",
              "      <td>6</td>\n",
              "      <td>0.0</td>\n",
              "    </tr>\n",
              "  </tbody>\n",
              "</table>\n",
              "</div>\n",
              "      <button class=\"colab-df-convert\" onclick=\"convertToInteractive('df-4e759f18-a286-4448-886b-2c0bb85b6ae2')\"\n",
              "              title=\"Convert this dataframe to an interactive table.\"\n",
              "              style=\"display:none;\">\n",
              "        \n",
              "  <svg xmlns=\"http://www.w3.org/2000/svg\" height=\"24px\"viewBox=\"0 0 24 24\"\n",
              "       width=\"24px\">\n",
              "    <path d=\"M0 0h24v24H0V0z\" fill=\"none\"/>\n",
              "    <path d=\"M18.56 5.44l.94 2.06.94-2.06 2.06-.94-2.06-.94-.94-2.06-.94 2.06-2.06.94zm-11 1L8.5 8.5l.94-2.06 2.06-.94-2.06-.94L8.5 2.5l-.94 2.06-2.06.94zm10 10l.94 2.06.94-2.06 2.06-.94-2.06-.94-.94-2.06-.94 2.06-2.06.94z\"/><path d=\"M17.41 7.96l-1.37-1.37c-.4-.4-.92-.59-1.43-.59-.52 0-1.04.2-1.43.59L10.3 9.45l-7.72 7.72c-.78.78-.78 2.05 0 2.83L4 21.41c.39.39.9.59 1.41.59.51 0 1.02-.2 1.41-.59l7.78-7.78 2.81-2.81c.8-.78.8-2.07 0-2.86zM5.41 20L4 18.59l7.72-7.72 1.47 1.35L5.41 20z\"/>\n",
              "  </svg>\n",
              "      </button>\n",
              "      \n",
              "  <style>\n",
              "    .colab-df-container {\n",
              "      display:flex;\n",
              "      flex-wrap:wrap;\n",
              "      gap: 12px;\n",
              "    }\n",
              "\n",
              "    .colab-df-convert {\n",
              "      background-color: #E8F0FE;\n",
              "      border: none;\n",
              "      border-radius: 50%;\n",
              "      cursor: pointer;\n",
              "      display: none;\n",
              "      fill: #1967D2;\n",
              "      height: 32px;\n",
              "      padding: 0 0 0 0;\n",
              "      width: 32px;\n",
              "    }\n",
              "\n",
              "    .colab-df-convert:hover {\n",
              "      background-color: #E2EBFA;\n",
              "      box-shadow: 0px 1px 2px rgba(60, 64, 67, 0.3), 0px 1px 3px 1px rgba(60, 64, 67, 0.15);\n",
              "      fill: #174EA6;\n",
              "    }\n",
              "\n",
              "    [theme=dark] .colab-df-convert {\n",
              "      background-color: #3B4455;\n",
              "      fill: #D2E3FC;\n",
              "    }\n",
              "\n",
              "    [theme=dark] .colab-df-convert:hover {\n",
              "      background-color: #434B5C;\n",
              "      box-shadow: 0px 1px 3px 1px rgba(0, 0, 0, 0.15);\n",
              "      filter: drop-shadow(0px 1px 2px rgba(0, 0, 0, 0.3));\n",
              "      fill: #FFFFFF;\n",
              "    }\n",
              "  </style>\n",
              "\n",
              "      <script>\n",
              "        const buttonEl =\n",
              "          document.querySelector('#df-4e759f18-a286-4448-886b-2c0bb85b6ae2 button.colab-df-convert');\n",
              "        buttonEl.style.display =\n",
              "          google.colab.kernel.accessAllowed ? 'block' : 'none';\n",
              "\n",
              "        async function convertToInteractive(key) {\n",
              "          const element = document.querySelector('#df-4e759f18-a286-4448-886b-2c0bb85b6ae2');\n",
              "          const dataTable =\n",
              "            await google.colab.kernel.invokeFunction('convertToInteractive',\n",
              "                                                     [key], {});\n",
              "          if (!dataTable) return;\n",
              "\n",
              "          const docLinkHtml = 'Like what you see? Visit the ' +\n",
              "            '<a target=\"_blank\" href=https://colab.research.google.com/notebooks/data_table.ipynb>data table notebook</a>'\n",
              "            + ' to learn more about interactive tables.';\n",
              "          element.innerHTML = '';\n",
              "          dataTable['output_type'] = 'display_data';\n",
              "          await google.colab.output.renderOutput(dataTable, element);\n",
              "          const docLink = document.createElement('div');\n",
              "          docLink.innerHTML = docLinkHtml;\n",
              "          element.appendChild(docLink);\n",
              "        }\n",
              "      </script>\n",
              "    </div>\n",
              "  </div>\n",
              "  "
            ],
            "text/plain": [
              "   fixed acidity  volatile acidity  citric acid  ...   alcohol  quality  wine_is_red\n",
              "0       0.173554          0.353333     0.048193  ...  0.449275        6          1.0\n",
              "1       0.363636          0.613333     0.054217  ...  0.144928        6          1.0\n",
              "2       0.214876          0.106667     0.295181  ...  0.362319        6          0.0\n",
              "3       0.231405          0.100000     0.156627  ...  0.289855        6          0.0\n",
              "4       0.280992          0.106667     0.174699  ...  0.304348        6          0.0\n",
              "\n",
              "[5 rows x 13 columns]"
            ]
          },
          "metadata": {},
          "execution_count": 48
        }
      ]
    },
    {
      "cell_type": "markdown",
      "source": [
        "## Verificar balanceamento"
      ],
      "metadata": {
        "id": "P_OcpY8vGzfj"
      }
    },
    {
      "cell_type": "code",
      "source": [
        "df['quality'].value_counts()\n",
        "# Desbalanceado. Verificar"
      ],
      "metadata": {
        "colab": {
          "base_uri": "https://localhost:8080/"
        },
        "id": "6t9oIFiuFiwq",
        "outputId": "b059018f-ca6d-422a-bd28-2ff90ad0aa54"
      },
      "execution_count": null,
      "outputs": [
        {
          "output_type": "execute_result",
          "data": {
            "text/plain": [
              "6    2836\n",
              "5    2138\n",
              "7    1079\n",
              "4     216\n",
              "8     193\n",
              "3      30\n",
              "9       5\n",
              "Name: quality, dtype: int64"
            ]
          },
          "metadata": {},
          "execution_count": 49
        }
      ]
    },
    {
      "cell_type": "code",
      "source": [
        "from sklearn.utils import resample"
      ],
      "metadata": {
        "id": "xi6UGK3QqYPp"
      },
      "execution_count": null,
      "outputs": []
    },
    {
      "cell_type": "code",
      "source": [
        "# Separando as qualidades\n",
        "df_6 = df[df['quality']==6]\n",
        "df_4 = df[df['quality']==4]\n",
        "df_5 = df[df['quality']==5]\n",
        "df_7 = df[df['quality']==7]\n",
        "df_8 = df[df['quality']==8]\n",
        "df_3 = df[df['quality']==3]\n",
        "df_9 = df[df['quality']==9]\n",
        "# Resampling\n",
        "df_6_corrigido = resample(df_6, \n",
        "                                 replace=False,    \n",
        "                                 n_samples=216)\n",
        "df_4_corrigido = resample(df_4, \n",
        "                                 replace=True,    \n",
        "                                 n_samples=216)\n",
        "df_5_corrigido = resample(df_5, \n",
        "                                 replace=False,    \n",
        "                                 n_samples=216)\n",
        "df_7_corrigido = resample(df_7, \n",
        "                                 replace=False,    \n",
        "                                 n_samples=216)\n",
        "df_8_corrigido = resample(df_8, \n",
        "                                 replace=True,    \n",
        "                                 n_samples=216)\n",
        "df_3_corrigido = resample(df_3, \n",
        "                                 replace=True,    \n",
        "                                 n_samples=216)\n",
        "df_9_corrigido = resample(df_9, \n",
        "                                 replace=True,    \n",
        "                                 n_samples=216)\n",
        "# Combinando as qualidades resampled\n",
        "#df = pd.concat([df_6_corrigido,df_8_corrigido,df_4_corrigido,df_5_corrigido,df_7_corrigido])"
      ],
      "metadata": {
        "id": "UJX5DRdXGBU-"
      },
      "execution_count": null,
      "outputs": []
    },
    {
      "cell_type": "code",
      "source": [
        "df['quality'].value_counts()"
      ],
      "metadata": {
        "colab": {
          "base_uri": "https://localhost:8080/"
        },
        "id": "2DHWv_v6ridf",
        "outputId": "c9915cc9-5871-4598-c96a-6adff8ffe15c"
      },
      "execution_count": null,
      "outputs": [
        {
          "output_type": "execute_result",
          "data": {
            "text/plain": [
              "6    2836\n",
              "5    2138\n",
              "7    1079\n",
              "4     216\n",
              "8     193\n",
              "3      30\n",
              "9       5\n",
              "Name: quality, dtype: int64"
            ]
          },
          "metadata": {},
          "execution_count": 52
        }
      ]
    },
    {
      "cell_type": "markdown",
      "source": [
        "## Implementando KNN"
      ],
      "metadata": {
        "id": "BtQIQFFkG4lJ"
      }
    },
    {
      "cell_type": "code",
      "source": [
        "from sklearn.model_selection import train_test_split\n",
        "\n",
        "X = df[colunas.drop('quality')]\n"
      ],
      "metadata": {
        "id": "PWtRwmzuFzC6"
      },
      "execution_count": null,
      "outputs": []
    },
    {
      "cell_type": "markdown",
      "source": [
        "PCA não influenciou na precisão, então decidi removê-lo do código"
      ],
      "metadata": {
        "id": "8g9rZMbu3CE2"
      }
    },
    {
      "cell_type": "code",
      "source": [
        "#pca = PCA(.95)"
      ],
      "metadata": {
        "id": "qNZOx7SeeF5u"
      },
      "execution_count": null,
      "outputs": []
    },
    {
      "cell_type": "code",
      "source": [
        "#pca.fit(X)"
      ],
      "metadata": {
        "id": "RqTbwOEeeJbd"
      },
      "execution_count": null,
      "outputs": []
    },
    {
      "cell_type": "code",
      "source": [
        "#pca.n_components_"
      ],
      "metadata": {
        "id": "7ayBakKCeMWN"
      },
      "execution_count": null,
      "outputs": []
    },
    {
      "cell_type": "code",
      "source": [
        "#X = pca.transform(X)"
      ],
      "metadata": {
        "id": "aIFfOq-9eQxV"
      },
      "execution_count": null,
      "outputs": []
    },
    {
      "cell_type": "code",
      "source": [
        "Y = df['quality']\n",
        "X_train, X_test, y_train, y_test = train_test_split(X,Y, test_size=0.2)"
      ],
      "metadata": {
        "id": "_NHmUkZbeU-1"
      },
      "execution_count": null,
      "outputs": []
    },
    {
      "cell_type": "markdown",
      "source": [
        "## Train"
      ],
      "metadata": {
        "id": "EquJaDOMeg0W"
      }
    },
    {
      "cell_type": "code",
      "source": [
        "X_test = np.array(X_test)\n",
        "X_train = np.array(X_train)\n",
        "y_train = np.array(y_train)\n",
        "y_test = np.array(y_test)"
      ],
      "metadata": {
        "id": "VmZRtzvaZYLi"
      },
      "execution_count": null,
      "outputs": []
    },
    {
      "cell_type": "code",
      "source": [
        "distancias = [np.sqrt(np.sum(np.square((x_test - X_train)), axis=1)) for x_test in X_test]"
      ],
      "metadata": {
        "id": "fsEotdbum_mD"
      },
      "execution_count": null,
      "outputs": []
    },
    {
      "cell_type": "code",
      "source": [
        "from scipy import stats\n",
        "\n",
        "pred = np.array([])\n",
        "k = 3\n",
        "tam = len(distancias)\n",
        "for i in range(tam):\n",
        "  while True:\n",
        "\n",
        "    idxkneigh = distancias[i].argsort()[:k] # Pega os indices das k menores distancias\n",
        "    vizinhos = [y_train[idxkneigh[j]] for j in range(k)] # Busca qual a classificação desses indices: red ou não\n",
        "    unique, counts = np.unique(vizinhos, return_counts=True)\n",
        "    empates = (dict(zip(unique, counts)))\n",
        "    if len(empates) > 1:\n",
        "\n",
        "\n",
        "# Abaixo está o método usado para prevenir empates. Consiste em diminuir k até que não haja mais nenhum empate\n",
        "\n",
        "      maior = empates.pop(max(empates))\n",
        "      idxsegmaior = max(empates)\n",
        "      segmaior = empates[idxsegmaior]\n",
        "\n",
        "      if maior == segmaior:\n",
        "        k -= 1\n",
        "      else:\n",
        "          break\n",
        "    else:\n",
        "      break\n",
        "\n",
        "\n",
        "\n",
        "      \n",
        "  \n",
        "  mode_info = stats.mode(vizinhos) # Pega a moda das classificações dos KNN\n",
        "\n",
        "  pred = np.append(pred, mode_info[0]) # Prediz"
      ],
      "metadata": {
        "id": "mnt3-cjUxQjd"
      },
      "execution_count": null,
      "outputs": []
    },
    {
      "cell_type": "code",
      "source": [
        "acertos = 0\n",
        "for i in range(tam):\n",
        "  if pred[i] == y_test[i]:\n",
        "    acertos += 1\n",
        "\n",
        "print(acertos)"
      ],
      "metadata": {
        "id": "_z9OC-L6CZoY",
        "colab": {
          "base_uri": "https://localhost:8080/"
        },
        "outputId": "4cafb608-d753-4b56-a198-150c82ca052d"
      },
      "execution_count": null,
      "outputs": [
        {
          "output_type": "stream",
          "name": "stdout",
          "text": [
            "826\n"
          ]
        }
      ]
    },
    {
      "cell_type": "code",
      "source": [
        "acertos/(tam)"
      ],
      "metadata": {
        "colab": {
          "base_uri": "https://localhost:8080/"
        },
        "id": "AExtsXNtvxYE",
        "outputId": "f9495604-0176-4a07-94dd-d81b1e5eaab2"
      },
      "execution_count": null,
      "outputs": [
        {
          "output_type": "execute_result",
          "data": {
            "text/plain": [
              "0.6353846153846154"
            ]
          },
          "metadata": {},
          "execution_count": 64
        }
      ]
    },
    {
      "cell_type": "markdown",
      "source": [
        "63% Precisão tirando 3 e 9 e sem fazer resample, k = 3\n",
        "\n",
        "KNN teve 55%"
      ],
      "metadata": {
        "id": "LC66ZwrazmtI"
      }
    },
    {
      "cell_type": "markdown",
      "source": [
        "64% Precisão mantendo 3 e 9, sem fazer resample, k = 3\n",
        "\n",
        "KNN teve 55%"
      ],
      "metadata": {
        "id": "u0NGUphQ3WI_"
      }
    },
    {
      "cell_type": "markdown",
      "source": [
        "60% Precisão tirando 3 e 9 e resampling a 216, k = 3\n",
        "\n",
        "KNN entre 44% e 55%"
      ],
      "metadata": {
        "id": "SIgrve4Fj_n-"
      }
    },
    {
      "cell_type": "markdown",
      "source": [
        "65% precisão com 3 e 9, com resample a 216, k = 3\n",
        "\n",
        "KNN teve 58%"
      ],
      "metadata": {
        "id": "Pn-g4Mfg0M8B"
      }
    },
    {
      "cell_type": "markdown",
      "source": [
        "58% Sem normalizar, com 3 e 9, sem resample, k=3\n",
        "\n",
        "KNN teve 48%"
      ],
      "metadata": {
        "id": "VCjji1QxxAVX"
      }
    },
    {
      "cell_type": "markdown",
      "source": [
        "## KNN do Python"
      ],
      "metadata": {
        "id": "qiuxrJprwsFo"
      }
    },
    {
      "cell_type": "code",
      "source": [
        "from sklearn.neighbors import KNeighborsClassifier"
      ],
      "metadata": {
        "id": "naX418rBzU01"
      },
      "execution_count": null,
      "outputs": []
    },
    {
      "cell_type": "code",
      "source": [
        "knn = KNeighborsClassifier(n_neighbors=3)"
      ],
      "metadata": {
        "id": "ws6Vd3E_SR5g"
      },
      "execution_count": null,
      "outputs": []
    },
    {
      "cell_type": "code",
      "source": [
        "knn.fit(X_train, y_train)"
      ],
      "metadata": {
        "colab": {
          "base_uri": "https://localhost:8080/"
        },
        "id": "vwLvKqFdSU3n",
        "outputId": "62e58f28-b973-4739-c64a-1da500d26b27"
      },
      "execution_count": null,
      "outputs": [
        {
          "output_type": "execute_result",
          "data": {
            "text/plain": [
              "KNeighborsClassifier(n_neighbors=3)"
            ]
          },
          "metadata": {},
          "execution_count": 67
        }
      ]
    },
    {
      "cell_type": "code",
      "source": [
        "resultado = knn.predict(X_test)\n",
        "resultado"
      ],
      "metadata": {
        "colab": {
          "base_uri": "https://localhost:8080/"
        },
        "id": "J6G_NHVJSYO2",
        "outputId": "b31b40b9-9ecc-4f37-f0e4-a39fa7e699ad"
      },
      "execution_count": null,
      "outputs": [
        {
          "output_type": "execute_result",
          "data": {
            "text/plain": [
              "array([6, 6, 6, ..., 6, 4, 7])"
            ]
          },
          "metadata": {},
          "execution_count": 68
        }
      ]
    },
    {
      "cell_type": "code",
      "source": [
        "from sklearn.metrics import confusion_matrix\n",
        "from sklearn.metrics import plot_confusion_matrix\n",
        "\n",
        "plot_confusion_matrix(estimator=knn,X= X_test, y_true=y_test)"
      ],
      "metadata": {
        "colab": {
          "base_uri": "https://localhost:8080/",
          "height": 351
        },
        "id": "gd_RKAgwSbuH",
        "outputId": "91688b41-1f3c-4bea-8ca6-f5d4075c1ac9"
      },
      "execution_count": null,
      "outputs": [
        {
          "output_type": "stream",
          "name": "stderr",
          "text": [
            "/usr/local/lib/python3.7/dist-packages/sklearn/utils/deprecation.py:87: FutureWarning: Function plot_confusion_matrix is deprecated; Function `plot_confusion_matrix` is deprecated in 1.0 and will be removed in 1.2. Use one of the class methods: ConfusionMatrixDisplay.from_predictions or ConfusionMatrixDisplay.from_estimator.\n",
            "  warnings.warn(msg, category=FutureWarning)\n"
          ]
        },
        {
          "output_type": "execute_result",
          "data": {
            "text/plain": [
              "<sklearn.metrics._plot.confusion_matrix.ConfusionMatrixDisplay at 0x7f9458347490>"
            ]
          },
          "metadata": {},
          "execution_count": 69
        },
        {
          "output_type": "display_data",
          "data": {
            "image/png": "[encoded data removed]",
            "text/plain": [
              "<Figure size 432x288 with 2 Axes>"
            ]
          },
          "metadata": {
            "needs_background": "light"
          }
        }
      ]
    },
    {
      "cell_type": "code",
      "source": [
        "from sklearn import metrics\n",
        "print(metrics.classification_report(y_test,resultado))"
      ],
      "metadata": {
        "colab": {
          "base_uri": "https://localhost:8080/"
        },
        "id": "rfsU96B-Shv3",
        "outputId": "09aa5321-b024-4300-8717-275ab618517c"
      },
      "execution_count": null,
      "outputs": [
        {
          "output_type": "stream",
          "name": "stdout",
          "text": [
            "              precision    recall  f1-score   support\n",
            "\n",
            "           3       0.00      0.00      0.00         8\n",
            "           4       0.18      0.26      0.22        34\n",
            "           5       0.59      0.57      0.58       446\n",
            "           6       0.56      0.58      0.57       575\n",
            "           7       0.43      0.45      0.44       197\n",
            "           8       0.44      0.18      0.26        38\n",
            "           9       0.00      0.00      0.00         2\n",
            "\n",
            "    accuracy                           0.53      1300\n",
            "   macro avg       0.31      0.29      0.29      1300\n",
            "weighted avg       0.53      0.53      0.53      1300\n",
            "\n"
          ]
        },
        {
          "output_type": "stream",
          "name": "stderr",
          "text": [
            "/usr/local/lib/python3.7/dist-packages/sklearn/metrics/_classification.py:1318: UndefinedMetricWarning: Precision and F-score are ill-defined and being set to 0.0 in labels with no predicted samples. Use `zero_division` parameter to control this behavior.\n",
            "  _warn_prf(average, modifier, msg_start, len(result))\n",
            "/usr/local/lib/python3.7/dist-packages/sklearn/metrics/_classification.py:1318: UndefinedMetricWarning: Precision and F-score are ill-defined and being set to 0.0 in labels with no predicted samples. Use `zero_division` parameter to control this behavior.\n",
            "  _warn_prf(average, modifier, msg_start, len(result))\n",
            "/usr/local/lib/python3.7/dist-packages/sklearn/metrics/_classification.py:1318: UndefinedMetricWarning: Precision and F-score are ill-defined and being set to 0.0 in labels with no predicted samples. Use `zero_division` parameter to control this behavior.\n",
            "  _warn_prf(average, modifier, msg_start, len(result))\n"
          ]
        }
      ]
    }
  ]
}